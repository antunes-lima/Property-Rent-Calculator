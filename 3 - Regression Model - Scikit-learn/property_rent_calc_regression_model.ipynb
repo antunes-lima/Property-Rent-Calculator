{
  "nbformat": 4,
  "nbformat_minor": 0,
  "metadata": {
    "colab": {
      "name": "property rent calc regression model.ipynb",
      "provenance": [],
      "authorship_tag": "ABX9TyNSN5kcZYAlLYqnPDAC6O8u"
    },
    "kernelspec": {
      "name": "python3",
      "display_name": "Python 3"
    },
    "language_info": {
      "name": "python"
    }
  },
  "cells": [
    {
      "cell_type": "markdown",
      "source": [
        "# Property Rent Calculator - Regression Model\n",
        "\n",
        "This notebook will be used to create a regression model for the Property Rent Calculator Project, using the dataset treated in the last step, using Pandas, NumPy, and Scikit-learn libraries."
      ],
      "metadata": {
        "id": "jMW43wH4XUFS"
      }
    },
    {
      "cell_type": "code",
      "execution_count": 1,
      "metadata": {
        "id": "dC9hY36lOVQm"
      },
      "outputs": [],
      "source": [
        "# importing libraries\n",
        "import numpy as np\n",
        "import pandas as pd\n",
        "\n",
        "import matplotlib.pyplot as plt\n",
        "import seaborn as sns\n",
        "\n",
        "import sklearn\n",
        "\n",
        "from sklearn.model_selection import train_test_split\n",
        "from sklearn.impute import SimpleImputer\n",
        "from sklearn.pipeline import Pipeline\n",
        "from sklearn.preprocessing import StandardScaler\n",
        "from sklearn.preprocessing import RobustScaler\n",
        "\n",
        "from sklearn.linear_model import LinearRegression\n",
        "from sklearn.tree import DecisionTreeRegressor\n",
        "from sklearn.ensemble import RandomForestRegressor\n",
        "\n",
        "from sklearn.metrics import mean_squared_error\n",
        "from sklearn.model_selection import cross_val_score\n",
        "from sklearn.model_selection import GridSearchCV"
      ]
    },
    {
      "cell_type": "markdown",
      "source": [
        "Using GitHuB API to import the data on the CSV file."
      ],
      "metadata": {
        "id": "5U_0IADMXst7"
      }
    },
    {
      "cell_type": "code",
      "source": [
        "!curl --remote-name \\\n",
        "     -H 'Accept: application/vnd.github.v3.raw' \\\n",
        "     --location https://raw.githubusercontent.com/antunes-lima/Property-Rent-Calculator/main/2%20-%20Data%20Manipulation%20And%20Cleansing%20-%20Pandas%20And%20Numpy/property-rent-calculator-clean-data.csv"
      ],
      "metadata": {
        "colab": {
          "base_uri": "https://localhost:8080/"
        },
        "id": "h6zfgRhsXxH9",
        "outputId": "84ba686f-27fc-4388-9337-74ab8273b928"
      },
      "execution_count": 2,
      "outputs": [
        {
          "output_type": "stream",
          "name": "stdout",
          "text": [
            "  % Total    % Received % Xferd  Average Speed   Time    Time     Time  Current\n",
            "                                 Dload  Upload   Total   Spent    Left  Speed\n",
            "\r  0     0    0     0    0     0      0      0 --:--:-- --:--:-- --:--:--     0\r100  152k  100  152k    0     0   689k      0 --:--:-- --:--:-- --:--:--  689k\n"
          ]
        }
      ]
    },
    {
      "cell_type": "markdown",
      "source": [
        "# Exploring The Dataset"
      ],
      "metadata": {
        "id": "hxz36dm2Xujj"
      }
    },
    {
      "cell_type": "markdown",
      "source": [
        "Taking the data to a DataFrame."
      ],
      "metadata": {
        "id": "dttcaGhlXwB7"
      }
    },
    {
      "cell_type": "code",
      "source": [
        "df = pd.read_csv('/content/property-rent-calculator-clean-data.csv')\n",
        "\n",
        "df.head()"
      ],
      "metadata": {
        "colab": {
          "base_uri": "https://localhost:8080/",
          "height": 206
        },
        "id": "JY5t9TswX1-B",
        "outputId": "e0acd173-a9a2-4184-b3c1-1cb8e76f1ccf"
      },
      "execution_count": 3,
      "outputs": [
        {
          "output_type": "execute_result",
          "data": {
            "text/plain": [
              "   Unnamed: 0   rent  size_m2 property_type  bedrooms  suite  parking  \\\n",
              "0           0  2.550       72  Apartamento        3.0    1.0      2.0   \n",
              "1           1  2.400       76  Apartamento        3.0    1.0      1.0   \n",
              "2           2    750       48  Apartamento        2.0    1.0      1.0   \n",
              "3           3  2.200       44  Apartamento        1.0    1.0      1.0   \n",
              "4           4  1.400       32  Apartamento        1.0    1.0      1.0   \n",
              "\n",
              "           neighborhood  \n",
              "0          AGUAS CLARAS  \n",
              "1          AGUAS CLARAS  \n",
              "2   VALPARAISO DE GOIAS  \n",
              "3          AGUAS CLARAS  \n",
              "4          AGUAS CLARAS  "
            ],
            "text/html": [
              "\n",
              "  <div id=\"df-2359bf88-0a00-435c-84a4-3ea91848eccc\">\n",
              "    <div class=\"colab-df-container\">\n",
              "      <div>\n",
              "<style scoped>\n",
              "    .dataframe tbody tr th:only-of-type {\n",
              "        vertical-align: middle;\n",
              "    }\n",
              "\n",
              "    .dataframe tbody tr th {\n",
              "        vertical-align: top;\n",
              "    }\n",
              "\n",
              "    .dataframe thead th {\n",
              "        text-align: right;\n",
              "    }\n",
              "</style>\n",
              "<table border=\"1\" class=\"dataframe\">\n",
              "  <thead>\n",
              "    <tr style=\"text-align: right;\">\n",
              "      <th></th>\n",
              "      <th>Unnamed: 0</th>\n",
              "      <th>rent</th>\n",
              "      <th>size_m2</th>\n",
              "      <th>property_type</th>\n",
              "      <th>bedrooms</th>\n",
              "      <th>suite</th>\n",
              "      <th>parking</th>\n",
              "      <th>neighborhood</th>\n",
              "    </tr>\n",
              "  </thead>\n",
              "  <tbody>\n",
              "    <tr>\n",
              "      <th>0</th>\n",
              "      <td>0</td>\n",
              "      <td>2.550</td>\n",
              "      <td>72</td>\n",
              "      <td>Apartamento</td>\n",
              "      <td>3.0</td>\n",
              "      <td>1.0</td>\n",
              "      <td>2.0</td>\n",
              "      <td>AGUAS CLARAS</td>\n",
              "    </tr>\n",
              "    <tr>\n",
              "      <th>1</th>\n",
              "      <td>1</td>\n",
              "      <td>2.400</td>\n",
              "      <td>76</td>\n",
              "      <td>Apartamento</td>\n",
              "      <td>3.0</td>\n",
              "      <td>1.0</td>\n",
              "      <td>1.0</td>\n",
              "      <td>AGUAS CLARAS</td>\n",
              "    </tr>\n",
              "    <tr>\n",
              "      <th>2</th>\n",
              "      <td>2</td>\n",
              "      <td>750</td>\n",
              "      <td>48</td>\n",
              "      <td>Apartamento</td>\n",
              "      <td>2.0</td>\n",
              "      <td>1.0</td>\n",
              "      <td>1.0</td>\n",
              "      <td>VALPARAISO DE GOIAS</td>\n",
              "    </tr>\n",
              "    <tr>\n",
              "      <th>3</th>\n",
              "      <td>3</td>\n",
              "      <td>2.200</td>\n",
              "      <td>44</td>\n",
              "      <td>Apartamento</td>\n",
              "      <td>1.0</td>\n",
              "      <td>1.0</td>\n",
              "      <td>1.0</td>\n",
              "      <td>AGUAS CLARAS</td>\n",
              "    </tr>\n",
              "    <tr>\n",
              "      <th>4</th>\n",
              "      <td>4</td>\n",
              "      <td>1.400</td>\n",
              "      <td>32</td>\n",
              "      <td>Apartamento</td>\n",
              "      <td>1.0</td>\n",
              "      <td>1.0</td>\n",
              "      <td>1.0</td>\n",
              "      <td>AGUAS CLARAS</td>\n",
              "    </tr>\n",
              "  </tbody>\n",
              "</table>\n",
              "</div>\n",
              "      <button class=\"colab-df-convert\" onclick=\"convertToInteractive('df-2359bf88-0a00-435c-84a4-3ea91848eccc')\"\n",
              "              title=\"Convert this dataframe to an interactive table.\"\n",
              "              style=\"display:none;\">\n",
              "        \n",
              "  <svg xmlns=\"http://www.w3.org/2000/svg\" height=\"24px\"viewBox=\"0 0 24 24\"\n",
              "       width=\"24px\">\n",
              "    <path d=\"M0 0h24v24H0V0z\" fill=\"none\"/>\n",
              "    <path d=\"M18.56 5.44l.94 2.06.94-2.06 2.06-.94-2.06-.94-.94-2.06-.94 2.06-2.06.94zm-11 1L8.5 8.5l.94-2.06 2.06-.94-2.06-.94L8.5 2.5l-.94 2.06-2.06.94zm10 10l.94 2.06.94-2.06 2.06-.94-2.06-.94-.94-2.06-.94 2.06-2.06.94z\"/><path d=\"M17.41 7.96l-1.37-1.37c-.4-.4-.92-.59-1.43-.59-.52 0-1.04.2-1.43.59L10.3 9.45l-7.72 7.72c-.78.78-.78 2.05 0 2.83L4 21.41c.39.39.9.59 1.41.59.51 0 1.02-.2 1.41-.59l7.78-7.78 2.81-2.81c.8-.78.8-2.07 0-2.86zM5.41 20L4 18.59l7.72-7.72 1.47 1.35L5.41 20z\"/>\n",
              "  </svg>\n",
              "      </button>\n",
              "      \n",
              "  <style>\n",
              "    .colab-df-container {\n",
              "      display:flex;\n",
              "      flex-wrap:wrap;\n",
              "      gap: 12px;\n",
              "    }\n",
              "\n",
              "    .colab-df-convert {\n",
              "      background-color: #E8F0FE;\n",
              "      border: none;\n",
              "      border-radius: 50%;\n",
              "      cursor: pointer;\n",
              "      display: none;\n",
              "      fill: #1967D2;\n",
              "      height: 32px;\n",
              "      padding: 0 0 0 0;\n",
              "      width: 32px;\n",
              "    }\n",
              "\n",
              "    .colab-df-convert:hover {\n",
              "      background-color: #E2EBFA;\n",
              "      box-shadow: 0px 1px 2px rgba(60, 64, 67, 0.3), 0px 1px 3px 1px rgba(60, 64, 67, 0.15);\n",
              "      fill: #174EA6;\n",
              "    }\n",
              "\n",
              "    [theme=dark] .colab-df-convert {\n",
              "      background-color: #3B4455;\n",
              "      fill: #D2E3FC;\n",
              "    }\n",
              "\n",
              "    [theme=dark] .colab-df-convert:hover {\n",
              "      background-color: #434B5C;\n",
              "      box-shadow: 0px 1px 3px 1px rgba(0, 0, 0, 0.15);\n",
              "      filter: drop-shadow(0px 1px 2px rgba(0, 0, 0, 0.3));\n",
              "      fill: #FFFFFF;\n",
              "    }\n",
              "  </style>\n",
              "\n",
              "      <script>\n",
              "        const buttonEl =\n",
              "          document.querySelector('#df-2359bf88-0a00-435c-84a4-3ea91848eccc button.colab-df-convert');\n",
              "        buttonEl.style.display =\n",
              "          google.colab.kernel.accessAllowed ? 'block' : 'none';\n",
              "\n",
              "        async function convertToInteractive(key) {\n",
              "          const element = document.querySelector('#df-2359bf88-0a00-435c-84a4-3ea91848eccc');\n",
              "          const dataTable =\n",
              "            await google.colab.kernel.invokeFunction('convertToInteractive',\n",
              "                                                     [key], {});\n",
              "          if (!dataTable) return;\n",
              "\n",
              "          const docLinkHtml = 'Like what you see? Visit the ' +\n",
              "            '<a target=\"_blank\" href=https://colab.research.google.com/notebooks/data_table.ipynb>data table notebook</a>'\n",
              "            + ' to learn more about interactive tables.';\n",
              "          element.innerHTML = '';\n",
              "          dataTable['output_type'] = 'display_data';\n",
              "          await google.colab.output.renderOutput(dataTable, element);\n",
              "          const docLink = document.createElement('div');\n",
              "          docLink.innerHTML = docLinkHtml;\n",
              "          element.appendChild(docLink);\n",
              "        }\n",
              "      </script>\n",
              "    </div>\n",
              "  </div>\n",
              "  "
            ]
          },
          "metadata": {},
          "execution_count": 3
        }
      ]
    },
    {
      "cell_type": "code",
      "source": [
        "df = df.drop('Unnamed: 0', axis=1)\n",
        "\n",
        "df.head()"
      ],
      "metadata": {
        "colab": {
          "base_uri": "https://localhost:8080/",
          "height": 206
        },
        "id": "pjoPTttTYDY6",
        "outputId": "f166054b-8b28-4736-c05a-f9cd22e805b0"
      },
      "execution_count": 4,
      "outputs": [
        {
          "output_type": "execute_result",
          "data": {
            "text/plain": [
              "    rent  size_m2 property_type  bedrooms  suite  parking  \\\n",
              "0  2.550       72  Apartamento        3.0    1.0      2.0   \n",
              "1  2.400       76  Apartamento        3.0    1.0      1.0   \n",
              "2    750       48  Apartamento        2.0    1.0      1.0   \n",
              "3  2.200       44  Apartamento        1.0    1.0      1.0   \n",
              "4  1.400       32  Apartamento        1.0    1.0      1.0   \n",
              "\n",
              "           neighborhood  \n",
              "0          AGUAS CLARAS  \n",
              "1          AGUAS CLARAS  \n",
              "2   VALPARAISO DE GOIAS  \n",
              "3          AGUAS CLARAS  \n",
              "4          AGUAS CLARAS  "
            ],
            "text/html": [
              "\n",
              "  <div id=\"df-a0099f29-900a-4f70-a8f7-bcc0172d60de\">\n",
              "    <div class=\"colab-df-container\">\n",
              "      <div>\n",
              "<style scoped>\n",
              "    .dataframe tbody tr th:only-of-type {\n",
              "        vertical-align: middle;\n",
              "    }\n",
              "\n",
              "    .dataframe tbody tr th {\n",
              "        vertical-align: top;\n",
              "    }\n",
              "\n",
              "    .dataframe thead th {\n",
              "        text-align: right;\n",
              "    }\n",
              "</style>\n",
              "<table border=\"1\" class=\"dataframe\">\n",
              "  <thead>\n",
              "    <tr style=\"text-align: right;\">\n",
              "      <th></th>\n",
              "      <th>rent</th>\n",
              "      <th>size_m2</th>\n",
              "      <th>property_type</th>\n",
              "      <th>bedrooms</th>\n",
              "      <th>suite</th>\n",
              "      <th>parking</th>\n",
              "      <th>neighborhood</th>\n",
              "    </tr>\n",
              "  </thead>\n",
              "  <tbody>\n",
              "    <tr>\n",
              "      <th>0</th>\n",
              "      <td>2.550</td>\n",
              "      <td>72</td>\n",
              "      <td>Apartamento</td>\n",
              "      <td>3.0</td>\n",
              "      <td>1.0</td>\n",
              "      <td>2.0</td>\n",
              "      <td>AGUAS CLARAS</td>\n",
              "    </tr>\n",
              "    <tr>\n",
              "      <th>1</th>\n",
              "      <td>2.400</td>\n",
              "      <td>76</td>\n",
              "      <td>Apartamento</td>\n",
              "      <td>3.0</td>\n",
              "      <td>1.0</td>\n",
              "      <td>1.0</td>\n",
              "      <td>AGUAS CLARAS</td>\n",
              "    </tr>\n",
              "    <tr>\n",
              "      <th>2</th>\n",
              "      <td>750</td>\n",
              "      <td>48</td>\n",
              "      <td>Apartamento</td>\n",
              "      <td>2.0</td>\n",
              "      <td>1.0</td>\n",
              "      <td>1.0</td>\n",
              "      <td>VALPARAISO DE GOIAS</td>\n",
              "    </tr>\n",
              "    <tr>\n",
              "      <th>3</th>\n",
              "      <td>2.200</td>\n",
              "      <td>44</td>\n",
              "      <td>Apartamento</td>\n",
              "      <td>1.0</td>\n",
              "      <td>1.0</td>\n",
              "      <td>1.0</td>\n",
              "      <td>AGUAS CLARAS</td>\n",
              "    </tr>\n",
              "    <tr>\n",
              "      <th>4</th>\n",
              "      <td>1.400</td>\n",
              "      <td>32</td>\n",
              "      <td>Apartamento</td>\n",
              "      <td>1.0</td>\n",
              "      <td>1.0</td>\n",
              "      <td>1.0</td>\n",
              "      <td>AGUAS CLARAS</td>\n",
              "    </tr>\n",
              "  </tbody>\n",
              "</table>\n",
              "</div>\n",
              "      <button class=\"colab-df-convert\" onclick=\"convertToInteractive('df-a0099f29-900a-4f70-a8f7-bcc0172d60de')\"\n",
              "              title=\"Convert this dataframe to an interactive table.\"\n",
              "              style=\"display:none;\">\n",
              "        \n",
              "  <svg xmlns=\"http://www.w3.org/2000/svg\" height=\"24px\"viewBox=\"0 0 24 24\"\n",
              "       width=\"24px\">\n",
              "    <path d=\"M0 0h24v24H0V0z\" fill=\"none\"/>\n",
              "    <path d=\"M18.56 5.44l.94 2.06.94-2.06 2.06-.94-2.06-.94-.94-2.06-.94 2.06-2.06.94zm-11 1L8.5 8.5l.94-2.06 2.06-.94-2.06-.94L8.5 2.5l-.94 2.06-2.06.94zm10 10l.94 2.06.94-2.06 2.06-.94-2.06-.94-.94-2.06-.94 2.06-2.06.94z\"/><path d=\"M17.41 7.96l-1.37-1.37c-.4-.4-.92-.59-1.43-.59-.52 0-1.04.2-1.43.59L10.3 9.45l-7.72 7.72c-.78.78-.78 2.05 0 2.83L4 21.41c.39.39.9.59 1.41.59.51 0 1.02-.2 1.41-.59l7.78-7.78 2.81-2.81c.8-.78.8-2.07 0-2.86zM5.41 20L4 18.59l7.72-7.72 1.47 1.35L5.41 20z\"/>\n",
              "  </svg>\n",
              "      </button>\n",
              "      \n",
              "  <style>\n",
              "    .colab-df-container {\n",
              "      display:flex;\n",
              "      flex-wrap:wrap;\n",
              "      gap: 12px;\n",
              "    }\n",
              "\n",
              "    .colab-df-convert {\n",
              "      background-color: #E8F0FE;\n",
              "      border: none;\n",
              "      border-radius: 50%;\n",
              "      cursor: pointer;\n",
              "      display: none;\n",
              "      fill: #1967D2;\n",
              "      height: 32px;\n",
              "      padding: 0 0 0 0;\n",
              "      width: 32px;\n",
              "    }\n",
              "\n",
              "    .colab-df-convert:hover {\n",
              "      background-color: #E2EBFA;\n",
              "      box-shadow: 0px 1px 2px rgba(60, 64, 67, 0.3), 0px 1px 3px 1px rgba(60, 64, 67, 0.15);\n",
              "      fill: #174EA6;\n",
              "    }\n",
              "\n",
              "    [theme=dark] .colab-df-convert {\n",
              "      background-color: #3B4455;\n",
              "      fill: #D2E3FC;\n",
              "    }\n",
              "\n",
              "    [theme=dark] .colab-df-convert:hover {\n",
              "      background-color: #434B5C;\n",
              "      box-shadow: 0px 1px 3px 1px rgba(0, 0, 0, 0.15);\n",
              "      filter: drop-shadow(0px 1px 2px rgba(0, 0, 0, 0.3));\n",
              "      fill: #FFFFFF;\n",
              "    }\n",
              "  </style>\n",
              "\n",
              "      <script>\n",
              "        const buttonEl =\n",
              "          document.querySelector('#df-a0099f29-900a-4f70-a8f7-bcc0172d60de button.colab-df-convert');\n",
              "        buttonEl.style.display =\n",
              "          google.colab.kernel.accessAllowed ? 'block' : 'none';\n",
              "\n",
              "        async function convertToInteractive(key) {\n",
              "          const element = document.querySelector('#df-a0099f29-900a-4f70-a8f7-bcc0172d60de');\n",
              "          const dataTable =\n",
              "            await google.colab.kernel.invokeFunction('convertToInteractive',\n",
              "                                                     [key], {});\n",
              "          if (!dataTable) return;\n",
              "\n",
              "          const docLinkHtml = 'Like what you see? Visit the ' +\n",
              "            '<a target=\"_blank\" href=https://colab.research.google.com/notebooks/data_table.ipynb>data table notebook</a>'\n",
              "            + ' to learn more about interactive tables.';\n",
              "          element.innerHTML = '';\n",
              "          dataTable['output_type'] = 'display_data';\n",
              "          await google.colab.output.renderOutput(dataTable, element);\n",
              "          const docLink = document.createElement('div');\n",
              "          docLink.innerHTML = docLinkHtml;\n",
              "          element.appendChild(docLink);\n",
              "        }\n",
              "      </script>\n",
              "    </div>\n",
              "  </div>\n",
              "  "
            ]
          },
          "metadata": {},
          "execution_count": 4
        }
      ]
    },
    {
      "cell_type": "code",
      "source": [
        "df.shape"
      ],
      "metadata": {
        "colab": {
          "base_uri": "https://localhost:8080/"
        },
        "id": "e1hSQsEWYS5W",
        "outputId": "0cf2701d-763d-4be0-a9d7-8cc5d8c5bf2c"
      },
      "execution_count": 5,
      "outputs": [
        {
          "output_type": "execute_result",
          "data": {
            "text/plain": [
              "(3725, 7)"
            ]
          },
          "metadata": {},
          "execution_count": 5
        }
      ]
    },
    {
      "cell_type": "code",
      "source": [
        "df.dtypes"
      ],
      "metadata": {
        "colab": {
          "base_uri": "https://localhost:8080/"
        },
        "id": "IlLFmdUdYao5",
        "outputId": "91f581b6-5c9f-430e-ee42-bad15bd12f7c"
      },
      "execution_count": 6,
      "outputs": [
        {
          "output_type": "execute_result",
          "data": {
            "text/plain": [
              "rent              object\n",
              "size_m2            int64\n",
              "property_type     object\n",
              "bedrooms         float64\n",
              "suite            float64\n",
              "parking          float64\n",
              "neighborhood      object\n",
              "dtype: object"
            ]
          },
          "metadata": {},
          "execution_count": 6
        }
      ]
    },
    {
      "cell_type": "code",
      "source": [
        "df.rent.value_counts()"
      ],
      "metadata": {
        "colab": {
          "base_uri": "https://localhost:8080/"
        },
        "id": "8ZkG7OggYiGK",
        "outputId": "4575b47a-cf77-4f01-f9f7-86e64755d1b7"
      },
      "execution_count": 7,
      "outputs": [
        {
          "output_type": "execute_result",
          "data": {
            "text/plain": [
              "1.100     171\n",
              "1.200     146\n",
              "1.000     143\n",
              "800       128\n",
              "1.500     126\n",
              "         ... \n",
              "12.800      1\n",
              "2.510       1\n",
              "775         1\n",
              "4.999       1\n",
              "520         1\n",
              "Name: rent, Length: 325, dtype: int64"
            ]
          },
          "metadata": {},
          "execution_count": 7
        }
      ]
    },
    {
      "cell_type": "code",
      "source": [
        "df['rent'] = df['rent'].str.replace('.', '', regex=False)"
      ],
      "metadata": {
        "id": "dY2DmwxmZDsk"
      },
      "execution_count": 8,
      "outputs": []
    },
    {
      "cell_type": "code",
      "source": [
        "df.rent.value_counts()"
      ],
      "metadata": {
        "colab": {
          "base_uri": "https://localhost:8080/"
        },
        "id": "pHY1sVqwZpPE",
        "outputId": "6d2b1ec8-8128-4250-f32b-055f50162276"
      },
      "execution_count": 9,
      "outputs": [
        {
          "output_type": "execute_result",
          "data": {
            "text/plain": [
              "1100     171\n",
              "1200     146\n",
              "1000     143\n",
              "800      128\n",
              "1500     126\n",
              "        ... \n",
              "12800      1\n",
              "2510       1\n",
              "775        1\n",
              "4999       1\n",
              "520        1\n",
              "Name: rent, Length: 325, dtype: int64"
            ]
          },
          "metadata": {},
          "execution_count": 9
        }
      ]
    },
    {
      "cell_type": "code",
      "source": [
        "df['rent'] = df.rent.astype('int32')"
      ],
      "metadata": {
        "id": "iGu7Hlg6Zn9d"
      },
      "execution_count": 10,
      "outputs": []
    },
    {
      "cell_type": "markdown",
      "source": [
        "Checking overall info about the values on each numerical column."
      ],
      "metadata": {
        "id": "ZwK1W0fUYVPU"
      }
    },
    {
      "cell_type": "code",
      "source": [
        "df.describe()"
      ],
      "metadata": {
        "colab": {
          "base_uri": "https://localhost:8080/",
          "height": 300
        },
        "id": "0PnwBhXcYVkG",
        "outputId": "4a16374d-54d8-4b41-ba1e-c41ebfbb6021"
      },
      "execution_count": 11,
      "outputs": [
        {
          "output_type": "execute_result",
          "data": {
            "text/plain": [
              "               rent      size_m2     bedrooms        suite      parking\n",
              "count  3.725000e+03  3725.000000  3720.000000  2517.000000  1335.000000\n",
              "mean   4.836279e+03    65.197315     1.841398     1.137068     1.346816\n",
              "std    7.479553e+04    50.282302     1.082808     0.476687     0.699338\n",
              "min    3.500000e+02     0.000000     1.000000     1.000000     1.000000\n",
              "25%    1.000000e+03    34.000000     1.000000     1.000000     1.000000\n",
              "50%    1.600000e+03    51.000000     2.000000     1.000000     1.000000\n",
              "75%    3.000000e+03    76.000000     2.000000     1.000000     2.000000\n",
              "max    3.850000e+06  1100.000000    38.000000     4.000000    10.000000"
            ],
            "text/html": [
              "\n",
              "  <div id=\"df-eaadd30b-8827-4fdd-99c3-d2eef1226adc\">\n",
              "    <div class=\"colab-df-container\">\n",
              "      <div>\n",
              "<style scoped>\n",
              "    .dataframe tbody tr th:only-of-type {\n",
              "        vertical-align: middle;\n",
              "    }\n",
              "\n",
              "    .dataframe tbody tr th {\n",
              "        vertical-align: top;\n",
              "    }\n",
              "\n",
              "    .dataframe thead th {\n",
              "        text-align: right;\n",
              "    }\n",
              "</style>\n",
              "<table border=\"1\" class=\"dataframe\">\n",
              "  <thead>\n",
              "    <tr style=\"text-align: right;\">\n",
              "      <th></th>\n",
              "      <th>rent</th>\n",
              "      <th>size_m2</th>\n",
              "      <th>bedrooms</th>\n",
              "      <th>suite</th>\n",
              "      <th>parking</th>\n",
              "    </tr>\n",
              "  </thead>\n",
              "  <tbody>\n",
              "    <tr>\n",
              "      <th>count</th>\n",
              "      <td>3.725000e+03</td>\n",
              "      <td>3725.000000</td>\n",
              "      <td>3720.000000</td>\n",
              "      <td>2517.000000</td>\n",
              "      <td>1335.000000</td>\n",
              "    </tr>\n",
              "    <tr>\n",
              "      <th>mean</th>\n",
              "      <td>4.836279e+03</td>\n",
              "      <td>65.197315</td>\n",
              "      <td>1.841398</td>\n",
              "      <td>1.137068</td>\n",
              "      <td>1.346816</td>\n",
              "    </tr>\n",
              "    <tr>\n",
              "      <th>std</th>\n",
              "      <td>7.479553e+04</td>\n",
              "      <td>50.282302</td>\n",
              "      <td>1.082808</td>\n",
              "      <td>0.476687</td>\n",
              "      <td>0.699338</td>\n",
              "    </tr>\n",
              "    <tr>\n",
              "      <th>min</th>\n",
              "      <td>3.500000e+02</td>\n",
              "      <td>0.000000</td>\n",
              "      <td>1.000000</td>\n",
              "      <td>1.000000</td>\n",
              "      <td>1.000000</td>\n",
              "    </tr>\n",
              "    <tr>\n",
              "      <th>25%</th>\n",
              "      <td>1.000000e+03</td>\n",
              "      <td>34.000000</td>\n",
              "      <td>1.000000</td>\n",
              "      <td>1.000000</td>\n",
              "      <td>1.000000</td>\n",
              "    </tr>\n",
              "    <tr>\n",
              "      <th>50%</th>\n",
              "      <td>1.600000e+03</td>\n",
              "      <td>51.000000</td>\n",
              "      <td>2.000000</td>\n",
              "      <td>1.000000</td>\n",
              "      <td>1.000000</td>\n",
              "    </tr>\n",
              "    <tr>\n",
              "      <th>75%</th>\n",
              "      <td>3.000000e+03</td>\n",
              "      <td>76.000000</td>\n",
              "      <td>2.000000</td>\n",
              "      <td>1.000000</td>\n",
              "      <td>2.000000</td>\n",
              "    </tr>\n",
              "    <tr>\n",
              "      <th>max</th>\n",
              "      <td>3.850000e+06</td>\n",
              "      <td>1100.000000</td>\n",
              "      <td>38.000000</td>\n",
              "      <td>4.000000</td>\n",
              "      <td>10.000000</td>\n",
              "    </tr>\n",
              "  </tbody>\n",
              "</table>\n",
              "</div>\n",
              "      <button class=\"colab-df-convert\" onclick=\"convertToInteractive('df-eaadd30b-8827-4fdd-99c3-d2eef1226adc')\"\n",
              "              title=\"Convert this dataframe to an interactive table.\"\n",
              "              style=\"display:none;\">\n",
              "        \n",
              "  <svg xmlns=\"http://www.w3.org/2000/svg\" height=\"24px\"viewBox=\"0 0 24 24\"\n",
              "       width=\"24px\">\n",
              "    <path d=\"M0 0h24v24H0V0z\" fill=\"none\"/>\n",
              "    <path d=\"M18.56 5.44l.94 2.06.94-2.06 2.06-.94-2.06-.94-.94-2.06-.94 2.06-2.06.94zm-11 1L8.5 8.5l.94-2.06 2.06-.94-2.06-.94L8.5 2.5l-.94 2.06-2.06.94zm10 10l.94 2.06.94-2.06 2.06-.94-2.06-.94-.94-2.06-.94 2.06-2.06.94z\"/><path d=\"M17.41 7.96l-1.37-1.37c-.4-.4-.92-.59-1.43-.59-.52 0-1.04.2-1.43.59L10.3 9.45l-7.72 7.72c-.78.78-.78 2.05 0 2.83L4 21.41c.39.39.9.59 1.41.59.51 0 1.02-.2 1.41-.59l7.78-7.78 2.81-2.81c.8-.78.8-2.07 0-2.86zM5.41 20L4 18.59l7.72-7.72 1.47 1.35L5.41 20z\"/>\n",
              "  </svg>\n",
              "      </button>\n",
              "      \n",
              "  <style>\n",
              "    .colab-df-container {\n",
              "      display:flex;\n",
              "      flex-wrap:wrap;\n",
              "      gap: 12px;\n",
              "    }\n",
              "\n",
              "    .colab-df-convert {\n",
              "      background-color: #E8F0FE;\n",
              "      border: none;\n",
              "      border-radius: 50%;\n",
              "      cursor: pointer;\n",
              "      display: none;\n",
              "      fill: #1967D2;\n",
              "      height: 32px;\n",
              "      padding: 0 0 0 0;\n",
              "      width: 32px;\n",
              "    }\n",
              "\n",
              "    .colab-df-convert:hover {\n",
              "      background-color: #E2EBFA;\n",
              "      box-shadow: 0px 1px 2px rgba(60, 64, 67, 0.3), 0px 1px 3px 1px rgba(60, 64, 67, 0.15);\n",
              "      fill: #174EA6;\n",
              "    }\n",
              "\n",
              "    [theme=dark] .colab-df-convert {\n",
              "      background-color: #3B4455;\n",
              "      fill: #D2E3FC;\n",
              "    }\n",
              "\n",
              "    [theme=dark] .colab-df-convert:hover {\n",
              "      background-color: #434B5C;\n",
              "      box-shadow: 0px 1px 3px 1px rgba(0, 0, 0, 0.15);\n",
              "      filter: drop-shadow(0px 1px 2px rgba(0, 0, 0, 0.3));\n",
              "      fill: #FFFFFF;\n",
              "    }\n",
              "  </style>\n",
              "\n",
              "      <script>\n",
              "        const buttonEl =\n",
              "          document.querySelector('#df-eaadd30b-8827-4fdd-99c3-d2eef1226adc button.colab-df-convert');\n",
              "        buttonEl.style.display =\n",
              "          google.colab.kernel.accessAllowed ? 'block' : 'none';\n",
              "\n",
              "        async function convertToInteractive(key) {\n",
              "          const element = document.querySelector('#df-eaadd30b-8827-4fdd-99c3-d2eef1226adc');\n",
              "          const dataTable =\n",
              "            await google.colab.kernel.invokeFunction('convertToInteractive',\n",
              "                                                     [key], {});\n",
              "          if (!dataTable) return;\n",
              "\n",
              "          const docLinkHtml = 'Like what you see? Visit the ' +\n",
              "            '<a target=\"_blank\" href=https://colab.research.google.com/notebooks/data_table.ipynb>data table notebook</a>'\n",
              "            + ' to learn more about interactive tables.';\n",
              "          element.innerHTML = '';\n",
              "          dataTable['output_type'] = 'display_data';\n",
              "          await google.colab.output.renderOutput(dataTable, element);\n",
              "          const docLink = document.createElement('div');\n",
              "          docLink.innerHTML = docLinkHtml;\n",
              "          element.appendChild(docLink);\n",
              "        }\n",
              "      </script>\n",
              "    </div>\n",
              "  </div>\n",
              "  "
            ]
          },
          "metadata": {},
          "execution_count": 11
        }
      ]
    },
    {
      "cell_type": "markdown",
      "source": [
        "Checking and dropping 0 m² rows."
      ],
      "metadata": {
        "id": "tzG5W-Cobp8y"
      }
    },
    {
      "cell_type": "code",
      "source": [
        "df.loc[df['size_m2'] == 0]"
      ],
      "metadata": {
        "colab": {
          "base_uri": "https://localhost:8080/",
          "height": 238
        },
        "id": "1HX0D7d0axGO",
        "outputId": "984baec0-cc24-49f1-e763-03425a3431ba"
      },
      "execution_count": 12,
      "outputs": [
        {
          "output_type": "execute_result",
          "data": {
            "text/plain": [
              "      rent  size_m2 property_type  bedrooms  suite  parking neighborhood\n",
              "394   4200        0  Apartamento        1.0    1.0      NaN    ASA NORTE\n",
              "559   1400        0  Apartamento        2.0    1.0      NaN         GAMA\n",
              "1015  1400        0  Apartamento        2.0    1.0      NaN         GAMA\n",
              "2197  2110        0  Apartamento        2.0    1.0      1.0         GAMA\n",
              "3035  1400        0  Apartamento        2.0    1.0      NaN         GAMA\n",
              "3613  1400        0  Apartamento        2.0    1.0      NaN         GAMA"
            ],
            "text/html": [
              "\n",
              "  <div id=\"df-671d8125-5465-4a1a-bafd-a194dd88b8b3\">\n",
              "    <div class=\"colab-df-container\">\n",
              "      <div>\n",
              "<style scoped>\n",
              "    .dataframe tbody tr th:only-of-type {\n",
              "        vertical-align: middle;\n",
              "    }\n",
              "\n",
              "    .dataframe tbody tr th {\n",
              "        vertical-align: top;\n",
              "    }\n",
              "\n",
              "    .dataframe thead th {\n",
              "        text-align: right;\n",
              "    }\n",
              "</style>\n",
              "<table border=\"1\" class=\"dataframe\">\n",
              "  <thead>\n",
              "    <tr style=\"text-align: right;\">\n",
              "      <th></th>\n",
              "      <th>rent</th>\n",
              "      <th>size_m2</th>\n",
              "      <th>property_type</th>\n",
              "      <th>bedrooms</th>\n",
              "      <th>suite</th>\n",
              "      <th>parking</th>\n",
              "      <th>neighborhood</th>\n",
              "    </tr>\n",
              "  </thead>\n",
              "  <tbody>\n",
              "    <tr>\n",
              "      <th>394</th>\n",
              "      <td>4200</td>\n",
              "      <td>0</td>\n",
              "      <td>Apartamento</td>\n",
              "      <td>1.0</td>\n",
              "      <td>1.0</td>\n",
              "      <td>NaN</td>\n",
              "      <td>ASA NORTE</td>\n",
              "    </tr>\n",
              "    <tr>\n",
              "      <th>559</th>\n",
              "      <td>1400</td>\n",
              "      <td>0</td>\n",
              "      <td>Apartamento</td>\n",
              "      <td>2.0</td>\n",
              "      <td>1.0</td>\n",
              "      <td>NaN</td>\n",
              "      <td>GAMA</td>\n",
              "    </tr>\n",
              "    <tr>\n",
              "      <th>1015</th>\n",
              "      <td>1400</td>\n",
              "      <td>0</td>\n",
              "      <td>Apartamento</td>\n",
              "      <td>2.0</td>\n",
              "      <td>1.0</td>\n",
              "      <td>NaN</td>\n",
              "      <td>GAMA</td>\n",
              "    </tr>\n",
              "    <tr>\n",
              "      <th>2197</th>\n",
              "      <td>2110</td>\n",
              "      <td>0</td>\n",
              "      <td>Apartamento</td>\n",
              "      <td>2.0</td>\n",
              "      <td>1.0</td>\n",
              "      <td>1.0</td>\n",
              "      <td>GAMA</td>\n",
              "    </tr>\n",
              "    <tr>\n",
              "      <th>3035</th>\n",
              "      <td>1400</td>\n",
              "      <td>0</td>\n",
              "      <td>Apartamento</td>\n",
              "      <td>2.0</td>\n",
              "      <td>1.0</td>\n",
              "      <td>NaN</td>\n",
              "      <td>GAMA</td>\n",
              "    </tr>\n",
              "    <tr>\n",
              "      <th>3613</th>\n",
              "      <td>1400</td>\n",
              "      <td>0</td>\n",
              "      <td>Apartamento</td>\n",
              "      <td>2.0</td>\n",
              "      <td>1.0</td>\n",
              "      <td>NaN</td>\n",
              "      <td>GAMA</td>\n",
              "    </tr>\n",
              "  </tbody>\n",
              "</table>\n",
              "</div>\n",
              "      <button class=\"colab-df-convert\" onclick=\"convertToInteractive('df-671d8125-5465-4a1a-bafd-a194dd88b8b3')\"\n",
              "              title=\"Convert this dataframe to an interactive table.\"\n",
              "              style=\"display:none;\">\n",
              "        \n",
              "  <svg xmlns=\"http://www.w3.org/2000/svg\" height=\"24px\"viewBox=\"0 0 24 24\"\n",
              "       width=\"24px\">\n",
              "    <path d=\"M0 0h24v24H0V0z\" fill=\"none\"/>\n",
              "    <path d=\"M18.56 5.44l.94 2.06.94-2.06 2.06-.94-2.06-.94-.94-2.06-.94 2.06-2.06.94zm-11 1L8.5 8.5l.94-2.06 2.06-.94-2.06-.94L8.5 2.5l-.94 2.06-2.06.94zm10 10l.94 2.06.94-2.06 2.06-.94-2.06-.94-.94-2.06-.94 2.06-2.06.94z\"/><path d=\"M17.41 7.96l-1.37-1.37c-.4-.4-.92-.59-1.43-.59-.52 0-1.04.2-1.43.59L10.3 9.45l-7.72 7.72c-.78.78-.78 2.05 0 2.83L4 21.41c.39.39.9.59 1.41.59.51 0 1.02-.2 1.41-.59l7.78-7.78 2.81-2.81c.8-.78.8-2.07 0-2.86zM5.41 20L4 18.59l7.72-7.72 1.47 1.35L5.41 20z\"/>\n",
              "  </svg>\n",
              "      </button>\n",
              "      \n",
              "  <style>\n",
              "    .colab-df-container {\n",
              "      display:flex;\n",
              "      flex-wrap:wrap;\n",
              "      gap: 12px;\n",
              "    }\n",
              "\n",
              "    .colab-df-convert {\n",
              "      background-color: #E8F0FE;\n",
              "      border: none;\n",
              "      border-radius: 50%;\n",
              "      cursor: pointer;\n",
              "      display: none;\n",
              "      fill: #1967D2;\n",
              "      height: 32px;\n",
              "      padding: 0 0 0 0;\n",
              "      width: 32px;\n",
              "    }\n",
              "\n",
              "    .colab-df-convert:hover {\n",
              "      background-color: #E2EBFA;\n",
              "      box-shadow: 0px 1px 2px rgba(60, 64, 67, 0.3), 0px 1px 3px 1px rgba(60, 64, 67, 0.15);\n",
              "      fill: #174EA6;\n",
              "    }\n",
              "\n",
              "    [theme=dark] .colab-df-convert {\n",
              "      background-color: #3B4455;\n",
              "      fill: #D2E3FC;\n",
              "    }\n",
              "\n",
              "    [theme=dark] .colab-df-convert:hover {\n",
              "      background-color: #434B5C;\n",
              "      box-shadow: 0px 1px 3px 1px rgba(0, 0, 0, 0.15);\n",
              "      filter: drop-shadow(0px 1px 2px rgba(0, 0, 0, 0.3));\n",
              "      fill: #FFFFFF;\n",
              "    }\n",
              "  </style>\n",
              "\n",
              "      <script>\n",
              "        const buttonEl =\n",
              "          document.querySelector('#df-671d8125-5465-4a1a-bafd-a194dd88b8b3 button.colab-df-convert');\n",
              "        buttonEl.style.display =\n",
              "          google.colab.kernel.accessAllowed ? 'block' : 'none';\n",
              "\n",
              "        async function convertToInteractive(key) {\n",
              "          const element = document.querySelector('#df-671d8125-5465-4a1a-bafd-a194dd88b8b3');\n",
              "          const dataTable =\n",
              "            await google.colab.kernel.invokeFunction('convertToInteractive',\n",
              "                                                     [key], {});\n",
              "          if (!dataTable) return;\n",
              "\n",
              "          const docLinkHtml = 'Like what you see? Visit the ' +\n",
              "            '<a target=\"_blank\" href=https://colab.research.google.com/notebooks/data_table.ipynb>data table notebook</a>'\n",
              "            + ' to learn more about interactive tables.';\n",
              "          element.innerHTML = '';\n",
              "          dataTable['output_type'] = 'display_data';\n",
              "          await google.colab.output.renderOutput(dataTable, element);\n",
              "          const docLink = document.createElement('div');\n",
              "          docLink.innerHTML = docLinkHtml;\n",
              "          element.appendChild(docLink);\n",
              "        }\n",
              "      </script>\n",
              "    </div>\n",
              "  </div>\n",
              "  "
            ]
          },
          "metadata": {},
          "execution_count": 12
        }
      ]
    },
    {
      "cell_type": "code",
      "source": [
        "df = df[df.size_m2 != 0]"
      ],
      "metadata": {
        "id": "m7WwvyjPbxL2"
      },
      "execution_count": 13,
      "outputs": []
    },
    {
      "cell_type": "code",
      "source": [
        "df.describe()"
      ],
      "metadata": {
        "colab": {
          "base_uri": "https://localhost:8080/",
          "height": 300
        },
        "id": "KFgrz1WqcEGw",
        "outputId": "8b2b754c-9dfc-468b-b9aa-0c6667371088"
      },
      "execution_count": 14,
      "outputs": [
        {
          "output_type": "execute_result",
          "data": {
            "text/plain": [
              "               rent      size_m2     bedrooms        suite      parking\n",
              "count  3.719000e+03  3719.000000  3714.000000  2511.000000  1334.000000\n",
              "mean   4.840879e+03    65.302501     1.841411     1.137395     1.347076\n",
              "std    7.485575e+04    50.254545     1.083579     0.477209     0.699536\n",
              "min    3.500000e+02     1.000000     1.000000     1.000000     1.000000\n",
              "25%    1.000000e+03    34.000000     1.000000     1.000000     1.000000\n",
              "50%    1.600000e+03    51.000000     2.000000     1.000000     1.000000\n",
              "75%    3.000000e+03    77.000000     2.000000     1.000000     2.000000\n",
              "max    3.850000e+06  1100.000000    38.000000     4.000000    10.000000"
            ],
            "text/html": [
              "\n",
              "  <div id=\"df-c8548abc-f175-4834-a9e5-6e3375f6b952\">\n",
              "    <div class=\"colab-df-container\">\n",
              "      <div>\n",
              "<style scoped>\n",
              "    .dataframe tbody tr th:only-of-type {\n",
              "        vertical-align: middle;\n",
              "    }\n",
              "\n",
              "    .dataframe tbody tr th {\n",
              "        vertical-align: top;\n",
              "    }\n",
              "\n",
              "    .dataframe thead th {\n",
              "        text-align: right;\n",
              "    }\n",
              "</style>\n",
              "<table border=\"1\" class=\"dataframe\">\n",
              "  <thead>\n",
              "    <tr style=\"text-align: right;\">\n",
              "      <th></th>\n",
              "      <th>rent</th>\n",
              "      <th>size_m2</th>\n",
              "      <th>bedrooms</th>\n",
              "      <th>suite</th>\n",
              "      <th>parking</th>\n",
              "    </tr>\n",
              "  </thead>\n",
              "  <tbody>\n",
              "    <tr>\n",
              "      <th>count</th>\n",
              "      <td>3.719000e+03</td>\n",
              "      <td>3719.000000</td>\n",
              "      <td>3714.000000</td>\n",
              "      <td>2511.000000</td>\n",
              "      <td>1334.000000</td>\n",
              "    </tr>\n",
              "    <tr>\n",
              "      <th>mean</th>\n",
              "      <td>4.840879e+03</td>\n",
              "      <td>65.302501</td>\n",
              "      <td>1.841411</td>\n",
              "      <td>1.137395</td>\n",
              "      <td>1.347076</td>\n",
              "    </tr>\n",
              "    <tr>\n",
              "      <th>std</th>\n",
              "      <td>7.485575e+04</td>\n",
              "      <td>50.254545</td>\n",
              "      <td>1.083579</td>\n",
              "      <td>0.477209</td>\n",
              "      <td>0.699536</td>\n",
              "    </tr>\n",
              "    <tr>\n",
              "      <th>min</th>\n",
              "      <td>3.500000e+02</td>\n",
              "      <td>1.000000</td>\n",
              "      <td>1.000000</td>\n",
              "      <td>1.000000</td>\n",
              "      <td>1.000000</td>\n",
              "    </tr>\n",
              "    <tr>\n",
              "      <th>25%</th>\n",
              "      <td>1.000000e+03</td>\n",
              "      <td>34.000000</td>\n",
              "      <td>1.000000</td>\n",
              "      <td>1.000000</td>\n",
              "      <td>1.000000</td>\n",
              "    </tr>\n",
              "    <tr>\n",
              "      <th>50%</th>\n",
              "      <td>1.600000e+03</td>\n",
              "      <td>51.000000</td>\n",
              "      <td>2.000000</td>\n",
              "      <td>1.000000</td>\n",
              "      <td>1.000000</td>\n",
              "    </tr>\n",
              "    <tr>\n",
              "      <th>75%</th>\n",
              "      <td>3.000000e+03</td>\n",
              "      <td>77.000000</td>\n",
              "      <td>2.000000</td>\n",
              "      <td>1.000000</td>\n",
              "      <td>2.000000</td>\n",
              "    </tr>\n",
              "    <tr>\n",
              "      <th>max</th>\n",
              "      <td>3.850000e+06</td>\n",
              "      <td>1100.000000</td>\n",
              "      <td>38.000000</td>\n",
              "      <td>4.000000</td>\n",
              "      <td>10.000000</td>\n",
              "    </tr>\n",
              "  </tbody>\n",
              "</table>\n",
              "</div>\n",
              "      <button class=\"colab-df-convert\" onclick=\"convertToInteractive('df-c8548abc-f175-4834-a9e5-6e3375f6b952')\"\n",
              "              title=\"Convert this dataframe to an interactive table.\"\n",
              "              style=\"display:none;\">\n",
              "        \n",
              "  <svg xmlns=\"http://www.w3.org/2000/svg\" height=\"24px\"viewBox=\"0 0 24 24\"\n",
              "       width=\"24px\">\n",
              "    <path d=\"M0 0h24v24H0V0z\" fill=\"none\"/>\n",
              "    <path d=\"M18.56 5.44l.94 2.06.94-2.06 2.06-.94-2.06-.94-.94-2.06-.94 2.06-2.06.94zm-11 1L8.5 8.5l.94-2.06 2.06-.94-2.06-.94L8.5 2.5l-.94 2.06-2.06.94zm10 10l.94 2.06.94-2.06 2.06-.94-2.06-.94-.94-2.06-.94 2.06-2.06.94z\"/><path d=\"M17.41 7.96l-1.37-1.37c-.4-.4-.92-.59-1.43-.59-.52 0-1.04.2-1.43.59L10.3 9.45l-7.72 7.72c-.78.78-.78 2.05 0 2.83L4 21.41c.39.39.9.59 1.41.59.51 0 1.02-.2 1.41-.59l7.78-7.78 2.81-2.81c.8-.78.8-2.07 0-2.86zM5.41 20L4 18.59l7.72-7.72 1.47 1.35L5.41 20z\"/>\n",
              "  </svg>\n",
              "      </button>\n",
              "      \n",
              "  <style>\n",
              "    .colab-df-container {\n",
              "      display:flex;\n",
              "      flex-wrap:wrap;\n",
              "      gap: 12px;\n",
              "    }\n",
              "\n",
              "    .colab-df-convert {\n",
              "      background-color: #E8F0FE;\n",
              "      border: none;\n",
              "      border-radius: 50%;\n",
              "      cursor: pointer;\n",
              "      display: none;\n",
              "      fill: #1967D2;\n",
              "      height: 32px;\n",
              "      padding: 0 0 0 0;\n",
              "      width: 32px;\n",
              "    }\n",
              "\n",
              "    .colab-df-convert:hover {\n",
              "      background-color: #E2EBFA;\n",
              "      box-shadow: 0px 1px 2px rgba(60, 64, 67, 0.3), 0px 1px 3px 1px rgba(60, 64, 67, 0.15);\n",
              "      fill: #174EA6;\n",
              "    }\n",
              "\n",
              "    [theme=dark] .colab-df-convert {\n",
              "      background-color: #3B4455;\n",
              "      fill: #D2E3FC;\n",
              "    }\n",
              "\n",
              "    [theme=dark] .colab-df-convert:hover {\n",
              "      background-color: #434B5C;\n",
              "      box-shadow: 0px 1px 3px 1px rgba(0, 0, 0, 0.15);\n",
              "      filter: drop-shadow(0px 1px 2px rgba(0, 0, 0, 0.3));\n",
              "      fill: #FFFFFF;\n",
              "    }\n",
              "  </style>\n",
              "\n",
              "      <script>\n",
              "        const buttonEl =\n",
              "          document.querySelector('#df-c8548abc-f175-4834-a9e5-6e3375f6b952 button.colab-df-convert');\n",
              "        buttonEl.style.display =\n",
              "          google.colab.kernel.accessAllowed ? 'block' : 'none';\n",
              "\n",
              "        async function convertToInteractive(key) {\n",
              "          const element = document.querySelector('#df-c8548abc-f175-4834-a9e5-6e3375f6b952');\n",
              "          const dataTable =\n",
              "            await google.colab.kernel.invokeFunction('convertToInteractive',\n",
              "                                                     [key], {});\n",
              "          if (!dataTable) return;\n",
              "\n",
              "          const docLinkHtml = 'Like what you see? Visit the ' +\n",
              "            '<a target=\"_blank\" href=https://colab.research.google.com/notebooks/data_table.ipynb>data table notebook</a>'\n",
              "            + ' to learn more about interactive tables.';\n",
              "          element.innerHTML = '';\n",
              "          dataTable['output_type'] = 'display_data';\n",
              "          await google.colab.output.renderOutput(dataTable, element);\n",
              "          const docLink = document.createElement('div');\n",
              "          docLink.innerHTML = docLinkHtml;\n",
              "          element.appendChild(docLink);\n",
              "        }\n",
              "      </script>\n",
              "    </div>\n",
              "  </div>\n",
              "  "
            ]
          },
          "metadata": {},
          "execution_count": 14
        }
      ]
    },
    {
      "cell_type": "markdown",
      "source": [
        "Doing the same step for 1 m² rows."
      ],
      "metadata": {
        "id": "c6ZXGHiAcMxV"
      }
    },
    {
      "cell_type": "code",
      "source": [
        "df.loc[df['size_m2'] == 1]"
      ],
      "metadata": {
        "colab": {
          "base_uri": "https://localhost:8080/",
          "height": 112
        },
        "id": "Qqcw23E_cKKu",
        "outputId": "a46a4528-6785-42e8-dccb-a798123bdd81"
      },
      "execution_count": 15,
      "outputs": [
        {
          "output_type": "execute_result",
          "data": {
            "text/plain": [
              "      rent  size_m2 property_type  bedrooms  suite  parking neighborhood\n",
              "1568   375        1       Kitnet        1.0    NaN      NaN    CEILANDIA\n",
              "2203   900        1       Kitnet        1.0    1.0      NaN        GUARA"
            ],
            "text/html": [
              "\n",
              "  <div id=\"df-d035b18c-d87c-4dcb-bbe4-80c4beadb9af\">\n",
              "    <div class=\"colab-df-container\">\n",
              "      <div>\n",
              "<style scoped>\n",
              "    .dataframe tbody tr th:only-of-type {\n",
              "        vertical-align: middle;\n",
              "    }\n",
              "\n",
              "    .dataframe tbody tr th {\n",
              "        vertical-align: top;\n",
              "    }\n",
              "\n",
              "    .dataframe thead th {\n",
              "        text-align: right;\n",
              "    }\n",
              "</style>\n",
              "<table border=\"1\" class=\"dataframe\">\n",
              "  <thead>\n",
              "    <tr style=\"text-align: right;\">\n",
              "      <th></th>\n",
              "      <th>rent</th>\n",
              "      <th>size_m2</th>\n",
              "      <th>property_type</th>\n",
              "      <th>bedrooms</th>\n",
              "      <th>suite</th>\n",
              "      <th>parking</th>\n",
              "      <th>neighborhood</th>\n",
              "    </tr>\n",
              "  </thead>\n",
              "  <tbody>\n",
              "    <tr>\n",
              "      <th>1568</th>\n",
              "      <td>375</td>\n",
              "      <td>1</td>\n",
              "      <td>Kitnet</td>\n",
              "      <td>1.0</td>\n",
              "      <td>NaN</td>\n",
              "      <td>NaN</td>\n",
              "      <td>CEILANDIA</td>\n",
              "    </tr>\n",
              "    <tr>\n",
              "      <th>2203</th>\n",
              "      <td>900</td>\n",
              "      <td>1</td>\n",
              "      <td>Kitnet</td>\n",
              "      <td>1.0</td>\n",
              "      <td>1.0</td>\n",
              "      <td>NaN</td>\n",
              "      <td>GUARA</td>\n",
              "    </tr>\n",
              "  </tbody>\n",
              "</table>\n",
              "</div>\n",
              "      <button class=\"colab-df-convert\" onclick=\"convertToInteractive('df-d035b18c-d87c-4dcb-bbe4-80c4beadb9af')\"\n",
              "              title=\"Convert this dataframe to an interactive table.\"\n",
              "              style=\"display:none;\">\n",
              "        \n",
              "  <svg xmlns=\"http://www.w3.org/2000/svg\" height=\"24px\"viewBox=\"0 0 24 24\"\n",
              "       width=\"24px\">\n",
              "    <path d=\"M0 0h24v24H0V0z\" fill=\"none\"/>\n",
              "    <path d=\"M18.56 5.44l.94 2.06.94-2.06 2.06-.94-2.06-.94-.94-2.06-.94 2.06-2.06.94zm-11 1L8.5 8.5l.94-2.06 2.06-.94-2.06-.94L8.5 2.5l-.94 2.06-2.06.94zm10 10l.94 2.06.94-2.06 2.06-.94-2.06-.94-.94-2.06-.94 2.06-2.06.94z\"/><path d=\"M17.41 7.96l-1.37-1.37c-.4-.4-.92-.59-1.43-.59-.52 0-1.04.2-1.43.59L10.3 9.45l-7.72 7.72c-.78.78-.78 2.05 0 2.83L4 21.41c.39.39.9.59 1.41.59.51 0 1.02-.2 1.41-.59l7.78-7.78 2.81-2.81c.8-.78.8-2.07 0-2.86zM5.41 20L4 18.59l7.72-7.72 1.47 1.35L5.41 20z\"/>\n",
              "  </svg>\n",
              "      </button>\n",
              "      \n",
              "  <style>\n",
              "    .colab-df-container {\n",
              "      display:flex;\n",
              "      flex-wrap:wrap;\n",
              "      gap: 12px;\n",
              "    }\n",
              "\n",
              "    .colab-df-convert {\n",
              "      background-color: #E8F0FE;\n",
              "      border: none;\n",
              "      border-radius: 50%;\n",
              "      cursor: pointer;\n",
              "      display: none;\n",
              "      fill: #1967D2;\n",
              "      height: 32px;\n",
              "      padding: 0 0 0 0;\n",
              "      width: 32px;\n",
              "    }\n",
              "\n",
              "    .colab-df-convert:hover {\n",
              "      background-color: #E2EBFA;\n",
              "      box-shadow: 0px 1px 2px rgba(60, 64, 67, 0.3), 0px 1px 3px 1px rgba(60, 64, 67, 0.15);\n",
              "      fill: #174EA6;\n",
              "    }\n",
              "\n",
              "    [theme=dark] .colab-df-convert {\n",
              "      background-color: #3B4455;\n",
              "      fill: #D2E3FC;\n",
              "    }\n",
              "\n",
              "    [theme=dark] .colab-df-convert:hover {\n",
              "      background-color: #434B5C;\n",
              "      box-shadow: 0px 1px 3px 1px rgba(0, 0, 0, 0.15);\n",
              "      filter: drop-shadow(0px 1px 2px rgba(0, 0, 0, 0.3));\n",
              "      fill: #FFFFFF;\n",
              "    }\n",
              "  </style>\n",
              "\n",
              "      <script>\n",
              "        const buttonEl =\n",
              "          document.querySelector('#df-d035b18c-d87c-4dcb-bbe4-80c4beadb9af button.colab-df-convert');\n",
              "        buttonEl.style.display =\n",
              "          google.colab.kernel.accessAllowed ? 'block' : 'none';\n",
              "\n",
              "        async function convertToInteractive(key) {\n",
              "          const element = document.querySelector('#df-d035b18c-d87c-4dcb-bbe4-80c4beadb9af');\n",
              "          const dataTable =\n",
              "            await google.colab.kernel.invokeFunction('convertToInteractive',\n",
              "                                                     [key], {});\n",
              "          if (!dataTable) return;\n",
              "\n",
              "          const docLinkHtml = 'Like what you see? Visit the ' +\n",
              "            '<a target=\"_blank\" href=https://colab.research.google.com/notebooks/data_table.ipynb>data table notebook</a>'\n",
              "            + ' to learn more about interactive tables.';\n",
              "          element.innerHTML = '';\n",
              "          dataTable['output_type'] = 'display_data';\n",
              "          await google.colab.output.renderOutput(dataTable, element);\n",
              "          const docLink = document.createElement('div');\n",
              "          docLink.innerHTML = docLinkHtml;\n",
              "          element.appendChild(docLink);\n",
              "        }\n",
              "      </script>\n",
              "    </div>\n",
              "  </div>\n",
              "  "
            ]
          },
          "metadata": {},
          "execution_count": 15
        }
      ]
    },
    {
      "cell_type": "code",
      "source": [
        "df = df[df.size_m2 != 1]"
      ],
      "metadata": {
        "id": "iB_cNVPCcS81"
      },
      "execution_count": 16,
      "outputs": []
    },
    {
      "cell_type": "code",
      "source": [
        "df.describe()"
      ],
      "metadata": {
        "colab": {
          "base_uri": "https://localhost:8080/",
          "height": 300
        },
        "id": "vTuK8deccUX8",
        "outputId": "1314fb3c-b7da-41a7-9233-b22ae0762b72"
      },
      "execution_count": 17,
      "outputs": [
        {
          "output_type": "execute_result",
          "data": {
            "text/plain": [
              "               rent      size_m2     bedrooms        suite      parking\n",
              "count  3.717000e+03  3717.000000  3712.000000  2510.000000  1334.000000\n",
              "mean   4.843141e+03    65.337100     1.841864     1.137450     1.347076\n",
              "std    7.487583e+04    50.245915     1.083694     0.477296     0.699536\n",
              "min    3.500000e+02    11.000000     1.000000     1.000000     1.000000\n",
              "25%    1.000000e+03    34.000000     1.000000     1.000000     1.000000\n",
              "50%    1.600000e+03    51.000000     2.000000     1.000000     1.000000\n",
              "75%    3.000000e+03    77.000000     2.000000     1.000000     2.000000\n",
              "max    3.850000e+06  1100.000000    38.000000     4.000000    10.000000"
            ],
            "text/html": [
              "\n",
              "  <div id=\"df-14539214-f5ab-4f00-8e7c-43a6d1ff3055\">\n",
              "    <div class=\"colab-df-container\">\n",
              "      <div>\n",
              "<style scoped>\n",
              "    .dataframe tbody tr th:only-of-type {\n",
              "        vertical-align: middle;\n",
              "    }\n",
              "\n",
              "    .dataframe tbody tr th {\n",
              "        vertical-align: top;\n",
              "    }\n",
              "\n",
              "    .dataframe thead th {\n",
              "        text-align: right;\n",
              "    }\n",
              "</style>\n",
              "<table border=\"1\" class=\"dataframe\">\n",
              "  <thead>\n",
              "    <tr style=\"text-align: right;\">\n",
              "      <th></th>\n",
              "      <th>rent</th>\n",
              "      <th>size_m2</th>\n",
              "      <th>bedrooms</th>\n",
              "      <th>suite</th>\n",
              "      <th>parking</th>\n",
              "    </tr>\n",
              "  </thead>\n",
              "  <tbody>\n",
              "    <tr>\n",
              "      <th>count</th>\n",
              "      <td>3.717000e+03</td>\n",
              "      <td>3717.000000</td>\n",
              "      <td>3712.000000</td>\n",
              "      <td>2510.000000</td>\n",
              "      <td>1334.000000</td>\n",
              "    </tr>\n",
              "    <tr>\n",
              "      <th>mean</th>\n",
              "      <td>4.843141e+03</td>\n",
              "      <td>65.337100</td>\n",
              "      <td>1.841864</td>\n",
              "      <td>1.137450</td>\n",
              "      <td>1.347076</td>\n",
              "    </tr>\n",
              "    <tr>\n",
              "      <th>std</th>\n",
              "      <td>7.487583e+04</td>\n",
              "      <td>50.245915</td>\n",
              "      <td>1.083694</td>\n",
              "      <td>0.477296</td>\n",
              "      <td>0.699536</td>\n",
              "    </tr>\n",
              "    <tr>\n",
              "      <th>min</th>\n",
              "      <td>3.500000e+02</td>\n",
              "      <td>11.000000</td>\n",
              "      <td>1.000000</td>\n",
              "      <td>1.000000</td>\n",
              "      <td>1.000000</td>\n",
              "    </tr>\n",
              "    <tr>\n",
              "      <th>25%</th>\n",
              "      <td>1.000000e+03</td>\n",
              "      <td>34.000000</td>\n",
              "      <td>1.000000</td>\n",
              "      <td>1.000000</td>\n",
              "      <td>1.000000</td>\n",
              "    </tr>\n",
              "    <tr>\n",
              "      <th>50%</th>\n",
              "      <td>1.600000e+03</td>\n",
              "      <td>51.000000</td>\n",
              "      <td>2.000000</td>\n",
              "      <td>1.000000</td>\n",
              "      <td>1.000000</td>\n",
              "    </tr>\n",
              "    <tr>\n",
              "      <th>75%</th>\n",
              "      <td>3.000000e+03</td>\n",
              "      <td>77.000000</td>\n",
              "      <td>2.000000</td>\n",
              "      <td>1.000000</td>\n",
              "      <td>2.000000</td>\n",
              "    </tr>\n",
              "    <tr>\n",
              "      <th>max</th>\n",
              "      <td>3.850000e+06</td>\n",
              "      <td>1100.000000</td>\n",
              "      <td>38.000000</td>\n",
              "      <td>4.000000</td>\n",
              "      <td>10.000000</td>\n",
              "    </tr>\n",
              "  </tbody>\n",
              "</table>\n",
              "</div>\n",
              "      <button class=\"colab-df-convert\" onclick=\"convertToInteractive('df-14539214-f5ab-4f00-8e7c-43a6d1ff3055')\"\n",
              "              title=\"Convert this dataframe to an interactive table.\"\n",
              "              style=\"display:none;\">\n",
              "        \n",
              "  <svg xmlns=\"http://www.w3.org/2000/svg\" height=\"24px\"viewBox=\"0 0 24 24\"\n",
              "       width=\"24px\">\n",
              "    <path d=\"M0 0h24v24H0V0z\" fill=\"none\"/>\n",
              "    <path d=\"M18.56 5.44l.94 2.06.94-2.06 2.06-.94-2.06-.94-.94-2.06-.94 2.06-2.06.94zm-11 1L8.5 8.5l.94-2.06 2.06-.94-2.06-.94L8.5 2.5l-.94 2.06-2.06.94zm10 10l.94 2.06.94-2.06 2.06-.94-2.06-.94-.94-2.06-.94 2.06-2.06.94z\"/><path d=\"M17.41 7.96l-1.37-1.37c-.4-.4-.92-.59-1.43-.59-.52 0-1.04.2-1.43.59L10.3 9.45l-7.72 7.72c-.78.78-.78 2.05 0 2.83L4 21.41c.39.39.9.59 1.41.59.51 0 1.02-.2 1.41-.59l7.78-7.78 2.81-2.81c.8-.78.8-2.07 0-2.86zM5.41 20L4 18.59l7.72-7.72 1.47 1.35L5.41 20z\"/>\n",
              "  </svg>\n",
              "      </button>\n",
              "      \n",
              "  <style>\n",
              "    .colab-df-container {\n",
              "      display:flex;\n",
              "      flex-wrap:wrap;\n",
              "      gap: 12px;\n",
              "    }\n",
              "\n",
              "    .colab-df-convert {\n",
              "      background-color: #E8F0FE;\n",
              "      border: none;\n",
              "      border-radius: 50%;\n",
              "      cursor: pointer;\n",
              "      display: none;\n",
              "      fill: #1967D2;\n",
              "      height: 32px;\n",
              "      padding: 0 0 0 0;\n",
              "      width: 32px;\n",
              "    }\n",
              "\n",
              "    .colab-df-convert:hover {\n",
              "      background-color: #E2EBFA;\n",
              "      box-shadow: 0px 1px 2px rgba(60, 64, 67, 0.3), 0px 1px 3px 1px rgba(60, 64, 67, 0.15);\n",
              "      fill: #174EA6;\n",
              "    }\n",
              "\n",
              "    [theme=dark] .colab-df-convert {\n",
              "      background-color: #3B4455;\n",
              "      fill: #D2E3FC;\n",
              "    }\n",
              "\n",
              "    [theme=dark] .colab-df-convert:hover {\n",
              "      background-color: #434B5C;\n",
              "      box-shadow: 0px 1px 3px 1px rgba(0, 0, 0, 0.15);\n",
              "      filter: drop-shadow(0px 1px 2px rgba(0, 0, 0, 0.3));\n",
              "      fill: #FFFFFF;\n",
              "    }\n",
              "  </style>\n",
              "\n",
              "      <script>\n",
              "        const buttonEl =\n",
              "          document.querySelector('#df-14539214-f5ab-4f00-8e7c-43a6d1ff3055 button.colab-df-convert');\n",
              "        buttonEl.style.display =\n",
              "          google.colab.kernel.accessAllowed ? 'block' : 'none';\n",
              "\n",
              "        async function convertToInteractive(key) {\n",
              "          const element = document.querySelector('#df-14539214-f5ab-4f00-8e7c-43a6d1ff3055');\n",
              "          const dataTable =\n",
              "            await google.colab.kernel.invokeFunction('convertToInteractive',\n",
              "                                                     [key], {});\n",
              "          if (!dataTable) return;\n",
              "\n",
              "          const docLinkHtml = 'Like what you see? Visit the ' +\n",
              "            '<a target=\"_blank\" href=https://colab.research.google.com/notebooks/data_table.ipynb>data table notebook</a>'\n",
              "            + ' to learn more about interactive tables.';\n",
              "          element.innerHTML = '';\n",
              "          dataTable['output_type'] = 'display_data';\n",
              "          await google.colab.output.renderOutput(dataTable, element);\n",
              "          const docLink = document.createElement('div');\n",
              "          docLink.innerHTML = docLinkHtml;\n",
              "          element.appendChild(docLink);\n",
              "        }\n",
              "      </script>\n",
              "    </div>\n",
              "  </div>\n",
              "  "
            ]
          },
          "metadata": {},
          "execution_count": 17
        }
      ]
    },
    {
      "cell_type": "markdown",
      "source": [
        "Doing the same step for the 1100 m² row. This one seems to be a typo."
      ],
      "metadata": {
        "id": "C4Mm8vr8cikk"
      }
    },
    {
      "cell_type": "code",
      "source": [
        "df.loc[df['size_m2'] == 1100]"
      ],
      "metadata": {
        "colab": {
          "base_uri": "https://localhost:8080/",
          "height": 81
        },
        "id": "GmmqFKDycb_z",
        "outputId": "ebea25ad-e8ba-4188-fc6b-ff8a153ab54b"
      },
      "execution_count": 18,
      "outputs": [
        {
          "output_type": "execute_result",
          "data": {
            "text/plain": [
              "      rent  size_m2 property_type  bedrooms  suite  parking neighborhood\n",
              "1486  4700     1100  Apartamento        3.0    1.0      NaN    ASA NORTE"
            ],
            "text/html": [
              "\n",
              "  <div id=\"df-7c3b68d1-6048-4f8d-a3a0-7d199270f680\">\n",
              "    <div class=\"colab-df-container\">\n",
              "      <div>\n",
              "<style scoped>\n",
              "    .dataframe tbody tr th:only-of-type {\n",
              "        vertical-align: middle;\n",
              "    }\n",
              "\n",
              "    .dataframe tbody tr th {\n",
              "        vertical-align: top;\n",
              "    }\n",
              "\n",
              "    .dataframe thead th {\n",
              "        text-align: right;\n",
              "    }\n",
              "</style>\n",
              "<table border=\"1\" class=\"dataframe\">\n",
              "  <thead>\n",
              "    <tr style=\"text-align: right;\">\n",
              "      <th></th>\n",
              "      <th>rent</th>\n",
              "      <th>size_m2</th>\n",
              "      <th>property_type</th>\n",
              "      <th>bedrooms</th>\n",
              "      <th>suite</th>\n",
              "      <th>parking</th>\n",
              "      <th>neighborhood</th>\n",
              "    </tr>\n",
              "  </thead>\n",
              "  <tbody>\n",
              "    <tr>\n",
              "      <th>1486</th>\n",
              "      <td>4700</td>\n",
              "      <td>1100</td>\n",
              "      <td>Apartamento</td>\n",
              "      <td>3.0</td>\n",
              "      <td>1.0</td>\n",
              "      <td>NaN</td>\n",
              "      <td>ASA NORTE</td>\n",
              "    </tr>\n",
              "  </tbody>\n",
              "</table>\n",
              "</div>\n",
              "      <button class=\"colab-df-convert\" onclick=\"convertToInteractive('df-7c3b68d1-6048-4f8d-a3a0-7d199270f680')\"\n",
              "              title=\"Convert this dataframe to an interactive table.\"\n",
              "              style=\"display:none;\">\n",
              "        \n",
              "  <svg xmlns=\"http://www.w3.org/2000/svg\" height=\"24px\"viewBox=\"0 0 24 24\"\n",
              "       width=\"24px\">\n",
              "    <path d=\"M0 0h24v24H0V0z\" fill=\"none\"/>\n",
              "    <path d=\"M18.56 5.44l.94 2.06.94-2.06 2.06-.94-2.06-.94-.94-2.06-.94 2.06-2.06.94zm-11 1L8.5 8.5l.94-2.06 2.06-.94-2.06-.94L8.5 2.5l-.94 2.06-2.06.94zm10 10l.94 2.06.94-2.06 2.06-.94-2.06-.94-.94-2.06-.94 2.06-2.06.94z\"/><path d=\"M17.41 7.96l-1.37-1.37c-.4-.4-.92-.59-1.43-.59-.52 0-1.04.2-1.43.59L10.3 9.45l-7.72 7.72c-.78.78-.78 2.05 0 2.83L4 21.41c.39.39.9.59 1.41.59.51 0 1.02-.2 1.41-.59l7.78-7.78 2.81-2.81c.8-.78.8-2.07 0-2.86zM5.41 20L4 18.59l7.72-7.72 1.47 1.35L5.41 20z\"/>\n",
              "  </svg>\n",
              "      </button>\n",
              "      \n",
              "  <style>\n",
              "    .colab-df-container {\n",
              "      display:flex;\n",
              "      flex-wrap:wrap;\n",
              "      gap: 12px;\n",
              "    }\n",
              "\n",
              "    .colab-df-convert {\n",
              "      background-color: #E8F0FE;\n",
              "      border: none;\n",
              "      border-radius: 50%;\n",
              "      cursor: pointer;\n",
              "      display: none;\n",
              "      fill: #1967D2;\n",
              "      height: 32px;\n",
              "      padding: 0 0 0 0;\n",
              "      width: 32px;\n",
              "    }\n",
              "\n",
              "    .colab-df-convert:hover {\n",
              "      background-color: #E2EBFA;\n",
              "      box-shadow: 0px 1px 2px rgba(60, 64, 67, 0.3), 0px 1px 3px 1px rgba(60, 64, 67, 0.15);\n",
              "      fill: #174EA6;\n",
              "    }\n",
              "\n",
              "    [theme=dark] .colab-df-convert {\n",
              "      background-color: #3B4455;\n",
              "      fill: #D2E3FC;\n",
              "    }\n",
              "\n",
              "    [theme=dark] .colab-df-convert:hover {\n",
              "      background-color: #434B5C;\n",
              "      box-shadow: 0px 1px 3px 1px rgba(0, 0, 0, 0.15);\n",
              "      filter: drop-shadow(0px 1px 2px rgba(0, 0, 0, 0.3));\n",
              "      fill: #FFFFFF;\n",
              "    }\n",
              "  </style>\n",
              "\n",
              "      <script>\n",
              "        const buttonEl =\n",
              "          document.querySelector('#df-7c3b68d1-6048-4f8d-a3a0-7d199270f680 button.colab-df-convert');\n",
              "        buttonEl.style.display =\n",
              "          google.colab.kernel.accessAllowed ? 'block' : 'none';\n",
              "\n",
              "        async function convertToInteractive(key) {\n",
              "          const element = document.querySelector('#df-7c3b68d1-6048-4f8d-a3a0-7d199270f680');\n",
              "          const dataTable =\n",
              "            await google.colab.kernel.invokeFunction('convertToInteractive',\n",
              "                                                     [key], {});\n",
              "          if (!dataTable) return;\n",
              "\n",
              "          const docLinkHtml = 'Like what you see? Visit the ' +\n",
              "            '<a target=\"_blank\" href=https://colab.research.google.com/notebooks/data_table.ipynb>data table notebook</a>'\n",
              "            + ' to learn more about interactive tables.';\n",
              "          element.innerHTML = '';\n",
              "          dataTable['output_type'] = 'display_data';\n",
              "          await google.colab.output.renderOutput(dataTable, element);\n",
              "          const docLink = document.createElement('div');\n",
              "          docLink.innerHTML = docLinkHtml;\n",
              "          element.appendChild(docLink);\n",
              "        }\n",
              "      </script>\n",
              "    </div>\n",
              "  </div>\n",
              "  "
            ]
          },
          "metadata": {},
          "execution_count": 18
        }
      ]
    },
    {
      "cell_type": "code",
      "source": [
        "df = df[df.size_m2 != 1100]"
      ],
      "metadata": {
        "id": "oVX4SX9gzdok"
      },
      "execution_count": 19,
      "outputs": []
    },
    {
      "cell_type": "code",
      "source": [
        "df.describe()"
      ],
      "metadata": {
        "colab": {
          "base_uri": "https://localhost:8080/",
          "height": 300
        },
        "id": "WoU2URpczfKj",
        "outputId": "405f2c76-d8ad-40e4-9bf8-ac0481ef711a"
      },
      "execution_count": 20,
      "outputs": [
        {
          "output_type": "execute_result",
          "data": {
            "text/plain": [
              "               rent      size_m2     bedrooms        suite      parking\n",
              "count  3.716000e+03  3716.000000  3711.000000  2509.000000  1334.000000\n",
              "mean   4.843179e+03    65.058665     1.841552     1.137505     1.347076\n",
              "std    7.488591e+04    47.297891     1.083674     0.477384     0.699536\n",
              "min    3.500000e+02    11.000000     1.000000     1.000000     1.000000\n",
              "25%    1.000000e+03    34.000000     1.000000     1.000000     1.000000\n",
              "50%    1.600000e+03    51.000000     2.000000     1.000000     1.000000\n",
              "75%    3.000000e+03    77.000000     2.000000     1.000000     2.000000\n",
              "max    3.850000e+06   900.000000    38.000000     4.000000    10.000000"
            ],
            "text/html": [
              "\n",
              "  <div id=\"df-ce832fe2-7cbb-443f-851e-07651de71cad\">\n",
              "    <div class=\"colab-df-container\">\n",
              "      <div>\n",
              "<style scoped>\n",
              "    .dataframe tbody tr th:only-of-type {\n",
              "        vertical-align: middle;\n",
              "    }\n",
              "\n",
              "    .dataframe tbody tr th {\n",
              "        vertical-align: top;\n",
              "    }\n",
              "\n",
              "    .dataframe thead th {\n",
              "        text-align: right;\n",
              "    }\n",
              "</style>\n",
              "<table border=\"1\" class=\"dataframe\">\n",
              "  <thead>\n",
              "    <tr style=\"text-align: right;\">\n",
              "      <th></th>\n",
              "      <th>rent</th>\n",
              "      <th>size_m2</th>\n",
              "      <th>bedrooms</th>\n",
              "      <th>suite</th>\n",
              "      <th>parking</th>\n",
              "    </tr>\n",
              "  </thead>\n",
              "  <tbody>\n",
              "    <tr>\n",
              "      <th>count</th>\n",
              "      <td>3.716000e+03</td>\n",
              "      <td>3716.000000</td>\n",
              "      <td>3711.000000</td>\n",
              "      <td>2509.000000</td>\n",
              "      <td>1334.000000</td>\n",
              "    </tr>\n",
              "    <tr>\n",
              "      <th>mean</th>\n",
              "      <td>4.843179e+03</td>\n",
              "      <td>65.058665</td>\n",
              "      <td>1.841552</td>\n",
              "      <td>1.137505</td>\n",
              "      <td>1.347076</td>\n",
              "    </tr>\n",
              "    <tr>\n",
              "      <th>std</th>\n",
              "      <td>7.488591e+04</td>\n",
              "      <td>47.297891</td>\n",
              "      <td>1.083674</td>\n",
              "      <td>0.477384</td>\n",
              "      <td>0.699536</td>\n",
              "    </tr>\n",
              "    <tr>\n",
              "      <th>min</th>\n",
              "      <td>3.500000e+02</td>\n",
              "      <td>11.000000</td>\n",
              "      <td>1.000000</td>\n",
              "      <td>1.000000</td>\n",
              "      <td>1.000000</td>\n",
              "    </tr>\n",
              "    <tr>\n",
              "      <th>25%</th>\n",
              "      <td>1.000000e+03</td>\n",
              "      <td>34.000000</td>\n",
              "      <td>1.000000</td>\n",
              "      <td>1.000000</td>\n",
              "      <td>1.000000</td>\n",
              "    </tr>\n",
              "    <tr>\n",
              "      <th>50%</th>\n",
              "      <td>1.600000e+03</td>\n",
              "      <td>51.000000</td>\n",
              "      <td>2.000000</td>\n",
              "      <td>1.000000</td>\n",
              "      <td>1.000000</td>\n",
              "    </tr>\n",
              "    <tr>\n",
              "      <th>75%</th>\n",
              "      <td>3.000000e+03</td>\n",
              "      <td>77.000000</td>\n",
              "      <td>2.000000</td>\n",
              "      <td>1.000000</td>\n",
              "      <td>2.000000</td>\n",
              "    </tr>\n",
              "    <tr>\n",
              "      <th>max</th>\n",
              "      <td>3.850000e+06</td>\n",
              "      <td>900.000000</td>\n",
              "      <td>38.000000</td>\n",
              "      <td>4.000000</td>\n",
              "      <td>10.000000</td>\n",
              "    </tr>\n",
              "  </tbody>\n",
              "</table>\n",
              "</div>\n",
              "      <button class=\"colab-df-convert\" onclick=\"convertToInteractive('df-ce832fe2-7cbb-443f-851e-07651de71cad')\"\n",
              "              title=\"Convert this dataframe to an interactive table.\"\n",
              "              style=\"display:none;\">\n",
              "        \n",
              "  <svg xmlns=\"http://www.w3.org/2000/svg\" height=\"24px\"viewBox=\"0 0 24 24\"\n",
              "       width=\"24px\">\n",
              "    <path d=\"M0 0h24v24H0V0z\" fill=\"none\"/>\n",
              "    <path d=\"M18.56 5.44l.94 2.06.94-2.06 2.06-.94-2.06-.94-.94-2.06-.94 2.06-2.06.94zm-11 1L8.5 8.5l.94-2.06 2.06-.94-2.06-.94L8.5 2.5l-.94 2.06-2.06.94zm10 10l.94 2.06.94-2.06 2.06-.94-2.06-.94-.94-2.06-.94 2.06-2.06.94z\"/><path d=\"M17.41 7.96l-1.37-1.37c-.4-.4-.92-.59-1.43-.59-.52 0-1.04.2-1.43.59L10.3 9.45l-7.72 7.72c-.78.78-.78 2.05 0 2.83L4 21.41c.39.39.9.59 1.41.59.51 0 1.02-.2 1.41-.59l7.78-7.78 2.81-2.81c.8-.78.8-2.07 0-2.86zM5.41 20L4 18.59l7.72-7.72 1.47 1.35L5.41 20z\"/>\n",
              "  </svg>\n",
              "      </button>\n",
              "      \n",
              "  <style>\n",
              "    .colab-df-container {\n",
              "      display:flex;\n",
              "      flex-wrap:wrap;\n",
              "      gap: 12px;\n",
              "    }\n",
              "\n",
              "    .colab-df-convert {\n",
              "      background-color: #E8F0FE;\n",
              "      border: none;\n",
              "      border-radius: 50%;\n",
              "      cursor: pointer;\n",
              "      display: none;\n",
              "      fill: #1967D2;\n",
              "      height: 32px;\n",
              "      padding: 0 0 0 0;\n",
              "      width: 32px;\n",
              "    }\n",
              "\n",
              "    .colab-df-convert:hover {\n",
              "      background-color: #E2EBFA;\n",
              "      box-shadow: 0px 1px 2px rgba(60, 64, 67, 0.3), 0px 1px 3px 1px rgba(60, 64, 67, 0.15);\n",
              "      fill: #174EA6;\n",
              "    }\n",
              "\n",
              "    [theme=dark] .colab-df-convert {\n",
              "      background-color: #3B4455;\n",
              "      fill: #D2E3FC;\n",
              "    }\n",
              "\n",
              "    [theme=dark] .colab-df-convert:hover {\n",
              "      background-color: #434B5C;\n",
              "      box-shadow: 0px 1px 3px 1px rgba(0, 0, 0, 0.15);\n",
              "      filter: drop-shadow(0px 1px 2px rgba(0, 0, 0, 0.3));\n",
              "      fill: #FFFFFF;\n",
              "    }\n",
              "  </style>\n",
              "\n",
              "      <script>\n",
              "        const buttonEl =\n",
              "          document.querySelector('#df-ce832fe2-7cbb-443f-851e-07651de71cad button.colab-df-convert');\n",
              "        buttonEl.style.display =\n",
              "          google.colab.kernel.accessAllowed ? 'block' : 'none';\n",
              "\n",
              "        async function convertToInteractive(key) {\n",
              "          const element = document.querySelector('#df-ce832fe2-7cbb-443f-851e-07651de71cad');\n",
              "          const dataTable =\n",
              "            await google.colab.kernel.invokeFunction('convertToInteractive',\n",
              "                                                     [key], {});\n",
              "          if (!dataTable) return;\n",
              "\n",
              "          const docLinkHtml = 'Like what you see? Visit the ' +\n",
              "            '<a target=\"_blank\" href=https://colab.research.google.com/notebooks/data_table.ipynb>data table notebook</a>'\n",
              "            + ' to learn more about interactive tables.';\n",
              "          element.innerHTML = '';\n",
              "          dataTable['output_type'] = 'display_data';\n",
              "          await google.colab.output.renderOutput(dataTable, element);\n",
              "          const docLink = document.createElement('div');\n",
              "          docLink.innerHTML = docLinkHtml;\n",
              "          element.appendChild(docLink);\n",
              "        }\n",
              "      </script>\n",
              "    </div>\n",
              "  </div>\n",
              "  "
            ]
          },
          "metadata": {},
          "execution_count": 20
        }
      ]
    },
    {
      "cell_type": "markdown",
      "source": [
        "Dropping rent per size strange values."
      ],
      "metadata": {
        "id": "jCcfp1ne1GmR"
      }
    },
    {
      "cell_type": "code",
      "source": [
        "df['rent_per_size'] = df['rent'] / df['size_m2']"
      ],
      "metadata": {
        "id": "naItXgz3zjY9"
      },
      "execution_count": 21,
      "outputs": []
    },
    {
      "cell_type": "code",
      "source": [
        "df.loc[df['rent_per_size'] > 150]"
      ],
      "metadata": {
        "colab": {
          "base_uri": "https://localhost:8080/",
          "height": 489
        },
        "id": "tqG-IQjY0cuy",
        "outputId": "9b98b372-4eec-4ad4-9c7d-0e41773a9391"
      },
      "execution_count": 22,
      "outputs": [
        {
          "output_type": "execute_result",
          "data": {
            "text/plain": [
              "         rent  size_m2 property_type  bedrooms  suite  parking  \\\n",
              "53       2400       11  Apartamento        2.0    1.0      1.0   \n",
              "74      70900      121  Apartamento        4.0    2.0      NaN   \n",
              "319    191900       45  Apartamento        2.0    1.0      NaN   \n",
              "781    650000       47  Apartamento        2.0    1.0      NaN   \n",
              "1214   198000       50  Apartamento        2.0    1.0      NaN   \n",
              "1294   285000       55  Apartamento        2.0    NaN      NaN   \n",
              "1546   249000      200       Kitnet        6.0    NaN      NaN   \n",
              "1973   350000       35       Kitnet        8.0    NaN      NaN   \n",
              "2221   220000       54  Apartamento        2.0    NaN      NaN   \n",
              "2928   290000       44  Apartamento        1.0    NaN      NaN   \n",
              "3416  2250000      154  Apartamento        4.0    4.0      3.0   \n",
              "3565   240000       30       Kitnet        1.0    1.0      1.0   \n",
              "3622   180000       30       Kitnet        1.0    1.0      NaN   \n",
              "3678  3850000      150  Apartamento        3.0    1.0      NaN   \n",
              "\n",
              "             neighborhood  rent_per_size  \n",
              "53           AGUAS CLARAS     218.181818  \n",
              "74       SETOR INDUSTRIAL     585.950413  \n",
              "319      RECANTO DAS EMAS    4264.444444  \n",
              "781              PARK SUL   13829.787234  \n",
              "1214            SAMAMBAIA    3960.000000  \n",
              "1294           SOBRADINHO    5181.818182  \n",
              "1546            CEILANDIA    1245.000000  \n",
              "1973            CEILANDIA   10000.000000  \n",
              "2221   NUCLEO BANDEIRANTE    4074.074074  \n",
              "2928            ASA NORTE    6590.909091  \n",
              "3416             PARK SUL   14610.389610  \n",
              "3565            ASA NORTE    8000.000000  \n",
              "3622           LAGO NORTE    6000.000000  \n",
              "3678              ASA SUL   25666.666667  "
            ],
            "text/html": [
              "\n",
              "  <div id=\"df-bd603bb3-2e70-4130-b7d6-cb4c6ba95d3a\">\n",
              "    <div class=\"colab-df-container\">\n",
              "      <div>\n",
              "<style scoped>\n",
              "    .dataframe tbody tr th:only-of-type {\n",
              "        vertical-align: middle;\n",
              "    }\n",
              "\n",
              "    .dataframe tbody tr th {\n",
              "        vertical-align: top;\n",
              "    }\n",
              "\n",
              "    .dataframe thead th {\n",
              "        text-align: right;\n",
              "    }\n",
              "</style>\n",
              "<table border=\"1\" class=\"dataframe\">\n",
              "  <thead>\n",
              "    <tr style=\"text-align: right;\">\n",
              "      <th></th>\n",
              "      <th>rent</th>\n",
              "      <th>size_m2</th>\n",
              "      <th>property_type</th>\n",
              "      <th>bedrooms</th>\n",
              "      <th>suite</th>\n",
              "      <th>parking</th>\n",
              "      <th>neighborhood</th>\n",
              "      <th>rent_per_size</th>\n",
              "    </tr>\n",
              "  </thead>\n",
              "  <tbody>\n",
              "    <tr>\n",
              "      <th>53</th>\n",
              "      <td>2400</td>\n",
              "      <td>11</td>\n",
              "      <td>Apartamento</td>\n",
              "      <td>2.0</td>\n",
              "      <td>1.0</td>\n",
              "      <td>1.0</td>\n",
              "      <td>AGUAS CLARAS</td>\n",
              "      <td>218.181818</td>\n",
              "    </tr>\n",
              "    <tr>\n",
              "      <th>74</th>\n",
              "      <td>70900</td>\n",
              "      <td>121</td>\n",
              "      <td>Apartamento</td>\n",
              "      <td>4.0</td>\n",
              "      <td>2.0</td>\n",
              "      <td>NaN</td>\n",
              "      <td>SETOR INDUSTRIAL</td>\n",
              "      <td>585.950413</td>\n",
              "    </tr>\n",
              "    <tr>\n",
              "      <th>319</th>\n",
              "      <td>191900</td>\n",
              "      <td>45</td>\n",
              "      <td>Apartamento</td>\n",
              "      <td>2.0</td>\n",
              "      <td>1.0</td>\n",
              "      <td>NaN</td>\n",
              "      <td>RECANTO DAS EMAS</td>\n",
              "      <td>4264.444444</td>\n",
              "    </tr>\n",
              "    <tr>\n",
              "      <th>781</th>\n",
              "      <td>650000</td>\n",
              "      <td>47</td>\n",
              "      <td>Apartamento</td>\n",
              "      <td>2.0</td>\n",
              "      <td>1.0</td>\n",
              "      <td>NaN</td>\n",
              "      <td>PARK SUL</td>\n",
              "      <td>13829.787234</td>\n",
              "    </tr>\n",
              "    <tr>\n",
              "      <th>1214</th>\n",
              "      <td>198000</td>\n",
              "      <td>50</td>\n",
              "      <td>Apartamento</td>\n",
              "      <td>2.0</td>\n",
              "      <td>1.0</td>\n",
              "      <td>NaN</td>\n",
              "      <td>SAMAMBAIA</td>\n",
              "      <td>3960.000000</td>\n",
              "    </tr>\n",
              "    <tr>\n",
              "      <th>1294</th>\n",
              "      <td>285000</td>\n",
              "      <td>55</td>\n",
              "      <td>Apartamento</td>\n",
              "      <td>2.0</td>\n",
              "      <td>NaN</td>\n",
              "      <td>NaN</td>\n",
              "      <td>SOBRADINHO</td>\n",
              "      <td>5181.818182</td>\n",
              "    </tr>\n",
              "    <tr>\n",
              "      <th>1546</th>\n",
              "      <td>249000</td>\n",
              "      <td>200</td>\n",
              "      <td>Kitnet</td>\n",
              "      <td>6.0</td>\n",
              "      <td>NaN</td>\n",
              "      <td>NaN</td>\n",
              "      <td>CEILANDIA</td>\n",
              "      <td>1245.000000</td>\n",
              "    </tr>\n",
              "    <tr>\n",
              "      <th>1973</th>\n",
              "      <td>350000</td>\n",
              "      <td>35</td>\n",
              "      <td>Kitnet</td>\n",
              "      <td>8.0</td>\n",
              "      <td>NaN</td>\n",
              "      <td>NaN</td>\n",
              "      <td>CEILANDIA</td>\n",
              "      <td>10000.000000</td>\n",
              "    </tr>\n",
              "    <tr>\n",
              "      <th>2221</th>\n",
              "      <td>220000</td>\n",
              "      <td>54</td>\n",
              "      <td>Apartamento</td>\n",
              "      <td>2.0</td>\n",
              "      <td>NaN</td>\n",
              "      <td>NaN</td>\n",
              "      <td>NUCLEO BANDEIRANTE</td>\n",
              "      <td>4074.074074</td>\n",
              "    </tr>\n",
              "    <tr>\n",
              "      <th>2928</th>\n",
              "      <td>290000</td>\n",
              "      <td>44</td>\n",
              "      <td>Apartamento</td>\n",
              "      <td>1.0</td>\n",
              "      <td>NaN</td>\n",
              "      <td>NaN</td>\n",
              "      <td>ASA NORTE</td>\n",
              "      <td>6590.909091</td>\n",
              "    </tr>\n",
              "    <tr>\n",
              "      <th>3416</th>\n",
              "      <td>2250000</td>\n",
              "      <td>154</td>\n",
              "      <td>Apartamento</td>\n",
              "      <td>4.0</td>\n",
              "      <td>4.0</td>\n",
              "      <td>3.0</td>\n",
              "      <td>PARK SUL</td>\n",
              "      <td>14610.389610</td>\n",
              "    </tr>\n",
              "    <tr>\n",
              "      <th>3565</th>\n",
              "      <td>240000</td>\n",
              "      <td>30</td>\n",
              "      <td>Kitnet</td>\n",
              "      <td>1.0</td>\n",
              "      <td>1.0</td>\n",
              "      <td>1.0</td>\n",
              "      <td>ASA NORTE</td>\n",
              "      <td>8000.000000</td>\n",
              "    </tr>\n",
              "    <tr>\n",
              "      <th>3622</th>\n",
              "      <td>180000</td>\n",
              "      <td>30</td>\n",
              "      <td>Kitnet</td>\n",
              "      <td>1.0</td>\n",
              "      <td>1.0</td>\n",
              "      <td>NaN</td>\n",
              "      <td>LAGO NORTE</td>\n",
              "      <td>6000.000000</td>\n",
              "    </tr>\n",
              "    <tr>\n",
              "      <th>3678</th>\n",
              "      <td>3850000</td>\n",
              "      <td>150</td>\n",
              "      <td>Apartamento</td>\n",
              "      <td>3.0</td>\n",
              "      <td>1.0</td>\n",
              "      <td>NaN</td>\n",
              "      <td>ASA SUL</td>\n",
              "      <td>25666.666667</td>\n",
              "    </tr>\n",
              "  </tbody>\n",
              "</table>\n",
              "</div>\n",
              "      <button class=\"colab-df-convert\" onclick=\"convertToInteractive('df-bd603bb3-2e70-4130-b7d6-cb4c6ba95d3a')\"\n",
              "              title=\"Convert this dataframe to an interactive table.\"\n",
              "              style=\"display:none;\">\n",
              "        \n",
              "  <svg xmlns=\"http://www.w3.org/2000/svg\" height=\"24px\"viewBox=\"0 0 24 24\"\n",
              "       width=\"24px\">\n",
              "    <path d=\"M0 0h24v24H0V0z\" fill=\"none\"/>\n",
              "    <path d=\"M18.56 5.44l.94 2.06.94-2.06 2.06-.94-2.06-.94-.94-2.06-.94 2.06-2.06.94zm-11 1L8.5 8.5l.94-2.06 2.06-.94-2.06-.94L8.5 2.5l-.94 2.06-2.06.94zm10 10l.94 2.06.94-2.06 2.06-.94-2.06-.94-.94-2.06-.94 2.06-2.06.94z\"/><path d=\"M17.41 7.96l-1.37-1.37c-.4-.4-.92-.59-1.43-.59-.52 0-1.04.2-1.43.59L10.3 9.45l-7.72 7.72c-.78.78-.78 2.05 0 2.83L4 21.41c.39.39.9.59 1.41.59.51 0 1.02-.2 1.41-.59l7.78-7.78 2.81-2.81c.8-.78.8-2.07 0-2.86zM5.41 20L4 18.59l7.72-7.72 1.47 1.35L5.41 20z\"/>\n",
              "  </svg>\n",
              "      </button>\n",
              "      \n",
              "  <style>\n",
              "    .colab-df-container {\n",
              "      display:flex;\n",
              "      flex-wrap:wrap;\n",
              "      gap: 12px;\n",
              "    }\n",
              "\n",
              "    .colab-df-convert {\n",
              "      background-color: #E8F0FE;\n",
              "      border: none;\n",
              "      border-radius: 50%;\n",
              "      cursor: pointer;\n",
              "      display: none;\n",
              "      fill: #1967D2;\n",
              "      height: 32px;\n",
              "      padding: 0 0 0 0;\n",
              "      width: 32px;\n",
              "    }\n",
              "\n",
              "    .colab-df-convert:hover {\n",
              "      background-color: #E2EBFA;\n",
              "      box-shadow: 0px 1px 2px rgba(60, 64, 67, 0.3), 0px 1px 3px 1px rgba(60, 64, 67, 0.15);\n",
              "      fill: #174EA6;\n",
              "    }\n",
              "\n",
              "    [theme=dark] .colab-df-convert {\n",
              "      background-color: #3B4455;\n",
              "      fill: #D2E3FC;\n",
              "    }\n",
              "\n",
              "    [theme=dark] .colab-df-convert:hover {\n",
              "      background-color: #434B5C;\n",
              "      box-shadow: 0px 1px 3px 1px rgba(0, 0, 0, 0.15);\n",
              "      filter: drop-shadow(0px 1px 2px rgba(0, 0, 0, 0.3));\n",
              "      fill: #FFFFFF;\n",
              "    }\n",
              "  </style>\n",
              "\n",
              "      <script>\n",
              "        const buttonEl =\n",
              "          document.querySelector('#df-bd603bb3-2e70-4130-b7d6-cb4c6ba95d3a button.colab-df-convert');\n",
              "        buttonEl.style.display =\n",
              "          google.colab.kernel.accessAllowed ? 'block' : 'none';\n",
              "\n",
              "        async function convertToInteractive(key) {\n",
              "          const element = document.querySelector('#df-bd603bb3-2e70-4130-b7d6-cb4c6ba95d3a');\n",
              "          const dataTable =\n",
              "            await google.colab.kernel.invokeFunction('convertToInteractive',\n",
              "                                                     [key], {});\n",
              "          if (!dataTable) return;\n",
              "\n",
              "          const docLinkHtml = 'Like what you see? Visit the ' +\n",
              "            '<a target=\"_blank\" href=https://colab.research.google.com/notebooks/data_table.ipynb>data table notebook</a>'\n",
              "            + ' to learn more about interactive tables.';\n",
              "          element.innerHTML = '';\n",
              "          dataTable['output_type'] = 'display_data';\n",
              "          await google.colab.output.renderOutput(dataTable, element);\n",
              "          const docLink = document.createElement('div');\n",
              "          docLink.innerHTML = docLinkHtml;\n",
              "          element.appendChild(docLink);\n",
              "        }\n",
              "      </script>\n",
              "    </div>\n",
              "  </div>\n",
              "  "
            ]
          },
          "metadata": {},
          "execution_count": 22
        }
      ]
    },
    {
      "cell_type": "code",
      "source": [
        "df = df[df.rent_per_size < 1100]"
      ],
      "metadata": {
        "id": "nbwaNYdA1g1J"
      },
      "execution_count": 23,
      "outputs": []
    },
    {
      "cell_type": "code",
      "source": [
        "df.loc[df['rent_per_size'] < 10]"
      ],
      "metadata": {
        "colab": {
          "base_uri": "https://localhost:8080/",
          "height": 489
        },
        "id": "dQgvlrVS1y_j",
        "outputId": "3590dec4-4e8d-4e0d-8cd6-1b8495b6dadf"
      },
      "execution_count": 24,
      "outputs": [
        {
          "output_type": "execute_result",
          "data": {
            "text/plain": [
              "      rent  size_m2 property_type  bedrooms  suite  parking  \\\n",
              "736    800      630       Kitnet        1.0    1.0      NaN   \n",
              "803   1000      110  Apartamento        3.0    1.0      1.0   \n",
              "1210  1000      200  Apartamento        2.0    NaN      NaN   \n",
              "1639   420       45  Apartamento        1.0    NaN      NaN   \n",
              "1653   500       60  Apartamento        1.0    NaN      NaN   \n",
              "2126  1000      200  Apartamento        2.0    NaN      NaN   \n",
              "2336   950      157  Apartamento        1.0    NaN      NaN   \n",
              "2760   550       56  Apartamento        2.0    NaN      NaN   \n",
              "2986   420       50  Apartamento        1.0    NaN      NaN   \n",
              "3063   420       50  Apartamento        1.0    NaN      NaN   \n",
              "3072   380       50  Apartamento        1.0    NaN      NaN   \n",
              "3324   850      100  Apartamento        3.0    1.0      NaN   \n",
              "3433   550       60  Apartamento        2.0    NaN      NaN   \n",
              "3586   380       40  Apartamento        1.0    NaN      NaN   \n",
              "\n",
              "              neighborhood  rent_per_size  \n",
              "736              ASA NORTE       1.269841  \n",
              "803             PLANALTINA       9.090909  \n",
              "1210         SAO SEBASTIAO       5.000000  \n",
              "1639             CEILANDIA       9.333333  \n",
              "1653    NUCLEO BANDEIRANTE       8.333333  \n",
              "2126         SAO SEBASTIAO       5.000000  \n",
              "2336            TAGUATINGA       6.050955  \n",
              "2760   VALPARAISO DE GOIAS       9.821429  \n",
              "2986             SAMAMBAIA       8.400000  \n",
              "3063             SAMAMBAIA       8.400000  \n",
              "3072             SAMAMBAIA       7.600000  \n",
              "3324             CEILANDIA       8.500000  \n",
              "3433                  GAMA       9.166667  \n",
              "3586             SAMAMBAIA       9.500000  "
            ],
            "text/html": [
              "\n",
              "  <div id=\"df-7ed8fa57-b2d5-4a34-a944-2db5597117dc\">\n",
              "    <div class=\"colab-df-container\">\n",
              "      <div>\n",
              "<style scoped>\n",
              "    .dataframe tbody tr th:only-of-type {\n",
              "        vertical-align: middle;\n",
              "    }\n",
              "\n",
              "    .dataframe tbody tr th {\n",
              "        vertical-align: top;\n",
              "    }\n",
              "\n",
              "    .dataframe thead th {\n",
              "        text-align: right;\n",
              "    }\n",
              "</style>\n",
              "<table border=\"1\" class=\"dataframe\">\n",
              "  <thead>\n",
              "    <tr style=\"text-align: right;\">\n",
              "      <th></th>\n",
              "      <th>rent</th>\n",
              "      <th>size_m2</th>\n",
              "      <th>property_type</th>\n",
              "      <th>bedrooms</th>\n",
              "      <th>suite</th>\n",
              "      <th>parking</th>\n",
              "      <th>neighborhood</th>\n",
              "      <th>rent_per_size</th>\n",
              "    </tr>\n",
              "  </thead>\n",
              "  <tbody>\n",
              "    <tr>\n",
              "      <th>736</th>\n",
              "      <td>800</td>\n",
              "      <td>630</td>\n",
              "      <td>Kitnet</td>\n",
              "      <td>1.0</td>\n",
              "      <td>1.0</td>\n",
              "      <td>NaN</td>\n",
              "      <td>ASA NORTE</td>\n",
              "      <td>1.269841</td>\n",
              "    </tr>\n",
              "    <tr>\n",
              "      <th>803</th>\n",
              "      <td>1000</td>\n",
              "      <td>110</td>\n",
              "      <td>Apartamento</td>\n",
              "      <td>3.0</td>\n",
              "      <td>1.0</td>\n",
              "      <td>1.0</td>\n",
              "      <td>PLANALTINA</td>\n",
              "      <td>9.090909</td>\n",
              "    </tr>\n",
              "    <tr>\n",
              "      <th>1210</th>\n",
              "      <td>1000</td>\n",
              "      <td>200</td>\n",
              "      <td>Apartamento</td>\n",
              "      <td>2.0</td>\n",
              "      <td>NaN</td>\n",
              "      <td>NaN</td>\n",
              "      <td>SAO SEBASTIAO</td>\n",
              "      <td>5.000000</td>\n",
              "    </tr>\n",
              "    <tr>\n",
              "      <th>1639</th>\n",
              "      <td>420</td>\n",
              "      <td>45</td>\n",
              "      <td>Apartamento</td>\n",
              "      <td>1.0</td>\n",
              "      <td>NaN</td>\n",
              "      <td>NaN</td>\n",
              "      <td>CEILANDIA</td>\n",
              "      <td>9.333333</td>\n",
              "    </tr>\n",
              "    <tr>\n",
              "      <th>1653</th>\n",
              "      <td>500</td>\n",
              "      <td>60</td>\n",
              "      <td>Apartamento</td>\n",
              "      <td>1.0</td>\n",
              "      <td>NaN</td>\n",
              "      <td>NaN</td>\n",
              "      <td>NUCLEO BANDEIRANTE</td>\n",
              "      <td>8.333333</td>\n",
              "    </tr>\n",
              "    <tr>\n",
              "      <th>2126</th>\n",
              "      <td>1000</td>\n",
              "      <td>200</td>\n",
              "      <td>Apartamento</td>\n",
              "      <td>2.0</td>\n",
              "      <td>NaN</td>\n",
              "      <td>NaN</td>\n",
              "      <td>SAO SEBASTIAO</td>\n",
              "      <td>5.000000</td>\n",
              "    </tr>\n",
              "    <tr>\n",
              "      <th>2336</th>\n",
              "      <td>950</td>\n",
              "      <td>157</td>\n",
              "      <td>Apartamento</td>\n",
              "      <td>1.0</td>\n",
              "      <td>NaN</td>\n",
              "      <td>NaN</td>\n",
              "      <td>TAGUATINGA</td>\n",
              "      <td>6.050955</td>\n",
              "    </tr>\n",
              "    <tr>\n",
              "      <th>2760</th>\n",
              "      <td>550</td>\n",
              "      <td>56</td>\n",
              "      <td>Apartamento</td>\n",
              "      <td>2.0</td>\n",
              "      <td>NaN</td>\n",
              "      <td>NaN</td>\n",
              "      <td>VALPARAISO DE GOIAS</td>\n",
              "      <td>9.821429</td>\n",
              "    </tr>\n",
              "    <tr>\n",
              "      <th>2986</th>\n",
              "      <td>420</td>\n",
              "      <td>50</td>\n",
              "      <td>Apartamento</td>\n",
              "      <td>1.0</td>\n",
              "      <td>NaN</td>\n",
              "      <td>NaN</td>\n",
              "      <td>SAMAMBAIA</td>\n",
              "      <td>8.400000</td>\n",
              "    </tr>\n",
              "    <tr>\n",
              "      <th>3063</th>\n",
              "      <td>420</td>\n",
              "      <td>50</td>\n",
              "      <td>Apartamento</td>\n",
              "      <td>1.0</td>\n",
              "      <td>NaN</td>\n",
              "      <td>NaN</td>\n",
              "      <td>SAMAMBAIA</td>\n",
              "      <td>8.400000</td>\n",
              "    </tr>\n",
              "    <tr>\n",
              "      <th>3072</th>\n",
              "      <td>380</td>\n",
              "      <td>50</td>\n",
              "      <td>Apartamento</td>\n",
              "      <td>1.0</td>\n",
              "      <td>NaN</td>\n",
              "      <td>NaN</td>\n",
              "      <td>SAMAMBAIA</td>\n",
              "      <td>7.600000</td>\n",
              "    </tr>\n",
              "    <tr>\n",
              "      <th>3324</th>\n",
              "      <td>850</td>\n",
              "      <td>100</td>\n",
              "      <td>Apartamento</td>\n",
              "      <td>3.0</td>\n",
              "      <td>1.0</td>\n",
              "      <td>NaN</td>\n",
              "      <td>CEILANDIA</td>\n",
              "      <td>8.500000</td>\n",
              "    </tr>\n",
              "    <tr>\n",
              "      <th>3433</th>\n",
              "      <td>550</td>\n",
              "      <td>60</td>\n",
              "      <td>Apartamento</td>\n",
              "      <td>2.0</td>\n",
              "      <td>NaN</td>\n",
              "      <td>NaN</td>\n",
              "      <td>GAMA</td>\n",
              "      <td>9.166667</td>\n",
              "    </tr>\n",
              "    <tr>\n",
              "      <th>3586</th>\n",
              "      <td>380</td>\n",
              "      <td>40</td>\n",
              "      <td>Apartamento</td>\n",
              "      <td>1.0</td>\n",
              "      <td>NaN</td>\n",
              "      <td>NaN</td>\n",
              "      <td>SAMAMBAIA</td>\n",
              "      <td>9.500000</td>\n",
              "    </tr>\n",
              "  </tbody>\n",
              "</table>\n",
              "</div>\n",
              "      <button class=\"colab-df-convert\" onclick=\"convertToInteractive('df-7ed8fa57-b2d5-4a34-a944-2db5597117dc')\"\n",
              "              title=\"Convert this dataframe to an interactive table.\"\n",
              "              style=\"display:none;\">\n",
              "        \n",
              "  <svg xmlns=\"http://www.w3.org/2000/svg\" height=\"24px\"viewBox=\"0 0 24 24\"\n",
              "       width=\"24px\">\n",
              "    <path d=\"M0 0h24v24H0V0z\" fill=\"none\"/>\n",
              "    <path d=\"M18.56 5.44l.94 2.06.94-2.06 2.06-.94-2.06-.94-.94-2.06-.94 2.06-2.06.94zm-11 1L8.5 8.5l.94-2.06 2.06-.94-2.06-.94L8.5 2.5l-.94 2.06-2.06.94zm10 10l.94 2.06.94-2.06 2.06-.94-2.06-.94-.94-2.06-.94 2.06-2.06.94z\"/><path d=\"M17.41 7.96l-1.37-1.37c-.4-.4-.92-.59-1.43-.59-.52 0-1.04.2-1.43.59L10.3 9.45l-7.72 7.72c-.78.78-.78 2.05 0 2.83L4 21.41c.39.39.9.59 1.41.59.51 0 1.02-.2 1.41-.59l7.78-7.78 2.81-2.81c.8-.78.8-2.07 0-2.86zM5.41 20L4 18.59l7.72-7.72 1.47 1.35L5.41 20z\"/>\n",
              "  </svg>\n",
              "      </button>\n",
              "      \n",
              "  <style>\n",
              "    .colab-df-container {\n",
              "      display:flex;\n",
              "      flex-wrap:wrap;\n",
              "      gap: 12px;\n",
              "    }\n",
              "\n",
              "    .colab-df-convert {\n",
              "      background-color: #E8F0FE;\n",
              "      border: none;\n",
              "      border-radius: 50%;\n",
              "      cursor: pointer;\n",
              "      display: none;\n",
              "      fill: #1967D2;\n",
              "      height: 32px;\n",
              "      padding: 0 0 0 0;\n",
              "      width: 32px;\n",
              "    }\n",
              "\n",
              "    .colab-df-convert:hover {\n",
              "      background-color: #E2EBFA;\n",
              "      box-shadow: 0px 1px 2px rgba(60, 64, 67, 0.3), 0px 1px 3px 1px rgba(60, 64, 67, 0.15);\n",
              "      fill: #174EA6;\n",
              "    }\n",
              "\n",
              "    [theme=dark] .colab-df-convert {\n",
              "      background-color: #3B4455;\n",
              "      fill: #D2E3FC;\n",
              "    }\n",
              "\n",
              "    [theme=dark] .colab-df-convert:hover {\n",
              "      background-color: #434B5C;\n",
              "      box-shadow: 0px 1px 3px 1px rgba(0, 0, 0, 0.15);\n",
              "      filter: drop-shadow(0px 1px 2px rgba(0, 0, 0, 0.3));\n",
              "      fill: #FFFFFF;\n",
              "    }\n",
              "  </style>\n",
              "\n",
              "      <script>\n",
              "        const buttonEl =\n",
              "          document.querySelector('#df-7ed8fa57-b2d5-4a34-a944-2db5597117dc button.colab-df-convert');\n",
              "        buttonEl.style.display =\n",
              "          google.colab.kernel.accessAllowed ? 'block' : 'none';\n",
              "\n",
              "        async function convertToInteractive(key) {\n",
              "          const element = document.querySelector('#df-7ed8fa57-b2d5-4a34-a944-2db5597117dc');\n",
              "          const dataTable =\n",
              "            await google.colab.kernel.invokeFunction('convertToInteractive',\n",
              "                                                     [key], {});\n",
              "          if (!dataTable) return;\n",
              "\n",
              "          const docLinkHtml = 'Like what you see? Visit the ' +\n",
              "            '<a target=\"_blank\" href=https://colab.research.google.com/notebooks/data_table.ipynb>data table notebook</a>'\n",
              "            + ' to learn more about interactive tables.';\n",
              "          element.innerHTML = '';\n",
              "          dataTable['output_type'] = 'display_data';\n",
              "          await google.colab.output.renderOutput(dataTable, element);\n",
              "          const docLink = document.createElement('div');\n",
              "          docLink.innerHTML = docLinkHtml;\n",
              "          element.appendChild(docLink);\n",
              "        }\n",
              "      </script>\n",
              "    </div>\n",
              "  </div>\n",
              "  "
            ]
          },
          "metadata": {},
          "execution_count": 24
        }
      ]
    },
    {
      "cell_type": "code",
      "source": [
        "df = df[df.rent_per_size > 6]"
      ],
      "metadata": {
        "id": "cZeOsL7u2GhC"
      },
      "execution_count": 25,
      "outputs": []
    },
    {
      "cell_type": "code",
      "source": [
        "df.describe()"
      ],
      "metadata": {
        "colab": {
          "base_uri": "https://localhost:8080/",
          "height": 300
        },
        "id": "7cs_xAKv1n_i",
        "outputId": "d921f9e8-aaf6-4beb-8313-be2df078698d"
      },
      "execution_count": 26,
      "outputs": [
        {
          "output_type": "execute_result",
          "data": {
            "text/plain": [
              "               rent      size_m2     bedrooms        suite      parking  \\\n",
              "count   3701.000000  3701.000000  3696.000000  2501.000000  1332.000000   \n",
              "mean    2442.732775    64.802486     1.838474     1.136745     1.346096   \n",
              "std     2684.682067    46.256198     1.077833     0.474651     0.698528   \n",
              "min      350.000000    11.000000     1.000000     1.000000     1.000000   \n",
              "25%     1000.000000    34.000000     1.000000     1.000000     1.000000   \n",
              "50%     1600.000000    51.000000     2.000000     1.000000     1.000000   \n",
              "75%     3000.000000    76.000000     2.000000     1.000000     2.000000   \n",
              "max    70900.000000   900.000000    38.000000     4.000000    10.000000   \n",
              "\n",
              "       rent_per_size  \n",
              "count    3701.000000  \n",
              "mean       36.835569  \n",
              "std        20.059123  \n",
              "min         6.050955  \n",
              "25%        25.000000  \n",
              "50%        34.090909  \n",
              "75%        43.970588  \n",
              "max       585.950413  "
            ],
            "text/html": [
              "\n",
              "  <div id=\"df-c8217cdf-c2f4-4c2c-ad1b-c959884eae17\">\n",
              "    <div class=\"colab-df-container\">\n",
              "      <div>\n",
              "<style scoped>\n",
              "    .dataframe tbody tr th:only-of-type {\n",
              "        vertical-align: middle;\n",
              "    }\n",
              "\n",
              "    .dataframe tbody tr th {\n",
              "        vertical-align: top;\n",
              "    }\n",
              "\n",
              "    .dataframe thead th {\n",
              "        text-align: right;\n",
              "    }\n",
              "</style>\n",
              "<table border=\"1\" class=\"dataframe\">\n",
              "  <thead>\n",
              "    <tr style=\"text-align: right;\">\n",
              "      <th></th>\n",
              "      <th>rent</th>\n",
              "      <th>size_m2</th>\n",
              "      <th>bedrooms</th>\n",
              "      <th>suite</th>\n",
              "      <th>parking</th>\n",
              "      <th>rent_per_size</th>\n",
              "    </tr>\n",
              "  </thead>\n",
              "  <tbody>\n",
              "    <tr>\n",
              "      <th>count</th>\n",
              "      <td>3701.000000</td>\n",
              "      <td>3701.000000</td>\n",
              "      <td>3696.000000</td>\n",
              "      <td>2501.000000</td>\n",
              "      <td>1332.000000</td>\n",
              "      <td>3701.000000</td>\n",
              "    </tr>\n",
              "    <tr>\n",
              "      <th>mean</th>\n",
              "      <td>2442.732775</td>\n",
              "      <td>64.802486</td>\n",
              "      <td>1.838474</td>\n",
              "      <td>1.136745</td>\n",
              "      <td>1.346096</td>\n",
              "      <td>36.835569</td>\n",
              "    </tr>\n",
              "    <tr>\n",
              "      <th>std</th>\n",
              "      <td>2684.682067</td>\n",
              "      <td>46.256198</td>\n",
              "      <td>1.077833</td>\n",
              "      <td>0.474651</td>\n",
              "      <td>0.698528</td>\n",
              "      <td>20.059123</td>\n",
              "    </tr>\n",
              "    <tr>\n",
              "      <th>min</th>\n",
              "      <td>350.000000</td>\n",
              "      <td>11.000000</td>\n",
              "      <td>1.000000</td>\n",
              "      <td>1.000000</td>\n",
              "      <td>1.000000</td>\n",
              "      <td>6.050955</td>\n",
              "    </tr>\n",
              "    <tr>\n",
              "      <th>25%</th>\n",
              "      <td>1000.000000</td>\n",
              "      <td>34.000000</td>\n",
              "      <td>1.000000</td>\n",
              "      <td>1.000000</td>\n",
              "      <td>1.000000</td>\n",
              "      <td>25.000000</td>\n",
              "    </tr>\n",
              "    <tr>\n",
              "      <th>50%</th>\n",
              "      <td>1600.000000</td>\n",
              "      <td>51.000000</td>\n",
              "      <td>2.000000</td>\n",
              "      <td>1.000000</td>\n",
              "      <td>1.000000</td>\n",
              "      <td>34.090909</td>\n",
              "    </tr>\n",
              "    <tr>\n",
              "      <th>75%</th>\n",
              "      <td>3000.000000</td>\n",
              "      <td>76.000000</td>\n",
              "      <td>2.000000</td>\n",
              "      <td>1.000000</td>\n",
              "      <td>2.000000</td>\n",
              "      <td>43.970588</td>\n",
              "    </tr>\n",
              "    <tr>\n",
              "      <th>max</th>\n",
              "      <td>70900.000000</td>\n",
              "      <td>900.000000</td>\n",
              "      <td>38.000000</td>\n",
              "      <td>4.000000</td>\n",
              "      <td>10.000000</td>\n",
              "      <td>585.950413</td>\n",
              "    </tr>\n",
              "  </tbody>\n",
              "</table>\n",
              "</div>\n",
              "      <button class=\"colab-df-convert\" onclick=\"convertToInteractive('df-c8217cdf-c2f4-4c2c-ad1b-c959884eae17')\"\n",
              "              title=\"Convert this dataframe to an interactive table.\"\n",
              "              style=\"display:none;\">\n",
              "        \n",
              "  <svg xmlns=\"http://www.w3.org/2000/svg\" height=\"24px\"viewBox=\"0 0 24 24\"\n",
              "       width=\"24px\">\n",
              "    <path d=\"M0 0h24v24H0V0z\" fill=\"none\"/>\n",
              "    <path d=\"M18.56 5.44l.94 2.06.94-2.06 2.06-.94-2.06-.94-.94-2.06-.94 2.06-2.06.94zm-11 1L8.5 8.5l.94-2.06 2.06-.94-2.06-.94L8.5 2.5l-.94 2.06-2.06.94zm10 10l.94 2.06.94-2.06 2.06-.94-2.06-.94-.94-2.06-.94 2.06-2.06.94z\"/><path d=\"M17.41 7.96l-1.37-1.37c-.4-.4-.92-.59-1.43-.59-.52 0-1.04.2-1.43.59L10.3 9.45l-7.72 7.72c-.78.78-.78 2.05 0 2.83L4 21.41c.39.39.9.59 1.41.59.51 0 1.02-.2 1.41-.59l7.78-7.78 2.81-2.81c.8-.78.8-2.07 0-2.86zM5.41 20L4 18.59l7.72-7.72 1.47 1.35L5.41 20z\"/>\n",
              "  </svg>\n",
              "      </button>\n",
              "      \n",
              "  <style>\n",
              "    .colab-df-container {\n",
              "      display:flex;\n",
              "      flex-wrap:wrap;\n",
              "      gap: 12px;\n",
              "    }\n",
              "\n",
              "    .colab-df-convert {\n",
              "      background-color: #E8F0FE;\n",
              "      border: none;\n",
              "      border-radius: 50%;\n",
              "      cursor: pointer;\n",
              "      display: none;\n",
              "      fill: #1967D2;\n",
              "      height: 32px;\n",
              "      padding: 0 0 0 0;\n",
              "      width: 32px;\n",
              "    }\n",
              "\n",
              "    .colab-df-convert:hover {\n",
              "      background-color: #E2EBFA;\n",
              "      box-shadow: 0px 1px 2px rgba(60, 64, 67, 0.3), 0px 1px 3px 1px rgba(60, 64, 67, 0.15);\n",
              "      fill: #174EA6;\n",
              "    }\n",
              "\n",
              "    [theme=dark] .colab-df-convert {\n",
              "      background-color: #3B4455;\n",
              "      fill: #D2E3FC;\n",
              "    }\n",
              "\n",
              "    [theme=dark] .colab-df-convert:hover {\n",
              "      background-color: #434B5C;\n",
              "      box-shadow: 0px 1px 3px 1px rgba(0, 0, 0, 0.15);\n",
              "      filter: drop-shadow(0px 1px 2px rgba(0, 0, 0, 0.3));\n",
              "      fill: #FFFFFF;\n",
              "    }\n",
              "  </style>\n",
              "\n",
              "      <script>\n",
              "        const buttonEl =\n",
              "          document.querySelector('#df-c8217cdf-c2f4-4c2c-ad1b-c959884eae17 button.colab-df-convert');\n",
              "        buttonEl.style.display =\n",
              "          google.colab.kernel.accessAllowed ? 'block' : 'none';\n",
              "\n",
              "        async function convertToInteractive(key) {\n",
              "          const element = document.querySelector('#df-c8217cdf-c2f4-4c2c-ad1b-c959884eae17');\n",
              "          const dataTable =\n",
              "            await google.colab.kernel.invokeFunction('convertToInteractive',\n",
              "                                                     [key], {});\n",
              "          if (!dataTable) return;\n",
              "\n",
              "          const docLinkHtml = 'Like what you see? Visit the ' +\n",
              "            '<a target=\"_blank\" href=https://colab.research.google.com/notebooks/data_table.ipynb>data table notebook</a>'\n",
              "            + ' to learn more about interactive tables.';\n",
              "          element.innerHTML = '';\n",
              "          dataTable['output_type'] = 'display_data';\n",
              "          await google.colab.output.renderOutput(dataTable, element);\n",
              "          const docLink = document.createElement('div');\n",
              "          docLink.innerHTML = docLinkHtml;\n",
              "          element.appendChild(docLink);\n",
              "        }\n",
              "      </script>\n",
              "    </div>\n",
              "  </div>\n",
              "  "
            ]
          },
          "metadata": {},
          "execution_count": 26
        }
      ]
    },
    {
      "cell_type": "markdown",
      "source": [
        "Checking strange bedrooms value. Nulls will be filled with 0 (bedrooms, suites and parking)."
      ],
      "metadata": {
        "id": "H7bdXsyD23NJ"
      }
    },
    {
      "cell_type": "code",
      "source": [
        "df.info()"
      ],
      "metadata": {
        "colab": {
          "base_uri": "https://localhost:8080/"
        },
        "id": "rTOIYtkj_niY",
        "outputId": "e84ee7b0-edf8-464e-d73d-137d251fb72f"
      },
      "execution_count": 27,
      "outputs": [
        {
          "output_type": "stream",
          "name": "stdout",
          "text": [
            "<class 'pandas.core.frame.DataFrame'>\n",
            "Int64Index: 3701 entries, 0 to 3724\n",
            "Data columns (total 8 columns):\n",
            " #   Column         Non-Null Count  Dtype  \n",
            "---  ------         --------------  -----  \n",
            " 0   rent           3701 non-null   int32  \n",
            " 1   size_m2        3701 non-null   int64  \n",
            " 2   property_type  3701 non-null   object \n",
            " 3   bedrooms       3696 non-null   float64\n",
            " 4   suite          2501 non-null   float64\n",
            " 5   parking        1332 non-null   float64\n",
            " 6   neighborhood   3701 non-null   object \n",
            " 7   rent_per_size  3701 non-null   float64\n",
            "dtypes: float64(4), int32(1), int64(1), object(2)\n",
            "memory usage: 245.8+ KB\n"
          ]
        }
      ]
    },
    {
      "cell_type": "code",
      "source": [
        "df = df.fillna(0)"
      ],
      "metadata": {
        "id": "oOcOmeB5_0vB"
      },
      "execution_count": 28,
      "outputs": []
    },
    {
      "cell_type": "code",
      "source": [
        "df.info()"
      ],
      "metadata": {
        "colab": {
          "base_uri": "https://localhost:8080/"
        },
        "id": "ndSEqykB_0IO",
        "outputId": "39ace21c-e5bd-4ee0-a4f0-def5dc56d02a"
      },
      "execution_count": 29,
      "outputs": [
        {
          "output_type": "stream",
          "name": "stdout",
          "text": [
            "<class 'pandas.core.frame.DataFrame'>\n",
            "Int64Index: 3701 entries, 0 to 3724\n",
            "Data columns (total 8 columns):\n",
            " #   Column         Non-Null Count  Dtype  \n",
            "---  ------         --------------  -----  \n",
            " 0   rent           3701 non-null   int32  \n",
            " 1   size_m2        3701 non-null   int64  \n",
            " 2   property_type  3701 non-null   object \n",
            " 3   bedrooms       3701 non-null   float64\n",
            " 4   suite          3701 non-null   float64\n",
            " 5   parking        3701 non-null   float64\n",
            " 6   neighborhood   3701 non-null   object \n",
            " 7   rent_per_size  3701 non-null   float64\n",
            "dtypes: float64(4), int32(1), int64(1), object(2)\n",
            "memory usage: 245.8+ KB\n"
          ]
        }
      ]
    },
    {
      "cell_type": "code",
      "source": [
        "df.loc[df['bedrooms'] > 5]"
      ],
      "metadata": {
        "colab": {
          "base_uri": "https://localhost:8080/",
          "height": 81
        },
        "id": "45QAorxU2jo0",
        "outputId": "2af59f32-d848-46b4-a135-56fc57530a4f"
      },
      "execution_count": 30,
      "outputs": [
        {
          "output_type": "execute_result",
          "data": {
            "text/plain": [
              "      rent  size_m2 property_type  bedrooms  suite  parking   neighborhood  \\\n",
              "3494  1500       38  Apartamento       38.0    1.0      0.0   AGUAS CLARAS   \n",
              "\n",
              "      rent_per_size  \n",
              "3494      39.473684  "
            ],
            "text/html": [
              "\n",
              "  <div id=\"df-8da711df-725b-4271-9c0c-6711e3f004a1\">\n",
              "    <div class=\"colab-df-container\">\n",
              "      <div>\n",
              "<style scoped>\n",
              "    .dataframe tbody tr th:only-of-type {\n",
              "        vertical-align: middle;\n",
              "    }\n",
              "\n",
              "    .dataframe tbody tr th {\n",
              "        vertical-align: top;\n",
              "    }\n",
              "\n",
              "    .dataframe thead th {\n",
              "        text-align: right;\n",
              "    }\n",
              "</style>\n",
              "<table border=\"1\" class=\"dataframe\">\n",
              "  <thead>\n",
              "    <tr style=\"text-align: right;\">\n",
              "      <th></th>\n",
              "      <th>rent</th>\n",
              "      <th>size_m2</th>\n",
              "      <th>property_type</th>\n",
              "      <th>bedrooms</th>\n",
              "      <th>suite</th>\n",
              "      <th>parking</th>\n",
              "      <th>neighborhood</th>\n",
              "      <th>rent_per_size</th>\n",
              "    </tr>\n",
              "  </thead>\n",
              "  <tbody>\n",
              "    <tr>\n",
              "      <th>3494</th>\n",
              "      <td>1500</td>\n",
              "      <td>38</td>\n",
              "      <td>Apartamento</td>\n",
              "      <td>38.0</td>\n",
              "      <td>1.0</td>\n",
              "      <td>0.0</td>\n",
              "      <td>AGUAS CLARAS</td>\n",
              "      <td>39.473684</td>\n",
              "    </tr>\n",
              "  </tbody>\n",
              "</table>\n",
              "</div>\n",
              "      <button class=\"colab-df-convert\" onclick=\"convertToInteractive('df-8da711df-725b-4271-9c0c-6711e3f004a1')\"\n",
              "              title=\"Convert this dataframe to an interactive table.\"\n",
              "              style=\"display:none;\">\n",
              "        \n",
              "  <svg xmlns=\"http://www.w3.org/2000/svg\" height=\"24px\"viewBox=\"0 0 24 24\"\n",
              "       width=\"24px\">\n",
              "    <path d=\"M0 0h24v24H0V0z\" fill=\"none\"/>\n",
              "    <path d=\"M18.56 5.44l.94 2.06.94-2.06 2.06-.94-2.06-.94-.94-2.06-.94 2.06-2.06.94zm-11 1L8.5 8.5l.94-2.06 2.06-.94-2.06-.94L8.5 2.5l-.94 2.06-2.06.94zm10 10l.94 2.06.94-2.06 2.06-.94-2.06-.94-.94-2.06-.94 2.06-2.06.94z\"/><path d=\"M17.41 7.96l-1.37-1.37c-.4-.4-.92-.59-1.43-.59-.52 0-1.04.2-1.43.59L10.3 9.45l-7.72 7.72c-.78.78-.78 2.05 0 2.83L4 21.41c.39.39.9.59 1.41.59.51 0 1.02-.2 1.41-.59l7.78-7.78 2.81-2.81c.8-.78.8-2.07 0-2.86zM5.41 20L4 18.59l7.72-7.72 1.47 1.35L5.41 20z\"/>\n",
              "  </svg>\n",
              "      </button>\n",
              "      \n",
              "  <style>\n",
              "    .colab-df-container {\n",
              "      display:flex;\n",
              "      flex-wrap:wrap;\n",
              "      gap: 12px;\n",
              "    }\n",
              "\n",
              "    .colab-df-convert {\n",
              "      background-color: #E8F0FE;\n",
              "      border: none;\n",
              "      border-radius: 50%;\n",
              "      cursor: pointer;\n",
              "      display: none;\n",
              "      fill: #1967D2;\n",
              "      height: 32px;\n",
              "      padding: 0 0 0 0;\n",
              "      width: 32px;\n",
              "    }\n",
              "\n",
              "    .colab-df-convert:hover {\n",
              "      background-color: #E2EBFA;\n",
              "      box-shadow: 0px 1px 2px rgba(60, 64, 67, 0.3), 0px 1px 3px 1px rgba(60, 64, 67, 0.15);\n",
              "      fill: #174EA6;\n",
              "    }\n",
              "\n",
              "    [theme=dark] .colab-df-convert {\n",
              "      background-color: #3B4455;\n",
              "      fill: #D2E3FC;\n",
              "    }\n",
              "\n",
              "    [theme=dark] .colab-df-convert:hover {\n",
              "      background-color: #434B5C;\n",
              "      box-shadow: 0px 1px 3px 1px rgba(0, 0, 0, 0.15);\n",
              "      filter: drop-shadow(0px 1px 2px rgba(0, 0, 0, 0.3));\n",
              "      fill: #FFFFFF;\n",
              "    }\n",
              "  </style>\n",
              "\n",
              "      <script>\n",
              "        const buttonEl =\n",
              "          document.querySelector('#df-8da711df-725b-4271-9c0c-6711e3f004a1 button.colab-df-convert');\n",
              "        buttonEl.style.display =\n",
              "          google.colab.kernel.accessAllowed ? 'block' : 'none';\n",
              "\n",
              "        async function convertToInteractive(key) {\n",
              "          const element = document.querySelector('#df-8da711df-725b-4271-9c0c-6711e3f004a1');\n",
              "          const dataTable =\n",
              "            await google.colab.kernel.invokeFunction('convertToInteractive',\n",
              "                                                     [key], {});\n",
              "          if (!dataTable) return;\n",
              "\n",
              "          const docLinkHtml = 'Like what you see? Visit the ' +\n",
              "            '<a target=\"_blank\" href=https://colab.research.google.com/notebooks/data_table.ipynb>data table notebook</a>'\n",
              "            + ' to learn more about interactive tables.';\n",
              "          element.innerHTML = '';\n",
              "          dataTable['output_type'] = 'display_data';\n",
              "          await google.colab.output.renderOutput(dataTable, element);\n",
              "          const docLink = document.createElement('div');\n",
              "          docLink.innerHTML = docLinkHtml;\n",
              "          element.appendChild(docLink);\n",
              "        }\n",
              "      </script>\n",
              "    </div>\n",
              "  </div>\n",
              "  "
            ]
          },
          "metadata": {},
          "execution_count": 30
        }
      ]
    },
    {
      "cell_type": "code",
      "source": [
        "df = df[df.bedrooms < 6]"
      ],
      "metadata": {
        "id": "y3GrPyBk2sEY"
      },
      "execution_count": 31,
      "outputs": []
    },
    {
      "cell_type": "code",
      "source": [
        "df.describe()"
      ],
      "metadata": {
        "colab": {
          "base_uri": "https://localhost:8080/",
          "height": 300
        },
        "id": "snXwC7tZ2zL8",
        "outputId": "aa8f3976-aa16-4f76-936e-d8705ba0d517"
      },
      "execution_count": 32,
      "outputs": [
        {
          "output_type": "execute_result",
          "data": {
            "text/plain": [
              "               rent     size_m2     bedrooms        suite      parking  \\\n",
              "count   3700.000000  3700.00000  3700.000000  3700.000000  3700.000000   \n",
              "mean    2442.987568    64.80973     1.826216     0.768108     0.484595   \n",
              "std     2685.000182    46.26035     0.900761     0.659949     0.770173   \n",
              "min      350.000000    11.00000     0.000000     0.000000     0.000000   \n",
              "25%     1000.000000    34.00000     1.000000     0.000000     0.000000   \n",
              "50%     1600.000000    51.00000     2.000000     1.000000     0.000000   \n",
              "75%     3000.000000    76.00000     2.000000     1.000000     1.000000   \n",
              "max    70900.000000   900.00000     5.000000     4.000000    10.000000   \n",
              "\n",
              "       rent_per_size  \n",
              "count    3700.000000  \n",
              "mean       36.834856  \n",
              "std        20.061788  \n",
              "min         6.050955  \n",
              "25%        25.000000  \n",
              "50%        34.090909  \n",
              "75%        43.970588  \n",
              "max       585.950413  "
            ],
            "text/html": [
              "\n",
              "  <div id=\"df-394a5ce9-ba44-45c1-a40d-d9e2cf45b65b\">\n",
              "    <div class=\"colab-df-container\">\n",
              "      <div>\n",
              "<style scoped>\n",
              "    .dataframe tbody tr th:only-of-type {\n",
              "        vertical-align: middle;\n",
              "    }\n",
              "\n",
              "    .dataframe tbody tr th {\n",
              "        vertical-align: top;\n",
              "    }\n",
              "\n",
              "    .dataframe thead th {\n",
              "        text-align: right;\n",
              "    }\n",
              "</style>\n",
              "<table border=\"1\" class=\"dataframe\">\n",
              "  <thead>\n",
              "    <tr style=\"text-align: right;\">\n",
              "      <th></th>\n",
              "      <th>rent</th>\n",
              "      <th>size_m2</th>\n",
              "      <th>bedrooms</th>\n",
              "      <th>suite</th>\n",
              "      <th>parking</th>\n",
              "      <th>rent_per_size</th>\n",
              "    </tr>\n",
              "  </thead>\n",
              "  <tbody>\n",
              "    <tr>\n",
              "      <th>count</th>\n",
              "      <td>3700.000000</td>\n",
              "      <td>3700.00000</td>\n",
              "      <td>3700.000000</td>\n",
              "      <td>3700.000000</td>\n",
              "      <td>3700.000000</td>\n",
              "      <td>3700.000000</td>\n",
              "    </tr>\n",
              "    <tr>\n",
              "      <th>mean</th>\n",
              "      <td>2442.987568</td>\n",
              "      <td>64.80973</td>\n",
              "      <td>1.826216</td>\n",
              "      <td>0.768108</td>\n",
              "      <td>0.484595</td>\n",
              "      <td>36.834856</td>\n",
              "    </tr>\n",
              "    <tr>\n",
              "      <th>std</th>\n",
              "      <td>2685.000182</td>\n",
              "      <td>46.26035</td>\n",
              "      <td>0.900761</td>\n",
              "      <td>0.659949</td>\n",
              "      <td>0.770173</td>\n",
              "      <td>20.061788</td>\n",
              "    </tr>\n",
              "    <tr>\n",
              "      <th>min</th>\n",
              "      <td>350.000000</td>\n",
              "      <td>11.00000</td>\n",
              "      <td>0.000000</td>\n",
              "      <td>0.000000</td>\n",
              "      <td>0.000000</td>\n",
              "      <td>6.050955</td>\n",
              "    </tr>\n",
              "    <tr>\n",
              "      <th>25%</th>\n",
              "      <td>1000.000000</td>\n",
              "      <td>34.00000</td>\n",
              "      <td>1.000000</td>\n",
              "      <td>0.000000</td>\n",
              "      <td>0.000000</td>\n",
              "      <td>25.000000</td>\n",
              "    </tr>\n",
              "    <tr>\n",
              "      <th>50%</th>\n",
              "      <td>1600.000000</td>\n",
              "      <td>51.00000</td>\n",
              "      <td>2.000000</td>\n",
              "      <td>1.000000</td>\n",
              "      <td>0.000000</td>\n",
              "      <td>34.090909</td>\n",
              "    </tr>\n",
              "    <tr>\n",
              "      <th>75%</th>\n",
              "      <td>3000.000000</td>\n",
              "      <td>76.00000</td>\n",
              "      <td>2.000000</td>\n",
              "      <td>1.000000</td>\n",
              "      <td>1.000000</td>\n",
              "      <td>43.970588</td>\n",
              "    </tr>\n",
              "    <tr>\n",
              "      <th>max</th>\n",
              "      <td>70900.000000</td>\n",
              "      <td>900.00000</td>\n",
              "      <td>5.000000</td>\n",
              "      <td>4.000000</td>\n",
              "      <td>10.000000</td>\n",
              "      <td>585.950413</td>\n",
              "    </tr>\n",
              "  </tbody>\n",
              "</table>\n",
              "</div>\n",
              "      <button class=\"colab-df-convert\" onclick=\"convertToInteractive('df-394a5ce9-ba44-45c1-a40d-d9e2cf45b65b')\"\n",
              "              title=\"Convert this dataframe to an interactive table.\"\n",
              "              style=\"display:none;\">\n",
              "        \n",
              "  <svg xmlns=\"http://www.w3.org/2000/svg\" height=\"24px\"viewBox=\"0 0 24 24\"\n",
              "       width=\"24px\">\n",
              "    <path d=\"M0 0h24v24H0V0z\" fill=\"none\"/>\n",
              "    <path d=\"M18.56 5.44l.94 2.06.94-2.06 2.06-.94-2.06-.94-.94-2.06-.94 2.06-2.06.94zm-11 1L8.5 8.5l.94-2.06 2.06-.94-2.06-.94L8.5 2.5l-.94 2.06-2.06.94zm10 10l.94 2.06.94-2.06 2.06-.94-2.06-.94-.94-2.06-.94 2.06-2.06.94z\"/><path d=\"M17.41 7.96l-1.37-1.37c-.4-.4-.92-.59-1.43-.59-.52 0-1.04.2-1.43.59L10.3 9.45l-7.72 7.72c-.78.78-.78 2.05 0 2.83L4 21.41c.39.39.9.59 1.41.59.51 0 1.02-.2 1.41-.59l7.78-7.78 2.81-2.81c.8-.78.8-2.07 0-2.86zM5.41 20L4 18.59l7.72-7.72 1.47 1.35L5.41 20z\"/>\n",
              "  </svg>\n",
              "      </button>\n",
              "      \n",
              "  <style>\n",
              "    .colab-df-container {\n",
              "      display:flex;\n",
              "      flex-wrap:wrap;\n",
              "      gap: 12px;\n",
              "    }\n",
              "\n",
              "    .colab-df-convert {\n",
              "      background-color: #E8F0FE;\n",
              "      border: none;\n",
              "      border-radius: 50%;\n",
              "      cursor: pointer;\n",
              "      display: none;\n",
              "      fill: #1967D2;\n",
              "      height: 32px;\n",
              "      padding: 0 0 0 0;\n",
              "      width: 32px;\n",
              "    }\n",
              "\n",
              "    .colab-df-convert:hover {\n",
              "      background-color: #E2EBFA;\n",
              "      box-shadow: 0px 1px 2px rgba(60, 64, 67, 0.3), 0px 1px 3px 1px rgba(60, 64, 67, 0.15);\n",
              "      fill: #174EA6;\n",
              "    }\n",
              "\n",
              "    [theme=dark] .colab-df-convert {\n",
              "      background-color: #3B4455;\n",
              "      fill: #D2E3FC;\n",
              "    }\n",
              "\n",
              "    [theme=dark] .colab-df-convert:hover {\n",
              "      background-color: #434B5C;\n",
              "      box-shadow: 0px 1px 3px 1px rgba(0, 0, 0, 0.15);\n",
              "      filter: drop-shadow(0px 1px 2px rgba(0, 0, 0, 0.3));\n",
              "      fill: #FFFFFF;\n",
              "    }\n",
              "  </style>\n",
              "\n",
              "      <script>\n",
              "        const buttonEl =\n",
              "          document.querySelector('#df-394a5ce9-ba44-45c1-a40d-d9e2cf45b65b button.colab-df-convert');\n",
              "        buttonEl.style.display =\n",
              "          google.colab.kernel.accessAllowed ? 'block' : 'none';\n",
              "\n",
              "        async function convertToInteractive(key) {\n",
              "          const element = document.querySelector('#df-394a5ce9-ba44-45c1-a40d-d9e2cf45b65b');\n",
              "          const dataTable =\n",
              "            await google.colab.kernel.invokeFunction('convertToInteractive',\n",
              "                                                     [key], {});\n",
              "          if (!dataTable) return;\n",
              "\n",
              "          const docLinkHtml = 'Like what you see? Visit the ' +\n",
              "            '<a target=\"_blank\" href=https://colab.research.google.com/notebooks/data_table.ipynb>data table notebook</a>'\n",
              "            + ' to learn more about interactive tables.';\n",
              "          element.innerHTML = '';\n",
              "          dataTable['output_type'] = 'display_data';\n",
              "          await google.colab.output.renderOutput(dataTable, element);\n",
              "          const docLink = document.createElement('div');\n",
              "          docLink.innerHTML = docLinkHtml;\n",
              "          element.appendChild(docLink);\n",
              "        }\n",
              "      </script>\n",
              "    </div>\n",
              "  </div>\n",
              "  "
            ]
          },
          "metadata": {},
          "execution_count": 32
        }
      ]
    },
    {
      "cell_type": "markdown",
      "source": [
        "Checking strange parking value."
      ],
      "metadata": {
        "id": "F6NxvmDP3FLb"
      }
    },
    {
      "cell_type": "code",
      "source": [
        "df.loc[df['parking'] > 4]"
      ],
      "metadata": {
        "colab": {
          "base_uri": "https://localhost:8080/",
          "height": 112
        },
        "id": "7-WiowVz282H",
        "outputId": "606d984d-33ad-4768-a176-a139f5072540"
      },
      "execution_count": 33,
      "outputs": [
        {
          "output_type": "execute_result",
          "data": {
            "text/plain": [
              "       rent  size_m2 property_type  bedrooms  suite  parking neighborhood  \\\n",
              "1296   1000       27       Kitnet        1.0    1.0     10.0    ASA NORTE   \n",
              "1713  29900      324  Apartamento        3.0    3.0      5.0     NOROESTE   \n",
              "\n",
              "      rent_per_size  \n",
              "1296      37.037037  \n",
              "1713      92.283951  "
            ],
            "text/html": [
              "\n",
              "  <div id=\"df-1e0a1d3c-566a-4e6b-9a31-f14ae8c76331\">\n",
              "    <div class=\"colab-df-container\">\n",
              "      <div>\n",
              "<style scoped>\n",
              "    .dataframe tbody tr th:only-of-type {\n",
              "        vertical-align: middle;\n",
              "    }\n",
              "\n",
              "    .dataframe tbody tr th {\n",
              "        vertical-align: top;\n",
              "    }\n",
              "\n",
              "    .dataframe thead th {\n",
              "        text-align: right;\n",
              "    }\n",
              "</style>\n",
              "<table border=\"1\" class=\"dataframe\">\n",
              "  <thead>\n",
              "    <tr style=\"text-align: right;\">\n",
              "      <th></th>\n",
              "      <th>rent</th>\n",
              "      <th>size_m2</th>\n",
              "      <th>property_type</th>\n",
              "      <th>bedrooms</th>\n",
              "      <th>suite</th>\n",
              "      <th>parking</th>\n",
              "      <th>neighborhood</th>\n",
              "      <th>rent_per_size</th>\n",
              "    </tr>\n",
              "  </thead>\n",
              "  <tbody>\n",
              "    <tr>\n",
              "      <th>1296</th>\n",
              "      <td>1000</td>\n",
              "      <td>27</td>\n",
              "      <td>Kitnet</td>\n",
              "      <td>1.0</td>\n",
              "      <td>1.0</td>\n",
              "      <td>10.0</td>\n",
              "      <td>ASA NORTE</td>\n",
              "      <td>37.037037</td>\n",
              "    </tr>\n",
              "    <tr>\n",
              "      <th>1713</th>\n",
              "      <td>29900</td>\n",
              "      <td>324</td>\n",
              "      <td>Apartamento</td>\n",
              "      <td>3.0</td>\n",
              "      <td>3.0</td>\n",
              "      <td>5.0</td>\n",
              "      <td>NOROESTE</td>\n",
              "      <td>92.283951</td>\n",
              "    </tr>\n",
              "  </tbody>\n",
              "</table>\n",
              "</div>\n",
              "      <button class=\"colab-df-convert\" onclick=\"convertToInteractive('df-1e0a1d3c-566a-4e6b-9a31-f14ae8c76331')\"\n",
              "              title=\"Convert this dataframe to an interactive table.\"\n",
              "              style=\"display:none;\">\n",
              "        \n",
              "  <svg xmlns=\"http://www.w3.org/2000/svg\" height=\"24px\"viewBox=\"0 0 24 24\"\n",
              "       width=\"24px\">\n",
              "    <path d=\"M0 0h24v24H0V0z\" fill=\"none\"/>\n",
              "    <path d=\"M18.56 5.44l.94 2.06.94-2.06 2.06-.94-2.06-.94-.94-2.06-.94 2.06-2.06.94zm-11 1L8.5 8.5l.94-2.06 2.06-.94-2.06-.94L8.5 2.5l-.94 2.06-2.06.94zm10 10l.94 2.06.94-2.06 2.06-.94-2.06-.94-.94-2.06-.94 2.06-2.06.94z\"/><path d=\"M17.41 7.96l-1.37-1.37c-.4-.4-.92-.59-1.43-.59-.52 0-1.04.2-1.43.59L10.3 9.45l-7.72 7.72c-.78.78-.78 2.05 0 2.83L4 21.41c.39.39.9.59 1.41.59.51 0 1.02-.2 1.41-.59l7.78-7.78 2.81-2.81c.8-.78.8-2.07 0-2.86zM5.41 20L4 18.59l7.72-7.72 1.47 1.35L5.41 20z\"/>\n",
              "  </svg>\n",
              "      </button>\n",
              "      \n",
              "  <style>\n",
              "    .colab-df-container {\n",
              "      display:flex;\n",
              "      flex-wrap:wrap;\n",
              "      gap: 12px;\n",
              "    }\n",
              "\n",
              "    .colab-df-convert {\n",
              "      background-color: #E8F0FE;\n",
              "      border: none;\n",
              "      border-radius: 50%;\n",
              "      cursor: pointer;\n",
              "      display: none;\n",
              "      fill: #1967D2;\n",
              "      height: 32px;\n",
              "      padding: 0 0 0 0;\n",
              "      width: 32px;\n",
              "    }\n",
              "\n",
              "    .colab-df-convert:hover {\n",
              "      background-color: #E2EBFA;\n",
              "      box-shadow: 0px 1px 2px rgba(60, 64, 67, 0.3), 0px 1px 3px 1px rgba(60, 64, 67, 0.15);\n",
              "      fill: #174EA6;\n",
              "    }\n",
              "\n",
              "    [theme=dark] .colab-df-convert {\n",
              "      background-color: #3B4455;\n",
              "      fill: #D2E3FC;\n",
              "    }\n",
              "\n",
              "    [theme=dark] .colab-df-convert:hover {\n",
              "      background-color: #434B5C;\n",
              "      box-shadow: 0px 1px 3px 1px rgba(0, 0, 0, 0.15);\n",
              "      filter: drop-shadow(0px 1px 2px rgba(0, 0, 0, 0.3));\n",
              "      fill: #FFFFFF;\n",
              "    }\n",
              "  </style>\n",
              "\n",
              "      <script>\n",
              "        const buttonEl =\n",
              "          document.querySelector('#df-1e0a1d3c-566a-4e6b-9a31-f14ae8c76331 button.colab-df-convert');\n",
              "        buttonEl.style.display =\n",
              "          google.colab.kernel.accessAllowed ? 'block' : 'none';\n",
              "\n",
              "        async function convertToInteractive(key) {\n",
              "          const element = document.querySelector('#df-1e0a1d3c-566a-4e6b-9a31-f14ae8c76331');\n",
              "          const dataTable =\n",
              "            await google.colab.kernel.invokeFunction('convertToInteractive',\n",
              "                                                     [key], {});\n",
              "          if (!dataTable) return;\n",
              "\n",
              "          const docLinkHtml = 'Like what you see? Visit the ' +\n",
              "            '<a target=\"_blank\" href=https://colab.research.google.com/notebooks/data_table.ipynb>data table notebook</a>'\n",
              "            + ' to learn more about interactive tables.';\n",
              "          element.innerHTML = '';\n",
              "          dataTable['output_type'] = 'display_data';\n",
              "          await google.colab.output.renderOutput(dataTable, element);\n",
              "          const docLink = document.createElement('div');\n",
              "          docLink.innerHTML = docLinkHtml;\n",
              "          element.appendChild(docLink);\n",
              "        }\n",
              "      </script>\n",
              "    </div>\n",
              "  </div>\n",
              "  "
            ]
          },
          "metadata": {},
          "execution_count": 33
        }
      ]
    },
    {
      "cell_type": "code",
      "source": [
        "df = df[df.parking < 6]"
      ],
      "metadata": {
        "id": "2vUxkjx53H_B"
      },
      "execution_count": 34,
      "outputs": []
    },
    {
      "cell_type": "code",
      "source": [
        "df.describe()"
      ],
      "metadata": {
        "colab": {
          "base_uri": "https://localhost:8080/",
          "height": 300
        },
        "id": "V0Ekow9j3MdE",
        "outputId": "eb85310d-cec2-4e77-a7a9-c4fbb80893b2"
      },
      "execution_count": 35,
      "outputs": [
        {
          "output_type": "execute_result",
          "data": {
            "text/plain": [
              "               rent      size_m2    bedrooms        suite      parking  \\\n",
              "count   3699.000000  3699.000000  3699.00000  3699.000000  3699.000000   \n",
              "mean    2443.377670    64.819951     1.82644     0.768045     0.482022   \n",
              "std     2685.258321    46.262426     0.90078     0.660027     0.754212   \n",
              "min      350.000000    11.000000     0.00000     0.000000     0.000000   \n",
              "25%     1000.000000    34.000000     1.00000     0.000000     0.000000   \n",
              "50%     1600.000000    51.000000     2.00000     1.000000     0.000000   \n",
              "75%     3000.000000    76.000000     2.00000     1.000000     1.000000   \n",
              "max    70900.000000   900.000000     5.00000     4.000000     5.000000   \n",
              "\n",
              "       rent_per_size  \n",
              "count    3699.000000  \n",
              "mean       36.834801  \n",
              "std        20.064500  \n",
              "min         6.050955  \n",
              "25%        25.000000  \n",
              "50%        34.090909  \n",
              "75%        43.970588  \n",
              "max       585.950413  "
            ],
            "text/html": [
              "\n",
              "  <div id=\"df-153611ac-6639-4884-a50a-262d5b3b91bf\">\n",
              "    <div class=\"colab-df-container\">\n",
              "      <div>\n",
              "<style scoped>\n",
              "    .dataframe tbody tr th:only-of-type {\n",
              "        vertical-align: middle;\n",
              "    }\n",
              "\n",
              "    .dataframe tbody tr th {\n",
              "        vertical-align: top;\n",
              "    }\n",
              "\n",
              "    .dataframe thead th {\n",
              "        text-align: right;\n",
              "    }\n",
              "</style>\n",
              "<table border=\"1\" class=\"dataframe\">\n",
              "  <thead>\n",
              "    <tr style=\"text-align: right;\">\n",
              "      <th></th>\n",
              "      <th>rent</th>\n",
              "      <th>size_m2</th>\n",
              "      <th>bedrooms</th>\n",
              "      <th>suite</th>\n",
              "      <th>parking</th>\n",
              "      <th>rent_per_size</th>\n",
              "    </tr>\n",
              "  </thead>\n",
              "  <tbody>\n",
              "    <tr>\n",
              "      <th>count</th>\n",
              "      <td>3699.000000</td>\n",
              "      <td>3699.000000</td>\n",
              "      <td>3699.00000</td>\n",
              "      <td>3699.000000</td>\n",
              "      <td>3699.000000</td>\n",
              "      <td>3699.000000</td>\n",
              "    </tr>\n",
              "    <tr>\n",
              "      <th>mean</th>\n",
              "      <td>2443.377670</td>\n",
              "      <td>64.819951</td>\n",
              "      <td>1.82644</td>\n",
              "      <td>0.768045</td>\n",
              "      <td>0.482022</td>\n",
              "      <td>36.834801</td>\n",
              "    </tr>\n",
              "    <tr>\n",
              "      <th>std</th>\n",
              "      <td>2685.258321</td>\n",
              "      <td>46.262426</td>\n",
              "      <td>0.90078</td>\n",
              "      <td>0.660027</td>\n",
              "      <td>0.754212</td>\n",
              "      <td>20.064500</td>\n",
              "    </tr>\n",
              "    <tr>\n",
              "      <th>min</th>\n",
              "      <td>350.000000</td>\n",
              "      <td>11.000000</td>\n",
              "      <td>0.00000</td>\n",
              "      <td>0.000000</td>\n",
              "      <td>0.000000</td>\n",
              "      <td>6.050955</td>\n",
              "    </tr>\n",
              "    <tr>\n",
              "      <th>25%</th>\n",
              "      <td>1000.000000</td>\n",
              "      <td>34.000000</td>\n",
              "      <td>1.00000</td>\n",
              "      <td>0.000000</td>\n",
              "      <td>0.000000</td>\n",
              "      <td>25.000000</td>\n",
              "    </tr>\n",
              "    <tr>\n",
              "      <th>50%</th>\n",
              "      <td>1600.000000</td>\n",
              "      <td>51.000000</td>\n",
              "      <td>2.00000</td>\n",
              "      <td>1.000000</td>\n",
              "      <td>0.000000</td>\n",
              "      <td>34.090909</td>\n",
              "    </tr>\n",
              "    <tr>\n",
              "      <th>75%</th>\n",
              "      <td>3000.000000</td>\n",
              "      <td>76.000000</td>\n",
              "      <td>2.00000</td>\n",
              "      <td>1.000000</td>\n",
              "      <td>1.000000</td>\n",
              "      <td>43.970588</td>\n",
              "    </tr>\n",
              "    <tr>\n",
              "      <th>max</th>\n",
              "      <td>70900.000000</td>\n",
              "      <td>900.000000</td>\n",
              "      <td>5.00000</td>\n",
              "      <td>4.000000</td>\n",
              "      <td>5.000000</td>\n",
              "      <td>585.950413</td>\n",
              "    </tr>\n",
              "  </tbody>\n",
              "</table>\n",
              "</div>\n",
              "      <button class=\"colab-df-convert\" onclick=\"convertToInteractive('df-153611ac-6639-4884-a50a-262d5b3b91bf')\"\n",
              "              title=\"Convert this dataframe to an interactive table.\"\n",
              "              style=\"display:none;\">\n",
              "        \n",
              "  <svg xmlns=\"http://www.w3.org/2000/svg\" height=\"24px\"viewBox=\"0 0 24 24\"\n",
              "       width=\"24px\">\n",
              "    <path d=\"M0 0h24v24H0V0z\" fill=\"none\"/>\n",
              "    <path d=\"M18.56 5.44l.94 2.06.94-2.06 2.06-.94-2.06-.94-.94-2.06-.94 2.06-2.06.94zm-11 1L8.5 8.5l.94-2.06 2.06-.94-2.06-.94L8.5 2.5l-.94 2.06-2.06.94zm10 10l.94 2.06.94-2.06 2.06-.94-2.06-.94-.94-2.06-.94 2.06-2.06.94z\"/><path d=\"M17.41 7.96l-1.37-1.37c-.4-.4-.92-.59-1.43-.59-.52 0-1.04.2-1.43.59L10.3 9.45l-7.72 7.72c-.78.78-.78 2.05 0 2.83L4 21.41c.39.39.9.59 1.41.59.51 0 1.02-.2 1.41-.59l7.78-7.78 2.81-2.81c.8-.78.8-2.07 0-2.86zM5.41 20L4 18.59l7.72-7.72 1.47 1.35L5.41 20z\"/>\n",
              "  </svg>\n",
              "      </button>\n",
              "      \n",
              "  <style>\n",
              "    .colab-df-container {\n",
              "      display:flex;\n",
              "      flex-wrap:wrap;\n",
              "      gap: 12px;\n",
              "    }\n",
              "\n",
              "    .colab-df-convert {\n",
              "      background-color: #E8F0FE;\n",
              "      border: none;\n",
              "      border-radius: 50%;\n",
              "      cursor: pointer;\n",
              "      display: none;\n",
              "      fill: #1967D2;\n",
              "      height: 32px;\n",
              "      padding: 0 0 0 0;\n",
              "      width: 32px;\n",
              "    }\n",
              "\n",
              "    .colab-df-convert:hover {\n",
              "      background-color: #E2EBFA;\n",
              "      box-shadow: 0px 1px 2px rgba(60, 64, 67, 0.3), 0px 1px 3px 1px rgba(60, 64, 67, 0.15);\n",
              "      fill: #174EA6;\n",
              "    }\n",
              "\n",
              "    [theme=dark] .colab-df-convert {\n",
              "      background-color: #3B4455;\n",
              "      fill: #D2E3FC;\n",
              "    }\n",
              "\n",
              "    [theme=dark] .colab-df-convert:hover {\n",
              "      background-color: #434B5C;\n",
              "      box-shadow: 0px 1px 3px 1px rgba(0, 0, 0, 0.15);\n",
              "      filter: drop-shadow(0px 1px 2px rgba(0, 0, 0, 0.3));\n",
              "      fill: #FFFFFF;\n",
              "    }\n",
              "  </style>\n",
              "\n",
              "      <script>\n",
              "        const buttonEl =\n",
              "          document.querySelector('#df-153611ac-6639-4884-a50a-262d5b3b91bf button.colab-df-convert');\n",
              "        buttonEl.style.display =\n",
              "          google.colab.kernel.accessAllowed ? 'block' : 'none';\n",
              "\n",
              "        async function convertToInteractive(key) {\n",
              "          const element = document.querySelector('#df-153611ac-6639-4884-a50a-262d5b3b91bf');\n",
              "          const dataTable =\n",
              "            await google.colab.kernel.invokeFunction('convertToInteractive',\n",
              "                                                     [key], {});\n",
              "          if (!dataTable) return;\n",
              "\n",
              "          const docLinkHtml = 'Like what you see? Visit the ' +\n",
              "            '<a target=\"_blank\" href=https://colab.research.google.com/notebooks/data_table.ipynb>data table notebook</a>'\n",
              "            + ' to learn more about interactive tables.';\n",
              "          element.innerHTML = '';\n",
              "          dataTable['output_type'] = 'display_data';\n",
              "          await google.colab.output.renderOutput(dataTable, element);\n",
              "          const docLink = document.createElement('div');\n",
              "          docLink.innerHTML = docLinkHtml;\n",
              "          element.appendChild(docLink);\n",
              "        }\n",
              "      </script>\n",
              "    </div>\n",
              "  </div>\n",
              "  "
            ]
          },
          "metadata": {},
          "execution_count": 35
        }
      ]
    },
    {
      "cell_type": "markdown",
      "source": [
        "Checking strange size value."
      ],
      "metadata": {
        "id": "NZ9XveiW3T07"
      }
    },
    {
      "cell_type": "code",
      "source": [
        "df.loc[df['size_m2'] > 400]"
      ],
      "metadata": {
        "colab": {
          "base_uri": "https://localhost:8080/",
          "height": 112
        },
        "id": "GNaioKfB3UL1",
        "outputId": "e2eaa753-6597-46bb-9ad8-03af631c768d"
      },
      "execution_count": 36,
      "outputs": [
        {
          "output_type": "execute_result",
          "data": {
            "text/plain": [
              "       rent  size_m2 property_type  bedrooms  suite  parking neighborhood  \\\n",
              "111   27500      461  Apartamento        3.0    3.0      4.0    ASA NORTE   \n",
              "3209  45000      900  Apartamento        4.0    4.0      3.0      ASA SUL   \n",
              "\n",
              "      rent_per_size  \n",
              "111       59.652928  \n",
              "3209      50.000000  "
            ],
            "text/html": [
              "\n",
              "  <div id=\"df-a9613f86-872c-4ca0-9294-b7684d92081e\">\n",
              "    <div class=\"colab-df-container\">\n",
              "      <div>\n",
              "<style scoped>\n",
              "    .dataframe tbody tr th:only-of-type {\n",
              "        vertical-align: middle;\n",
              "    }\n",
              "\n",
              "    .dataframe tbody tr th {\n",
              "        vertical-align: top;\n",
              "    }\n",
              "\n",
              "    .dataframe thead th {\n",
              "        text-align: right;\n",
              "    }\n",
              "</style>\n",
              "<table border=\"1\" class=\"dataframe\">\n",
              "  <thead>\n",
              "    <tr style=\"text-align: right;\">\n",
              "      <th></th>\n",
              "      <th>rent</th>\n",
              "      <th>size_m2</th>\n",
              "      <th>property_type</th>\n",
              "      <th>bedrooms</th>\n",
              "      <th>suite</th>\n",
              "      <th>parking</th>\n",
              "      <th>neighborhood</th>\n",
              "      <th>rent_per_size</th>\n",
              "    </tr>\n",
              "  </thead>\n",
              "  <tbody>\n",
              "    <tr>\n",
              "      <th>111</th>\n",
              "      <td>27500</td>\n",
              "      <td>461</td>\n",
              "      <td>Apartamento</td>\n",
              "      <td>3.0</td>\n",
              "      <td>3.0</td>\n",
              "      <td>4.0</td>\n",
              "      <td>ASA NORTE</td>\n",
              "      <td>59.652928</td>\n",
              "    </tr>\n",
              "    <tr>\n",
              "      <th>3209</th>\n",
              "      <td>45000</td>\n",
              "      <td>900</td>\n",
              "      <td>Apartamento</td>\n",
              "      <td>4.0</td>\n",
              "      <td>4.0</td>\n",
              "      <td>3.0</td>\n",
              "      <td>ASA SUL</td>\n",
              "      <td>50.000000</td>\n",
              "    </tr>\n",
              "  </tbody>\n",
              "</table>\n",
              "</div>\n",
              "      <button class=\"colab-df-convert\" onclick=\"convertToInteractive('df-a9613f86-872c-4ca0-9294-b7684d92081e')\"\n",
              "              title=\"Convert this dataframe to an interactive table.\"\n",
              "              style=\"display:none;\">\n",
              "        \n",
              "  <svg xmlns=\"http://www.w3.org/2000/svg\" height=\"24px\"viewBox=\"0 0 24 24\"\n",
              "       width=\"24px\">\n",
              "    <path d=\"M0 0h24v24H0V0z\" fill=\"none\"/>\n",
              "    <path d=\"M18.56 5.44l.94 2.06.94-2.06 2.06-.94-2.06-.94-.94-2.06-.94 2.06-2.06.94zm-11 1L8.5 8.5l.94-2.06 2.06-.94-2.06-.94L8.5 2.5l-.94 2.06-2.06.94zm10 10l.94 2.06.94-2.06 2.06-.94-2.06-.94-.94-2.06-.94 2.06-2.06.94z\"/><path d=\"M17.41 7.96l-1.37-1.37c-.4-.4-.92-.59-1.43-.59-.52 0-1.04.2-1.43.59L10.3 9.45l-7.72 7.72c-.78.78-.78 2.05 0 2.83L4 21.41c.39.39.9.59 1.41.59.51 0 1.02-.2 1.41-.59l7.78-7.78 2.81-2.81c.8-.78.8-2.07 0-2.86zM5.41 20L4 18.59l7.72-7.72 1.47 1.35L5.41 20z\"/>\n",
              "  </svg>\n",
              "      </button>\n",
              "      \n",
              "  <style>\n",
              "    .colab-df-container {\n",
              "      display:flex;\n",
              "      flex-wrap:wrap;\n",
              "      gap: 12px;\n",
              "    }\n",
              "\n",
              "    .colab-df-convert {\n",
              "      background-color: #E8F0FE;\n",
              "      border: none;\n",
              "      border-radius: 50%;\n",
              "      cursor: pointer;\n",
              "      display: none;\n",
              "      fill: #1967D2;\n",
              "      height: 32px;\n",
              "      padding: 0 0 0 0;\n",
              "      width: 32px;\n",
              "    }\n",
              "\n",
              "    .colab-df-convert:hover {\n",
              "      background-color: #E2EBFA;\n",
              "      box-shadow: 0px 1px 2px rgba(60, 64, 67, 0.3), 0px 1px 3px 1px rgba(60, 64, 67, 0.15);\n",
              "      fill: #174EA6;\n",
              "    }\n",
              "\n",
              "    [theme=dark] .colab-df-convert {\n",
              "      background-color: #3B4455;\n",
              "      fill: #D2E3FC;\n",
              "    }\n",
              "\n",
              "    [theme=dark] .colab-df-convert:hover {\n",
              "      background-color: #434B5C;\n",
              "      box-shadow: 0px 1px 3px 1px rgba(0, 0, 0, 0.15);\n",
              "      filter: drop-shadow(0px 1px 2px rgba(0, 0, 0, 0.3));\n",
              "      fill: #FFFFFF;\n",
              "    }\n",
              "  </style>\n",
              "\n",
              "      <script>\n",
              "        const buttonEl =\n",
              "          document.querySelector('#df-a9613f86-872c-4ca0-9294-b7684d92081e button.colab-df-convert');\n",
              "        buttonEl.style.display =\n",
              "          google.colab.kernel.accessAllowed ? 'block' : 'none';\n",
              "\n",
              "        async function convertToInteractive(key) {\n",
              "          const element = document.querySelector('#df-a9613f86-872c-4ca0-9294-b7684d92081e');\n",
              "          const dataTable =\n",
              "            await google.colab.kernel.invokeFunction('convertToInteractive',\n",
              "                                                     [key], {});\n",
              "          if (!dataTable) return;\n",
              "\n",
              "          const docLinkHtml = 'Like what you see? Visit the ' +\n",
              "            '<a target=\"_blank\" href=https://colab.research.google.com/notebooks/data_table.ipynb>data table notebook</a>'\n",
              "            + ' to learn more about interactive tables.';\n",
              "          element.innerHTML = '';\n",
              "          dataTable['output_type'] = 'display_data';\n",
              "          await google.colab.output.renderOutput(dataTable, element);\n",
              "          const docLink = document.createElement('div');\n",
              "          docLink.innerHTML = docLinkHtml;\n",
              "          element.appendChild(docLink);\n",
              "        }\n",
              "      </script>\n",
              "    </div>\n",
              "  </div>\n",
              "  "
            ]
          },
          "metadata": {},
          "execution_count": 36
        }
      ]
    },
    {
      "cell_type": "markdown",
      "source": [
        "Checking the histograms of the numerical columns."
      ],
      "metadata": {
        "id": "ngayGQ-D3OMl"
      }
    },
    {
      "cell_type": "code",
      "source": [
        "df.hist(bins=100,\n",
        "        figsize=(20,15) )"
      ],
      "metadata": {
        "colab": {
          "base_uri": "https://localhost:8080/",
          "height": 1000
        },
        "id": "HxDOy0nJz4iH",
        "outputId": "03f31256-63ad-434c-a193-c6000bc02563"
      },
      "execution_count": 37,
      "outputs": [
        {
          "output_type": "execute_result",
          "data": {
            "text/plain": [
              "array([[<matplotlib.axes._subplots.AxesSubplot object at 0x7f93c1bcb9d0>,\n",
              "        <matplotlib.axes._subplots.AxesSubplot object at 0x7f93c1b92b10>],\n",
              "       [<matplotlib.axes._subplots.AxesSubplot object at 0x7f93c1b5c610>,\n",
              "        <matplotlib.axes._subplots.AxesSubplot object at 0x7f93c1b0fc10>],\n",
              "       [<matplotlib.axes._subplots.AxesSubplot object at 0x7f93c1ad2250>,\n",
              "        <matplotlib.axes._subplots.AxesSubplot object at 0x7f93c1a88850>]],\n",
              "      dtype=object)"
            ]
          },
          "metadata": {},
          "execution_count": 37
        },
        {
          "output_type": "display_data",
          "data": {
            "text/plain": [
              "<Figure size 1440x1080 with 6 Axes>"
            ],
            "image/png": "[encoded data removed]"
          },
          "metadata": {
            "needs_background": "light"
          }
        }
      ]
    },
    {
      "cell_type": "markdown",
      "source": [
        "Checking the neighborhood value counts. Some values have a pretty low amount, so they will be grouped together as an \"Others\" category."
      ],
      "metadata": {
        "id": "_Kk0lk064iaa"
      }
    },
    {
      "cell_type": "code",
      "source": [
        "df['neighborhood'].value_counts()"
      ],
      "metadata": {
        "colab": {
          "base_uri": "https://localhost:8080/"
        },
        "id": "XE8FpgoT4reL",
        "outputId": "fe227f2b-d2de-4210-cf46-386f3e451405"
      },
      "execution_count": 38,
      "outputs": [
        {
          "output_type": "execute_result",
          "data": {
            "text/plain": [
              " ASA NORTE               679\n",
              " AGUAS CLARAS            661\n",
              " ASA SUL                 394\n",
              " SUDOESTE                341\n",
              " GUARA                   291\n",
              " TAGUATINGA              240\n",
              " NOROESTE                172\n",
              " LAGO NORTE              151\n",
              " SAMAMBAIA               106\n",
              " NUCLEO BANDEIRANTE       87\n",
              " PARK SUL                 79\n",
              " CEILANDIA                64\n",
              " RIACHO FUNDO             60\n",
              " SOBRADINHO               52\n",
              " CRUZEIRO                 49\n",
              " VICENTE PIRES            41\n",
              " JARDINS MANGUEIRAL       39\n",
              " OCTOGONAL                31\n",
              " GAMA                     30\n",
              " VALPARAISO DE GOIAS      30\n",
              " PLANALTINA               18\n",
              " SANTA MARIA              17\n",
              " RECANTO DAS EMAS         13\n",
              " SAO SEBASTIAO            12\n",
              " JARDIM BOTANICO           8\n",
              " SETOR INDUSTRIAL          6\n",
              " LAGO SUL                  4\n",
              " PARK WAY                  4\n",
              " PARANOA                   4\n",
              " VILA PLANALTO             3\n",
              " VARJAO                    3\n",
              " SIG                       2\n",
              " CANDANGOLANDIA            2\n",
              " VILA ESTRUTURAL           2\n",
              " BRAZLANDIA                1\n",
              " VILA DA TELEBRASILIA      1\n",
              " LUZIANIA                  1\n",
              " FORMOSA                   1\n",
              "Name: neighborhood, dtype: int64"
            ]
          },
          "metadata": {},
          "execution_count": 38
        }
      ]
    },
    {
      "cell_type": "code",
      "source": [
        "df.groupby('neighborhood')['rent_per_size'].median().sort_values(ascending=False)"
      ],
      "metadata": {
        "colab": {
          "base_uri": "https://localhost:8080/"
        },
        "id": "55rZBxvB55QE",
        "outputId": "e234e1e1-57e6-45f6-e269-da9ef71a8ec8"
      },
      "execution_count": 39,
      "outputs": [
        {
          "output_type": "execute_result",
          "data": {
            "text/plain": [
              "neighborhood\n",
              " NOROESTE                57.338825\n",
              " PARK SUL                57.142857\n",
              " SETOR INDUSTRIAL        52.098214\n",
              " PARK WAY                43.496503\n",
              " SUDOESTE                41.666667\n",
              " LAGO SUL                40.454545\n",
              " ASA SUL                 38.888889\n",
              " OCTOGONAL               38.461538\n",
              " LAGO NORTE              38.333333\n",
              " ASA NORTE               37.837838\n",
              " AGUAS CLARAS            35.135135\n",
              " JARDINS MANGUEIRAL      34.000000\n",
              " CRUZEIRO                31.666667\n",
              " JARDIM BOTANICO         29.160998\n",
              " VILA PLANALTO           26.000000\n",
              " GUARA                   25.312500\n",
              " VARJAO                  23.300000\n",
              " SIG                     23.214286\n",
              " VILA DA TELEBRASILIA    22.857143\n",
              " SOBRADINHO              22.792208\n",
              " VICENTE PIRES           21.818182\n",
              " VILA ESTRUTURAL         21.666667\n",
              " SAMAMBAIA               21.490148\n",
              " TAGUATINGA              21.483516\n",
              " CANDANGOLANDIA          21.388889\n",
              " RECANTO DAS EMAS        20.000000\n",
              " RIACHO FUNDO            20.000000\n",
              " SAO SEBASTIAO           19.844075\n",
              " CEILANDIA               18.000000\n",
              " FORMOSA                 18.000000\n",
              " BRAZLANDIA              17.500000\n",
              " NUCLEO BANDEIRANTE      17.142857\n",
              " GAMA                    16.478261\n",
              " PLANALTINA              15.357143\n",
              " SANTA MARIA             15.000000\n",
              " LUZIANIA                14.772727\n",
              " PARANOA                 14.437500\n",
              " VALPARAISO DE GOIAS     14.245130\n",
              "Name: rent_per_size, dtype: float64"
            ]
          },
          "metadata": {},
          "execution_count": 39
        }
      ]
    },
    {
      "cell_type": "markdown",
      "source": [
        "These columns have few rows, and also similar rent per size values, to they will be grouped in a single category. \"VALPARAISO DE GOIAS\" will also be joined because of very similar rent per size value."
      ],
      "metadata": {
        "id": "bdIJdsfF91PW"
      }
    },
    {
      "cell_type": "code",
      "source": [
        " #PLANALTINA               18\n",
        " #SANTA MARIA              17\n",
        " #PARANOA                   4\n",
        " #BRAZLANDIA                1\n",
        " #LUZIANIA                  1\n",
        " #FORMOSA                   1\n",
        "df['neighborhood'] = df['neighborhood'].str.replace('PLANALTINA', 'TIER_1', regex=False)\n",
        "df['neighborhood'] = df['neighborhood'].str.replace('SANTA MARIA', 'TIER_1', regex=False)\n",
        "df['neighborhood'] = df['neighborhood'].str.replace('PARANOA', 'TIER_1', regex=False)\n",
        "df['neighborhood'] = df['neighborhood'].str.replace('BRAZLANDIA', 'TIER_1', regex=False)\n",
        "df['neighborhood'] = df['neighborhood'].str.replace('LUZIANIA', 'TIER_1', regex=False)\n",
        "df['neighborhood'] = df['neighborhood'].str.replace('FORMOSA', 'TIER_1', regex=False)\n",
        "df['neighborhood'] = df['neighborhood'].str.replace('VALPARAISO DE GOIAS', 'TIER_1', regex=False)"
      ],
      "metadata": {
        "id": "xVgcpCwD5KdX"
      },
      "execution_count": 40,
      "outputs": []
    },
    {
      "cell_type": "code",
      "source": [
        "df['neighborhood'].value_counts()"
      ],
      "metadata": {
        "colab": {
          "base_uri": "https://localhost:8080/"
        },
        "id": "vLL8qKUv9XQg",
        "outputId": "c158d781-2558-43d2-8087-cfa6a1146b6e"
      },
      "execution_count": 41,
      "outputs": [
        {
          "output_type": "execute_result",
          "data": {
            "text/plain": [
              " ASA NORTE               679\n",
              " AGUAS CLARAS            661\n",
              " ASA SUL                 394\n",
              " SUDOESTE                341\n",
              " GUARA                   291\n",
              " TAGUATINGA              240\n",
              " NOROESTE                172\n",
              " LAGO NORTE              151\n",
              " SAMAMBAIA               106\n",
              " NUCLEO BANDEIRANTE       87\n",
              " PARK SUL                 79\n",
              " TIER_1                   72\n",
              " CEILANDIA                64\n",
              " RIACHO FUNDO             60\n",
              " SOBRADINHO               52\n",
              " CRUZEIRO                 49\n",
              " VICENTE PIRES            41\n",
              " JARDINS MANGUEIRAL       39\n",
              " OCTOGONAL                31\n",
              " GAMA                     30\n",
              " RECANTO DAS EMAS         13\n",
              " SAO SEBASTIAO            12\n",
              " JARDIM BOTANICO           8\n",
              " SETOR INDUSTRIAL          6\n",
              " LAGO SUL                  4\n",
              " PARK WAY                  4\n",
              " VILA PLANALTO             3\n",
              " VARJAO                    3\n",
              " VILA ESTRUTURAL           2\n",
              " SIG                       2\n",
              " CANDANGOLANDIA            2\n",
              " VILA DA TELEBRASILIA      1\n",
              "Name: neighborhood, dtype: int64"
            ]
          },
          "metadata": {},
          "execution_count": 41
        }
      ]
    },
    {
      "cell_type": "code",
      "source": [
        "df.groupby('neighborhood')['rent_per_size'].median().sort_values(ascending=False)"
      ],
      "metadata": {
        "colab": {
          "base_uri": "https://localhost:8080/"
        },
        "id": "cbUn20Mz9Yge",
        "outputId": "cf7949c7-3184-48db-e8e5-78ac6d725e80"
      },
      "execution_count": 42,
      "outputs": [
        {
          "output_type": "execute_result",
          "data": {
            "text/plain": [
              "neighborhood\n",
              " NOROESTE                57.338825\n",
              " PARK SUL                57.142857\n",
              " SETOR INDUSTRIAL        52.098214\n",
              " PARK WAY                43.496503\n",
              " SUDOESTE                41.666667\n",
              " LAGO SUL                40.454545\n",
              " ASA SUL                 38.888889\n",
              " OCTOGONAL               38.461538\n",
              " LAGO NORTE              38.333333\n",
              " ASA NORTE               37.837838\n",
              " AGUAS CLARAS            35.135135\n",
              " JARDINS MANGUEIRAL      34.000000\n",
              " CRUZEIRO                31.666667\n",
              " JARDIM BOTANICO         29.160998\n",
              " VILA PLANALTO           26.000000\n",
              " GUARA                   25.312500\n",
              " VARJAO                  23.300000\n",
              " SIG                     23.214286\n",
              " VILA DA TELEBRASILIA    22.857143\n",
              " SOBRADINHO              22.792208\n",
              " VICENTE PIRES           21.818182\n",
              " VILA ESTRUTURAL         21.666667\n",
              " SAMAMBAIA               21.490148\n",
              " TAGUATINGA              21.483516\n",
              " CANDANGOLANDIA          21.388889\n",
              " RECANTO DAS EMAS        20.000000\n",
              " RIACHO FUNDO            20.000000\n",
              " SAO SEBASTIAO           19.844075\n",
              " CEILANDIA               18.000000\n",
              " NUCLEO BANDEIRANTE      17.142857\n",
              " GAMA                    16.478261\n",
              " TIER_1                  14.715909\n",
              "Name: rent_per_size, dtype: float64"
            ]
          },
          "metadata": {},
          "execution_count": 42
        }
      ]
    },
    {
      "cell_type": "markdown",
      "source": [
        "Again, grouping similar neighborhoods that have few rows. \"RIACHO FUNDO\" Also added here."
      ],
      "metadata": {
        "id": "j5WM-A-jE9D8"
      }
    },
    {
      "cell_type": "code",
      "source": [
        " #RECANTO DAS EMAS         13\n",
        " #SAO SEBASTIAO            12\n",
        " #VARJAO                    3\n",
        " #SIG                       2\n",
        " #CANDANGOLANDIA            2\n",
        " #VILA ESTRUTURAL           2\n",
        " #VILA DA TELEBRASILIA      1\n",
        " df['neighborhood'] = df['neighborhood'].str.replace('RECANTO DAS EMAS', 'TIER_2', regex=False)\n",
        " df['neighborhood'] = df['neighborhood'].str.replace('SAO SEBASTIAO', 'TIER_2', regex=False)\n",
        " df['neighborhood'] = df['neighborhood'].str.replace('VARJAO', 'TIER_2', regex=False)\n",
        " df['neighborhood'] = df['neighborhood'].str.replace('SIG', 'TIER_2', regex=False)\n",
        " df['neighborhood'] = df['neighborhood'].str.replace('CANDANGOLANDIA', 'TIER_2', regex=False)\n",
        " df['neighborhood'] = df['neighborhood'].str.replace('VILA ESTRUTURAL', 'TIER_2', regex=False)\n",
        " df['neighborhood'] = df['neighborhood'].str.replace('VILA DA TELEBRASILIA', 'TIER_2', regex=False)\n",
        " df['neighborhood'] = df['neighborhood'].str.replace('RIACHO FUNDO', 'TIER_2', regex=False)"
      ],
      "metadata": {
        "id": "WOFnC2ZJA0Xg"
      },
      "execution_count": 43,
      "outputs": []
    },
    {
      "cell_type": "code",
      "source": [
        "df['neighborhood'].value_counts()"
      ],
      "metadata": {
        "colab": {
          "base_uri": "https://localhost:8080/"
        },
        "id": "L1HXufVDFYXj",
        "outputId": "88699f7d-b2bd-49fd-b400-548b95efbd19"
      },
      "execution_count": 44,
      "outputs": [
        {
          "output_type": "execute_result",
          "data": {
            "text/plain": [
              " ASA NORTE             679\n",
              " AGUAS CLARAS          661\n",
              " ASA SUL               394\n",
              " SUDOESTE              341\n",
              " GUARA                 291\n",
              " TAGUATINGA            240\n",
              " NOROESTE              172\n",
              " LAGO NORTE            151\n",
              " SAMAMBAIA             106\n",
              " TIER_2                 95\n",
              " NUCLEO BANDEIRANTE     87\n",
              " PARK SUL               79\n",
              " TIER_1                 72\n",
              " CEILANDIA              64\n",
              " SOBRADINHO             52\n",
              " CRUZEIRO               49\n",
              " VICENTE PIRES          41\n",
              " JARDINS MANGUEIRAL     39\n",
              " OCTOGONAL              31\n",
              " GAMA                   30\n",
              " JARDIM BOTANICO         8\n",
              " SETOR INDUSTRIAL        6\n",
              " LAGO SUL                4\n",
              " PARK WAY                4\n",
              " VILA PLANALTO           3\n",
              "Name: neighborhood, dtype: int64"
            ]
          },
          "metadata": {},
          "execution_count": 44
        }
      ]
    },
    {
      "cell_type": "code",
      "source": [
        "df.groupby('neighborhood')['rent_per_size'].median().sort_values(ascending=False)"
      ],
      "metadata": {
        "colab": {
          "base_uri": "https://localhost:8080/"
        },
        "id": "5G-L3nbCFZ_4",
        "outputId": "964a7f00-d068-4d95-d7ba-dc98d7554922"
      },
      "execution_count": 45,
      "outputs": [
        {
          "output_type": "execute_result",
          "data": {
            "text/plain": [
              "neighborhood\n",
              " NOROESTE              57.338825\n",
              " PARK SUL              57.142857\n",
              " SETOR INDUSTRIAL      52.098214\n",
              " PARK WAY              43.496503\n",
              " SUDOESTE              41.666667\n",
              " LAGO SUL              40.454545\n",
              " ASA SUL               38.888889\n",
              " OCTOGONAL             38.461538\n",
              " LAGO NORTE            38.333333\n",
              " ASA NORTE             37.837838\n",
              " AGUAS CLARAS          35.135135\n",
              " JARDINS MANGUEIRAL    34.000000\n",
              " CRUZEIRO              31.666667\n",
              " JARDIM BOTANICO       29.160998\n",
              " VILA PLANALTO         26.000000\n",
              " GUARA                 25.312500\n",
              " SOBRADINHO            22.792208\n",
              " VICENTE PIRES         21.818182\n",
              " SAMAMBAIA             21.490148\n",
              " TAGUATINGA            21.483516\n",
              " TIER_2                20.000000\n",
              " CEILANDIA             18.000000\n",
              " NUCLEO BANDEIRANTE    17.142857\n",
              " GAMA                  16.478261\n",
              " TIER_1                14.715909\n",
              "Name: rent_per_size, dtype: float64"
            ]
          },
          "metadata": {},
          "execution_count": 45
        }
      ]
    },
    {
      "cell_type": "code",
      "source": [
        " df['neighborhood'] = df['neighborhood'].str.replace('CEILANDIA', 'TIER_3', regex=False)\n",
        " df['neighborhood'] = df['neighborhood'].str.replace('NUCLEO BANDEIRANTE', 'TIER_3', regex=False)\n",
        " df['neighborhood'] = df['neighborhood'].str.replace('GAMA', 'TIER_3', regex=False)\n",
        " \n",
        " #VILA PLANALTO             3\n",
        " df['neighborhood'] = df['neighborhood'].str.replace('VILA PLANALTO', 'TIER_4', regex=False)\n",
        " df['neighborhood'] = df['neighborhood'].str.replace('GUARA', 'TIER_4', regex=False)\n",
        "\n",
        " #JARDIM BOTANICO           8\n",
        " df['neighborhood'] = df['neighborhood'].str.replace('JARDIM BOTANICO', 'TIER_5', regex=False)\n",
        " df['neighborhood'] = df['neighborhood'].str.replace('CRUZEIRO', 'TIER_5', regex=False)\n",
        "\n",
        " #SETOR INDUSTRIAL          6\n",
        " #LAGO SUL                  4\n",
        " #PARK WAY                  4\n",
        " df['neighborhood'] = df['neighborhood'].str.replace('SETOR INDUSTRIAL', 'TIER_6', regex=False)\n",
        " df['neighborhood'] = df['neighborhood'].str.replace('LAGO SUL', 'TIER_6', regex=False)\n",
        " df['neighborhood'] = df['neighborhood'].str.replace('PARK WAY', 'TIER_6', regex=False)"
      ],
      "metadata": {
        "id": "kDbbBRhjFWmD"
      },
      "execution_count": 46,
      "outputs": []
    },
    {
      "cell_type": "code",
      "source": [
        "df['neighborhood'].value_counts()"
      ],
      "metadata": {
        "colab": {
          "base_uri": "https://localhost:8080/"
        },
        "id": "d8yQSNpAMh80",
        "outputId": "c1062412-8900-4644-ad5c-acbb113314da"
      },
      "execution_count": 47,
      "outputs": [
        {
          "output_type": "execute_result",
          "data": {
            "text/plain": [
              " ASA NORTE             679\n",
              " AGUAS CLARAS          661\n",
              " ASA SUL               394\n",
              " SUDOESTE              341\n",
              " TIER_4                294\n",
              " TAGUATINGA            240\n",
              " TIER_3                181\n",
              " NOROESTE              172\n",
              " LAGO NORTE            151\n",
              " SAMAMBAIA             106\n",
              " TIER_2                 95\n",
              " PARK SUL               79\n",
              " TIER_1                 72\n",
              " TIER_5                 57\n",
              " SOBRADINHO             52\n",
              " VICENTE PIRES          41\n",
              " JARDINS MANGUEIRAL     39\n",
              " OCTOGONAL              31\n",
              " TIER_6                 14\n",
              "Name: neighborhood, dtype: int64"
            ]
          },
          "metadata": {},
          "execution_count": 47
        }
      ]
    },
    {
      "cell_type": "code",
      "source": [
        "df.groupby('neighborhood')['rent_per_size'].median().sort_values(ascending=False)"
      ],
      "metadata": {
        "colab": {
          "base_uri": "https://localhost:8080/"
        },
        "id": "QkL3SJH5PEg2",
        "outputId": "ab7bb0d0-7e47-467b-e2f5-6f5ae9bc20e9"
      },
      "execution_count": 48,
      "outputs": [
        {
          "output_type": "execute_result",
          "data": {
            "text/plain": [
              "neighborhood\n",
              " NOROESTE              57.338825\n",
              " PARK SUL              57.142857\n",
              " SUDOESTE              41.666667\n",
              " TIER_6                41.223776\n",
              " ASA SUL               38.888889\n",
              " OCTOGONAL             38.461538\n",
              " LAGO NORTE            38.333333\n",
              " ASA NORTE             37.837838\n",
              " AGUAS CLARAS          35.135135\n",
              " JARDINS MANGUEIRAL    34.000000\n",
              " TIER_5                31.147541\n",
              " TIER_4                25.404172\n",
              " SOBRADINHO            22.792208\n",
              " VICENTE PIRES         21.818182\n",
              " SAMAMBAIA             21.490148\n",
              " TAGUATINGA            21.483516\n",
              " TIER_2                20.000000\n",
              " TIER_3                17.307692\n",
              " TIER_1                14.715909\n",
              "Name: rent_per_size, dtype: float64"
            ]
          },
          "metadata": {},
          "execution_count": 48
        }
      ]
    },
    {
      "cell_type": "code",
      "source": [
        "df['neighborhood'].hist()"
      ],
      "metadata": {
        "colab": {
          "base_uri": "https://localhost:8080/",
          "height": 284
        },
        "id": "Bs7GTir0PhMH",
        "outputId": "5a36fc04-1681-4da4-8d03-572448bc1f78"
      },
      "execution_count": 49,
      "outputs": [
        {
          "output_type": "execute_result",
          "data": {
            "text/plain": [
              "<matplotlib.axes._subplots.AxesSubplot at 0x7f93c0d2bc90>"
            ]
          },
          "metadata": {},
          "execution_count": 49
        },
        {
          "output_type": "display_data",
          "data": {
            "text/plain": [
              "<Figure size 432x288 with 1 Axes>"
            ],
            "image/png": "[encoded data removed]"
          },
          "metadata": {
            "needs_background": "light"
          }
        }
      ]
    },
    {
      "cell_type": "code",
      "source": [
        "df['neighborhood'].value_counts(normalize=True)"
      ],
      "metadata": {
        "colab": {
          "base_uri": "https://localhost:8080/"
        },
        "id": "rhYKRV94P0bK",
        "outputId": "dcdb9624-9548-40c4-9565-cdfa96e8733c"
      },
      "execution_count": 50,
      "outputs": [
        {
          "output_type": "execute_result",
          "data": {
            "text/plain": [
              " ASA NORTE             0.183563\n",
              " AGUAS CLARAS          0.178697\n",
              " ASA SUL               0.106515\n",
              " SUDOESTE              0.092187\n",
              " TIER_4                0.079481\n",
              " TAGUATINGA            0.064882\n",
              " TIER_3                0.048932\n",
              " NOROESTE              0.046499\n",
              " LAGO NORTE            0.040822\n",
              " SAMAMBAIA             0.028656\n",
              " TIER_2                0.025683\n",
              " PARK SUL              0.021357\n",
              " TIER_1                0.019465\n",
              " TIER_5                0.015410\n",
              " SOBRADINHO            0.014058\n",
              " VICENTE PIRES         0.011084\n",
              " JARDINS MANGUEIRAL    0.010543\n",
              " OCTOGONAL             0.008381\n",
              " TIER_6                0.003785\n",
              "Name: neighborhood, dtype: float64"
            ]
          },
          "metadata": {},
          "execution_count": 50
        }
      ]
    },
    {
      "cell_type": "markdown",
      "source": [
        "Creating stratified train/test split, using the neighboorhood column. This guarantees that we maitain the original data set neighborhood distribution, especially because we have some neighborhoods with few values."
      ],
      "metadata": {
        "id": "AoOG1nvOQGoA"
      }
    },
    {
      "cell_type": "code",
      "source": [
        "df_strat_train, df_strat_test = train_test_split(df,\n",
        "                                                 random_state=27,\n",
        "                                                 test_size=0.2,\n",
        "                                                 stratify=df['neighborhood'])"
      ],
      "metadata": {
        "id": "Y_mnTeyv4isQ"
      },
      "execution_count": 51,
      "outputs": []
    },
    {
      "cell_type": "code",
      "source": [
        "df_strat_train['neighborhood'].value_counts(normalize=True)"
      ],
      "metadata": {
        "colab": {
          "base_uri": "https://localhost:8080/"
        },
        "id": "bptOxxS-P6It",
        "outputId": "71070fcb-8faf-4d29-cff1-70c975c7bed6"
      },
      "execution_count": 52,
      "outputs": [
        {
          "output_type": "execute_result",
          "data": {
            "text/plain": [
              " ASA NORTE             0.183508\n",
              " AGUAS CLARAS          0.178777\n",
              " ASA SUL               0.106455\n",
              " SUDOESTE              0.092261\n",
              " TIER_4                0.079419\n",
              " TAGUATINGA            0.064887\n",
              " TIER_3                0.049003\n",
              " NOROESTE              0.046299\n",
              " LAGO NORTE            0.040892\n",
              " SAMAMBAIA             0.028726\n",
              " TIER_2                0.025684\n",
              " PARK SUL              0.021291\n",
              " TIER_1                0.019263\n",
              " TIER_5                0.015546\n",
              " SOBRADINHO            0.014194\n",
              " VICENTE PIRES         0.011152\n",
              " JARDINS MANGUEIRAL    0.010477\n",
              " OCTOGONAL             0.008449\n",
              " TIER_6                0.003717\n",
              "Name: neighborhood, dtype: float64"
            ]
          },
          "metadata": {},
          "execution_count": 52
        }
      ]
    },
    {
      "cell_type": "code",
      "source": [
        "df_strat_test['neighborhood'].value_counts(normalize=True)"
      ],
      "metadata": {
        "colab": {
          "base_uri": "https://localhost:8080/"
        },
        "id": "osDT7NUZP8Zn",
        "outputId": "aa8a5b46-bd4e-40af-c144-4dbd6a3d4a35"
      },
      "execution_count": 53,
      "outputs": [
        {
          "output_type": "execute_result",
          "data": {
            "text/plain": [
              " ASA NORTE             0.183784\n",
              " AGUAS CLARAS          0.178378\n",
              " ASA SUL               0.106757\n",
              " SUDOESTE              0.091892\n",
              " TIER_4                0.079730\n",
              " TAGUATINGA            0.064865\n",
              " TIER_3                0.048649\n",
              " NOROESTE              0.047297\n",
              " LAGO NORTE            0.040541\n",
              " SAMAMBAIA             0.028378\n",
              " TIER_2                0.025676\n",
              " PARK SUL              0.021622\n",
              " TIER_1                0.020270\n",
              " TIER_5                0.014865\n",
              " SOBRADINHO            0.013514\n",
              " JARDINS MANGUEIRAL    0.010811\n",
              " VICENTE PIRES         0.010811\n",
              " OCTOGONAL             0.008108\n",
              " TIER_6                0.004054\n",
              "Name: neighborhood, dtype: float64"
            ]
          },
          "metadata": {},
          "execution_count": 53
        }
      ]
    },
    {
      "cell_type": "code",
      "source": [
        "df_strat_train.shape"
      ],
      "metadata": {
        "colab": {
          "base_uri": "https://localhost:8080/"
        },
        "id": "UTICQzWnP_6g",
        "outputId": "aec0ed06-a8ca-4115-81de-843a042d9110"
      },
      "execution_count": 54,
      "outputs": [
        {
          "output_type": "execute_result",
          "data": {
            "text/plain": [
              "(2959, 8)"
            ]
          },
          "metadata": {},
          "execution_count": 54
        }
      ]
    },
    {
      "cell_type": "code",
      "source": [
        "df_strat_test.shape"
      ],
      "metadata": {
        "colab": {
          "base_uri": "https://localhost:8080/"
        },
        "id": "W1KR_ECWQBAo",
        "outputId": "5dc4b02d-0ea4-4aaa-9814-b0e14b24d4ad"
      },
      "execution_count": 55,
      "outputs": [
        {
          "output_type": "execute_result",
          "data": {
            "text/plain": [
              "(740, 8)"
            ]
          },
          "metadata": {},
          "execution_count": 55
        }
      ]
    },
    {
      "cell_type": "markdown",
      "source": [
        "Correlation heatmap."
      ],
      "metadata": {
        "id": "RF-Ca4D7Qhaj"
      }
    },
    {
      "cell_type": "code",
      "source": [
        "sns.heatmap(df_strat_train.corr(), annot=True)"
      ],
      "metadata": {
        "colab": {
          "base_uri": "https://localhost:8080/",
          "height": 343
        },
        "id": "RwIE-u4aQi6O",
        "outputId": "a8e4cc1f-0b7b-47d8-ba8f-212f12d98f6c"
      },
      "execution_count": 56,
      "outputs": [
        {
          "output_type": "execute_result",
          "data": {
            "text/plain": [
              "<matplotlib.axes._subplots.AxesSubplot at 0x7f93c1bddc50>"
            ]
          },
          "metadata": {},
          "execution_count": 56
        },
        {
          "output_type": "display_data",
          "data": {
            "text/plain": [
              "<Figure size 432x288 with 2 Axes>"
            ],
            "image/png": "[encoded data removed]"
          },
          "metadata": {
            "needs_background": "light"
          }
        }
      ]
    },
    {
      "cell_type": "markdown",
      "source": [
        "# Preparing The Data"
      ],
      "metadata": {
        "id": "9DiZuPCZUUOU"
      }
    },
    {
      "cell_type": "markdown",
      "source": [
        "Creating new combined columns, and checking correlation with it."
      ],
      "metadata": {
        "id": "Ou8Poc92RaVC"
      }
    },
    {
      "cell_type": "code",
      "source": [
        "df_strat_train['bedrooms_per_size'] = df_strat_train['bedrooms'] / df_strat_train['size_m2']\n",
        "df_strat_train['suite_per_size'] = df_strat_train['suite'] / df_strat_train['size_m2']\n",
        "df_strat_train['parking_per_size'] = df_strat_train['parking'] / df_strat_train['size_m2']\n",
        "\n",
        "df_strat_test['bedrooms_per_size'] = df_strat_test['bedrooms'] / df_strat_test['size_m2']\n",
        "df_strat_test['suite_per_size'] = df_strat_test['suite'] / df_strat_test['size_m2']\n",
        "df_strat_test['parking_per_size'] = df_strat_test['parking'] / df_strat_test['size_m2']"
      ],
      "metadata": {
        "id": "tSiEY7QfQzay"
      },
      "execution_count": 57,
      "outputs": []
    },
    {
      "cell_type": "code",
      "source": [
        "sns.heatmap(df_strat_train.corr(), annot=True)"
      ],
      "metadata": {
        "colab": {
          "base_uri": "https://localhost:8080/",
          "height": 373
        },
        "id": "HFOkp2jbRDqc",
        "outputId": "958f1c48-e6f0-453d-80d4-f65536db044d"
      },
      "execution_count": 58,
      "outputs": [
        {
          "output_type": "execute_result",
          "data": {
            "text/plain": [
              "<matplotlib.axes._subplots.AxesSubplot at 0x7f93c16d0f10>"
            ]
          },
          "metadata": {},
          "execution_count": 58
        },
        {
          "output_type": "display_data",
          "data": {
            "text/plain": [
              "<Figure size 432x288 with 2 Axes>"
            ],
            "image/png": "[encoded data removed]"
          },
          "metadata": {
            "needs_background": "light"
          }
        }
      ]
    },
    {
      "cell_type": "code",
      "source": [
        "df_strat_train.corr()['rent'].sort_values(ascending=False)"
      ],
      "metadata": {
        "colab": {
          "base_uri": "https://localhost:8080/"
        },
        "id": "NMmWwbaLT1ys",
        "outputId": "ead35f29-8395-4b63-8691-966717903826"
      },
      "execution_count": 59,
      "outputs": [
        {
          "output_type": "execute_result",
          "data": {
            "text/plain": [
              "rent                 1.000000\n",
              "size_m2              0.775137\n",
              "parking              0.587558\n",
              "rent_per_size        0.583269\n",
              "bedrooms             0.567055\n",
              "suite                0.545104\n",
              "parking_per_size     0.197988\n",
              "suite_per_size      -0.022313\n",
              "bedrooms_per_size   -0.376771\n",
              "Name: rent, dtype: float64"
            ]
          },
          "metadata": {},
          "execution_count": 59
        }
      ]
    },
    {
      "cell_type": "markdown",
      "source": [
        "Dropping the rent per size column, which was created to help preparing the data."
      ],
      "metadata": {
        "id": "9HyU0EAV0D8m"
      }
    },
    {
      "cell_type": "code",
      "source": [
        "df_strat_train = df_strat_train.drop('rent_per_size', axis=1)\n",
        "\n",
        "df_strat_test = df_strat_test.drop('rent_per_size', axis=1)"
      ],
      "metadata": {
        "id": "N7Cw7o4q0Mac"
      },
      "execution_count": 60,
      "outputs": []
    },
    {
      "cell_type": "markdown",
      "source": [
        "Spliting the train and test sets into a X and Y sets. Y refers to the value we are going to predict, rent value, and X refers to the others columns besides it."
      ],
      "metadata": {
        "id": "zclI6ICwUFt5"
      }
    },
    {
      "cell_type": "code",
      "source": [
        "x_train = df_strat_train.drop('rent', axis=1)\n",
        "y_train = df_strat_train['rent']\n",
        "\n",
        "x_test = df_strat_test.drop('rent', axis=1)\n",
        "y_test = df_strat_test['rent']"
      ],
      "metadata": {
        "id": "9gFc1sXhUFQK"
      },
      "execution_count": 61,
      "outputs": []
    },
    {
      "cell_type": "code",
      "source": [
        "x_train.shape"
      ],
      "metadata": {
        "colab": {
          "base_uri": "https://localhost:8080/"
        },
        "id": "686XHwv4UZq_",
        "outputId": "862f5b80-c80e-41c6-c5bc-87636de1671e"
      },
      "execution_count": 62,
      "outputs": [
        {
          "output_type": "execute_result",
          "data": {
            "text/plain": [
              "(2959, 9)"
            ]
          },
          "metadata": {},
          "execution_count": 62
        }
      ]
    },
    {
      "cell_type": "code",
      "source": [
        "x_test.shape"
      ],
      "metadata": {
        "colab": {
          "base_uri": "https://localhost:8080/"
        },
        "id": "MyePQY2UUcVc",
        "outputId": "1088b6de-89f3-4e6b-c1d2-78d0ffa871f4"
      },
      "execution_count": 63,
      "outputs": [
        {
          "output_type": "execute_result",
          "data": {
            "text/plain": [
              "(740, 9)"
            ]
          },
          "metadata": {},
          "execution_count": 63
        }
      ]
    },
    {
      "cell_type": "code",
      "source": [
        "x_train.info()"
      ],
      "metadata": {
        "colab": {
          "base_uri": "https://localhost:8080/"
        },
        "id": "Z33tlZ27Ulzi",
        "outputId": "401b9a14-77ec-4dcc-fd3a-61b9d027de85"
      },
      "execution_count": 64,
      "outputs": [
        {
          "output_type": "stream",
          "name": "stdout",
          "text": [
            "<class 'pandas.core.frame.DataFrame'>\n",
            "Int64Index: 2959 entries, 39 to 2401\n",
            "Data columns (total 9 columns):\n",
            " #   Column             Non-Null Count  Dtype  \n",
            "---  ------             --------------  -----  \n",
            " 0   size_m2            2959 non-null   int64  \n",
            " 1   property_type      2959 non-null   object \n",
            " 2   bedrooms           2959 non-null   float64\n",
            " 3   suite              2959 non-null   float64\n",
            " 4   parking            2959 non-null   float64\n",
            " 5   neighborhood       2959 non-null   object \n",
            " 6   bedrooms_per_size  2959 non-null   float64\n",
            " 7   suite_per_size     2959 non-null   float64\n",
            " 8   parking_per_size   2959 non-null   float64\n",
            "dtypes: float64(6), int64(1), object(2)\n",
            "memory usage: 231.2+ KB\n"
          ]
        }
      ]
    },
    {
      "cell_type": "code",
      "source": [
        "x_test.info()"
      ],
      "metadata": {
        "colab": {
          "base_uri": "https://localhost:8080/"
        },
        "id": "WsW0YWBkUnex",
        "outputId": "70e6ca17-04dc-4a46-a8b8-59c4ef083467"
      },
      "execution_count": 65,
      "outputs": [
        {
          "output_type": "stream",
          "name": "stdout",
          "text": [
            "<class 'pandas.core.frame.DataFrame'>\n",
            "Int64Index: 740 entries, 2339 to 2656\n",
            "Data columns (total 9 columns):\n",
            " #   Column             Non-Null Count  Dtype  \n",
            "---  ------             --------------  -----  \n",
            " 0   size_m2            740 non-null    int64  \n",
            " 1   property_type      740 non-null    object \n",
            " 2   bedrooms           740 non-null    float64\n",
            " 3   suite              740 non-null    float64\n",
            " 4   parking            740 non-null    float64\n",
            " 5   neighborhood       740 non-null    object \n",
            " 6   bedrooms_per_size  740 non-null    float64\n",
            " 7   suite_per_size     740 non-null    float64\n",
            " 8   parking_per_size   740 non-null    float64\n",
            "dtypes: float64(6), int64(1), object(2)\n",
            "memory usage: 57.8+ KB\n"
          ]
        }
      ]
    },
    {
      "cell_type": "markdown",
      "source": [
        "Transforming categorical columns. In this case, the neighborhood and property_type columns."
      ],
      "metadata": {
        "id": "OcKU_YLXU2qf"
      }
    },
    {
      "cell_type": "code",
      "source": [
        "x_train.neighborhood.value_counts()"
      ],
      "metadata": {
        "colab": {
          "base_uri": "https://localhost:8080/"
        },
        "id": "uKcSt2pQUrpR",
        "outputId": "b24c4f9f-3afa-49aa-eeca-445cf390976a"
      },
      "execution_count": 66,
      "outputs": [
        {
          "output_type": "execute_result",
          "data": {
            "text/plain": [
              " ASA NORTE             543\n",
              " AGUAS CLARAS          529\n",
              " ASA SUL               315\n",
              " SUDOESTE              273\n",
              " TIER_4                235\n",
              " TAGUATINGA            192\n",
              " TIER_3                145\n",
              " NOROESTE              137\n",
              " LAGO NORTE            121\n",
              " SAMAMBAIA              85\n",
              " TIER_2                 76\n",
              " PARK SUL               63\n",
              " TIER_1                 57\n",
              " TIER_5                 46\n",
              " SOBRADINHO             42\n",
              " VICENTE PIRES          33\n",
              " JARDINS MANGUEIRAL     31\n",
              " OCTOGONAL              25\n",
              " TIER_6                 11\n",
              "Name: neighborhood, dtype: int64"
            ]
          },
          "metadata": {},
          "execution_count": 66
        }
      ]
    },
    {
      "cell_type": "code",
      "source": [
        "x_train = pd.get_dummies(x_train)\n",
        "\n",
        "x_test = pd.get_dummies(x_test)"
      ],
      "metadata": {
        "id": "H5bdjN69Uvwt"
      },
      "execution_count": 67,
      "outputs": []
    },
    {
      "cell_type": "markdown",
      "source": [
        "Scalling the data. Robust scaler will be used here, as we have outliers. Standard scaler would not deal well with these outliers."
      ],
      "metadata": {
        "id": "LEbJzjsbVI5S"
      }
    },
    {
      "cell_type": "code",
      "source": [
        "x_train.describe()"
      ],
      "metadata": {
        "colab": {
          "base_uri": "https://localhost:8080/",
          "height": 411
        },
        "id": "NW6nqnJHVEuO",
        "outputId": "e3e6616e-765c-422b-a9cb-b7ed56fa0b36"
      },
      "execution_count": 68,
      "outputs": [
        {
          "output_type": "execute_result",
          "data": {
            "text/plain": [
              "           size_m2     bedrooms        suite      parking  bedrooms_per_size  \\\n",
              "count  2959.000000  2959.000000  2959.000000  2959.000000        2959.000000   \n",
              "mean     65.272051     1.838121     0.770531     0.487327           0.031081   \n",
              "std      46.898636     0.907757     0.669834     0.766364           0.008536   \n",
              "min      11.000000     0.000000     0.000000     0.000000           0.000000   \n",
              "25%      34.000000     1.000000     0.000000     0.000000           0.025000   \n",
              "50%      52.000000     2.000000     1.000000     0.000000           0.031250   \n",
              "75%      78.000000     2.000000     1.000000     1.000000           0.036364   \n",
              "max     900.000000     5.000000     4.000000     5.000000           0.090909   \n",
              "\n",
              "       suite_per_size  parking_per_size  property_type_Apartamento   \\\n",
              "count     2959.000000       2959.000000                 2959.000000   \n",
              "mean         0.013542          0.006506                    0.818520   \n",
              "std          0.012744          0.010355                    0.385481   \n",
              "min          0.000000          0.000000                    0.000000   \n",
              "25%          0.000000          0.000000                    1.000000   \n",
              "50%          0.012500          0.000000                    1.000000   \n",
              "75%          0.021277          0.012195                    1.000000   \n",
              "max          0.090909          0.068966                    1.000000   \n",
              "\n",
              "       property_type_Kitnet   neighborhood_ AGUAS CLARAS  ...  \\\n",
              "count            2959.000000                 2959.000000  ...   \n",
              "mean                0.181480                    0.178777  ...   \n",
              "std                 0.385481                    0.383230  ...   \n",
              "min                 0.000000                    0.000000  ...   \n",
              "25%                 0.000000                    0.000000  ...   \n",
              "50%                 0.000000                    0.000000  ...   \n",
              "75%                 0.000000                    0.000000  ...   \n",
              "max                 1.000000                    1.000000  ...   \n",
              "\n",
              "       neighborhood_ SOBRADINHO  neighborhood_ SUDOESTE  \\\n",
              "count               2959.000000             2959.000000   \n",
              "mean                   0.014194                0.092261   \n",
              "std                    0.118310                0.289443   \n",
              "min                    0.000000                0.000000   \n",
              "25%                    0.000000                0.000000   \n",
              "50%                    0.000000                0.000000   \n",
              "75%                    0.000000                0.000000   \n",
              "max                    1.000000                1.000000   \n",
              "\n",
              "       neighborhood_ TAGUATINGA  neighborhood_ TIER_1  neighborhood_ TIER_2  \\\n",
              "count               2959.000000           2959.000000           2959.000000   \n",
              "mean                   0.064887              0.019263              0.025684   \n",
              "std                    0.246368              0.137472              0.158219   \n",
              "min                    0.000000              0.000000              0.000000   \n",
              "25%                    0.000000              0.000000              0.000000   \n",
              "50%                    0.000000              0.000000              0.000000   \n",
              "75%                    0.000000              0.000000              0.000000   \n",
              "max                    1.000000              1.000000              1.000000   \n",
              "\n",
              "       neighborhood_ TIER_3  neighborhood_ TIER_4  neighborhood_ TIER_5  \\\n",
              "count           2959.000000           2959.000000           2959.000000   \n",
              "mean               0.049003              0.079419              0.015546   \n",
              "std                0.215911              0.270437              0.123731   \n",
              "min                0.000000              0.000000              0.000000   \n",
              "25%                0.000000              0.000000              0.000000   \n",
              "50%                0.000000              0.000000              0.000000   \n",
              "75%                0.000000              0.000000              0.000000   \n",
              "max                1.000000              1.000000              1.000000   \n",
              "\n",
              "       neighborhood_ TIER_6  neighborhood_ VICENTE PIRES  \n",
              "count           2959.000000                  2959.000000  \n",
              "mean               0.003717                     0.011152  \n",
              "std                0.060868                     0.105032  \n",
              "min                0.000000                     0.000000  \n",
              "25%                0.000000                     0.000000  \n",
              "50%                0.000000                     0.000000  \n",
              "75%                0.000000                     0.000000  \n",
              "max                1.000000                     1.000000  \n",
              "\n",
              "[8 rows x 28 columns]"
            ],
            "text/html": [
              "\n",
              "  <div id=\"df-e7ffbdc7-4492-4f6d-84a7-ab2193c81f5d\">\n",
              "    <div class=\"colab-df-container\">\n",
              "      <div>\n",
              "<style scoped>\n",
              "    .dataframe tbody tr th:only-of-type {\n",
              "        vertical-align: middle;\n",
              "    }\n",
              "\n",
              "    .dataframe tbody tr th {\n",
              "        vertical-align: top;\n",
              "    }\n",
              "\n",
              "    .dataframe thead th {\n",
              "        text-align: right;\n",
              "    }\n",
              "</style>\n",
              "<table border=\"1\" class=\"dataframe\">\n",
              "  <thead>\n",
              "    <tr style=\"text-align: right;\">\n",
              "      <th></th>\n",
              "      <th>size_m2</th>\n",
              "      <th>bedrooms</th>\n",
              "      <th>suite</th>\n",
              "      <th>parking</th>\n",
              "      <th>bedrooms_per_size</th>\n",
              "      <th>suite_per_size</th>\n",
              "      <th>parking_per_size</th>\n",
              "      <th>property_type_Apartamento</th>\n",
              "      <th>property_type_Kitnet</th>\n",
              "      <th>neighborhood_ AGUAS CLARAS</th>\n",
              "      <th>...</th>\n",
              "      <th>neighborhood_ SOBRADINHO</th>\n",
              "      <th>neighborhood_ SUDOESTE</th>\n",
              "      <th>neighborhood_ TAGUATINGA</th>\n",
              "      <th>neighborhood_ TIER_1</th>\n",
              "      <th>neighborhood_ TIER_2</th>\n",
              "      <th>neighborhood_ TIER_3</th>\n",
              "      <th>neighborhood_ TIER_4</th>\n",
              "      <th>neighborhood_ TIER_5</th>\n",
              "      <th>neighborhood_ TIER_6</th>\n",
              "      <th>neighborhood_ VICENTE PIRES</th>\n",
              "    </tr>\n",
              "  </thead>\n",
              "  <tbody>\n",
              "    <tr>\n",
              "      <th>count</th>\n",
              "      <td>2959.000000</td>\n",
              "      <td>2959.000000</td>\n",
              "      <td>2959.000000</td>\n",
              "      <td>2959.000000</td>\n",
              "      <td>2959.000000</td>\n",
              "      <td>2959.000000</td>\n",
              "      <td>2959.000000</td>\n",
              "      <td>2959.000000</td>\n",
              "      <td>2959.000000</td>\n",
              "      <td>2959.000000</td>\n",
              "      <td>...</td>\n",
              "      <td>2959.000000</td>\n",
              "      <td>2959.000000</td>\n",
              "      <td>2959.000000</td>\n",
              "      <td>2959.000000</td>\n",
              "      <td>2959.000000</td>\n",
              "      <td>2959.000000</td>\n",
              "      <td>2959.000000</td>\n",
              "      <td>2959.000000</td>\n",
              "      <td>2959.000000</td>\n",
              "      <td>2959.000000</td>\n",
              "    </tr>\n",
              "    <tr>\n",
              "      <th>mean</th>\n",
              "      <td>65.272051</td>\n",
              "      <td>1.838121</td>\n",
              "      <td>0.770531</td>\n",
              "      <td>0.487327</td>\n",
              "      <td>0.031081</td>\n",
              "      <td>0.013542</td>\n",
              "      <td>0.006506</td>\n",
              "      <td>0.818520</td>\n",
              "      <td>0.181480</td>\n",
              "      <td>0.178777</td>\n",
              "      <td>...</td>\n",
              "      <td>0.014194</td>\n",
              "      <td>0.092261</td>\n",
              "      <td>0.064887</td>\n",
              "      <td>0.019263</td>\n",
              "      <td>0.025684</td>\n",
              "      <td>0.049003</td>\n",
              "      <td>0.079419</td>\n",
              "      <td>0.015546</td>\n",
              "      <td>0.003717</td>\n",
              "      <td>0.011152</td>\n",
              "    </tr>\n",
              "    <tr>\n",
              "      <th>std</th>\n",
              "      <td>46.898636</td>\n",
              "      <td>0.907757</td>\n",
              "      <td>0.669834</td>\n",
              "      <td>0.766364</td>\n",
              "      <td>0.008536</td>\n",
              "      <td>0.012744</td>\n",
              "      <td>0.010355</td>\n",
              "      <td>0.385481</td>\n",
              "      <td>0.385481</td>\n",
              "      <td>0.383230</td>\n",
              "      <td>...</td>\n",
              "      <td>0.118310</td>\n",
              "      <td>0.289443</td>\n",
              "      <td>0.246368</td>\n",
              "      <td>0.137472</td>\n",
              "      <td>0.158219</td>\n",
              "      <td>0.215911</td>\n",
              "      <td>0.270437</td>\n",
              "      <td>0.123731</td>\n",
              "      <td>0.060868</td>\n",
              "      <td>0.105032</td>\n",
              "    </tr>\n",
              "    <tr>\n",
              "      <th>min</th>\n",
              "      <td>11.000000</td>\n",
              "      <td>0.000000</td>\n",
              "      <td>0.000000</td>\n",
              "      <td>0.000000</td>\n",
              "      <td>0.000000</td>\n",
              "      <td>0.000000</td>\n",
              "      <td>0.000000</td>\n",
              "      <td>0.000000</td>\n",
              "      <td>0.000000</td>\n",
              "      <td>0.000000</td>\n",
              "      <td>...</td>\n",
              "      <td>0.000000</td>\n",
              "      <td>0.000000</td>\n",
              "      <td>0.000000</td>\n",
              "      <td>0.000000</td>\n",
              "      <td>0.000000</td>\n",
              "      <td>0.000000</td>\n",
              "      <td>0.000000</td>\n",
              "      <td>0.000000</td>\n",
              "      <td>0.000000</td>\n",
              "      <td>0.000000</td>\n",
              "    </tr>\n",
              "    <tr>\n",
              "      <th>25%</th>\n",
              "      <td>34.000000</td>\n",
              "      <td>1.000000</td>\n",
              "      <td>0.000000</td>\n",
              "      <td>0.000000</td>\n",
              "      <td>0.025000</td>\n",
              "      <td>0.000000</td>\n",
              "      <td>0.000000</td>\n",
              "      <td>1.000000</td>\n",
              "      <td>0.000000</td>\n",
              "      <td>0.000000</td>\n",
              "      <td>...</td>\n",
              "      <td>0.000000</td>\n",
              "      <td>0.000000</td>\n",
              "      <td>0.000000</td>\n",
              "      <td>0.000000</td>\n",
              "      <td>0.000000</td>\n",
              "      <td>0.000000</td>\n",
              "      <td>0.000000</td>\n",
              "      <td>0.000000</td>\n",
              "      <td>0.000000</td>\n",
              "      <td>0.000000</td>\n",
              "    </tr>\n",
              "    <tr>\n",
              "      <th>50%</th>\n",
              "      <td>52.000000</td>\n",
              "      <td>2.000000</td>\n",
              "      <td>1.000000</td>\n",
              "      <td>0.000000</td>\n",
              "      <td>0.031250</td>\n",
              "      <td>0.012500</td>\n",
              "      <td>0.000000</td>\n",
              "      <td>1.000000</td>\n",
              "      <td>0.000000</td>\n",
              "      <td>0.000000</td>\n",
              "      <td>...</td>\n",
              "      <td>0.000000</td>\n",
              "      <td>0.000000</td>\n",
              "      <td>0.000000</td>\n",
              "      <td>0.000000</td>\n",
              "      <td>0.000000</td>\n",
              "      <td>0.000000</td>\n",
              "      <td>0.000000</td>\n",
              "      <td>0.000000</td>\n",
              "      <td>0.000000</td>\n",
              "      <td>0.000000</td>\n",
              "    </tr>\n",
              "    <tr>\n",
              "      <th>75%</th>\n",
              "      <td>78.000000</td>\n",
              "      <td>2.000000</td>\n",
              "      <td>1.000000</td>\n",
              "      <td>1.000000</td>\n",
              "      <td>0.036364</td>\n",
              "      <td>0.021277</td>\n",
              "      <td>0.012195</td>\n",
              "      <td>1.000000</td>\n",
              "      <td>0.000000</td>\n",
              "      <td>0.000000</td>\n",
              "      <td>...</td>\n",
              "      <td>0.000000</td>\n",
              "      <td>0.000000</td>\n",
              "      <td>0.000000</td>\n",
              "      <td>0.000000</td>\n",
              "      <td>0.000000</td>\n",
              "      <td>0.000000</td>\n",
              "      <td>0.000000</td>\n",
              "      <td>0.000000</td>\n",
              "      <td>0.000000</td>\n",
              "      <td>0.000000</td>\n",
              "    </tr>\n",
              "    <tr>\n",
              "      <th>max</th>\n",
              "      <td>900.000000</td>\n",
              "      <td>5.000000</td>\n",
              "      <td>4.000000</td>\n",
              "      <td>5.000000</td>\n",
              "      <td>0.090909</td>\n",
              "      <td>0.090909</td>\n",
              "      <td>0.068966</td>\n",
              "      <td>1.000000</td>\n",
              "      <td>1.000000</td>\n",
              "      <td>1.000000</td>\n",
              "      <td>...</td>\n",
              "      <td>1.000000</td>\n",
              "      <td>1.000000</td>\n",
              "      <td>1.000000</td>\n",
              "      <td>1.000000</td>\n",
              "      <td>1.000000</td>\n",
              "      <td>1.000000</td>\n",
              "      <td>1.000000</td>\n",
              "      <td>1.000000</td>\n",
              "      <td>1.000000</td>\n",
              "      <td>1.000000</td>\n",
              "    </tr>\n",
              "  </tbody>\n",
              "</table>\n",
              "<p>8 rows × 28 columns</p>\n",
              "</div>\n",
              "      <button class=\"colab-df-convert\" onclick=\"convertToInteractive('df-e7ffbdc7-4492-4f6d-84a7-ab2193c81f5d')\"\n",
              "              title=\"Convert this dataframe to an interactive table.\"\n",
              "              style=\"display:none;\">\n",
              "        \n",
              "  <svg xmlns=\"http://www.w3.org/2000/svg\" height=\"24px\"viewBox=\"0 0 24 24\"\n",
              "       width=\"24px\">\n",
              "    <path d=\"M0 0h24v24H0V0z\" fill=\"none\"/>\n",
              "    <path d=\"M18.56 5.44l.94 2.06.94-2.06 2.06-.94-2.06-.94-.94-2.06-.94 2.06-2.06.94zm-11 1L8.5 8.5l.94-2.06 2.06-.94-2.06-.94L8.5 2.5l-.94 2.06-2.06.94zm10 10l.94 2.06.94-2.06 2.06-.94-2.06-.94-.94-2.06-.94 2.06-2.06.94z\"/><path d=\"M17.41 7.96l-1.37-1.37c-.4-.4-.92-.59-1.43-.59-.52 0-1.04.2-1.43.59L10.3 9.45l-7.72 7.72c-.78.78-.78 2.05 0 2.83L4 21.41c.39.39.9.59 1.41.59.51 0 1.02-.2 1.41-.59l7.78-7.78 2.81-2.81c.8-.78.8-2.07 0-2.86zM5.41 20L4 18.59l7.72-7.72 1.47 1.35L5.41 20z\"/>\n",
              "  </svg>\n",
              "      </button>\n",
              "      \n",
              "  <style>\n",
              "    .colab-df-container {\n",
              "      display:flex;\n",
              "      flex-wrap:wrap;\n",
              "      gap: 12px;\n",
              "    }\n",
              "\n",
              "    .colab-df-convert {\n",
              "      background-color: #E8F0FE;\n",
              "      border: none;\n",
              "      border-radius: 50%;\n",
              "      cursor: pointer;\n",
              "      display: none;\n",
              "      fill: #1967D2;\n",
              "      height: 32px;\n",
              "      padding: 0 0 0 0;\n",
              "      width: 32px;\n",
              "    }\n",
              "\n",
              "    .colab-df-convert:hover {\n",
              "      background-color: #E2EBFA;\n",
              "      box-shadow: 0px 1px 2px rgba(60, 64, 67, 0.3), 0px 1px 3px 1px rgba(60, 64, 67, 0.15);\n",
              "      fill: #174EA6;\n",
              "    }\n",
              "\n",
              "    [theme=dark] .colab-df-convert {\n",
              "      background-color: #3B4455;\n",
              "      fill: #D2E3FC;\n",
              "    }\n",
              "\n",
              "    [theme=dark] .colab-df-convert:hover {\n",
              "      background-color: #434B5C;\n",
              "      box-shadow: 0px 1px 3px 1px rgba(0, 0, 0, 0.15);\n",
              "      filter: drop-shadow(0px 1px 2px rgba(0, 0, 0, 0.3));\n",
              "      fill: #FFFFFF;\n",
              "    }\n",
              "  </style>\n",
              "\n",
              "      <script>\n",
              "        const buttonEl =\n",
              "          document.querySelector('#df-e7ffbdc7-4492-4f6d-84a7-ab2193c81f5d button.colab-df-convert');\n",
              "        buttonEl.style.display =\n",
              "          google.colab.kernel.accessAllowed ? 'block' : 'none';\n",
              "\n",
              "        async function convertToInteractive(key) {\n",
              "          const element = document.querySelector('#df-e7ffbdc7-4492-4f6d-84a7-ab2193c81f5d');\n",
              "          const dataTable =\n",
              "            await google.colab.kernel.invokeFunction('convertToInteractive',\n",
              "                                                     [key], {});\n",
              "          if (!dataTable) return;\n",
              "\n",
              "          const docLinkHtml = 'Like what you see? Visit the ' +\n",
              "            '<a target=\"_blank\" href=https://colab.research.google.com/notebooks/data_table.ipynb>data table notebook</a>'\n",
              "            + ' to learn more about interactive tables.';\n",
              "          element.innerHTML = '';\n",
              "          dataTable['output_type'] = 'display_data';\n",
              "          await google.colab.output.renderOutput(dataTable, element);\n",
              "          const docLink = document.createElement('div');\n",
              "          docLink.innerHTML = docLinkHtml;\n",
              "          element.appendChild(docLink);\n",
              "        }\n",
              "      </script>\n",
              "    </div>\n",
              "  </div>\n",
              "  "
            ]
          },
          "metadata": {},
          "execution_count": 68
        }
      ]
    },
    {
      "cell_type": "code",
      "source": [
        "x_train.columns"
      ],
      "metadata": {
        "colab": {
          "base_uri": "https://localhost:8080/"
        },
        "id": "HA2ob8PeVxZS",
        "outputId": "88b2c66e-cac6-48f4-e44e-d2e0092c145c"
      },
      "execution_count": 69,
      "outputs": [
        {
          "output_type": "execute_result",
          "data": {
            "text/plain": [
              "Index(['size_m2', 'bedrooms', 'suite', 'parking', 'bedrooms_per_size',\n",
              "       'suite_per_size', 'parking_per_size', 'property_type_Apartamento ',\n",
              "       'property_type_Kitnet ', 'neighborhood_ AGUAS CLARAS',\n",
              "       'neighborhood_ ASA NORTE', 'neighborhood_ ASA SUL',\n",
              "       'neighborhood_ JARDINS MANGUEIRAL', 'neighborhood_ LAGO NORTE',\n",
              "       'neighborhood_ NOROESTE', 'neighborhood_ OCTOGONAL',\n",
              "       'neighborhood_ PARK SUL', 'neighborhood_ SAMAMBAIA',\n",
              "       'neighborhood_ SOBRADINHO', 'neighborhood_ SUDOESTE',\n",
              "       'neighborhood_ TAGUATINGA', 'neighborhood_ TIER_1',\n",
              "       'neighborhood_ TIER_2', 'neighborhood_ TIER_3', 'neighborhood_ TIER_4',\n",
              "       'neighborhood_ TIER_5', 'neighborhood_ TIER_6',\n",
              "       'neighborhood_ VICENTE PIRES'],\n",
              "      dtype='object')"
            ]
          },
          "metadata": {},
          "execution_count": 69
        }
      ]
    },
    {
      "cell_type": "code",
      "source": [
        "x_train.columns[:7]"
      ],
      "metadata": {
        "colab": {
          "base_uri": "https://localhost:8080/"
        },
        "id": "SbZno4hKV0Qo",
        "outputId": "f5092388-2ed8-47f4-af8c-5fe6197dc283"
      },
      "execution_count": 71,
      "outputs": [
        {
          "output_type": "execute_result",
          "data": {
            "text/plain": [
              "Index(['size_m2', 'bedrooms', 'suite', 'parking', 'bedrooms_per_size',\n",
              "       'suite_per_size', 'parking_per_size'],\n",
              "      dtype='object')"
            ]
          },
          "metadata": {},
          "execution_count": 71
        }
      ]
    },
    {
      "cell_type": "code",
      "source": [
        "num_attributes = x_train.columns[:7]\n",
        "\n",
        "x_train[num_attributes].head()"
      ],
      "metadata": {
        "colab": {
          "base_uri": "https://localhost:8080/",
          "height": 206
        },
        "id": "bLDK53qsWdHv",
        "outputId": "ee93211f-ae77-431d-c4dd-34205e242c9f"
      },
      "execution_count": 72,
      "outputs": [
        {
          "output_type": "execute_result",
          "data": {
            "text/plain": [
              "      size_m2  bedrooms  suite  parking  bedrooms_per_size  suite_per_size  \\\n",
              "39         90       2.0    0.0      0.0           0.022222        0.000000   \n",
              "2246       70       2.0    0.0      0.0           0.028571        0.000000   \n",
              "1591      104       3.0    1.0      0.0           0.028846        0.009615   \n",
              "3633       70       3.0    0.0      0.0           0.042857        0.000000   \n",
              "2286       25       1.0    1.0      0.0           0.040000        0.040000   \n",
              "\n",
              "      parking_per_size  \n",
              "39                 0.0  \n",
              "2246               0.0  \n",
              "1591               0.0  \n",
              "3633               0.0  \n",
              "2286               0.0  "
            ],
            "text/html": [
              "\n",
              "  <div id=\"df-adcc9ae7-def3-4384-a01c-e0db05903db5\">\n",
              "    <div class=\"colab-df-container\">\n",
              "      <div>\n",
              "<style scoped>\n",
              "    .dataframe tbody tr th:only-of-type {\n",
              "        vertical-align: middle;\n",
              "    }\n",
              "\n",
              "    .dataframe tbody tr th {\n",
              "        vertical-align: top;\n",
              "    }\n",
              "\n",
              "    .dataframe thead th {\n",
              "        text-align: right;\n",
              "    }\n",
              "</style>\n",
              "<table border=\"1\" class=\"dataframe\">\n",
              "  <thead>\n",
              "    <tr style=\"text-align: right;\">\n",
              "      <th></th>\n",
              "      <th>size_m2</th>\n",
              "      <th>bedrooms</th>\n",
              "      <th>suite</th>\n",
              "      <th>parking</th>\n",
              "      <th>bedrooms_per_size</th>\n",
              "      <th>suite_per_size</th>\n",
              "      <th>parking_per_size</th>\n",
              "    </tr>\n",
              "  </thead>\n",
              "  <tbody>\n",
              "    <tr>\n",
              "      <th>39</th>\n",
              "      <td>90</td>\n",
              "      <td>2.0</td>\n",
              "      <td>0.0</td>\n",
              "      <td>0.0</td>\n",
              "      <td>0.022222</td>\n",
              "      <td>0.000000</td>\n",
              "      <td>0.0</td>\n",
              "    </tr>\n",
              "    <tr>\n",
              "      <th>2246</th>\n",
              "      <td>70</td>\n",
              "      <td>2.0</td>\n",
              "      <td>0.0</td>\n",
              "      <td>0.0</td>\n",
              "      <td>0.028571</td>\n",
              "      <td>0.000000</td>\n",
              "      <td>0.0</td>\n",
              "    </tr>\n",
              "    <tr>\n",
              "      <th>1591</th>\n",
              "      <td>104</td>\n",
              "      <td>3.0</td>\n",
              "      <td>1.0</td>\n",
              "      <td>0.0</td>\n",
              "      <td>0.028846</td>\n",
              "      <td>0.009615</td>\n",
              "      <td>0.0</td>\n",
              "    </tr>\n",
              "    <tr>\n",
              "      <th>3633</th>\n",
              "      <td>70</td>\n",
              "      <td>3.0</td>\n",
              "      <td>0.0</td>\n",
              "      <td>0.0</td>\n",
              "      <td>0.042857</td>\n",
              "      <td>0.000000</td>\n",
              "      <td>0.0</td>\n",
              "    </tr>\n",
              "    <tr>\n",
              "      <th>2286</th>\n",
              "      <td>25</td>\n",
              "      <td>1.0</td>\n",
              "      <td>1.0</td>\n",
              "      <td>0.0</td>\n",
              "      <td>0.040000</td>\n",
              "      <td>0.040000</td>\n",
              "      <td>0.0</td>\n",
              "    </tr>\n",
              "  </tbody>\n",
              "</table>\n",
              "</div>\n",
              "      <button class=\"colab-df-convert\" onclick=\"convertToInteractive('df-adcc9ae7-def3-4384-a01c-e0db05903db5')\"\n",
              "              title=\"Convert this dataframe to an interactive table.\"\n",
              "              style=\"display:none;\">\n",
              "        \n",
              "  <svg xmlns=\"http://www.w3.org/2000/svg\" height=\"24px\"viewBox=\"0 0 24 24\"\n",
              "       width=\"24px\">\n",
              "    <path d=\"M0 0h24v24H0V0z\" fill=\"none\"/>\n",
              "    <path d=\"M18.56 5.44l.94 2.06.94-2.06 2.06-.94-2.06-.94-.94-2.06-.94 2.06-2.06.94zm-11 1L8.5 8.5l.94-2.06 2.06-.94-2.06-.94L8.5 2.5l-.94 2.06-2.06.94zm10 10l.94 2.06.94-2.06 2.06-.94-2.06-.94-.94-2.06-.94 2.06-2.06.94z\"/><path d=\"M17.41 7.96l-1.37-1.37c-.4-.4-.92-.59-1.43-.59-.52 0-1.04.2-1.43.59L10.3 9.45l-7.72 7.72c-.78.78-.78 2.05 0 2.83L4 21.41c.39.39.9.59 1.41.59.51 0 1.02-.2 1.41-.59l7.78-7.78 2.81-2.81c.8-.78.8-2.07 0-2.86zM5.41 20L4 18.59l7.72-7.72 1.47 1.35L5.41 20z\"/>\n",
              "  </svg>\n",
              "      </button>\n",
              "      \n",
              "  <style>\n",
              "    .colab-df-container {\n",
              "      display:flex;\n",
              "      flex-wrap:wrap;\n",
              "      gap: 12px;\n",
              "    }\n",
              "\n",
              "    .colab-df-convert {\n",
              "      background-color: #E8F0FE;\n",
              "      border: none;\n",
              "      border-radius: 50%;\n",
              "      cursor: pointer;\n",
              "      display: none;\n",
              "      fill: #1967D2;\n",
              "      height: 32px;\n",
              "      padding: 0 0 0 0;\n",
              "      width: 32px;\n",
              "    }\n",
              "\n",
              "    .colab-df-convert:hover {\n",
              "      background-color: #E2EBFA;\n",
              "      box-shadow: 0px 1px 2px rgba(60, 64, 67, 0.3), 0px 1px 3px 1px rgba(60, 64, 67, 0.15);\n",
              "      fill: #174EA6;\n",
              "    }\n",
              "\n",
              "    [theme=dark] .colab-df-convert {\n",
              "      background-color: #3B4455;\n",
              "      fill: #D2E3FC;\n",
              "    }\n",
              "\n",
              "    [theme=dark] .colab-df-convert:hover {\n",
              "      background-color: #434B5C;\n",
              "      box-shadow: 0px 1px 3px 1px rgba(0, 0, 0, 0.15);\n",
              "      filter: drop-shadow(0px 1px 2px rgba(0, 0, 0, 0.3));\n",
              "      fill: #FFFFFF;\n",
              "    }\n",
              "  </style>\n",
              "\n",
              "      <script>\n",
              "        const buttonEl =\n",
              "          document.querySelector('#df-adcc9ae7-def3-4384-a01c-e0db05903db5 button.colab-df-convert');\n",
              "        buttonEl.style.display =\n",
              "          google.colab.kernel.accessAllowed ? 'block' : 'none';\n",
              "\n",
              "        async function convertToInteractive(key) {\n",
              "          const element = document.querySelector('#df-adcc9ae7-def3-4384-a01c-e0db05903db5');\n",
              "          const dataTable =\n",
              "            await google.colab.kernel.invokeFunction('convertToInteractive',\n",
              "                                                     [key], {});\n",
              "          if (!dataTable) return;\n",
              "\n",
              "          const docLinkHtml = 'Like what you see? Visit the ' +\n",
              "            '<a target=\"_blank\" href=https://colab.research.google.com/notebooks/data_table.ipynb>data table notebook</a>'\n",
              "            + ' to learn more about interactive tables.';\n",
              "          element.innerHTML = '';\n",
              "          dataTable['output_type'] = 'display_data';\n",
              "          await google.colab.output.renderOutput(dataTable, element);\n",
              "          const docLink = document.createElement('div');\n",
              "          docLink.innerHTML = docLinkHtml;\n",
              "          element.appendChild(docLink);\n",
              "        }\n",
              "      </script>\n",
              "    </div>\n",
              "  </div>\n",
              "  "
            ]
          },
          "metadata": {},
          "execution_count": 72
        }
      ]
    },
    {
      "cell_type": "markdown",
      "source": [
        "Transformer fitting, using the training data."
      ],
      "metadata": {
        "id": "H_cu6Xn2Whvj"
      }
    },
    {
      "cell_type": "code",
      "source": [
        "transformer = RobustScaler().fit(x_train[num_attributes])"
      ],
      "metadata": {
        "id": "HlmIXEJYWiU_"
      },
      "execution_count": 73,
      "outputs": []
    },
    {
      "cell_type": "code",
      "source": [
        "x_train[num_attributes].boxplot(rot=90)"
      ],
      "metadata": {
        "colab": {
          "base_uri": "https://localhost:8080/",
          "height": 369
        },
        "id": "bSHvWlIAWo5y",
        "outputId": "ae5906bb-2a34-4af9-d668-e6822abb09da"
      },
      "execution_count": 74,
      "outputs": [
        {
          "output_type": "execute_result",
          "data": {
            "text/plain": [
              "<matplotlib.axes._subplots.AxesSubplot at 0x7f93bd587e90>"
            ]
          },
          "metadata": {},
          "execution_count": 74
        },
        {
          "output_type": "display_data",
          "data": {
            "text/plain": [
              "<Figure size 432x288 with 1 Axes>"
            ],
            "image/png": "[encoded data removed]"
          },
          "metadata": {
            "needs_background": "light"
          }
        }
      ]
    },
    {
      "cell_type": "code",
      "source": [
        "x_train[num_attributes] = transformer.transform(x_train[num_attributes])\n",
        "\n",
        "x_train.head()"
      ],
      "metadata": {
        "colab": {
          "base_uri": "https://localhost:8080/",
          "height": 317
        },
        "id": "zD7F8MxdWvXl",
        "outputId": "d234cc16-44fd-45b4-ff92-fb82e0251037"
      },
      "execution_count": 75,
      "outputs": [
        {
          "output_type": "execute_result",
          "data": {
            "text/plain": [
              "       size_m2  bedrooms  suite  parking  bedrooms_per_size  suite_per_size  \\\n",
              "39    0.863636       0.0   -1.0      0.0          -0.794444       -0.587500   \n",
              "2246  0.409091       0.0   -1.0      0.0          -0.235714       -0.587500   \n",
              "1591  1.181818       1.0    0.0      0.0          -0.211538       -0.135577   \n",
              "3633  0.409091       1.0   -1.0      0.0           1.021429       -0.587500   \n",
              "2286 -0.613636      -1.0    0.0      0.0           0.770000        1.292500   \n",
              "\n",
              "      parking_per_size  property_type_Apartamento   property_type_Kitnet   \\\n",
              "39                 0.0                           1                      0   \n",
              "2246               0.0                           1                      0   \n",
              "1591               0.0                           1                      0   \n",
              "3633               0.0                           1                      0   \n",
              "2286               0.0                           0                      1   \n",
              "\n",
              "      neighborhood_ AGUAS CLARAS  ...  neighborhood_ SOBRADINHO  \\\n",
              "39                             0  ...                         0   \n",
              "2246                           0  ...                         0   \n",
              "1591                           0  ...                         0   \n",
              "3633                           0  ...                         0   \n",
              "2286                           0  ...                         0   \n",
              "\n",
              "      neighborhood_ SUDOESTE  neighborhood_ TAGUATINGA  neighborhood_ TIER_1  \\\n",
              "39                         0                         0                     0   \n",
              "2246                       0                         0                     1   \n",
              "1591                       0                         0                     0   \n",
              "3633                       0                         0                     0   \n",
              "2286                       0                         0                     0   \n",
              "\n",
              "      neighborhood_ TIER_2  neighborhood_ TIER_3  neighborhood_ TIER_4  \\\n",
              "39                       0                     0                     0   \n",
              "2246                     0                     0                     0   \n",
              "1591                     0                     0                     0   \n",
              "3633                     0                     1                     0   \n",
              "2286                     0                     0                     0   \n",
              "\n",
              "      neighborhood_ TIER_5  neighborhood_ TIER_6  neighborhood_ VICENTE PIRES  \n",
              "39                       0                     0                            0  \n",
              "2246                     0                     0                            0  \n",
              "1591                     0                     0                            0  \n",
              "3633                     0                     0                            0  \n",
              "2286                     0                     0                            0  \n",
              "\n",
              "[5 rows x 28 columns]"
            ],
            "text/html": [
              "\n",
              "  <div id=\"df-e69f0fde-4313-4374-836a-493ce5b3c0f0\">\n",
              "    <div class=\"colab-df-container\">\n",
              "      <div>\n",
              "<style scoped>\n",
              "    .dataframe tbody tr th:only-of-type {\n",
              "        vertical-align: middle;\n",
              "    }\n",
              "\n",
              "    .dataframe tbody tr th {\n",
              "        vertical-align: top;\n",
              "    }\n",
              "\n",
              "    .dataframe thead th {\n",
              "        text-align: right;\n",
              "    }\n",
              "</style>\n",
              "<table border=\"1\" class=\"dataframe\">\n",
              "  <thead>\n",
              "    <tr style=\"text-align: right;\">\n",
              "      <th></th>\n",
              "      <th>size_m2</th>\n",
              "      <th>bedrooms</th>\n",
              "      <th>suite</th>\n",
              "      <th>parking</th>\n",
              "      <th>bedrooms_per_size</th>\n",
              "      <th>suite_per_size</th>\n",
              "      <th>parking_per_size</th>\n",
              "      <th>property_type_Apartamento</th>\n",
              "      <th>property_type_Kitnet</th>\n",
              "      <th>neighborhood_ AGUAS CLARAS</th>\n",
              "      <th>...</th>\n",
              "      <th>neighborhood_ SOBRADINHO</th>\n",
              "      <th>neighborhood_ SUDOESTE</th>\n",
              "      <th>neighborhood_ TAGUATINGA</th>\n",
              "      <th>neighborhood_ TIER_1</th>\n",
              "      <th>neighborhood_ TIER_2</th>\n",
              "      <th>neighborhood_ TIER_3</th>\n",
              "      <th>neighborhood_ TIER_4</th>\n",
              "      <th>neighborhood_ TIER_5</th>\n",
              "      <th>neighborhood_ TIER_6</th>\n",
              "      <th>neighborhood_ VICENTE PIRES</th>\n",
              "    </tr>\n",
              "  </thead>\n",
              "  <tbody>\n",
              "    <tr>\n",
              "      <th>39</th>\n",
              "      <td>0.863636</td>\n",
              "      <td>0.0</td>\n",
              "      <td>-1.0</td>\n",
              "      <td>0.0</td>\n",
              "      <td>-0.794444</td>\n",
              "      <td>-0.587500</td>\n",
              "      <td>0.0</td>\n",
              "      <td>1</td>\n",
              "      <td>0</td>\n",
              "      <td>0</td>\n",
              "      <td>...</td>\n",
              "      <td>0</td>\n",
              "      <td>0</td>\n",
              "      <td>0</td>\n",
              "      <td>0</td>\n",
              "      <td>0</td>\n",
              "      <td>0</td>\n",
              "      <td>0</td>\n",
              "      <td>0</td>\n",
              "      <td>0</td>\n",
              "      <td>0</td>\n",
              "    </tr>\n",
              "    <tr>\n",
              "      <th>2246</th>\n",
              "      <td>0.409091</td>\n",
              "      <td>0.0</td>\n",
              "      <td>-1.0</td>\n",
              "      <td>0.0</td>\n",
              "      <td>-0.235714</td>\n",
              "      <td>-0.587500</td>\n",
              "      <td>0.0</td>\n",
              "      <td>1</td>\n",
              "      <td>0</td>\n",
              "      <td>0</td>\n",
              "      <td>...</td>\n",
              "      <td>0</td>\n",
              "      <td>0</td>\n",
              "      <td>0</td>\n",
              "      <td>1</td>\n",
              "      <td>0</td>\n",
              "      <td>0</td>\n",
              "      <td>0</td>\n",
              "      <td>0</td>\n",
              "      <td>0</td>\n",
              "      <td>0</td>\n",
              "    </tr>\n",
              "    <tr>\n",
              "      <th>1591</th>\n",
              "      <td>1.181818</td>\n",
              "      <td>1.0</td>\n",
              "      <td>0.0</td>\n",
              "      <td>0.0</td>\n",
              "      <td>-0.211538</td>\n",
              "      <td>-0.135577</td>\n",
              "      <td>0.0</td>\n",
              "      <td>1</td>\n",
              "      <td>0</td>\n",
              "      <td>0</td>\n",
              "      <td>...</td>\n",
              "      <td>0</td>\n",
              "      <td>0</td>\n",
              "      <td>0</td>\n",
              "      <td>0</td>\n",
              "      <td>0</td>\n",
              "      <td>0</td>\n",
              "      <td>0</td>\n",
              "      <td>0</td>\n",
              "      <td>0</td>\n",
              "      <td>0</td>\n",
              "    </tr>\n",
              "    <tr>\n",
              "      <th>3633</th>\n",
              "      <td>0.409091</td>\n",
              "      <td>1.0</td>\n",
              "      <td>-1.0</td>\n",
              "      <td>0.0</td>\n",
              "      <td>1.021429</td>\n",
              "      <td>-0.587500</td>\n",
              "      <td>0.0</td>\n",
              "      <td>1</td>\n",
              "      <td>0</td>\n",
              "      <td>0</td>\n",
              "      <td>...</td>\n",
              "      <td>0</td>\n",
              "      <td>0</td>\n",
              "      <td>0</td>\n",
              "      <td>0</td>\n",
              "      <td>0</td>\n",
              "      <td>1</td>\n",
              "      <td>0</td>\n",
              "      <td>0</td>\n",
              "      <td>0</td>\n",
              "      <td>0</td>\n",
              "    </tr>\n",
              "    <tr>\n",
              "      <th>2286</th>\n",
              "      <td>-0.613636</td>\n",
              "      <td>-1.0</td>\n",
              "      <td>0.0</td>\n",
              "      <td>0.0</td>\n",
              "      <td>0.770000</td>\n",
              "      <td>1.292500</td>\n",
              "      <td>0.0</td>\n",
              "      <td>0</td>\n",
              "      <td>1</td>\n",
              "      <td>0</td>\n",
              "      <td>...</td>\n",
              "      <td>0</td>\n",
              "      <td>0</td>\n",
              "      <td>0</td>\n",
              "      <td>0</td>\n",
              "      <td>0</td>\n",
              "      <td>0</td>\n",
              "      <td>0</td>\n",
              "      <td>0</td>\n",
              "      <td>0</td>\n",
              "      <td>0</td>\n",
              "    </tr>\n",
              "  </tbody>\n",
              "</table>\n",
              "<p>5 rows × 28 columns</p>\n",
              "</div>\n",
              "      <button class=\"colab-df-convert\" onclick=\"convertToInteractive('df-e69f0fde-4313-4374-836a-493ce5b3c0f0')\"\n",
              "              title=\"Convert this dataframe to an interactive table.\"\n",
              "              style=\"display:none;\">\n",
              "        \n",
              "  <svg xmlns=\"http://www.w3.org/2000/svg\" height=\"24px\"viewBox=\"0 0 24 24\"\n",
              "       width=\"24px\">\n",
              "    <path d=\"M0 0h24v24H0V0z\" fill=\"none\"/>\n",
              "    <path d=\"M18.56 5.44l.94 2.06.94-2.06 2.06-.94-2.06-.94-.94-2.06-.94 2.06-2.06.94zm-11 1L8.5 8.5l.94-2.06 2.06-.94-2.06-.94L8.5 2.5l-.94 2.06-2.06.94zm10 10l.94 2.06.94-2.06 2.06-.94-2.06-.94-.94-2.06-.94 2.06-2.06.94z\"/><path d=\"M17.41 7.96l-1.37-1.37c-.4-.4-.92-.59-1.43-.59-.52 0-1.04.2-1.43.59L10.3 9.45l-7.72 7.72c-.78.78-.78 2.05 0 2.83L4 21.41c.39.39.9.59 1.41.59.51 0 1.02-.2 1.41-.59l7.78-7.78 2.81-2.81c.8-.78.8-2.07 0-2.86zM5.41 20L4 18.59l7.72-7.72 1.47 1.35L5.41 20z\"/>\n",
              "  </svg>\n",
              "      </button>\n",
              "      \n",
              "  <style>\n",
              "    .colab-df-container {\n",
              "      display:flex;\n",
              "      flex-wrap:wrap;\n",
              "      gap: 12px;\n",
              "    }\n",
              "\n",
              "    .colab-df-convert {\n",
              "      background-color: #E8F0FE;\n",
              "      border: none;\n",
              "      border-radius: 50%;\n",
              "      cursor: pointer;\n",
              "      display: none;\n",
              "      fill: #1967D2;\n",
              "      height: 32px;\n",
              "      padding: 0 0 0 0;\n",
              "      width: 32px;\n",
              "    }\n",
              "\n",
              "    .colab-df-convert:hover {\n",
              "      background-color: #E2EBFA;\n",
              "      box-shadow: 0px 1px 2px rgba(60, 64, 67, 0.3), 0px 1px 3px 1px rgba(60, 64, 67, 0.15);\n",
              "      fill: #174EA6;\n",
              "    }\n",
              "\n",
              "    [theme=dark] .colab-df-convert {\n",
              "      background-color: #3B4455;\n",
              "      fill: #D2E3FC;\n",
              "    }\n",
              "\n",
              "    [theme=dark] .colab-df-convert:hover {\n",
              "      background-color: #434B5C;\n",
              "      box-shadow: 0px 1px 3px 1px rgba(0, 0, 0, 0.15);\n",
              "      filter: drop-shadow(0px 1px 2px rgba(0, 0, 0, 0.3));\n",
              "      fill: #FFFFFF;\n",
              "    }\n",
              "  </style>\n",
              "\n",
              "      <script>\n",
              "        const buttonEl =\n",
              "          document.querySelector('#df-e69f0fde-4313-4374-836a-493ce5b3c0f0 button.colab-df-convert');\n",
              "        buttonEl.style.display =\n",
              "          google.colab.kernel.accessAllowed ? 'block' : 'none';\n",
              "\n",
              "        async function convertToInteractive(key) {\n",
              "          const element = document.querySelector('#df-e69f0fde-4313-4374-836a-493ce5b3c0f0');\n",
              "          const dataTable =\n",
              "            await google.colab.kernel.invokeFunction('convertToInteractive',\n",
              "                                                     [key], {});\n",
              "          if (!dataTable) return;\n",
              "\n",
              "          const docLinkHtml = 'Like what you see? Visit the ' +\n",
              "            '<a target=\"_blank\" href=https://colab.research.google.com/notebooks/data_table.ipynb>data table notebook</a>'\n",
              "            + ' to learn more about interactive tables.';\n",
              "          element.innerHTML = '';\n",
              "          dataTable['output_type'] = 'display_data';\n",
              "          await google.colab.output.renderOutput(dataTable, element);\n",
              "          const docLink = document.createElement('div');\n",
              "          docLink.innerHTML = docLinkHtml;\n",
              "          element.appendChild(docLink);\n",
              "        }\n",
              "      </script>\n",
              "    </div>\n",
              "  </div>\n",
              "  "
            ]
          },
          "metadata": {},
          "execution_count": 75
        }
      ]
    },
    {
      "cell_type": "code",
      "source": [
        "x_train[num_attributes].boxplot(rot=90)"
      ],
      "metadata": {
        "colab": {
          "base_uri": "https://localhost:8080/",
          "height": 369
        },
        "id": "iuPSOcrMWy-r",
        "outputId": "b566e035-b25c-4137-d26d-607d67509770"
      },
      "execution_count": 76,
      "outputs": [
        {
          "output_type": "execute_result",
          "data": {
            "text/plain": [
              "<matplotlib.axes._subplots.AxesSubplot at 0x7f93bd56c550>"
            ]
          },
          "metadata": {},
          "execution_count": 76
        },
        {
          "output_type": "display_data",
          "data": {
            "text/plain": [
              "<Figure size 432x288 with 1 Axes>"
            ],
            "image/png": "[encoded data removed]"
          },
          "metadata": {
            "needs_background": "light"
          }
        }
      ]
    },
    {
      "cell_type": "code",
      "source": [
        "filter_outliers = x_train[num_attributes]<6\n",
        "x_train[num_attributes][filter_outliers].boxplot(rot=90)"
      ],
      "metadata": {
        "colab": {
          "base_uri": "https://localhost:8080/",
          "height": 425
        },
        "id": "2UECPJltXBBf",
        "outputId": "84f123d2-2cf2-4337-f72c-325478913442"
      },
      "execution_count": 77,
      "outputs": [
        {
          "output_type": "stream",
          "name": "stderr",
          "text": [
            "/usr/local/lib/python3.7/dist-packages/matplotlib/cbook/__init__.py:1376: VisibleDeprecationWarning: Creating an ndarray from ragged nested sequences (which is a list-or-tuple of lists-or-tuples-or ndarrays with different lengths or shapes) is deprecated. If you meant to do this, you must specify 'dtype=object' when creating the ndarray.\n",
            "  X = np.atleast_1d(X.T if isinstance(X, np.ndarray) else np.asarray(X))\n"
          ]
        },
        {
          "output_type": "execute_result",
          "data": {
            "text/plain": [
              "<matplotlib.axes._subplots.AxesSubplot at 0x7f93bd2a11d0>"
            ]
          },
          "metadata": {},
          "execution_count": 77
        },
        {
          "output_type": "display_data",
          "data": {
            "text/plain": [
              "<Figure size 432x288 with 1 Axes>"
            ],
            "image/png": "[encoded data removed]"
          },
          "metadata": {
            "needs_background": "light"
          }
        }
      ]
    },
    {
      "cell_type": "markdown",
      "source": [
        "Scalling the test data, also with the transformer fitted using the training data."
      ],
      "metadata": {
        "id": "Z0tyb_FjXMAB"
      }
    },
    {
      "cell_type": "code",
      "source": [
        "x_test[num_attributes] = transformer.transform(x_test[num_attributes])\n",
        "\n",
        "x_test.head()"
      ],
      "metadata": {
        "colab": {
          "base_uri": "https://localhost:8080/",
          "height": 317
        },
        "id": "_0cFDRoeXLhp",
        "outputId": "f13b8a77-0cb5-4e99-d227-29fbeb05eede"
      },
      "execution_count": 78,
      "outputs": [
        {
          "output_type": "execute_result",
          "data": {
            "text/plain": [
              "       size_m2  bedrooms  suite  parking  bedrooms_per_size  suite_per_size  \\\n",
              "2339 -0.045455       0.0   -1.0      0.0           0.770000       -0.587500   \n",
              "3217 -0.659091      -1.0   -1.0      0.0           1.076087       -0.587500   \n",
              "1026  2.363636       1.0    0.0      1.0          -1.057692       -0.286218   \n",
              "399   0.409091       0.0    0.0      0.0          -0.235714        0.083929   \n",
              "1065 -0.431818      -1.0   -1.0      0.0          -0.083333       -0.587500   \n",
              "\n",
              "      parking_per_size  property_type_Apartamento   property_type_Kitnet   \\\n",
              "2339          0.000000                           1                      0   \n",
              "3217          0.000000                           0                      1   \n",
              "1026          0.525641                           1                      0   \n",
              "399           0.000000                           1                      0   \n",
              "1065          0.000000                           1                      0   \n",
              "\n",
              "      neighborhood_ AGUAS CLARAS  ...  neighborhood_ SOBRADINHO  \\\n",
              "2339                           0  ...                         0   \n",
              "3217                           0  ...                         0   \n",
              "1026                           0  ...                         0   \n",
              "399                            0  ...                         0   \n",
              "1065                           0  ...                         0   \n",
              "\n",
              "      neighborhood_ SUDOESTE  neighborhood_ TAGUATINGA  neighborhood_ TIER_1  \\\n",
              "2339                       0                         0                     0   \n",
              "3217                       0                         0                     0   \n",
              "1026                       0                         0                     0   \n",
              "399                        0                         0                     0   \n",
              "1065                       0                         0                     0   \n",
              "\n",
              "      neighborhood_ TIER_2  neighborhood_ TIER_3  neighborhood_ TIER_4  \\\n",
              "2339                     1                     0                     0   \n",
              "3217                     0                     0                     0   \n",
              "1026                     0                     0                     0   \n",
              "399                      0                     0                     1   \n",
              "1065                     0                     0                     0   \n",
              "\n",
              "      neighborhood_ TIER_5  neighborhood_ TIER_6  neighborhood_ VICENTE PIRES  \n",
              "2339                     0                     0                            0  \n",
              "3217                     0                     0                            0  \n",
              "1026                     0                     0                            0  \n",
              "399                      0                     0                            0  \n",
              "1065                     0                     0                            0  \n",
              "\n",
              "[5 rows x 28 columns]"
            ],
            "text/html": [
              "\n",
              "  <div id=\"df-bfc04bed-0c2d-42e3-a32c-156ae8b31ea4\">\n",
              "    <div class=\"colab-df-container\">\n",
              "      <div>\n",
              "<style scoped>\n",
              "    .dataframe tbody tr th:only-of-type {\n",
              "        vertical-align: middle;\n",
              "    }\n",
              "\n",
              "    .dataframe tbody tr th {\n",
              "        vertical-align: top;\n",
              "    }\n",
              "\n",
              "    .dataframe thead th {\n",
              "        text-align: right;\n",
              "    }\n",
              "</style>\n",
              "<table border=\"1\" class=\"dataframe\">\n",
              "  <thead>\n",
              "    <tr style=\"text-align: right;\">\n",
              "      <th></th>\n",
              "      <th>size_m2</th>\n",
              "      <th>bedrooms</th>\n",
              "      <th>suite</th>\n",
              "      <th>parking</th>\n",
              "      <th>bedrooms_per_size</th>\n",
              "      <th>suite_per_size</th>\n",
              "      <th>parking_per_size</th>\n",
              "      <th>property_type_Apartamento</th>\n",
              "      <th>property_type_Kitnet</th>\n",
              "      <th>neighborhood_ AGUAS CLARAS</th>\n",
              "      <th>...</th>\n",
              "      <th>neighborhood_ SOBRADINHO</th>\n",
              "      <th>neighborhood_ SUDOESTE</th>\n",
              "      <th>neighborhood_ TAGUATINGA</th>\n",
              "      <th>neighborhood_ TIER_1</th>\n",
              "      <th>neighborhood_ TIER_2</th>\n",
              "      <th>neighborhood_ TIER_3</th>\n",
              "      <th>neighborhood_ TIER_4</th>\n",
              "      <th>neighborhood_ TIER_5</th>\n",
              "      <th>neighborhood_ TIER_6</th>\n",
              "      <th>neighborhood_ VICENTE PIRES</th>\n",
              "    </tr>\n",
              "  </thead>\n",
              "  <tbody>\n",
              "    <tr>\n",
              "      <th>2339</th>\n",
              "      <td>-0.045455</td>\n",
              "      <td>0.0</td>\n",
              "      <td>-1.0</td>\n",
              "      <td>0.0</td>\n",
              "      <td>0.770000</td>\n",
              "      <td>-0.587500</td>\n",
              "      <td>0.000000</td>\n",
              "      <td>1</td>\n",
              "      <td>0</td>\n",
              "      <td>0</td>\n",
              "      <td>...</td>\n",
              "      <td>0</td>\n",
              "      <td>0</td>\n",
              "      <td>0</td>\n",
              "      <td>0</td>\n",
              "      <td>1</td>\n",
              "      <td>0</td>\n",
              "      <td>0</td>\n",
              "      <td>0</td>\n",
              "      <td>0</td>\n",
              "      <td>0</td>\n",
              "    </tr>\n",
              "    <tr>\n",
              "      <th>3217</th>\n",
              "      <td>-0.659091</td>\n",
              "      <td>-1.0</td>\n",
              "      <td>-1.0</td>\n",
              "      <td>0.0</td>\n",
              "      <td>1.076087</td>\n",
              "      <td>-0.587500</td>\n",
              "      <td>0.000000</td>\n",
              "      <td>0</td>\n",
              "      <td>1</td>\n",
              "      <td>0</td>\n",
              "      <td>...</td>\n",
              "      <td>0</td>\n",
              "      <td>0</td>\n",
              "      <td>0</td>\n",
              "      <td>0</td>\n",
              "      <td>0</td>\n",
              "      <td>0</td>\n",
              "      <td>0</td>\n",
              "      <td>0</td>\n",
              "      <td>0</td>\n",
              "      <td>0</td>\n",
              "    </tr>\n",
              "    <tr>\n",
              "      <th>1026</th>\n",
              "      <td>2.363636</td>\n",
              "      <td>1.0</td>\n",
              "      <td>0.0</td>\n",
              "      <td>1.0</td>\n",
              "      <td>-1.057692</td>\n",
              "      <td>-0.286218</td>\n",
              "      <td>0.525641</td>\n",
              "      <td>1</td>\n",
              "      <td>0</td>\n",
              "      <td>0</td>\n",
              "      <td>...</td>\n",
              "      <td>0</td>\n",
              "      <td>0</td>\n",
              "      <td>0</td>\n",
              "      <td>0</td>\n",
              "      <td>0</td>\n",
              "      <td>0</td>\n",
              "      <td>0</td>\n",
              "      <td>0</td>\n",
              "      <td>0</td>\n",
              "      <td>0</td>\n",
              "    </tr>\n",
              "    <tr>\n",
              "      <th>399</th>\n",
              "      <td>0.409091</td>\n",
              "      <td>0.0</td>\n",
              "      <td>0.0</td>\n",
              "      <td>0.0</td>\n",
              "      <td>-0.235714</td>\n",
              "      <td>0.083929</td>\n",
              "      <td>0.000000</td>\n",
              "      <td>1</td>\n",
              "      <td>0</td>\n",
              "      <td>0</td>\n",
              "      <td>...</td>\n",
              "      <td>0</td>\n",
              "      <td>0</td>\n",
              "      <td>0</td>\n",
              "      <td>0</td>\n",
              "      <td>0</td>\n",
              "      <td>0</td>\n",
              "      <td>1</td>\n",
              "      <td>0</td>\n",
              "      <td>0</td>\n",
              "      <td>0</td>\n",
              "    </tr>\n",
              "    <tr>\n",
              "      <th>1065</th>\n",
              "      <td>-0.431818</td>\n",
              "      <td>-1.0</td>\n",
              "      <td>-1.0</td>\n",
              "      <td>0.0</td>\n",
              "      <td>-0.083333</td>\n",
              "      <td>-0.587500</td>\n",
              "      <td>0.000000</td>\n",
              "      <td>1</td>\n",
              "      <td>0</td>\n",
              "      <td>0</td>\n",
              "      <td>...</td>\n",
              "      <td>0</td>\n",
              "      <td>0</td>\n",
              "      <td>0</td>\n",
              "      <td>0</td>\n",
              "      <td>0</td>\n",
              "      <td>0</td>\n",
              "      <td>0</td>\n",
              "      <td>0</td>\n",
              "      <td>0</td>\n",
              "      <td>0</td>\n",
              "    </tr>\n",
              "  </tbody>\n",
              "</table>\n",
              "<p>5 rows × 28 columns</p>\n",
              "</div>\n",
              "      <button class=\"colab-df-convert\" onclick=\"convertToInteractive('df-bfc04bed-0c2d-42e3-a32c-156ae8b31ea4')\"\n",
              "              title=\"Convert this dataframe to an interactive table.\"\n",
              "              style=\"display:none;\">\n",
              "        \n",
              "  <svg xmlns=\"http://www.w3.org/2000/svg\" height=\"24px\"viewBox=\"0 0 24 24\"\n",
              "       width=\"24px\">\n",
              "    <path d=\"M0 0h24v24H0V0z\" fill=\"none\"/>\n",
              "    <path d=\"M18.56 5.44l.94 2.06.94-2.06 2.06-.94-2.06-.94-.94-2.06-.94 2.06-2.06.94zm-11 1L8.5 8.5l.94-2.06 2.06-.94-2.06-.94L8.5 2.5l-.94 2.06-2.06.94zm10 10l.94 2.06.94-2.06 2.06-.94-2.06-.94-.94-2.06-.94 2.06-2.06.94z\"/><path d=\"M17.41 7.96l-1.37-1.37c-.4-.4-.92-.59-1.43-.59-.52 0-1.04.2-1.43.59L10.3 9.45l-7.72 7.72c-.78.78-.78 2.05 0 2.83L4 21.41c.39.39.9.59 1.41.59.51 0 1.02-.2 1.41-.59l7.78-7.78 2.81-2.81c.8-.78.8-2.07 0-2.86zM5.41 20L4 18.59l7.72-7.72 1.47 1.35L5.41 20z\"/>\n",
              "  </svg>\n",
              "      </button>\n",
              "      \n",
              "  <style>\n",
              "    .colab-df-container {\n",
              "      display:flex;\n",
              "      flex-wrap:wrap;\n",
              "      gap: 12px;\n",
              "    }\n",
              "\n",
              "    .colab-df-convert {\n",
              "      background-color: #E8F0FE;\n",
              "      border: none;\n",
              "      border-radius: 50%;\n",
              "      cursor: pointer;\n",
              "      display: none;\n",
              "      fill: #1967D2;\n",
              "      height: 32px;\n",
              "      padding: 0 0 0 0;\n",
              "      width: 32px;\n",
              "    }\n",
              "\n",
              "    .colab-df-convert:hover {\n",
              "      background-color: #E2EBFA;\n",
              "      box-shadow: 0px 1px 2px rgba(60, 64, 67, 0.3), 0px 1px 3px 1px rgba(60, 64, 67, 0.15);\n",
              "      fill: #174EA6;\n",
              "    }\n",
              "\n",
              "    [theme=dark] .colab-df-convert {\n",
              "      background-color: #3B4455;\n",
              "      fill: #D2E3FC;\n",
              "    }\n",
              "\n",
              "    [theme=dark] .colab-df-convert:hover {\n",
              "      background-color: #434B5C;\n",
              "      box-shadow: 0px 1px 3px 1px rgba(0, 0, 0, 0.15);\n",
              "      filter: drop-shadow(0px 1px 2px rgba(0, 0, 0, 0.3));\n",
              "      fill: #FFFFFF;\n",
              "    }\n",
              "  </style>\n",
              "\n",
              "      <script>\n",
              "        const buttonEl =\n",
              "          document.querySelector('#df-bfc04bed-0c2d-42e3-a32c-156ae8b31ea4 button.colab-df-convert');\n",
              "        buttonEl.style.display =\n",
              "          google.colab.kernel.accessAllowed ? 'block' : 'none';\n",
              "\n",
              "        async function convertToInteractive(key) {\n",
              "          const element = document.querySelector('#df-bfc04bed-0c2d-42e3-a32c-156ae8b31ea4');\n",
              "          const dataTable =\n",
              "            await google.colab.kernel.invokeFunction('convertToInteractive',\n",
              "                                                     [key], {});\n",
              "          if (!dataTable) return;\n",
              "\n",
              "          const docLinkHtml = 'Like what you see? Visit the ' +\n",
              "            '<a target=\"_blank\" href=https://colab.research.google.com/notebooks/data_table.ipynb>data table notebook</a>'\n",
              "            + ' to learn more about interactive tables.';\n",
              "          element.innerHTML = '';\n",
              "          dataTable['output_type'] = 'display_data';\n",
              "          await google.colab.output.renderOutput(dataTable, element);\n",
              "          const docLink = document.createElement('div');\n",
              "          docLink.innerHTML = docLinkHtml;\n",
              "          element.appendChild(docLink);\n",
              "        }\n",
              "      </script>\n",
              "    </div>\n",
              "  </div>\n",
              "  "
            ]
          },
          "metadata": {},
          "execution_count": 78
        }
      ]
    },
    {
      "cell_type": "code",
      "source": [
        "x_test[num_attributes].describe()"
      ],
      "metadata": {
        "colab": {
          "base_uri": "https://localhost:8080/",
          "height": 300
        },
        "id": "B9loJ5ljXXV-",
        "outputId": "2c4d2c62-7ed1-4af9-e957-5aa978c2d7f7"
      },
      "execution_count": 79,
      "outputs": [
        {
          "output_type": "execute_result",
          "data": {
            "text/plain": [
              "          size_m2    bedrooms       suite     parking  bedrooms_per_size  \\\n",
              "count  740.000000  740.000000  740.000000  740.000000         740.000000   \n",
              "mean     0.250276   -0.220270   -0.241892    0.460811          -0.004686   \n",
              "std      0.991122    0.871357    0.619596    0.703619           0.900884   \n",
              "min     -0.931818   -2.000000   -1.000000    0.000000          -2.750000   \n",
              "25%     -0.414773   -1.000000   -1.000000    0.000000          -0.550000   \n",
              "50%     -0.045455    0.000000    0.000000    0.000000           0.000000   \n",
              "75%      0.477273    0.000000    0.000000    1.000000           0.450000   \n",
              "max      7.409091    3.000000    3.000000    4.000000          13.250000   \n",
              "\n",
              "       suite_per_size  parking_per_size  \n",
              "count      740.000000        740.000000  \n",
              "mean         0.074496          0.549772  \n",
              "std          0.603978          0.900561  \n",
              "min         -0.587500          0.000000  \n",
              "25%         -0.587500          0.000000  \n",
              "50%          0.030921          0.000000  \n",
              "75%          0.480682          1.025000  \n",
              "max          3.685227          7.454545  "
            ],
            "text/html": [
              "\n",
              "  <div id=\"df-f5751c94-a83d-4c98-a9d0-acb2cd1b6bab\">\n",
              "    <div class=\"colab-df-container\">\n",
              "      <div>\n",
              "<style scoped>\n",
              "    .dataframe tbody tr th:only-of-type {\n",
              "        vertical-align: middle;\n",
              "    }\n",
              "\n",
              "    .dataframe tbody tr th {\n",
              "        vertical-align: top;\n",
              "    }\n",
              "\n",
              "    .dataframe thead th {\n",
              "        text-align: right;\n",
              "    }\n",
              "</style>\n",
              "<table border=\"1\" class=\"dataframe\">\n",
              "  <thead>\n",
              "    <tr style=\"text-align: right;\">\n",
              "      <th></th>\n",
              "      <th>size_m2</th>\n",
              "      <th>bedrooms</th>\n",
              "      <th>suite</th>\n",
              "      <th>parking</th>\n",
              "      <th>bedrooms_per_size</th>\n",
              "      <th>suite_per_size</th>\n",
              "      <th>parking_per_size</th>\n",
              "    </tr>\n",
              "  </thead>\n",
              "  <tbody>\n",
              "    <tr>\n",
              "      <th>count</th>\n",
              "      <td>740.000000</td>\n",
              "      <td>740.000000</td>\n",
              "      <td>740.000000</td>\n",
              "      <td>740.000000</td>\n",
              "      <td>740.000000</td>\n",
              "      <td>740.000000</td>\n",
              "      <td>740.000000</td>\n",
              "    </tr>\n",
              "    <tr>\n",
              "      <th>mean</th>\n",
              "      <td>0.250276</td>\n",
              "      <td>-0.220270</td>\n",
              "      <td>-0.241892</td>\n",
              "      <td>0.460811</td>\n",
              "      <td>-0.004686</td>\n",
              "      <td>0.074496</td>\n",
              "      <td>0.549772</td>\n",
              "    </tr>\n",
              "    <tr>\n",
              "      <th>std</th>\n",
              "      <td>0.991122</td>\n",
              "      <td>0.871357</td>\n",
              "      <td>0.619596</td>\n",
              "      <td>0.703619</td>\n",
              "      <td>0.900884</td>\n",
              "      <td>0.603978</td>\n",
              "      <td>0.900561</td>\n",
              "    </tr>\n",
              "    <tr>\n",
              "      <th>min</th>\n",
              "      <td>-0.931818</td>\n",
              "      <td>-2.000000</td>\n",
              "      <td>-1.000000</td>\n",
              "      <td>0.000000</td>\n",
              "      <td>-2.750000</td>\n",
              "      <td>-0.587500</td>\n",
              "      <td>0.000000</td>\n",
              "    </tr>\n",
              "    <tr>\n",
              "      <th>25%</th>\n",
              "      <td>-0.414773</td>\n",
              "      <td>-1.000000</td>\n",
              "      <td>-1.000000</td>\n",
              "      <td>0.000000</td>\n",
              "      <td>-0.550000</td>\n",
              "      <td>-0.587500</td>\n",
              "      <td>0.000000</td>\n",
              "    </tr>\n",
              "    <tr>\n",
              "      <th>50%</th>\n",
              "      <td>-0.045455</td>\n",
              "      <td>0.000000</td>\n",
              "      <td>0.000000</td>\n",
              "      <td>0.000000</td>\n",
              "      <td>0.000000</td>\n",
              "      <td>0.030921</td>\n",
              "      <td>0.000000</td>\n",
              "    </tr>\n",
              "    <tr>\n",
              "      <th>75%</th>\n",
              "      <td>0.477273</td>\n",
              "      <td>0.000000</td>\n",
              "      <td>0.000000</td>\n",
              "      <td>1.000000</td>\n",
              "      <td>0.450000</td>\n",
              "      <td>0.480682</td>\n",
              "      <td>1.025000</td>\n",
              "    </tr>\n",
              "    <tr>\n",
              "      <th>max</th>\n",
              "      <td>7.409091</td>\n",
              "      <td>3.000000</td>\n",
              "      <td>3.000000</td>\n",
              "      <td>4.000000</td>\n",
              "      <td>13.250000</td>\n",
              "      <td>3.685227</td>\n",
              "      <td>7.454545</td>\n",
              "    </tr>\n",
              "  </tbody>\n",
              "</table>\n",
              "</div>\n",
              "      <button class=\"colab-df-convert\" onclick=\"convertToInteractive('df-f5751c94-a83d-4c98-a9d0-acb2cd1b6bab')\"\n",
              "              title=\"Convert this dataframe to an interactive table.\"\n",
              "              style=\"display:none;\">\n",
              "        \n",
              "  <svg xmlns=\"http://www.w3.org/2000/svg\" height=\"24px\"viewBox=\"0 0 24 24\"\n",
              "       width=\"24px\">\n",
              "    <path d=\"M0 0h24v24H0V0z\" fill=\"none\"/>\n",
              "    <path d=\"M18.56 5.44l.94 2.06.94-2.06 2.06-.94-2.06-.94-.94-2.06-.94 2.06-2.06.94zm-11 1L8.5 8.5l.94-2.06 2.06-.94-2.06-.94L8.5 2.5l-.94 2.06-2.06.94zm10 10l.94 2.06.94-2.06 2.06-.94-2.06-.94-.94-2.06-.94 2.06-2.06.94z\"/><path d=\"M17.41 7.96l-1.37-1.37c-.4-.4-.92-.59-1.43-.59-.52 0-1.04.2-1.43.59L10.3 9.45l-7.72 7.72c-.78.78-.78 2.05 0 2.83L4 21.41c.39.39.9.59 1.41.59.51 0 1.02-.2 1.41-.59l7.78-7.78 2.81-2.81c.8-.78.8-2.07 0-2.86zM5.41 20L4 18.59l7.72-7.72 1.47 1.35L5.41 20z\"/>\n",
              "  </svg>\n",
              "      </button>\n",
              "      \n",
              "  <style>\n",
              "    .colab-df-container {\n",
              "      display:flex;\n",
              "      flex-wrap:wrap;\n",
              "      gap: 12px;\n",
              "    }\n",
              "\n",
              "    .colab-df-convert {\n",
              "      background-color: #E8F0FE;\n",
              "      border: none;\n",
              "      border-radius: 50%;\n",
              "      cursor: pointer;\n",
              "      display: none;\n",
              "      fill: #1967D2;\n",
              "      height: 32px;\n",
              "      padding: 0 0 0 0;\n",
              "      width: 32px;\n",
              "    }\n",
              "\n",
              "    .colab-df-convert:hover {\n",
              "      background-color: #E2EBFA;\n",
              "      box-shadow: 0px 1px 2px rgba(60, 64, 67, 0.3), 0px 1px 3px 1px rgba(60, 64, 67, 0.15);\n",
              "      fill: #174EA6;\n",
              "    }\n",
              "\n",
              "    [theme=dark] .colab-df-convert {\n",
              "      background-color: #3B4455;\n",
              "      fill: #D2E3FC;\n",
              "    }\n",
              "\n",
              "    [theme=dark] .colab-df-convert:hover {\n",
              "      background-color: #434B5C;\n",
              "      box-shadow: 0px 1px 3px 1px rgba(0, 0, 0, 0.15);\n",
              "      filter: drop-shadow(0px 1px 2px rgba(0, 0, 0, 0.3));\n",
              "      fill: #FFFFFF;\n",
              "    }\n",
              "  </style>\n",
              "\n",
              "      <script>\n",
              "        const buttonEl =\n",
              "          document.querySelector('#df-f5751c94-a83d-4c98-a9d0-acb2cd1b6bab button.colab-df-convert');\n",
              "        buttonEl.style.display =\n",
              "          google.colab.kernel.accessAllowed ? 'block' : 'none';\n",
              "\n",
              "        async function convertToInteractive(key) {\n",
              "          const element = document.querySelector('#df-f5751c94-a83d-4c98-a9d0-acb2cd1b6bab');\n",
              "          const dataTable =\n",
              "            await google.colab.kernel.invokeFunction('convertToInteractive',\n",
              "                                                     [key], {});\n",
              "          if (!dataTable) return;\n",
              "\n",
              "          const docLinkHtml = 'Like what you see? Visit the ' +\n",
              "            '<a target=\"_blank\" href=https://colab.research.google.com/notebooks/data_table.ipynb>data table notebook</a>'\n",
              "            + ' to learn more about interactive tables.';\n",
              "          element.innerHTML = '';\n",
              "          dataTable['output_type'] = 'display_data';\n",
              "          await google.colab.output.renderOutput(dataTable, element);\n",
              "          const docLink = document.createElement('div');\n",
              "          docLink.innerHTML = docLinkHtml;\n",
              "          element.appendChild(docLink);\n",
              "        }\n",
              "      </script>\n",
              "    </div>\n",
              "  </div>\n",
              "  "
            ]
          },
          "metadata": {},
          "execution_count": 79
        }
      ]
    },
    {
      "cell_type": "code",
      "source": [
        "x_train.shape"
      ],
      "metadata": {
        "colab": {
          "base_uri": "https://localhost:8080/"
        },
        "id": "WAEP6kPhDyut",
        "outputId": "81a10cc6-42ed-4be3-c5af-0fd15e20b288"
      },
      "execution_count": 175,
      "outputs": [
        {
          "output_type": "execute_result",
          "data": {
            "text/plain": [
              "(2959, 28)"
            ]
          },
          "metadata": {},
          "execution_count": 175
        }
      ]
    },
    {
      "cell_type": "code",
      "source": [
        "x_test.shape"
      ],
      "metadata": {
        "colab": {
          "base_uri": "https://localhost:8080/"
        },
        "id": "HBi6WHqeD0yP",
        "outputId": "6b55098e-a166-4259-8da2-b64c4d4cd990"
      },
      "execution_count": 176,
      "outputs": [
        {
          "output_type": "execute_result",
          "data": {
            "text/plain": [
              "(740, 28)"
            ]
          },
          "metadata": {},
          "execution_count": 176
        }
      ]
    },
    {
      "cell_type": "markdown",
      "source": [
        "# Selecting And Training Models"
      ],
      "metadata": {
        "id": "UwucMGYbXc2L"
      }
    },
    {
      "cell_type": "markdown",
      "source": [
        "Linear regression model."
      ],
      "metadata": {
        "id": "m7rcGTIQXeWT"
      }
    },
    {
      "cell_type": "code",
      "source": [
        "lin_reg = LinearRegression()"
      ],
      "metadata": {
        "id": "I0p7pwq8YQyA"
      },
      "execution_count": 80,
      "outputs": []
    },
    {
      "cell_type": "code",
      "source": [
        "lin_reg.fit(x_train, y_train)"
      ],
      "metadata": {
        "colab": {
          "base_uri": "https://localhost:8080/"
        },
        "id": "jc7boVlZYRsZ",
        "outputId": "a9c40461-7b05-47d0-b1c2-98e624dbd7db"
      },
      "execution_count": 81,
      "outputs": [
        {
          "output_type": "execute_result",
          "data": {
            "text/plain": [
              "LinearRegression()"
            ]
          },
          "metadata": {},
          "execution_count": 81
        }
      ]
    },
    {
      "cell_type": "markdown",
      "source": [
        "Linear regression evaluation."
      ],
      "metadata": {
        "id": "iE_cD-36YncE"
      }
    },
    {
      "cell_type": "code",
      "source": [
        "np.sqrt(mean_squared_error(y_train.values,\n",
        "                           lin_reg.predict(x_train)))"
      ],
      "metadata": {
        "colab": {
          "base_uri": "https://localhost:8080/"
        },
        "id": "mTNPSkg9YnI6",
        "outputId": "2c520009-e7df-479c-95db-c01416a8440b"
      },
      "execution_count": 82,
      "outputs": [
        {
          "output_type": "execute_result",
          "data": {
            "text/plain": [
              "1524.6044366181457"
            ]
          },
          "metadata": {},
          "execution_count": 82
        }
      ]
    },
    {
      "cell_type": "code",
      "source": [
        "np.sqrt(mean_squared_error(y_test.values,\n",
        "                           lin_reg.predict(x_test)))"
      ],
      "metadata": {
        "colab": {
          "base_uri": "https://localhost:8080/"
        },
        "id": "cp3kg25uYq_k",
        "outputId": "c8f2293f-a78d-42a2-e0ba-ff866dceee4b"
      },
      "execution_count": 83,
      "outputs": [
        {
          "output_type": "execute_result",
          "data": {
            "text/plain": [
              "985.544944852527"
            ]
          },
          "metadata": {},
          "execution_count": 83
        }
      ]
    },
    {
      "cell_type": "markdown",
      "source": [
        "Decision tree regression model."
      ],
      "metadata": {
        "id": "WUWMx-j5Yvxc"
      }
    },
    {
      "cell_type": "code",
      "source": [
        "tree_reg = DecisionTreeRegressor()"
      ],
      "metadata": {
        "id": "W2ff92PqYynO"
      },
      "execution_count": 84,
      "outputs": []
    },
    {
      "cell_type": "code",
      "source": [
        "tree_reg.fit(x_train, y_train)"
      ],
      "metadata": {
        "colab": {
          "base_uri": "https://localhost:8080/"
        },
        "id": "zSKM1kD2YzaE",
        "outputId": "f6dfcdd6-2d8e-45e4-eae4-a489da4777c6"
      },
      "execution_count": 85,
      "outputs": [
        {
          "output_type": "execute_result",
          "data": {
            "text/plain": [
              "DecisionTreeRegressor()"
            ]
          },
          "metadata": {},
          "execution_count": 85
        }
      ]
    },
    {
      "cell_type": "markdown",
      "source": [
        "Decision tree evaluation. The error being equal to zero here indicates that we have a overfitted model, that won't generalize well."
      ],
      "metadata": {
        "id": "f945OBIZYxWO"
      }
    },
    {
      "cell_type": "code",
      "source": [
        "np.sqrt(mean_squared_error(y_train.values,\n",
        "                           tree_reg.predict(x_train)))"
      ],
      "metadata": {
        "colab": {
          "base_uri": "https://localhost:8080/"
        },
        "id": "e1CFpSw8Y2H0",
        "outputId": "39316f7a-232f-4126-c18a-52a21877ad32"
      },
      "execution_count": 86,
      "outputs": [
        {
          "output_type": "execute_result",
          "data": {
            "text/plain": [
              "286.7492765148164"
            ]
          },
          "metadata": {},
          "execution_count": 86
        }
      ]
    },
    {
      "cell_type": "code",
      "source": [
        "np.sqrt(mean_squared_error(y_test.values,\n",
        "                           tree_reg.predict(x_test)))"
      ],
      "metadata": {
        "colab": {
          "base_uri": "https://localhost:8080/"
        },
        "id": "whFwDIHOY4FR",
        "outputId": "5bbdd91e-0355-40b6-d27c-215fcc72caba"
      },
      "execution_count": 87,
      "outputs": [
        {
          "output_type": "execute_result",
          "data": {
            "text/plain": [
              "1069.698634072441"
            ]
          },
          "metadata": {},
          "execution_count": 87
        }
      ]
    },
    {
      "cell_type": "markdown",
      "source": [
        "Random Forest regression model."
      ],
      "metadata": {
        "id": "GglNgLW_Y817"
      }
    },
    {
      "cell_type": "code",
      "source": [
        "rf_reg = RandomForestRegressor()"
      ],
      "metadata": {
        "id": "f57Q3DUUY9JW"
      },
      "execution_count": 88,
      "outputs": []
    },
    {
      "cell_type": "code",
      "source": [
        "rf_reg.fit(x_train, y_train)"
      ],
      "metadata": {
        "colab": {
          "base_uri": "https://localhost:8080/"
        },
        "id": "XPnNcNu_Y-n4",
        "outputId": "a7d90957-5b94-42c4-86ac-dcb2dce3c623"
      },
      "execution_count": 89,
      "outputs": [
        {
          "output_type": "execute_result",
          "data": {
            "text/plain": [
              "RandomForestRegressor()"
            ]
          },
          "metadata": {},
          "execution_count": 89
        }
      ]
    },
    {
      "cell_type": "markdown",
      "source": [
        "Random forest evaluation."
      ],
      "metadata": {
        "id": "I_Xi4D6FZBfl"
      }
    },
    {
      "cell_type": "code",
      "source": [
        "np.sqrt(mean_squared_error(y_train.values,\n",
        "                           rf_reg.predict(x_train)))"
      ],
      "metadata": {
        "colab": {
          "base_uri": "https://localhost:8080/"
        },
        "id": "jgY076FZZCs1",
        "outputId": "e164d4c0-d5d2-425b-f8fe-d7abf157ba47"
      },
      "execution_count": 90,
      "outputs": [
        {
          "output_type": "execute_result",
          "data": {
            "text/plain": [
              "642.5188085011686"
            ]
          },
          "metadata": {},
          "execution_count": 90
        }
      ]
    },
    {
      "cell_type": "code",
      "source": [
        "np.sqrt(mean_squared_error(y_test.values,\n",
        "                           rf_reg.predict(x_test)))"
      ],
      "metadata": {
        "colab": {
          "base_uri": "https://localhost:8080/"
        },
        "id": "r48On44VZDgr",
        "outputId": "188e2db5-3b6f-4b82-b5a4-d2535c5ccb64"
      },
      "execution_count": 91,
      "outputs": [
        {
          "output_type": "execute_result",
          "data": {
            "text/plain": [
              "825.9025317148789"
            ]
          },
          "metadata": {},
          "execution_count": 91
        }
      ]
    },
    {
      "cell_type": "markdown",
      "source": [
        "Using cross validation to check the overfitting without needing to use the test data."
      ],
      "metadata": {
        "id": "YBmpuPwIZdCS"
      }
    },
    {
      "cell_type": "code",
      "source": [
        "scores = cross_val_score(lin_reg,\n",
        "                         x_train,\n",
        "                         y_train,\n",
        "                         scoring='neg_mean_squared_error',\n",
        "                         cv=5)"
      ],
      "metadata": {
        "id": "zQ4pfsgbZeMM"
      },
      "execution_count": 92,
      "outputs": []
    },
    {
      "cell_type": "code",
      "source": [
        "lin_rmse_scores = np.sqrt(-scores)"
      ],
      "metadata": {
        "id": "PMkMpE5yZfNc"
      },
      "execution_count": 93,
      "outputs": []
    },
    {
      "cell_type": "code",
      "source": [
        "np.mean(lin_rmse_scores)"
      ],
      "metadata": {
        "colab": {
          "base_uri": "https://localhost:8080/"
        },
        "id": "9y3rJABrZgF8",
        "outputId": "947a2d4c-390a-4620-ef1e-bd1488858293"
      },
      "execution_count": 94,
      "outputs": [
        {
          "output_type": "execute_result",
          "data": {
            "text/plain": [
              "1464.064000595127"
            ]
          },
          "metadata": {},
          "execution_count": 94
        }
      ]
    },
    {
      "cell_type": "code",
      "source": [
        "np.std(lin_rmse_scores)"
      ],
      "metadata": {
        "colab": {
          "base_uri": "https://localhost:8080/"
        },
        "id": "cl-fl5hxZr2u",
        "outputId": "26a4d714-e361-4944-a6c4-52d6acdeb06a"
      },
      "execution_count": 95,
      "outputs": [
        {
          "output_type": "execute_result",
          "data": {
            "text/plain": [
              "729.5126079251584"
            ]
          },
          "metadata": {},
          "execution_count": 95
        }
      ]
    },
    {
      "cell_type": "code",
      "source": [
        "scores = cross_val_score(tree_reg,\n",
        "                         x_train,\n",
        "                         y_train,\n",
        "                         scoring='neg_mean_squared_error',\n",
        "                         cv=5)"
      ],
      "metadata": {
        "id": "kkR75sjlZnGV"
      },
      "execution_count": 96,
      "outputs": []
    },
    {
      "cell_type": "code",
      "source": [
        "tree_rmse_scores = np.sqrt(-scores)"
      ],
      "metadata": {
        "id": "iE9TemWdZo-a"
      },
      "execution_count": 97,
      "outputs": []
    },
    {
      "cell_type": "code",
      "source": [
        "np.mean(tree_rmse_scores)"
      ],
      "metadata": {
        "colab": {
          "base_uri": "https://localhost:8080/"
        },
        "id": "8DAs09CNZqgS",
        "outputId": "1cac58a3-fc49-4fd2-d0a4-107372e1287c"
      },
      "execution_count": 98,
      "outputs": [
        {
          "output_type": "execute_result",
          "data": {
            "text/plain": [
              "1528.8172517377348"
            ]
          },
          "metadata": {},
          "execution_count": 98
        }
      ]
    },
    {
      "cell_type": "code",
      "source": [
        "np.std(tree_rmse_scores)"
      ],
      "metadata": {
        "colab": {
          "base_uri": "https://localhost:8080/"
        },
        "id": "4SHVIZmOZtt8",
        "outputId": "49a8810d-e033-4e06-cea4-7fdcf4472825"
      },
      "execution_count": 99,
      "outputs": [
        {
          "output_type": "execute_result",
          "data": {
            "text/plain": [
              "778.8652330387204"
            ]
          },
          "metadata": {},
          "execution_count": 99
        }
      ]
    },
    {
      "cell_type": "code",
      "source": [
        "scores = cross_val_score(rf_reg,\n",
        "                         x_train,\n",
        "                         y_train,\n",
        "                         scoring='neg_mean_squared_error',\n",
        "                         cv=5)"
      ],
      "metadata": {
        "id": "LGbA1HpoZwbA"
      },
      "execution_count": 100,
      "outputs": []
    },
    {
      "cell_type": "code",
      "source": [
        "rf_rmse_scores = np.sqrt(-scores)"
      ],
      "metadata": {
        "id": "wF4dZrqJZylR"
      },
      "execution_count": 101,
      "outputs": []
    },
    {
      "cell_type": "code",
      "source": [
        "np.mean(rf_rmse_scores)"
      ],
      "metadata": {
        "colab": {
          "base_uri": "https://localhost:8080/"
        },
        "id": "DM6njU_3ZzwY",
        "outputId": "eaa8cf9b-a95f-4843-e20a-b1381fe76d6b"
      },
      "execution_count": 102,
      "outputs": [
        {
          "output_type": "execute_result",
          "data": {
            "text/plain": [
              "1341.2323681462365"
            ]
          },
          "metadata": {},
          "execution_count": 102
        }
      ]
    },
    {
      "cell_type": "code",
      "source": [
        "np.std(rf_rmse_scores)"
      ],
      "metadata": {
        "colab": {
          "base_uri": "https://localhost:8080/"
        },
        "id": "tm88nnGuZ10m",
        "outputId": "18eddd3f-8e74-4b6b-93cd-11eb6f2bbb8b"
      },
      "execution_count": 103,
      "outputs": [
        {
          "output_type": "execute_result",
          "data": {
            "text/plain": [
              "866.0830892248512"
            ]
          },
          "metadata": {},
          "execution_count": 103
        }
      ]
    },
    {
      "cell_type": "markdown",
      "source": [
        "# Fine Tuning The Model"
      ],
      "metadata": {
        "id": "TPM4Lag5aOhX"
      }
    },
    {
      "cell_type": "markdown",
      "source": [
        "Selecting parameters lists to test each combination of them, in order to get the best model parameter calibration."
      ],
      "metadata": {
        "id": "qGsF6RtBaQCr"
      }
    },
    {
      "cell_type": "code",
      "source": [
        "parameters = {'n_estimators':[20, 40, 60, 80], 'max_features':[10, None], 'max_depth':[8, 10, 12]}\n",
        "#{'bootstrap':[False], 'n_estimators':[3, 10], 'max_features':[2, 3, 4]}"
      ],
      "metadata": {
        "id": "J1K1mAtTaQ3P"
      },
      "execution_count": 211,
      "outputs": []
    },
    {
      "cell_type": "code",
      "source": [
        "rf = RandomForestRegressor()"
      ],
      "metadata": {
        "id": "S5h3XB7baaLk"
      },
      "execution_count": 212,
      "outputs": []
    },
    {
      "cell_type": "code",
      "source": [
        "grid_search = GridSearchCV(rf,\n",
        "                           parameters,\n",
        "                           cv=10,\n",
        "                           scoring='neg_mean_squared_error',\n",
        "                           return_train_score=True)"
      ],
      "metadata": {
        "id": "TGl0HIftagYr"
      },
      "execution_count": 213,
      "outputs": []
    },
    {
      "cell_type": "code",
      "source": [
        "grid_search.fit(x_train, y_train)"
      ],
      "metadata": {
        "colab": {
          "base_uri": "https://localhost:8080/"
        },
        "id": "s4V8yeARai7L",
        "outputId": "0b4ce19c-d015-4f07-b047-4e127e3e7758"
      },
      "execution_count": 214,
      "outputs": [
        {
          "output_type": "execute_result",
          "data": {
            "text/plain": [
              "GridSearchCV(cv=10, estimator=RandomForestRegressor(),\n",
              "             param_grid={'max_depth': [8, 10, 12], 'max_features': [10, None],\n",
              "                         'n_estimators': [20, 40, 60, 80]},\n",
              "             return_train_score=True, scoring='neg_mean_squared_error')"
            ]
          },
          "metadata": {},
          "execution_count": 214
        }
      ]
    },
    {
      "cell_type": "markdown",
      "source": [
        "Checking the best found parameters."
      ],
      "metadata": {
        "id": "B-O6R-JTauA9"
      }
    },
    {
      "cell_type": "code",
      "source": [
        "grid_search.best_params_"
      ],
      "metadata": {
        "colab": {
          "base_uri": "https://localhost:8080/"
        },
        "id": "3Fm0v4AYa5KN",
        "outputId": "852022b7-92fc-4e8f-eec8-05afa32ad792"
      },
      "execution_count": 215,
      "outputs": [
        {
          "output_type": "execute_result",
          "data": {
            "text/plain": [
              "{'max_depth': 12, 'max_features': 10, 'n_estimators': 80}"
            ]
          },
          "metadata": {},
          "execution_count": 215
        }
      ]
    },
    {
      "cell_type": "code",
      "source": [
        "np.sqrt(-grid_search.best_score_)"
      ],
      "metadata": {
        "colab": {
          "base_uri": "https://localhost:8080/"
        },
        "id": "1ZhBr-mTa6Im",
        "outputId": "58c2de57-b5e2-4fe3-d0f1-211808936ce5"
      },
      "execution_count": 216,
      "outputs": [
        {
          "output_type": "execute_result",
          "data": {
            "text/plain": [
              "1587.3825102050653"
            ]
          },
          "metadata": {},
          "execution_count": 216
        }
      ]
    },
    {
      "cell_type": "markdown",
      "source": [
        "Checking the performance of each parameter combination."
      ],
      "metadata": {
        "id": "cG-1glRzavUn"
      }
    },
    {
      "cell_type": "code",
      "source": [
        "cv_res = grid_search.cv_results_\n",
        "\n",
        "for mean_score, params in zip(cv_res['mean_test_score'],cv_res['params']):\n",
        "  print(np.sqrt(-mean_score), params)"
      ],
      "metadata": {
        "colab": {
          "base_uri": "https://localhost:8080/"
        },
        "id": "Ww4VcoCja8ah",
        "outputId": "767d0ed6-0c34-4ab3-ad86-9493fc9976ed"
      },
      "execution_count": 217,
      "outputs": [
        {
          "output_type": "stream",
          "name": "stdout",
          "text": [
            "1641.9225015304169 {'max_depth': 8, 'max_features': 10, 'n_estimators': 20}\n",
            "1619.1024485023206 {'max_depth': 8, 'max_features': 10, 'n_estimators': 40}\n",
            "1615.657077962345 {'max_depth': 8, 'max_features': 10, 'n_estimators': 60}\n",
            "1635.5947833711832 {'max_depth': 8, 'max_features': 10, 'n_estimators': 80}\n",
            "1651.9671559789983 {'max_depth': 8, 'max_features': None, 'n_estimators': 20}\n",
            "1648.342851403168 {'max_depth': 8, 'max_features': None, 'n_estimators': 40}\n",
            "1629.7262714686929 {'max_depth': 8, 'max_features': None, 'n_estimators': 60}\n",
            "1621.1380253885623 {'max_depth': 8, 'max_features': None, 'n_estimators': 80}\n",
            "1604.3232253502242 {'max_depth': 10, 'max_features': 10, 'n_estimators': 20}\n",
            "1621.337009144212 {'max_depth': 10, 'max_features': 10, 'n_estimators': 40}\n",
            "1590.6668791999123 {'max_depth': 10, 'max_features': 10, 'n_estimators': 60}\n",
            "1604.0944980108225 {'max_depth': 10, 'max_features': 10, 'n_estimators': 80}\n",
            "1641.7143890818472 {'max_depth': 10, 'max_features': None, 'n_estimators': 20}\n",
            "1603.1405870276515 {'max_depth': 10, 'max_features': None, 'n_estimators': 40}\n",
            "1607.1460215972286 {'max_depth': 10, 'max_features': None, 'n_estimators': 60}\n",
            "1613.5996023542075 {'max_depth': 10, 'max_features': None, 'n_estimators': 80}\n",
            "1629.090906225993 {'max_depth': 12, 'max_features': 10, 'n_estimators': 20}\n",
            "1598.4682427638668 {'max_depth': 12, 'max_features': 10, 'n_estimators': 40}\n",
            "1601.9839249156983 {'max_depth': 12, 'max_features': 10, 'n_estimators': 60}\n",
            "1587.3825102050653 {'max_depth': 12, 'max_features': 10, 'n_estimators': 80}\n",
            "1646.374153556012 {'max_depth': 12, 'max_features': None, 'n_estimators': 20}\n",
            "1618.4297758504617 {'max_depth': 12, 'max_features': None, 'n_estimators': 40}\n",
            "1608.2306036474567 {'max_depth': 12, 'max_features': None, 'n_estimators': 60}\n",
            "1601.7642550125215 {'max_depth': 12, 'max_features': None, 'n_estimators': 80}\n"
          ]
        }
      ]
    },
    {
      "cell_type": "markdown",
      "source": [
        "Extracting the best estimator found."
      ],
      "metadata": {
        "id": "tZOdEGqLbD3p"
      }
    },
    {
      "cell_type": "code",
      "source": [
        "rf_reg_v2 = grid_search.best_estimator_"
      ],
      "metadata": {
        "id": "Cy44IyD4bFTr"
      },
      "execution_count": 218,
      "outputs": []
    },
    {
      "cell_type": "code",
      "source": [
        "np.sqrt(mean_squared_error(y_train.values,\n",
        "                           rf_reg_v2.predict(x_train)))"
      ],
      "metadata": {
        "colab": {
          "base_uri": "https://localhost:8080/"
        },
        "id": "ExJBOFSfbGen",
        "outputId": "ccc5f8fd-6419-49d9-b2b1-83e95180402a"
      },
      "execution_count": 219,
      "outputs": [
        {
          "output_type": "execute_result",
          "data": {
            "text/plain": [
              "644.3258469405212"
            ]
          },
          "metadata": {},
          "execution_count": 219
        }
      ]
    },
    {
      "cell_type": "code",
      "source": [
        "np.sqrt(mean_squared_error(y_test.values,\n",
        "                           rf_reg_v2.predict(x_test)))"
      ],
      "metadata": {
        "colab": {
          "base_uri": "https://localhost:8080/"
        },
        "id": "qxIrw5lYbHH4",
        "outputId": "6f8645dc-9014-461e-c897-41ef879c758a"
      },
      "execution_count": 220,
      "outputs": [
        {
          "output_type": "execute_result",
          "data": {
            "text/plain": [
              "742.0469968166246"
            ]
          },
          "metadata": {},
          "execution_count": 220
        }
      ]
    },
    {
      "cell_type": "markdown",
      "source": [
        "Doing some extra testing."
      ],
      "metadata": {
        "id": "P7AFurpvk-Lh"
      }
    },
    {
      "cell_type": "code",
      "source": [
        "rf_reg_v3 = RandomForestRegressor(max_depth=8, max_features=None, n_estimators=80)"
      ],
      "metadata": {
        "id": "bCMpZ7o4hC3M"
      },
      "execution_count": 243,
      "outputs": []
    },
    {
      "cell_type": "code",
      "source": [
        "rf_reg_v3.fit(x_train, y_train)"
      ],
      "metadata": {
        "colab": {
          "base_uri": "https://localhost:8080/"
        },
        "id": "gMGcaFufhIr_",
        "outputId": "a806b39c-7bd1-4a7b-9da4-ce1da4767e92"
      },
      "execution_count": 244,
      "outputs": [
        {
          "output_type": "execute_result",
          "data": {
            "text/plain": [
              "RandomForestRegressor(max_depth=8, max_features=None, n_estimators=80)"
            ]
          },
          "metadata": {},
          "execution_count": 244
        }
      ]
    },
    {
      "cell_type": "code",
      "source": [
        "np.sqrt(mean_squared_error(y_train.values,\n",
        "                           rf_reg_v3.predict(x_train)))"
      ],
      "metadata": {
        "colab": {
          "base_uri": "https://localhost:8080/"
        },
        "id": "oHytSMHWhOP2",
        "outputId": "0f243aa9-0989-4cb0-be8f-28ccf75caedc"
      },
      "execution_count": 245,
      "outputs": [
        {
          "output_type": "execute_result",
          "data": {
            "text/plain": [
              "832.7922005158222"
            ]
          },
          "metadata": {},
          "execution_count": 245
        }
      ]
    },
    {
      "cell_type": "code",
      "source": [
        "np.sqrt(mean_squared_error(y_test.values,\n",
        "                           rf_reg_v3.predict(x_test)))"
      ],
      "metadata": {
        "colab": {
          "base_uri": "https://localhost:8080/"
        },
        "id": "16vxRcD6hPKu",
        "outputId": "77596aec-4726-4695-c983-daed60966166"
      },
      "execution_count": 246,
      "outputs": [
        {
          "output_type": "execute_result",
          "data": {
            "text/plain": [
              "845.7396424379535"
            ]
          },
          "metadata": {},
          "execution_count": 246
        }
      ]
    },
    {
      "cell_type": "code",
      "source": [
        "rf_reg_v3.predict(x_test.head(20))"
      ],
      "metadata": {
        "colab": {
          "base_uri": "https://localhost:8080/"
        },
        "id": "dm7EBMwwmc6i",
        "outputId": "d1a8f6a2-a88e-4a0c-cd90-e4988d450d14"
      },
      "execution_count": 247,
      "outputs": [
        {
          "output_type": "execute_result",
          "data": {
            "text/plain": [
              "array([ 945.75842229,  843.15799219, 5655.01839594, 1870.59240355,\n",
              "       1085.15451016, 1316.2649351 , 1365.76085573, 1576.09604586,\n",
              "        945.75842229, 3076.24168128, 1573.4467374 , 2865.60218285,\n",
              "       3468.42292169, 2058.35229259, 2022.72592478,  873.66586496,\n",
              "       1864.55254113, 5137.10461106, 2637.42338394, 1316.2649351 ])"
            ]
          },
          "metadata": {},
          "execution_count": 247
        }
      ]
    },
    {
      "cell_type": "code",
      "source": [
        "y_test.head(20).values"
      ],
      "metadata": {
        "colab": {
          "base_uri": "https://localhost:8080/"
        },
        "id": "e07MelhdmiV0",
        "outputId": "88859aa3-0a6e-45a6-c1f1-13ad2df586be"
      },
      "execution_count": 248,
      "outputs": [
        {
          "output_type": "execute_result",
          "data": {
            "text/plain": [
              "array([1050,  800, 5400, 2520,  800, 1299, 2890, 1300, 1200, 2800,  850,\n",
              "       2500, 3400, 1650, 1596, 1300, 1400, 3650, 2900, 1500], dtype=int32)"
            ]
          },
          "metadata": {},
          "execution_count": 248
        }
      ]
    },
    {
      "cell_type": "markdown",
      "source": [
        "# Exporting the model"
      ],
      "metadata": {
        "id": "Zm53h0JZm_6F"
      }
    },
    {
      "cell_type": "code",
      "source": [
        "from joblib import dump, load\n",
        "\n",
        "dump(rf_reg_v3, 'property-rent-calc.joblib')"
      ],
      "metadata": {
        "colab": {
          "base_uri": "https://localhost:8080/"
        },
        "id": "Nl6T4f6Jnbpd",
        "outputId": "1e0fd8ce-5df4-4ea3-f502-bd1caae09922"
      },
      "execution_count": 250,
      "outputs": [
        {
          "output_type": "execute_result",
          "data": {
            "text/plain": [
              "['property-rent-calc.joblib']"
            ]
          },
          "metadata": {},
          "execution_count": 250
        }
      ]
    },
    {
      "cell_type": "code",
      "source": [
        "rf_test = load('property-rent-calc.joblib')"
      ],
      "metadata": {
        "id": "V3WYm8tfFpdA"
      },
      "execution_count": 251,
      "outputs": []
    },
    {
      "cell_type": "code",
      "source": [
        "np.sqrt(mean_squared_error(y_train,\n",
        "                           rf_test.predict(x_train)))"
      ],
      "metadata": {
        "colab": {
          "base_uri": "https://localhost:8080/"
        },
        "id": "qTsBAYcoFjGl",
        "outputId": "8c690ea1-255d-4724-b30c-3132511d3638"
      },
      "execution_count": 252,
      "outputs": [
        {
          "output_type": "execute_result",
          "data": {
            "text/plain": [
              "832.7922005158222"
            ]
          },
          "metadata": {},
          "execution_count": 252
        }
      ]
    },
    {
      "cell_type": "code",
      "source": [
        "np.sqrt(mean_squared_error(y_test,\n",
        "                           rf_test.predict(x_test)))"
      ],
      "metadata": {
        "colab": {
          "base_uri": "https://localhost:8080/"
        },
        "id": "uEH5aZq8FrI9",
        "outputId": "a6d4e1d3-d0fe-448b-d4f2-2666180c3d71"
      },
      "execution_count": 253,
      "outputs": [
        {
          "output_type": "execute_result",
          "data": {
            "text/plain": [
              "845.7396424379535"
            ]
          },
          "metadata": {},
          "execution_count": 253
        }
      ]
    }
  ]
}