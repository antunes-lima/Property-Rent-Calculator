{
  "nbformat": 4,
  "nbformat_minor": 0,
  "metadata": {
    "colab": {
      "name": "property rent calc regression model.ipynb",
      "provenance": [],
      "authorship_tag": "ABX9TyNKWvBzVEjs+5obAYxYNUbp"
    },
    "kernelspec": {
      "name": "python3",
      "display_name": "Python 3"
    },
    "language_info": {
      "name": "python"
    }
  },
  "cells": [
    {
      "cell_type": "markdown",
      "source": [
        "# Property Rent Calculator - Regression Model\n",
        "\n",
        "This notebook will be used to create a regression model for the Property Rent Calculator Project, using the dataset treated in the last step, using Pandas, NumPy, and Scikit-learn libraries."
      ],
      "metadata": {
        "id": "jMW43wH4XUFS"
      }
    },
    {
      "cell_type": "code",
      "execution_count": 162,
      "metadata": {
        "id": "dC9hY36lOVQm"
      },
      "outputs": [],
      "source": [
        "# importing libraries\n",
        "import numpy as np\n",
        "import pandas as pd\n",
        "\n",
        "import matplotlib.pyplot as plt\n",
        "import seaborn as sns\n",
        "\n",
        "import sklearn\n",
        "\n",
        "from sklearn.model_selection import train_test_split\n",
        "from sklearn.impute import SimpleImputer\n",
        "from sklearn.pipeline import Pipeline\n",
        "from sklearn.preprocessing import StandardScaler\n",
        "from sklearn.preprocessing import RobustScaler\n",
        "\n",
        "from sklearn.linear_model import LinearRegression\n",
        "from sklearn.tree import DecisionTreeRegressor\n",
        "from sklearn.ensemble import RandomForestRegressor\n",
        "\n",
        "from sklearn.metrics import mean_squared_error\n",
        "from sklearn.model_selection import cross_val_score\n",
        "from sklearn.model_selection import GridSearchCV"
      ]
    },
    {
      "cell_type": "markdown",
      "source": [
        "Using GitHuB API to import the data on the CSV file."
      ],
      "metadata": {
        "id": "5U_0IADMXst7"
      }
    },
    {
      "cell_type": "code",
      "source": [
        "!curl --remote-name \\\n",
        "     -H 'Accept: application/vnd.github.v3.raw' \\\n",
        "     --location https://raw.githubusercontent.com/antunes-lima/Property-Rent-Calculator/main/2%20-%20Data%20Manipulation%20And%20Cleansing%20-%20Pandas%20And%20Numpy/property-rent-calculator-clean-data.csv"
      ],
      "metadata": {
        "colab": {
          "base_uri": "https://localhost:8080/"
        },
        "id": "h6zfgRhsXxH9",
        "outputId": "31d2890a-bd54-44a5-c484-70bb492f7da8"
      },
      "execution_count": 163,
      "outputs": [
        {
          "output_type": "stream",
          "name": "stdout",
          "text": [
            "  % Total    % Received % Xferd  Average Speed   Time    Time     Time  Current\n",
            "                                 Dload  Upload   Total   Spent    Left  Speed\n",
            "\r  0     0    0     0    0     0      0      0 --:--:-- --:--:-- --:--:--     0\r100  152k  100  152k    0     0  5274k      0 --:--:-- --:--:-- --:--:-- 5463k\n"
          ]
        }
      ]
    },
    {
      "cell_type": "markdown",
      "source": [
        "# Exploring The Dataset"
      ],
      "metadata": {
        "id": "hxz36dm2Xujj"
      }
    },
    {
      "cell_type": "markdown",
      "source": [
        "Taking the data to a DataFrame."
      ],
      "metadata": {
        "id": "dttcaGhlXwB7"
      }
    },
    {
      "cell_type": "code",
      "source": [
        "df = pd.read_csv('/content/property-rent-calculator-clean-data.csv')\n",
        "\n",
        "df.head()"
      ],
      "metadata": {
        "colab": {
          "base_uri": "https://localhost:8080/",
          "height": 206
        },
        "id": "JY5t9TswX1-B",
        "outputId": "6f9196f4-f9da-4841-b230-1e21db4517db"
      },
      "execution_count": 164,
      "outputs": [
        {
          "output_type": "execute_result",
          "data": {
            "text/plain": [
              "   Unnamed: 0   rent  size_m2 property_type  bedrooms  suite  parking  \\\n",
              "0           0  2.550       72  Apartamento        3.0    1.0      2.0   \n",
              "1           1  2.400       76  Apartamento        3.0    1.0      1.0   \n",
              "2           2    750       48  Apartamento        2.0    1.0      1.0   \n",
              "3           3  2.200       44  Apartamento        1.0    1.0      1.0   \n",
              "4           4  1.400       32  Apartamento        1.0    1.0      1.0   \n",
              "\n",
              "           neighborhood  \n",
              "0          AGUAS CLARAS  \n",
              "1          AGUAS CLARAS  \n",
              "2   VALPARAISO DE GOIAS  \n",
              "3          AGUAS CLARAS  \n",
              "4          AGUAS CLARAS  "
            ],
            "text/html": [
              "\n",
              "  <div id=\"df-2c62dffc-24e7-4229-8fc2-a67d71f216e9\">\n",
              "    <div class=\"colab-df-container\">\n",
              "      <div>\n",
              "<style scoped>\n",
              "    .dataframe tbody tr th:only-of-type {\n",
              "        vertical-align: middle;\n",
              "    }\n",
              "\n",
              "    .dataframe tbody tr th {\n",
              "        vertical-align: top;\n",
              "    }\n",
              "\n",
              "    .dataframe thead th {\n",
              "        text-align: right;\n",
              "    }\n",
              "</style>\n",
              "<table border=\"1\" class=\"dataframe\">\n",
              "  <thead>\n",
              "    <tr style=\"text-align: right;\">\n",
              "      <th></th>\n",
              "      <th>Unnamed: 0</th>\n",
              "      <th>rent</th>\n",
              "      <th>size_m2</th>\n",
              "      <th>property_type</th>\n",
              "      <th>bedrooms</th>\n",
              "      <th>suite</th>\n",
              "      <th>parking</th>\n",
              "      <th>neighborhood</th>\n",
              "    </tr>\n",
              "  </thead>\n",
              "  <tbody>\n",
              "    <tr>\n",
              "      <th>0</th>\n",
              "      <td>0</td>\n",
              "      <td>2.550</td>\n",
              "      <td>72</td>\n",
              "      <td>Apartamento</td>\n",
              "      <td>3.0</td>\n",
              "      <td>1.0</td>\n",
              "      <td>2.0</td>\n",
              "      <td>AGUAS CLARAS</td>\n",
              "    </tr>\n",
              "    <tr>\n",
              "      <th>1</th>\n",
              "      <td>1</td>\n",
              "      <td>2.400</td>\n",
              "      <td>76</td>\n",
              "      <td>Apartamento</td>\n",
              "      <td>3.0</td>\n",
              "      <td>1.0</td>\n",
              "      <td>1.0</td>\n",
              "      <td>AGUAS CLARAS</td>\n",
              "    </tr>\n",
              "    <tr>\n",
              "      <th>2</th>\n",
              "      <td>2</td>\n",
              "      <td>750</td>\n",
              "      <td>48</td>\n",
              "      <td>Apartamento</td>\n",
              "      <td>2.0</td>\n",
              "      <td>1.0</td>\n",
              "      <td>1.0</td>\n",
              "      <td>VALPARAISO DE GOIAS</td>\n",
              "    </tr>\n",
              "    <tr>\n",
              "      <th>3</th>\n",
              "      <td>3</td>\n",
              "      <td>2.200</td>\n",
              "      <td>44</td>\n",
              "      <td>Apartamento</td>\n",
              "      <td>1.0</td>\n",
              "      <td>1.0</td>\n",
              "      <td>1.0</td>\n",
              "      <td>AGUAS CLARAS</td>\n",
              "    </tr>\n",
              "    <tr>\n",
              "      <th>4</th>\n",
              "      <td>4</td>\n",
              "      <td>1.400</td>\n",
              "      <td>32</td>\n",
              "      <td>Apartamento</td>\n",
              "      <td>1.0</td>\n",
              "      <td>1.0</td>\n",
              "      <td>1.0</td>\n",
              "      <td>AGUAS CLARAS</td>\n",
              "    </tr>\n",
              "  </tbody>\n",
              "</table>\n",
              "</div>\n",
              "      <button class=\"colab-df-convert\" onclick=\"convertToInteractive('df-2c62dffc-24e7-4229-8fc2-a67d71f216e9')\"\n",
              "              title=\"Convert this dataframe to an interactive table.\"\n",
              "              style=\"display:none;\">\n",
              "        \n",
              "  <svg xmlns=\"http://www.w3.org/2000/svg\" height=\"24px\"viewBox=\"0 0 24 24\"\n",
              "       width=\"24px\">\n",
              "    <path d=\"M0 0h24v24H0V0z\" fill=\"none\"/>\n",
              "    <path d=\"M18.56 5.44l.94 2.06.94-2.06 2.06-.94-2.06-.94-.94-2.06-.94 2.06-2.06.94zm-11 1L8.5 8.5l.94-2.06 2.06-.94-2.06-.94L8.5 2.5l-.94 2.06-2.06.94zm10 10l.94 2.06.94-2.06 2.06-.94-2.06-.94-.94-2.06-.94 2.06-2.06.94z\"/><path d=\"M17.41 7.96l-1.37-1.37c-.4-.4-.92-.59-1.43-.59-.52 0-1.04.2-1.43.59L10.3 9.45l-7.72 7.72c-.78.78-.78 2.05 0 2.83L4 21.41c.39.39.9.59 1.41.59.51 0 1.02-.2 1.41-.59l7.78-7.78 2.81-2.81c.8-.78.8-2.07 0-2.86zM5.41 20L4 18.59l7.72-7.72 1.47 1.35L5.41 20z\"/>\n",
              "  </svg>\n",
              "      </button>\n",
              "      \n",
              "  <style>\n",
              "    .colab-df-container {\n",
              "      display:flex;\n",
              "      flex-wrap:wrap;\n",
              "      gap: 12px;\n",
              "    }\n",
              "\n",
              "    .colab-df-convert {\n",
              "      background-color: #E8F0FE;\n",
              "      border: none;\n",
              "      border-radius: 50%;\n",
              "      cursor: pointer;\n",
              "      display: none;\n",
              "      fill: #1967D2;\n",
              "      height: 32px;\n",
              "      padding: 0 0 0 0;\n",
              "      width: 32px;\n",
              "    }\n",
              "\n",
              "    .colab-df-convert:hover {\n",
              "      background-color: #E2EBFA;\n",
              "      box-shadow: 0px 1px 2px rgba(60, 64, 67, 0.3), 0px 1px 3px 1px rgba(60, 64, 67, 0.15);\n",
              "      fill: #174EA6;\n",
              "    }\n",
              "\n",
              "    [theme=dark] .colab-df-convert {\n",
              "      background-color: #3B4455;\n",
              "      fill: #D2E3FC;\n",
              "    }\n",
              "\n",
              "    [theme=dark] .colab-df-convert:hover {\n",
              "      background-color: #434B5C;\n",
              "      box-shadow: 0px 1px 3px 1px rgba(0, 0, 0, 0.15);\n",
              "      filter: drop-shadow(0px 1px 2px rgba(0, 0, 0, 0.3));\n",
              "      fill: #FFFFFF;\n",
              "    }\n",
              "  </style>\n",
              "\n",
              "      <script>\n",
              "        const buttonEl =\n",
              "          document.querySelector('#df-2c62dffc-24e7-4229-8fc2-a67d71f216e9 button.colab-df-convert');\n",
              "        buttonEl.style.display =\n",
              "          google.colab.kernel.accessAllowed ? 'block' : 'none';\n",
              "\n",
              "        async function convertToInteractive(key) {\n",
              "          const element = document.querySelector('#df-2c62dffc-24e7-4229-8fc2-a67d71f216e9');\n",
              "          const dataTable =\n",
              "            await google.colab.kernel.invokeFunction('convertToInteractive',\n",
              "                                                     [key], {});\n",
              "          if (!dataTable) return;\n",
              "\n",
              "          const docLinkHtml = 'Like what you see? Visit the ' +\n",
              "            '<a target=\"_blank\" href=https://colab.research.google.com/notebooks/data_table.ipynb>data table notebook</a>'\n",
              "            + ' to learn more about interactive tables.';\n",
              "          element.innerHTML = '';\n",
              "          dataTable['output_type'] = 'display_data';\n",
              "          await google.colab.output.renderOutput(dataTable, element);\n",
              "          const docLink = document.createElement('div');\n",
              "          docLink.innerHTML = docLinkHtml;\n",
              "          element.appendChild(docLink);\n",
              "        }\n",
              "      </script>\n",
              "    </div>\n",
              "  </div>\n",
              "  "
            ]
          },
          "metadata": {},
          "execution_count": 164
        }
      ]
    },
    {
      "cell_type": "code",
      "source": [
        "df = df.drop('Unnamed: 0', axis=1)\n",
        "\n",
        "df.head()"
      ],
      "metadata": {
        "colab": {
          "base_uri": "https://localhost:8080/",
          "height": 206
        },
        "id": "pjoPTttTYDY6",
        "outputId": "fbe1c900-bc8a-44a0-f9d1-d23c9e55f732"
      },
      "execution_count": 165,
      "outputs": [
        {
          "output_type": "execute_result",
          "data": {
            "text/plain": [
              "    rent  size_m2 property_type  bedrooms  suite  parking  \\\n",
              "0  2.550       72  Apartamento        3.0    1.0      2.0   \n",
              "1  2.400       76  Apartamento        3.0    1.0      1.0   \n",
              "2    750       48  Apartamento        2.0    1.0      1.0   \n",
              "3  2.200       44  Apartamento        1.0    1.0      1.0   \n",
              "4  1.400       32  Apartamento        1.0    1.0      1.0   \n",
              "\n",
              "           neighborhood  \n",
              "0          AGUAS CLARAS  \n",
              "1          AGUAS CLARAS  \n",
              "2   VALPARAISO DE GOIAS  \n",
              "3          AGUAS CLARAS  \n",
              "4          AGUAS CLARAS  "
            ],
            "text/html": [
              "\n",
              "  <div id=\"df-49774374-e4c7-4389-8ba8-9d4ce64b36c3\">\n",
              "    <div class=\"colab-df-container\">\n",
              "      <div>\n",
              "<style scoped>\n",
              "    .dataframe tbody tr th:only-of-type {\n",
              "        vertical-align: middle;\n",
              "    }\n",
              "\n",
              "    .dataframe tbody tr th {\n",
              "        vertical-align: top;\n",
              "    }\n",
              "\n",
              "    .dataframe thead th {\n",
              "        text-align: right;\n",
              "    }\n",
              "</style>\n",
              "<table border=\"1\" class=\"dataframe\">\n",
              "  <thead>\n",
              "    <tr style=\"text-align: right;\">\n",
              "      <th></th>\n",
              "      <th>rent</th>\n",
              "      <th>size_m2</th>\n",
              "      <th>property_type</th>\n",
              "      <th>bedrooms</th>\n",
              "      <th>suite</th>\n",
              "      <th>parking</th>\n",
              "      <th>neighborhood</th>\n",
              "    </tr>\n",
              "  </thead>\n",
              "  <tbody>\n",
              "    <tr>\n",
              "      <th>0</th>\n",
              "      <td>2.550</td>\n",
              "      <td>72</td>\n",
              "      <td>Apartamento</td>\n",
              "      <td>3.0</td>\n",
              "      <td>1.0</td>\n",
              "      <td>2.0</td>\n",
              "      <td>AGUAS CLARAS</td>\n",
              "    </tr>\n",
              "    <tr>\n",
              "      <th>1</th>\n",
              "      <td>2.400</td>\n",
              "      <td>76</td>\n",
              "      <td>Apartamento</td>\n",
              "      <td>3.0</td>\n",
              "      <td>1.0</td>\n",
              "      <td>1.0</td>\n",
              "      <td>AGUAS CLARAS</td>\n",
              "    </tr>\n",
              "    <tr>\n",
              "      <th>2</th>\n",
              "      <td>750</td>\n",
              "      <td>48</td>\n",
              "      <td>Apartamento</td>\n",
              "      <td>2.0</td>\n",
              "      <td>1.0</td>\n",
              "      <td>1.0</td>\n",
              "      <td>VALPARAISO DE GOIAS</td>\n",
              "    </tr>\n",
              "    <tr>\n",
              "      <th>3</th>\n",
              "      <td>2.200</td>\n",
              "      <td>44</td>\n",
              "      <td>Apartamento</td>\n",
              "      <td>1.0</td>\n",
              "      <td>1.0</td>\n",
              "      <td>1.0</td>\n",
              "      <td>AGUAS CLARAS</td>\n",
              "    </tr>\n",
              "    <tr>\n",
              "      <th>4</th>\n",
              "      <td>1.400</td>\n",
              "      <td>32</td>\n",
              "      <td>Apartamento</td>\n",
              "      <td>1.0</td>\n",
              "      <td>1.0</td>\n",
              "      <td>1.0</td>\n",
              "      <td>AGUAS CLARAS</td>\n",
              "    </tr>\n",
              "  </tbody>\n",
              "</table>\n",
              "</div>\n",
              "      <button class=\"colab-df-convert\" onclick=\"convertToInteractive('df-49774374-e4c7-4389-8ba8-9d4ce64b36c3')\"\n",
              "              title=\"Convert this dataframe to an interactive table.\"\n",
              "              style=\"display:none;\">\n",
              "        \n",
              "  <svg xmlns=\"http://www.w3.org/2000/svg\" height=\"24px\"viewBox=\"0 0 24 24\"\n",
              "       width=\"24px\">\n",
              "    <path d=\"M0 0h24v24H0V0z\" fill=\"none\"/>\n",
              "    <path d=\"M18.56 5.44l.94 2.06.94-2.06 2.06-.94-2.06-.94-.94-2.06-.94 2.06-2.06.94zm-11 1L8.5 8.5l.94-2.06 2.06-.94-2.06-.94L8.5 2.5l-.94 2.06-2.06.94zm10 10l.94 2.06.94-2.06 2.06-.94-2.06-.94-.94-2.06-.94 2.06-2.06.94z\"/><path d=\"M17.41 7.96l-1.37-1.37c-.4-.4-.92-.59-1.43-.59-.52 0-1.04.2-1.43.59L10.3 9.45l-7.72 7.72c-.78.78-.78 2.05 0 2.83L4 21.41c.39.39.9.59 1.41.59.51 0 1.02-.2 1.41-.59l7.78-7.78 2.81-2.81c.8-.78.8-2.07 0-2.86zM5.41 20L4 18.59l7.72-7.72 1.47 1.35L5.41 20z\"/>\n",
              "  </svg>\n",
              "      </button>\n",
              "      \n",
              "  <style>\n",
              "    .colab-df-container {\n",
              "      display:flex;\n",
              "      flex-wrap:wrap;\n",
              "      gap: 12px;\n",
              "    }\n",
              "\n",
              "    .colab-df-convert {\n",
              "      background-color: #E8F0FE;\n",
              "      border: none;\n",
              "      border-radius: 50%;\n",
              "      cursor: pointer;\n",
              "      display: none;\n",
              "      fill: #1967D2;\n",
              "      height: 32px;\n",
              "      padding: 0 0 0 0;\n",
              "      width: 32px;\n",
              "    }\n",
              "\n",
              "    .colab-df-convert:hover {\n",
              "      background-color: #E2EBFA;\n",
              "      box-shadow: 0px 1px 2px rgba(60, 64, 67, 0.3), 0px 1px 3px 1px rgba(60, 64, 67, 0.15);\n",
              "      fill: #174EA6;\n",
              "    }\n",
              "\n",
              "    [theme=dark] .colab-df-convert {\n",
              "      background-color: #3B4455;\n",
              "      fill: #D2E3FC;\n",
              "    }\n",
              "\n",
              "    [theme=dark] .colab-df-convert:hover {\n",
              "      background-color: #434B5C;\n",
              "      box-shadow: 0px 1px 3px 1px rgba(0, 0, 0, 0.15);\n",
              "      filter: drop-shadow(0px 1px 2px rgba(0, 0, 0, 0.3));\n",
              "      fill: #FFFFFF;\n",
              "    }\n",
              "  </style>\n",
              "\n",
              "      <script>\n",
              "        const buttonEl =\n",
              "          document.querySelector('#df-49774374-e4c7-4389-8ba8-9d4ce64b36c3 button.colab-df-convert');\n",
              "        buttonEl.style.display =\n",
              "          google.colab.kernel.accessAllowed ? 'block' : 'none';\n",
              "\n",
              "        async function convertToInteractive(key) {\n",
              "          const element = document.querySelector('#df-49774374-e4c7-4389-8ba8-9d4ce64b36c3');\n",
              "          const dataTable =\n",
              "            await google.colab.kernel.invokeFunction('convertToInteractive',\n",
              "                                                     [key], {});\n",
              "          if (!dataTable) return;\n",
              "\n",
              "          const docLinkHtml = 'Like what you see? Visit the ' +\n",
              "            '<a target=\"_blank\" href=https://colab.research.google.com/notebooks/data_table.ipynb>data table notebook</a>'\n",
              "            + ' to learn more about interactive tables.';\n",
              "          element.innerHTML = '';\n",
              "          dataTable['output_type'] = 'display_data';\n",
              "          await google.colab.output.renderOutput(dataTable, element);\n",
              "          const docLink = document.createElement('div');\n",
              "          docLink.innerHTML = docLinkHtml;\n",
              "          element.appendChild(docLink);\n",
              "        }\n",
              "      </script>\n",
              "    </div>\n",
              "  </div>\n",
              "  "
            ]
          },
          "metadata": {},
          "execution_count": 165
        }
      ]
    },
    {
      "cell_type": "code",
      "source": [
        "df.shape"
      ],
      "metadata": {
        "colab": {
          "base_uri": "https://localhost:8080/"
        },
        "id": "e1hSQsEWYS5W",
        "outputId": "4aa0c796-6f10-413f-c3ab-be763449d5fa"
      },
      "execution_count": 166,
      "outputs": [
        {
          "output_type": "execute_result",
          "data": {
            "text/plain": [
              "(3725, 7)"
            ]
          },
          "metadata": {},
          "execution_count": 166
        }
      ]
    },
    {
      "cell_type": "code",
      "source": [
        "df.dtypes"
      ],
      "metadata": {
        "colab": {
          "base_uri": "https://localhost:8080/"
        },
        "id": "IlLFmdUdYao5",
        "outputId": "cf24d7df-3ddf-4830-e42d-21ba874b5e5c"
      },
      "execution_count": 167,
      "outputs": [
        {
          "output_type": "execute_result",
          "data": {
            "text/plain": [
              "rent              object\n",
              "size_m2            int64\n",
              "property_type     object\n",
              "bedrooms         float64\n",
              "suite            float64\n",
              "parking          float64\n",
              "neighborhood      object\n",
              "dtype: object"
            ]
          },
          "metadata": {},
          "execution_count": 167
        }
      ]
    },
    {
      "cell_type": "code",
      "source": [
        "df.rent.value_counts()"
      ],
      "metadata": {
        "colab": {
          "base_uri": "https://localhost:8080/"
        },
        "id": "8ZkG7OggYiGK",
        "outputId": "74c1513b-c891-48fe-ecbb-ad7b54038e12"
      },
      "execution_count": 168,
      "outputs": [
        {
          "output_type": "execute_result",
          "data": {
            "text/plain": [
              "1.100     171\n",
              "1.200     146\n",
              "1.000     143\n",
              "800       128\n",
              "1.500     126\n",
              "         ... \n",
              "12.800      1\n",
              "2.510       1\n",
              "775         1\n",
              "4.999       1\n",
              "520         1\n",
              "Name: rent, Length: 325, dtype: int64"
            ]
          },
          "metadata": {},
          "execution_count": 168
        }
      ]
    },
    {
      "cell_type": "code",
      "source": [
        "df['rent'] = df['rent'].str.replace('.', '', regex=False)"
      ],
      "metadata": {
        "id": "dY2DmwxmZDsk"
      },
      "execution_count": 169,
      "outputs": []
    },
    {
      "cell_type": "code",
      "source": [
        "df.rent.value_counts()"
      ],
      "metadata": {
        "colab": {
          "base_uri": "https://localhost:8080/"
        },
        "id": "pHY1sVqwZpPE",
        "outputId": "33cfa3a4-924a-4f95-e1e2-c4bcdab4576e"
      },
      "execution_count": 170,
      "outputs": [
        {
          "output_type": "execute_result",
          "data": {
            "text/plain": [
              "1100     171\n",
              "1200     146\n",
              "1000     143\n",
              "800      128\n",
              "1500     126\n",
              "        ... \n",
              "12800      1\n",
              "2510       1\n",
              "775        1\n",
              "4999       1\n",
              "520        1\n",
              "Name: rent, Length: 325, dtype: int64"
            ]
          },
          "metadata": {},
          "execution_count": 170
        }
      ]
    },
    {
      "cell_type": "code",
      "source": [
        "df['rent'] = df.rent.astype('int32')"
      ],
      "metadata": {
        "id": "iGu7Hlg6Zn9d"
      },
      "execution_count": 171,
      "outputs": []
    },
    {
      "cell_type": "markdown",
      "source": [
        "Checking overall info about the values on each numerical column."
      ],
      "metadata": {
        "id": "ZwK1W0fUYVPU"
      }
    },
    {
      "cell_type": "code",
      "source": [
        "df.describe()"
      ],
      "metadata": {
        "colab": {
          "base_uri": "https://localhost:8080/",
          "height": 300
        },
        "id": "0PnwBhXcYVkG",
        "outputId": "7a2e9047-b96c-4d95-b336-1e5c2c4bd9bd"
      },
      "execution_count": 172,
      "outputs": [
        {
          "output_type": "execute_result",
          "data": {
            "text/plain": [
              "               rent      size_m2     bedrooms        suite      parking\n",
              "count  3.725000e+03  3725.000000  3720.000000  2517.000000  1335.000000\n",
              "mean   4.836279e+03    65.197315     1.841398     1.137068     1.346816\n",
              "std    7.479553e+04    50.282302     1.082808     0.476687     0.699338\n",
              "min    3.500000e+02     0.000000     1.000000     1.000000     1.000000\n",
              "25%    1.000000e+03    34.000000     1.000000     1.000000     1.000000\n",
              "50%    1.600000e+03    51.000000     2.000000     1.000000     1.000000\n",
              "75%    3.000000e+03    76.000000     2.000000     1.000000     2.000000\n",
              "max    3.850000e+06  1100.000000    38.000000     4.000000    10.000000"
            ],
            "text/html": [
              "\n",
              "  <div id=\"df-47dc7eec-e5ce-4308-9863-83dee724f44e\">\n",
              "    <div class=\"colab-df-container\">\n",
              "      <div>\n",
              "<style scoped>\n",
              "    .dataframe tbody tr th:only-of-type {\n",
              "        vertical-align: middle;\n",
              "    }\n",
              "\n",
              "    .dataframe tbody tr th {\n",
              "        vertical-align: top;\n",
              "    }\n",
              "\n",
              "    .dataframe thead th {\n",
              "        text-align: right;\n",
              "    }\n",
              "</style>\n",
              "<table border=\"1\" class=\"dataframe\">\n",
              "  <thead>\n",
              "    <tr style=\"text-align: right;\">\n",
              "      <th></th>\n",
              "      <th>rent</th>\n",
              "      <th>size_m2</th>\n",
              "      <th>bedrooms</th>\n",
              "      <th>suite</th>\n",
              "      <th>parking</th>\n",
              "    </tr>\n",
              "  </thead>\n",
              "  <tbody>\n",
              "    <tr>\n",
              "      <th>count</th>\n",
              "      <td>3.725000e+03</td>\n",
              "      <td>3725.000000</td>\n",
              "      <td>3720.000000</td>\n",
              "      <td>2517.000000</td>\n",
              "      <td>1335.000000</td>\n",
              "    </tr>\n",
              "    <tr>\n",
              "      <th>mean</th>\n",
              "      <td>4.836279e+03</td>\n",
              "      <td>65.197315</td>\n",
              "      <td>1.841398</td>\n",
              "      <td>1.137068</td>\n",
              "      <td>1.346816</td>\n",
              "    </tr>\n",
              "    <tr>\n",
              "      <th>std</th>\n",
              "      <td>7.479553e+04</td>\n",
              "      <td>50.282302</td>\n",
              "      <td>1.082808</td>\n",
              "      <td>0.476687</td>\n",
              "      <td>0.699338</td>\n",
              "    </tr>\n",
              "    <tr>\n",
              "      <th>min</th>\n",
              "      <td>3.500000e+02</td>\n",
              "      <td>0.000000</td>\n",
              "      <td>1.000000</td>\n",
              "      <td>1.000000</td>\n",
              "      <td>1.000000</td>\n",
              "    </tr>\n",
              "    <tr>\n",
              "      <th>25%</th>\n",
              "      <td>1.000000e+03</td>\n",
              "      <td>34.000000</td>\n",
              "      <td>1.000000</td>\n",
              "      <td>1.000000</td>\n",
              "      <td>1.000000</td>\n",
              "    </tr>\n",
              "    <tr>\n",
              "      <th>50%</th>\n",
              "      <td>1.600000e+03</td>\n",
              "      <td>51.000000</td>\n",
              "      <td>2.000000</td>\n",
              "      <td>1.000000</td>\n",
              "      <td>1.000000</td>\n",
              "    </tr>\n",
              "    <tr>\n",
              "      <th>75%</th>\n",
              "      <td>3.000000e+03</td>\n",
              "      <td>76.000000</td>\n",
              "      <td>2.000000</td>\n",
              "      <td>1.000000</td>\n",
              "      <td>2.000000</td>\n",
              "    </tr>\n",
              "    <tr>\n",
              "      <th>max</th>\n",
              "      <td>3.850000e+06</td>\n",
              "      <td>1100.000000</td>\n",
              "      <td>38.000000</td>\n",
              "      <td>4.000000</td>\n",
              "      <td>10.000000</td>\n",
              "    </tr>\n",
              "  </tbody>\n",
              "</table>\n",
              "</div>\n",
              "      <button class=\"colab-df-convert\" onclick=\"convertToInteractive('df-47dc7eec-e5ce-4308-9863-83dee724f44e')\"\n",
              "              title=\"Convert this dataframe to an interactive table.\"\n",
              "              style=\"display:none;\">\n",
              "        \n",
              "  <svg xmlns=\"http://www.w3.org/2000/svg\" height=\"24px\"viewBox=\"0 0 24 24\"\n",
              "       width=\"24px\">\n",
              "    <path d=\"M0 0h24v24H0V0z\" fill=\"none\"/>\n",
              "    <path d=\"M18.56 5.44l.94 2.06.94-2.06 2.06-.94-2.06-.94-.94-2.06-.94 2.06-2.06.94zm-11 1L8.5 8.5l.94-2.06 2.06-.94-2.06-.94L8.5 2.5l-.94 2.06-2.06.94zm10 10l.94 2.06.94-2.06 2.06-.94-2.06-.94-.94-2.06-.94 2.06-2.06.94z\"/><path d=\"M17.41 7.96l-1.37-1.37c-.4-.4-.92-.59-1.43-.59-.52 0-1.04.2-1.43.59L10.3 9.45l-7.72 7.72c-.78.78-.78 2.05 0 2.83L4 21.41c.39.39.9.59 1.41.59.51 0 1.02-.2 1.41-.59l7.78-7.78 2.81-2.81c.8-.78.8-2.07 0-2.86zM5.41 20L4 18.59l7.72-7.72 1.47 1.35L5.41 20z\"/>\n",
              "  </svg>\n",
              "      </button>\n",
              "      \n",
              "  <style>\n",
              "    .colab-df-container {\n",
              "      display:flex;\n",
              "      flex-wrap:wrap;\n",
              "      gap: 12px;\n",
              "    }\n",
              "\n",
              "    .colab-df-convert {\n",
              "      background-color: #E8F0FE;\n",
              "      border: none;\n",
              "      border-radius: 50%;\n",
              "      cursor: pointer;\n",
              "      display: none;\n",
              "      fill: #1967D2;\n",
              "      height: 32px;\n",
              "      padding: 0 0 0 0;\n",
              "      width: 32px;\n",
              "    }\n",
              "\n",
              "    .colab-df-convert:hover {\n",
              "      background-color: #E2EBFA;\n",
              "      box-shadow: 0px 1px 2px rgba(60, 64, 67, 0.3), 0px 1px 3px 1px rgba(60, 64, 67, 0.15);\n",
              "      fill: #174EA6;\n",
              "    }\n",
              "\n",
              "    [theme=dark] .colab-df-convert {\n",
              "      background-color: #3B4455;\n",
              "      fill: #D2E3FC;\n",
              "    }\n",
              "\n",
              "    [theme=dark] .colab-df-convert:hover {\n",
              "      background-color: #434B5C;\n",
              "      box-shadow: 0px 1px 3px 1px rgba(0, 0, 0, 0.15);\n",
              "      filter: drop-shadow(0px 1px 2px rgba(0, 0, 0, 0.3));\n",
              "      fill: #FFFFFF;\n",
              "    }\n",
              "  </style>\n",
              "\n",
              "      <script>\n",
              "        const buttonEl =\n",
              "          document.querySelector('#df-47dc7eec-e5ce-4308-9863-83dee724f44e button.colab-df-convert');\n",
              "        buttonEl.style.display =\n",
              "          google.colab.kernel.accessAllowed ? 'block' : 'none';\n",
              "\n",
              "        async function convertToInteractive(key) {\n",
              "          const element = document.querySelector('#df-47dc7eec-e5ce-4308-9863-83dee724f44e');\n",
              "          const dataTable =\n",
              "            await google.colab.kernel.invokeFunction('convertToInteractive',\n",
              "                                                     [key], {});\n",
              "          if (!dataTable) return;\n",
              "\n",
              "          const docLinkHtml = 'Like what you see? Visit the ' +\n",
              "            '<a target=\"_blank\" href=https://colab.research.google.com/notebooks/data_table.ipynb>data table notebook</a>'\n",
              "            + ' to learn more about interactive tables.';\n",
              "          element.innerHTML = '';\n",
              "          dataTable['output_type'] = 'display_data';\n",
              "          await google.colab.output.renderOutput(dataTable, element);\n",
              "          const docLink = document.createElement('div');\n",
              "          docLink.innerHTML = docLinkHtml;\n",
              "          element.appendChild(docLink);\n",
              "        }\n",
              "      </script>\n",
              "    </div>\n",
              "  </div>\n",
              "  "
            ]
          },
          "metadata": {},
          "execution_count": 172
        }
      ]
    },
    {
      "cell_type": "markdown",
      "source": [
        "Checking and dropping 0 m² rows."
      ],
      "metadata": {
        "id": "tzG5W-Cobp8y"
      }
    },
    {
      "cell_type": "code",
      "source": [
        "df.loc[df['size_m2'] == 0]"
      ],
      "metadata": {
        "colab": {
          "base_uri": "https://localhost:8080/",
          "height": 238
        },
        "id": "1HX0D7d0axGO",
        "outputId": "b2104c90-c334-4260-e459-20ae35bdb993"
      },
      "execution_count": 173,
      "outputs": [
        {
          "output_type": "execute_result",
          "data": {
            "text/plain": [
              "      rent  size_m2 property_type  bedrooms  suite  parking neighborhood\n",
              "394   4200        0  Apartamento        1.0    1.0      NaN    ASA NORTE\n",
              "559   1400        0  Apartamento        2.0    1.0      NaN         GAMA\n",
              "1015  1400        0  Apartamento        2.0    1.0      NaN         GAMA\n",
              "2197  2110        0  Apartamento        2.0    1.0      1.0         GAMA\n",
              "3035  1400        0  Apartamento        2.0    1.0      NaN         GAMA\n",
              "3613  1400        0  Apartamento        2.0    1.0      NaN         GAMA"
            ],
            "text/html": [
              "\n",
              "  <div id=\"df-a377bd2c-fa8d-49e3-86d1-106e83bc16c9\">\n",
              "    <div class=\"colab-df-container\">\n",
              "      <div>\n",
              "<style scoped>\n",
              "    .dataframe tbody tr th:only-of-type {\n",
              "        vertical-align: middle;\n",
              "    }\n",
              "\n",
              "    .dataframe tbody tr th {\n",
              "        vertical-align: top;\n",
              "    }\n",
              "\n",
              "    .dataframe thead th {\n",
              "        text-align: right;\n",
              "    }\n",
              "</style>\n",
              "<table border=\"1\" class=\"dataframe\">\n",
              "  <thead>\n",
              "    <tr style=\"text-align: right;\">\n",
              "      <th></th>\n",
              "      <th>rent</th>\n",
              "      <th>size_m2</th>\n",
              "      <th>property_type</th>\n",
              "      <th>bedrooms</th>\n",
              "      <th>suite</th>\n",
              "      <th>parking</th>\n",
              "      <th>neighborhood</th>\n",
              "    </tr>\n",
              "  </thead>\n",
              "  <tbody>\n",
              "    <tr>\n",
              "      <th>394</th>\n",
              "      <td>4200</td>\n",
              "      <td>0</td>\n",
              "      <td>Apartamento</td>\n",
              "      <td>1.0</td>\n",
              "      <td>1.0</td>\n",
              "      <td>NaN</td>\n",
              "      <td>ASA NORTE</td>\n",
              "    </tr>\n",
              "    <tr>\n",
              "      <th>559</th>\n",
              "      <td>1400</td>\n",
              "      <td>0</td>\n",
              "      <td>Apartamento</td>\n",
              "      <td>2.0</td>\n",
              "      <td>1.0</td>\n",
              "      <td>NaN</td>\n",
              "      <td>GAMA</td>\n",
              "    </tr>\n",
              "    <tr>\n",
              "      <th>1015</th>\n",
              "      <td>1400</td>\n",
              "      <td>0</td>\n",
              "      <td>Apartamento</td>\n",
              "      <td>2.0</td>\n",
              "      <td>1.0</td>\n",
              "      <td>NaN</td>\n",
              "      <td>GAMA</td>\n",
              "    </tr>\n",
              "    <tr>\n",
              "      <th>2197</th>\n",
              "      <td>2110</td>\n",
              "      <td>0</td>\n",
              "      <td>Apartamento</td>\n",
              "      <td>2.0</td>\n",
              "      <td>1.0</td>\n",
              "      <td>1.0</td>\n",
              "      <td>GAMA</td>\n",
              "    </tr>\n",
              "    <tr>\n",
              "      <th>3035</th>\n",
              "      <td>1400</td>\n",
              "      <td>0</td>\n",
              "      <td>Apartamento</td>\n",
              "      <td>2.0</td>\n",
              "      <td>1.0</td>\n",
              "      <td>NaN</td>\n",
              "      <td>GAMA</td>\n",
              "    </tr>\n",
              "    <tr>\n",
              "      <th>3613</th>\n",
              "      <td>1400</td>\n",
              "      <td>0</td>\n",
              "      <td>Apartamento</td>\n",
              "      <td>2.0</td>\n",
              "      <td>1.0</td>\n",
              "      <td>NaN</td>\n",
              "      <td>GAMA</td>\n",
              "    </tr>\n",
              "  </tbody>\n",
              "</table>\n",
              "</div>\n",
              "      <button class=\"colab-df-convert\" onclick=\"convertToInteractive('df-a377bd2c-fa8d-49e3-86d1-106e83bc16c9')\"\n",
              "              title=\"Convert this dataframe to an interactive table.\"\n",
              "              style=\"display:none;\">\n",
              "        \n",
              "  <svg xmlns=\"http://www.w3.org/2000/svg\" height=\"24px\"viewBox=\"0 0 24 24\"\n",
              "       width=\"24px\">\n",
              "    <path d=\"M0 0h24v24H0V0z\" fill=\"none\"/>\n",
              "    <path d=\"M18.56 5.44l.94 2.06.94-2.06 2.06-.94-2.06-.94-.94-2.06-.94 2.06-2.06.94zm-11 1L8.5 8.5l.94-2.06 2.06-.94-2.06-.94L8.5 2.5l-.94 2.06-2.06.94zm10 10l.94 2.06.94-2.06 2.06-.94-2.06-.94-.94-2.06-.94 2.06-2.06.94z\"/><path d=\"M17.41 7.96l-1.37-1.37c-.4-.4-.92-.59-1.43-.59-.52 0-1.04.2-1.43.59L10.3 9.45l-7.72 7.72c-.78.78-.78 2.05 0 2.83L4 21.41c.39.39.9.59 1.41.59.51 0 1.02-.2 1.41-.59l7.78-7.78 2.81-2.81c.8-.78.8-2.07 0-2.86zM5.41 20L4 18.59l7.72-7.72 1.47 1.35L5.41 20z\"/>\n",
              "  </svg>\n",
              "      </button>\n",
              "      \n",
              "  <style>\n",
              "    .colab-df-container {\n",
              "      display:flex;\n",
              "      flex-wrap:wrap;\n",
              "      gap: 12px;\n",
              "    }\n",
              "\n",
              "    .colab-df-convert {\n",
              "      background-color: #E8F0FE;\n",
              "      border: none;\n",
              "      border-radius: 50%;\n",
              "      cursor: pointer;\n",
              "      display: none;\n",
              "      fill: #1967D2;\n",
              "      height: 32px;\n",
              "      padding: 0 0 0 0;\n",
              "      width: 32px;\n",
              "    }\n",
              "\n",
              "    .colab-df-convert:hover {\n",
              "      background-color: #E2EBFA;\n",
              "      box-shadow: 0px 1px 2px rgba(60, 64, 67, 0.3), 0px 1px 3px 1px rgba(60, 64, 67, 0.15);\n",
              "      fill: #174EA6;\n",
              "    }\n",
              "\n",
              "    [theme=dark] .colab-df-convert {\n",
              "      background-color: #3B4455;\n",
              "      fill: #D2E3FC;\n",
              "    }\n",
              "\n",
              "    [theme=dark] .colab-df-convert:hover {\n",
              "      background-color: #434B5C;\n",
              "      box-shadow: 0px 1px 3px 1px rgba(0, 0, 0, 0.15);\n",
              "      filter: drop-shadow(0px 1px 2px rgba(0, 0, 0, 0.3));\n",
              "      fill: #FFFFFF;\n",
              "    }\n",
              "  </style>\n",
              "\n",
              "      <script>\n",
              "        const buttonEl =\n",
              "          document.querySelector('#df-a377bd2c-fa8d-49e3-86d1-106e83bc16c9 button.colab-df-convert');\n",
              "        buttonEl.style.display =\n",
              "          google.colab.kernel.accessAllowed ? 'block' : 'none';\n",
              "\n",
              "        async function convertToInteractive(key) {\n",
              "          const element = document.querySelector('#df-a377bd2c-fa8d-49e3-86d1-106e83bc16c9');\n",
              "          const dataTable =\n",
              "            await google.colab.kernel.invokeFunction('convertToInteractive',\n",
              "                                                     [key], {});\n",
              "          if (!dataTable) return;\n",
              "\n",
              "          const docLinkHtml = 'Like what you see? Visit the ' +\n",
              "            '<a target=\"_blank\" href=https://colab.research.google.com/notebooks/data_table.ipynb>data table notebook</a>'\n",
              "            + ' to learn more about interactive tables.';\n",
              "          element.innerHTML = '';\n",
              "          dataTable['output_type'] = 'display_data';\n",
              "          await google.colab.output.renderOutput(dataTable, element);\n",
              "          const docLink = document.createElement('div');\n",
              "          docLink.innerHTML = docLinkHtml;\n",
              "          element.appendChild(docLink);\n",
              "        }\n",
              "      </script>\n",
              "    </div>\n",
              "  </div>\n",
              "  "
            ]
          },
          "metadata": {},
          "execution_count": 173
        }
      ]
    },
    {
      "cell_type": "code",
      "source": [
        "df = df[df.size_m2 != 0]"
      ],
      "metadata": {
        "id": "m7WwvyjPbxL2"
      },
      "execution_count": 174,
      "outputs": []
    },
    {
      "cell_type": "code",
      "source": [
        "df.describe()"
      ],
      "metadata": {
        "colab": {
          "base_uri": "https://localhost:8080/",
          "height": 300
        },
        "id": "KFgrz1WqcEGw",
        "outputId": "1343f767-6f2c-4f26-8c6c-bb7e587f3d3d"
      },
      "execution_count": 175,
      "outputs": [
        {
          "output_type": "execute_result",
          "data": {
            "text/plain": [
              "               rent      size_m2     bedrooms        suite      parking\n",
              "count  3.719000e+03  3719.000000  3714.000000  2511.000000  1334.000000\n",
              "mean   4.840879e+03    65.302501     1.841411     1.137395     1.347076\n",
              "std    7.485575e+04    50.254545     1.083579     0.477209     0.699536\n",
              "min    3.500000e+02     1.000000     1.000000     1.000000     1.000000\n",
              "25%    1.000000e+03    34.000000     1.000000     1.000000     1.000000\n",
              "50%    1.600000e+03    51.000000     2.000000     1.000000     1.000000\n",
              "75%    3.000000e+03    77.000000     2.000000     1.000000     2.000000\n",
              "max    3.850000e+06  1100.000000    38.000000     4.000000    10.000000"
            ],
            "text/html": [
              "\n",
              "  <div id=\"df-bb6b8c11-68b8-4e2f-9a8e-00f0c0603256\">\n",
              "    <div class=\"colab-df-container\">\n",
              "      <div>\n",
              "<style scoped>\n",
              "    .dataframe tbody tr th:only-of-type {\n",
              "        vertical-align: middle;\n",
              "    }\n",
              "\n",
              "    .dataframe tbody tr th {\n",
              "        vertical-align: top;\n",
              "    }\n",
              "\n",
              "    .dataframe thead th {\n",
              "        text-align: right;\n",
              "    }\n",
              "</style>\n",
              "<table border=\"1\" class=\"dataframe\">\n",
              "  <thead>\n",
              "    <tr style=\"text-align: right;\">\n",
              "      <th></th>\n",
              "      <th>rent</th>\n",
              "      <th>size_m2</th>\n",
              "      <th>bedrooms</th>\n",
              "      <th>suite</th>\n",
              "      <th>parking</th>\n",
              "    </tr>\n",
              "  </thead>\n",
              "  <tbody>\n",
              "    <tr>\n",
              "      <th>count</th>\n",
              "      <td>3.719000e+03</td>\n",
              "      <td>3719.000000</td>\n",
              "      <td>3714.000000</td>\n",
              "      <td>2511.000000</td>\n",
              "      <td>1334.000000</td>\n",
              "    </tr>\n",
              "    <tr>\n",
              "      <th>mean</th>\n",
              "      <td>4.840879e+03</td>\n",
              "      <td>65.302501</td>\n",
              "      <td>1.841411</td>\n",
              "      <td>1.137395</td>\n",
              "      <td>1.347076</td>\n",
              "    </tr>\n",
              "    <tr>\n",
              "      <th>std</th>\n",
              "      <td>7.485575e+04</td>\n",
              "      <td>50.254545</td>\n",
              "      <td>1.083579</td>\n",
              "      <td>0.477209</td>\n",
              "      <td>0.699536</td>\n",
              "    </tr>\n",
              "    <tr>\n",
              "      <th>min</th>\n",
              "      <td>3.500000e+02</td>\n",
              "      <td>1.000000</td>\n",
              "      <td>1.000000</td>\n",
              "      <td>1.000000</td>\n",
              "      <td>1.000000</td>\n",
              "    </tr>\n",
              "    <tr>\n",
              "      <th>25%</th>\n",
              "      <td>1.000000e+03</td>\n",
              "      <td>34.000000</td>\n",
              "      <td>1.000000</td>\n",
              "      <td>1.000000</td>\n",
              "      <td>1.000000</td>\n",
              "    </tr>\n",
              "    <tr>\n",
              "      <th>50%</th>\n",
              "      <td>1.600000e+03</td>\n",
              "      <td>51.000000</td>\n",
              "      <td>2.000000</td>\n",
              "      <td>1.000000</td>\n",
              "      <td>1.000000</td>\n",
              "    </tr>\n",
              "    <tr>\n",
              "      <th>75%</th>\n",
              "      <td>3.000000e+03</td>\n",
              "      <td>77.000000</td>\n",
              "      <td>2.000000</td>\n",
              "      <td>1.000000</td>\n",
              "      <td>2.000000</td>\n",
              "    </tr>\n",
              "    <tr>\n",
              "      <th>max</th>\n",
              "      <td>3.850000e+06</td>\n",
              "      <td>1100.000000</td>\n",
              "      <td>38.000000</td>\n",
              "      <td>4.000000</td>\n",
              "      <td>10.000000</td>\n",
              "    </tr>\n",
              "  </tbody>\n",
              "</table>\n",
              "</div>\n",
              "      <button class=\"colab-df-convert\" onclick=\"convertToInteractive('df-bb6b8c11-68b8-4e2f-9a8e-00f0c0603256')\"\n",
              "              title=\"Convert this dataframe to an interactive table.\"\n",
              "              style=\"display:none;\">\n",
              "        \n",
              "  <svg xmlns=\"http://www.w3.org/2000/svg\" height=\"24px\"viewBox=\"0 0 24 24\"\n",
              "       width=\"24px\">\n",
              "    <path d=\"M0 0h24v24H0V0z\" fill=\"none\"/>\n",
              "    <path d=\"M18.56 5.44l.94 2.06.94-2.06 2.06-.94-2.06-.94-.94-2.06-.94 2.06-2.06.94zm-11 1L8.5 8.5l.94-2.06 2.06-.94-2.06-.94L8.5 2.5l-.94 2.06-2.06.94zm10 10l.94 2.06.94-2.06 2.06-.94-2.06-.94-.94-2.06-.94 2.06-2.06.94z\"/><path d=\"M17.41 7.96l-1.37-1.37c-.4-.4-.92-.59-1.43-.59-.52 0-1.04.2-1.43.59L10.3 9.45l-7.72 7.72c-.78.78-.78 2.05 0 2.83L4 21.41c.39.39.9.59 1.41.59.51 0 1.02-.2 1.41-.59l7.78-7.78 2.81-2.81c.8-.78.8-2.07 0-2.86zM5.41 20L4 18.59l7.72-7.72 1.47 1.35L5.41 20z\"/>\n",
              "  </svg>\n",
              "      </button>\n",
              "      \n",
              "  <style>\n",
              "    .colab-df-container {\n",
              "      display:flex;\n",
              "      flex-wrap:wrap;\n",
              "      gap: 12px;\n",
              "    }\n",
              "\n",
              "    .colab-df-convert {\n",
              "      background-color: #E8F0FE;\n",
              "      border: none;\n",
              "      border-radius: 50%;\n",
              "      cursor: pointer;\n",
              "      display: none;\n",
              "      fill: #1967D2;\n",
              "      height: 32px;\n",
              "      padding: 0 0 0 0;\n",
              "      width: 32px;\n",
              "    }\n",
              "\n",
              "    .colab-df-convert:hover {\n",
              "      background-color: #E2EBFA;\n",
              "      box-shadow: 0px 1px 2px rgba(60, 64, 67, 0.3), 0px 1px 3px 1px rgba(60, 64, 67, 0.15);\n",
              "      fill: #174EA6;\n",
              "    }\n",
              "\n",
              "    [theme=dark] .colab-df-convert {\n",
              "      background-color: #3B4455;\n",
              "      fill: #D2E3FC;\n",
              "    }\n",
              "\n",
              "    [theme=dark] .colab-df-convert:hover {\n",
              "      background-color: #434B5C;\n",
              "      box-shadow: 0px 1px 3px 1px rgba(0, 0, 0, 0.15);\n",
              "      filter: drop-shadow(0px 1px 2px rgba(0, 0, 0, 0.3));\n",
              "      fill: #FFFFFF;\n",
              "    }\n",
              "  </style>\n",
              "\n",
              "      <script>\n",
              "        const buttonEl =\n",
              "          document.querySelector('#df-bb6b8c11-68b8-4e2f-9a8e-00f0c0603256 button.colab-df-convert');\n",
              "        buttonEl.style.display =\n",
              "          google.colab.kernel.accessAllowed ? 'block' : 'none';\n",
              "\n",
              "        async function convertToInteractive(key) {\n",
              "          const element = document.querySelector('#df-bb6b8c11-68b8-4e2f-9a8e-00f0c0603256');\n",
              "          const dataTable =\n",
              "            await google.colab.kernel.invokeFunction('convertToInteractive',\n",
              "                                                     [key], {});\n",
              "          if (!dataTable) return;\n",
              "\n",
              "          const docLinkHtml = 'Like what you see? Visit the ' +\n",
              "            '<a target=\"_blank\" href=https://colab.research.google.com/notebooks/data_table.ipynb>data table notebook</a>'\n",
              "            + ' to learn more about interactive tables.';\n",
              "          element.innerHTML = '';\n",
              "          dataTable['output_type'] = 'display_data';\n",
              "          await google.colab.output.renderOutput(dataTable, element);\n",
              "          const docLink = document.createElement('div');\n",
              "          docLink.innerHTML = docLinkHtml;\n",
              "          element.appendChild(docLink);\n",
              "        }\n",
              "      </script>\n",
              "    </div>\n",
              "  </div>\n",
              "  "
            ]
          },
          "metadata": {},
          "execution_count": 175
        }
      ]
    },
    {
      "cell_type": "markdown",
      "source": [
        "Doing the same step for 1 m² rows."
      ],
      "metadata": {
        "id": "c6ZXGHiAcMxV"
      }
    },
    {
      "cell_type": "code",
      "source": [
        "df.loc[df['size_m2'] == 1]"
      ],
      "metadata": {
        "colab": {
          "base_uri": "https://localhost:8080/",
          "height": 112
        },
        "id": "Qqcw23E_cKKu",
        "outputId": "298f7c71-0bf0-4b55-b4d1-fd22b6d6f10d"
      },
      "execution_count": 176,
      "outputs": [
        {
          "output_type": "execute_result",
          "data": {
            "text/plain": [
              "      rent  size_m2 property_type  bedrooms  suite  parking neighborhood\n",
              "1568   375        1       Kitnet        1.0    NaN      NaN    CEILANDIA\n",
              "2203   900        1       Kitnet        1.0    1.0      NaN        GUARA"
            ],
            "text/html": [
              "\n",
              "  <div id=\"df-26e2cd60-6614-4a0c-8bb6-39b0ca6354ca\">\n",
              "    <div class=\"colab-df-container\">\n",
              "      <div>\n",
              "<style scoped>\n",
              "    .dataframe tbody tr th:only-of-type {\n",
              "        vertical-align: middle;\n",
              "    }\n",
              "\n",
              "    .dataframe tbody tr th {\n",
              "        vertical-align: top;\n",
              "    }\n",
              "\n",
              "    .dataframe thead th {\n",
              "        text-align: right;\n",
              "    }\n",
              "</style>\n",
              "<table border=\"1\" class=\"dataframe\">\n",
              "  <thead>\n",
              "    <tr style=\"text-align: right;\">\n",
              "      <th></th>\n",
              "      <th>rent</th>\n",
              "      <th>size_m2</th>\n",
              "      <th>property_type</th>\n",
              "      <th>bedrooms</th>\n",
              "      <th>suite</th>\n",
              "      <th>parking</th>\n",
              "      <th>neighborhood</th>\n",
              "    </tr>\n",
              "  </thead>\n",
              "  <tbody>\n",
              "    <tr>\n",
              "      <th>1568</th>\n",
              "      <td>375</td>\n",
              "      <td>1</td>\n",
              "      <td>Kitnet</td>\n",
              "      <td>1.0</td>\n",
              "      <td>NaN</td>\n",
              "      <td>NaN</td>\n",
              "      <td>CEILANDIA</td>\n",
              "    </tr>\n",
              "    <tr>\n",
              "      <th>2203</th>\n",
              "      <td>900</td>\n",
              "      <td>1</td>\n",
              "      <td>Kitnet</td>\n",
              "      <td>1.0</td>\n",
              "      <td>1.0</td>\n",
              "      <td>NaN</td>\n",
              "      <td>GUARA</td>\n",
              "    </tr>\n",
              "  </tbody>\n",
              "</table>\n",
              "</div>\n",
              "      <button class=\"colab-df-convert\" onclick=\"convertToInteractive('df-26e2cd60-6614-4a0c-8bb6-39b0ca6354ca')\"\n",
              "              title=\"Convert this dataframe to an interactive table.\"\n",
              "              style=\"display:none;\">\n",
              "        \n",
              "  <svg xmlns=\"http://www.w3.org/2000/svg\" height=\"24px\"viewBox=\"0 0 24 24\"\n",
              "       width=\"24px\">\n",
              "    <path d=\"M0 0h24v24H0V0z\" fill=\"none\"/>\n",
              "    <path d=\"M18.56 5.44l.94 2.06.94-2.06 2.06-.94-2.06-.94-.94-2.06-.94 2.06-2.06.94zm-11 1L8.5 8.5l.94-2.06 2.06-.94-2.06-.94L8.5 2.5l-.94 2.06-2.06.94zm10 10l.94 2.06.94-2.06 2.06-.94-2.06-.94-.94-2.06-.94 2.06-2.06.94z\"/><path d=\"M17.41 7.96l-1.37-1.37c-.4-.4-.92-.59-1.43-.59-.52 0-1.04.2-1.43.59L10.3 9.45l-7.72 7.72c-.78.78-.78 2.05 0 2.83L4 21.41c.39.39.9.59 1.41.59.51 0 1.02-.2 1.41-.59l7.78-7.78 2.81-2.81c.8-.78.8-2.07 0-2.86zM5.41 20L4 18.59l7.72-7.72 1.47 1.35L5.41 20z\"/>\n",
              "  </svg>\n",
              "      </button>\n",
              "      \n",
              "  <style>\n",
              "    .colab-df-container {\n",
              "      display:flex;\n",
              "      flex-wrap:wrap;\n",
              "      gap: 12px;\n",
              "    }\n",
              "\n",
              "    .colab-df-convert {\n",
              "      background-color: #E8F0FE;\n",
              "      border: none;\n",
              "      border-radius: 50%;\n",
              "      cursor: pointer;\n",
              "      display: none;\n",
              "      fill: #1967D2;\n",
              "      height: 32px;\n",
              "      padding: 0 0 0 0;\n",
              "      width: 32px;\n",
              "    }\n",
              "\n",
              "    .colab-df-convert:hover {\n",
              "      background-color: #E2EBFA;\n",
              "      box-shadow: 0px 1px 2px rgba(60, 64, 67, 0.3), 0px 1px 3px 1px rgba(60, 64, 67, 0.15);\n",
              "      fill: #174EA6;\n",
              "    }\n",
              "\n",
              "    [theme=dark] .colab-df-convert {\n",
              "      background-color: #3B4455;\n",
              "      fill: #D2E3FC;\n",
              "    }\n",
              "\n",
              "    [theme=dark] .colab-df-convert:hover {\n",
              "      background-color: #434B5C;\n",
              "      box-shadow: 0px 1px 3px 1px rgba(0, 0, 0, 0.15);\n",
              "      filter: drop-shadow(0px 1px 2px rgba(0, 0, 0, 0.3));\n",
              "      fill: #FFFFFF;\n",
              "    }\n",
              "  </style>\n",
              "\n",
              "      <script>\n",
              "        const buttonEl =\n",
              "          document.querySelector('#df-26e2cd60-6614-4a0c-8bb6-39b0ca6354ca button.colab-df-convert');\n",
              "        buttonEl.style.display =\n",
              "          google.colab.kernel.accessAllowed ? 'block' : 'none';\n",
              "\n",
              "        async function convertToInteractive(key) {\n",
              "          const element = document.querySelector('#df-26e2cd60-6614-4a0c-8bb6-39b0ca6354ca');\n",
              "          const dataTable =\n",
              "            await google.colab.kernel.invokeFunction('convertToInteractive',\n",
              "                                                     [key], {});\n",
              "          if (!dataTable) return;\n",
              "\n",
              "          const docLinkHtml = 'Like what you see? Visit the ' +\n",
              "            '<a target=\"_blank\" href=https://colab.research.google.com/notebooks/data_table.ipynb>data table notebook</a>'\n",
              "            + ' to learn more about interactive tables.';\n",
              "          element.innerHTML = '';\n",
              "          dataTable['output_type'] = 'display_data';\n",
              "          await google.colab.output.renderOutput(dataTable, element);\n",
              "          const docLink = document.createElement('div');\n",
              "          docLink.innerHTML = docLinkHtml;\n",
              "          element.appendChild(docLink);\n",
              "        }\n",
              "      </script>\n",
              "    </div>\n",
              "  </div>\n",
              "  "
            ]
          },
          "metadata": {},
          "execution_count": 176
        }
      ]
    },
    {
      "cell_type": "code",
      "source": [
        "df = df[df.size_m2 != 1]"
      ],
      "metadata": {
        "id": "iB_cNVPCcS81"
      },
      "execution_count": 177,
      "outputs": []
    },
    {
      "cell_type": "code",
      "source": [
        "df.describe()"
      ],
      "metadata": {
        "colab": {
          "base_uri": "https://localhost:8080/",
          "height": 300
        },
        "id": "vTuK8deccUX8",
        "outputId": "bed8b4d9-b28a-414c-93a6-467feb100bae"
      },
      "execution_count": 178,
      "outputs": [
        {
          "output_type": "execute_result",
          "data": {
            "text/plain": [
              "               rent      size_m2     bedrooms        suite      parking\n",
              "count  3.717000e+03  3717.000000  3712.000000  2510.000000  1334.000000\n",
              "mean   4.843141e+03    65.337100     1.841864     1.137450     1.347076\n",
              "std    7.487583e+04    50.245915     1.083694     0.477296     0.699536\n",
              "min    3.500000e+02    11.000000     1.000000     1.000000     1.000000\n",
              "25%    1.000000e+03    34.000000     1.000000     1.000000     1.000000\n",
              "50%    1.600000e+03    51.000000     2.000000     1.000000     1.000000\n",
              "75%    3.000000e+03    77.000000     2.000000     1.000000     2.000000\n",
              "max    3.850000e+06  1100.000000    38.000000     4.000000    10.000000"
            ],
            "text/html": [
              "\n",
              "  <div id=\"df-3a7e7d74-6e5e-4b63-8c84-9b95f6f98c4a\">\n",
              "    <div class=\"colab-df-container\">\n",
              "      <div>\n",
              "<style scoped>\n",
              "    .dataframe tbody tr th:only-of-type {\n",
              "        vertical-align: middle;\n",
              "    }\n",
              "\n",
              "    .dataframe tbody tr th {\n",
              "        vertical-align: top;\n",
              "    }\n",
              "\n",
              "    .dataframe thead th {\n",
              "        text-align: right;\n",
              "    }\n",
              "</style>\n",
              "<table border=\"1\" class=\"dataframe\">\n",
              "  <thead>\n",
              "    <tr style=\"text-align: right;\">\n",
              "      <th></th>\n",
              "      <th>rent</th>\n",
              "      <th>size_m2</th>\n",
              "      <th>bedrooms</th>\n",
              "      <th>suite</th>\n",
              "      <th>parking</th>\n",
              "    </tr>\n",
              "  </thead>\n",
              "  <tbody>\n",
              "    <tr>\n",
              "      <th>count</th>\n",
              "      <td>3.717000e+03</td>\n",
              "      <td>3717.000000</td>\n",
              "      <td>3712.000000</td>\n",
              "      <td>2510.000000</td>\n",
              "      <td>1334.000000</td>\n",
              "    </tr>\n",
              "    <tr>\n",
              "      <th>mean</th>\n",
              "      <td>4.843141e+03</td>\n",
              "      <td>65.337100</td>\n",
              "      <td>1.841864</td>\n",
              "      <td>1.137450</td>\n",
              "      <td>1.347076</td>\n",
              "    </tr>\n",
              "    <tr>\n",
              "      <th>std</th>\n",
              "      <td>7.487583e+04</td>\n",
              "      <td>50.245915</td>\n",
              "      <td>1.083694</td>\n",
              "      <td>0.477296</td>\n",
              "      <td>0.699536</td>\n",
              "    </tr>\n",
              "    <tr>\n",
              "      <th>min</th>\n",
              "      <td>3.500000e+02</td>\n",
              "      <td>11.000000</td>\n",
              "      <td>1.000000</td>\n",
              "      <td>1.000000</td>\n",
              "      <td>1.000000</td>\n",
              "    </tr>\n",
              "    <tr>\n",
              "      <th>25%</th>\n",
              "      <td>1.000000e+03</td>\n",
              "      <td>34.000000</td>\n",
              "      <td>1.000000</td>\n",
              "      <td>1.000000</td>\n",
              "      <td>1.000000</td>\n",
              "    </tr>\n",
              "    <tr>\n",
              "      <th>50%</th>\n",
              "      <td>1.600000e+03</td>\n",
              "      <td>51.000000</td>\n",
              "      <td>2.000000</td>\n",
              "      <td>1.000000</td>\n",
              "      <td>1.000000</td>\n",
              "    </tr>\n",
              "    <tr>\n",
              "      <th>75%</th>\n",
              "      <td>3.000000e+03</td>\n",
              "      <td>77.000000</td>\n",
              "      <td>2.000000</td>\n",
              "      <td>1.000000</td>\n",
              "      <td>2.000000</td>\n",
              "    </tr>\n",
              "    <tr>\n",
              "      <th>max</th>\n",
              "      <td>3.850000e+06</td>\n",
              "      <td>1100.000000</td>\n",
              "      <td>38.000000</td>\n",
              "      <td>4.000000</td>\n",
              "      <td>10.000000</td>\n",
              "    </tr>\n",
              "  </tbody>\n",
              "</table>\n",
              "</div>\n",
              "      <button class=\"colab-df-convert\" onclick=\"convertToInteractive('df-3a7e7d74-6e5e-4b63-8c84-9b95f6f98c4a')\"\n",
              "              title=\"Convert this dataframe to an interactive table.\"\n",
              "              style=\"display:none;\">\n",
              "        \n",
              "  <svg xmlns=\"http://www.w3.org/2000/svg\" height=\"24px\"viewBox=\"0 0 24 24\"\n",
              "       width=\"24px\">\n",
              "    <path d=\"M0 0h24v24H0V0z\" fill=\"none\"/>\n",
              "    <path d=\"M18.56 5.44l.94 2.06.94-2.06 2.06-.94-2.06-.94-.94-2.06-.94 2.06-2.06.94zm-11 1L8.5 8.5l.94-2.06 2.06-.94-2.06-.94L8.5 2.5l-.94 2.06-2.06.94zm10 10l.94 2.06.94-2.06 2.06-.94-2.06-.94-.94-2.06-.94 2.06-2.06.94z\"/><path d=\"M17.41 7.96l-1.37-1.37c-.4-.4-.92-.59-1.43-.59-.52 0-1.04.2-1.43.59L10.3 9.45l-7.72 7.72c-.78.78-.78 2.05 0 2.83L4 21.41c.39.39.9.59 1.41.59.51 0 1.02-.2 1.41-.59l7.78-7.78 2.81-2.81c.8-.78.8-2.07 0-2.86zM5.41 20L4 18.59l7.72-7.72 1.47 1.35L5.41 20z\"/>\n",
              "  </svg>\n",
              "      </button>\n",
              "      \n",
              "  <style>\n",
              "    .colab-df-container {\n",
              "      display:flex;\n",
              "      flex-wrap:wrap;\n",
              "      gap: 12px;\n",
              "    }\n",
              "\n",
              "    .colab-df-convert {\n",
              "      background-color: #E8F0FE;\n",
              "      border: none;\n",
              "      border-radius: 50%;\n",
              "      cursor: pointer;\n",
              "      display: none;\n",
              "      fill: #1967D2;\n",
              "      height: 32px;\n",
              "      padding: 0 0 0 0;\n",
              "      width: 32px;\n",
              "    }\n",
              "\n",
              "    .colab-df-convert:hover {\n",
              "      background-color: #E2EBFA;\n",
              "      box-shadow: 0px 1px 2px rgba(60, 64, 67, 0.3), 0px 1px 3px 1px rgba(60, 64, 67, 0.15);\n",
              "      fill: #174EA6;\n",
              "    }\n",
              "\n",
              "    [theme=dark] .colab-df-convert {\n",
              "      background-color: #3B4455;\n",
              "      fill: #D2E3FC;\n",
              "    }\n",
              "\n",
              "    [theme=dark] .colab-df-convert:hover {\n",
              "      background-color: #434B5C;\n",
              "      box-shadow: 0px 1px 3px 1px rgba(0, 0, 0, 0.15);\n",
              "      filter: drop-shadow(0px 1px 2px rgba(0, 0, 0, 0.3));\n",
              "      fill: #FFFFFF;\n",
              "    }\n",
              "  </style>\n",
              "\n",
              "      <script>\n",
              "        const buttonEl =\n",
              "          document.querySelector('#df-3a7e7d74-6e5e-4b63-8c84-9b95f6f98c4a button.colab-df-convert');\n",
              "        buttonEl.style.display =\n",
              "          google.colab.kernel.accessAllowed ? 'block' : 'none';\n",
              "\n",
              "        async function convertToInteractive(key) {\n",
              "          const element = document.querySelector('#df-3a7e7d74-6e5e-4b63-8c84-9b95f6f98c4a');\n",
              "          const dataTable =\n",
              "            await google.colab.kernel.invokeFunction('convertToInteractive',\n",
              "                                                     [key], {});\n",
              "          if (!dataTable) return;\n",
              "\n",
              "          const docLinkHtml = 'Like what you see? Visit the ' +\n",
              "            '<a target=\"_blank\" href=https://colab.research.google.com/notebooks/data_table.ipynb>data table notebook</a>'\n",
              "            + ' to learn more about interactive tables.';\n",
              "          element.innerHTML = '';\n",
              "          dataTable['output_type'] = 'display_data';\n",
              "          await google.colab.output.renderOutput(dataTable, element);\n",
              "          const docLink = document.createElement('div');\n",
              "          docLink.innerHTML = docLinkHtml;\n",
              "          element.appendChild(docLink);\n",
              "        }\n",
              "      </script>\n",
              "    </div>\n",
              "  </div>\n",
              "  "
            ]
          },
          "metadata": {},
          "execution_count": 178
        }
      ]
    },
    {
      "cell_type": "markdown",
      "source": [
        "Doing the same step for the 1100 m² row. This one seems to be a typo."
      ],
      "metadata": {
        "id": "C4Mm8vr8cikk"
      }
    },
    {
      "cell_type": "code",
      "source": [
        "df.loc[df['size_m2'] == 1100]"
      ],
      "metadata": {
        "colab": {
          "base_uri": "https://localhost:8080/",
          "height": 81
        },
        "id": "GmmqFKDycb_z",
        "outputId": "973c9e3c-7596-4e07-aff1-d2b5557bf96d"
      },
      "execution_count": 179,
      "outputs": [
        {
          "output_type": "execute_result",
          "data": {
            "text/plain": [
              "      rent  size_m2 property_type  bedrooms  suite  parking neighborhood\n",
              "1486  4700     1100  Apartamento        3.0    1.0      NaN    ASA NORTE"
            ],
            "text/html": [
              "\n",
              "  <div id=\"df-f79ef75e-f172-4650-ac83-f15f6028ad4d\">\n",
              "    <div class=\"colab-df-container\">\n",
              "      <div>\n",
              "<style scoped>\n",
              "    .dataframe tbody tr th:only-of-type {\n",
              "        vertical-align: middle;\n",
              "    }\n",
              "\n",
              "    .dataframe tbody tr th {\n",
              "        vertical-align: top;\n",
              "    }\n",
              "\n",
              "    .dataframe thead th {\n",
              "        text-align: right;\n",
              "    }\n",
              "</style>\n",
              "<table border=\"1\" class=\"dataframe\">\n",
              "  <thead>\n",
              "    <tr style=\"text-align: right;\">\n",
              "      <th></th>\n",
              "      <th>rent</th>\n",
              "      <th>size_m2</th>\n",
              "      <th>property_type</th>\n",
              "      <th>bedrooms</th>\n",
              "      <th>suite</th>\n",
              "      <th>parking</th>\n",
              "      <th>neighborhood</th>\n",
              "    </tr>\n",
              "  </thead>\n",
              "  <tbody>\n",
              "    <tr>\n",
              "      <th>1486</th>\n",
              "      <td>4700</td>\n",
              "      <td>1100</td>\n",
              "      <td>Apartamento</td>\n",
              "      <td>3.0</td>\n",
              "      <td>1.0</td>\n",
              "      <td>NaN</td>\n",
              "      <td>ASA NORTE</td>\n",
              "    </tr>\n",
              "  </tbody>\n",
              "</table>\n",
              "</div>\n",
              "      <button class=\"colab-df-convert\" onclick=\"convertToInteractive('df-f79ef75e-f172-4650-ac83-f15f6028ad4d')\"\n",
              "              title=\"Convert this dataframe to an interactive table.\"\n",
              "              style=\"display:none;\">\n",
              "        \n",
              "  <svg xmlns=\"http://www.w3.org/2000/svg\" height=\"24px\"viewBox=\"0 0 24 24\"\n",
              "       width=\"24px\">\n",
              "    <path d=\"M0 0h24v24H0V0z\" fill=\"none\"/>\n",
              "    <path d=\"M18.56 5.44l.94 2.06.94-2.06 2.06-.94-2.06-.94-.94-2.06-.94 2.06-2.06.94zm-11 1L8.5 8.5l.94-2.06 2.06-.94-2.06-.94L8.5 2.5l-.94 2.06-2.06.94zm10 10l.94 2.06.94-2.06 2.06-.94-2.06-.94-.94-2.06-.94 2.06-2.06.94z\"/><path d=\"M17.41 7.96l-1.37-1.37c-.4-.4-.92-.59-1.43-.59-.52 0-1.04.2-1.43.59L10.3 9.45l-7.72 7.72c-.78.78-.78 2.05 0 2.83L4 21.41c.39.39.9.59 1.41.59.51 0 1.02-.2 1.41-.59l7.78-7.78 2.81-2.81c.8-.78.8-2.07 0-2.86zM5.41 20L4 18.59l7.72-7.72 1.47 1.35L5.41 20z\"/>\n",
              "  </svg>\n",
              "      </button>\n",
              "      \n",
              "  <style>\n",
              "    .colab-df-container {\n",
              "      display:flex;\n",
              "      flex-wrap:wrap;\n",
              "      gap: 12px;\n",
              "    }\n",
              "\n",
              "    .colab-df-convert {\n",
              "      background-color: #E8F0FE;\n",
              "      border: none;\n",
              "      border-radius: 50%;\n",
              "      cursor: pointer;\n",
              "      display: none;\n",
              "      fill: #1967D2;\n",
              "      height: 32px;\n",
              "      padding: 0 0 0 0;\n",
              "      width: 32px;\n",
              "    }\n",
              "\n",
              "    .colab-df-convert:hover {\n",
              "      background-color: #E2EBFA;\n",
              "      box-shadow: 0px 1px 2px rgba(60, 64, 67, 0.3), 0px 1px 3px 1px rgba(60, 64, 67, 0.15);\n",
              "      fill: #174EA6;\n",
              "    }\n",
              "\n",
              "    [theme=dark] .colab-df-convert {\n",
              "      background-color: #3B4455;\n",
              "      fill: #D2E3FC;\n",
              "    }\n",
              "\n",
              "    [theme=dark] .colab-df-convert:hover {\n",
              "      background-color: #434B5C;\n",
              "      box-shadow: 0px 1px 3px 1px rgba(0, 0, 0, 0.15);\n",
              "      filter: drop-shadow(0px 1px 2px rgba(0, 0, 0, 0.3));\n",
              "      fill: #FFFFFF;\n",
              "    }\n",
              "  </style>\n",
              "\n",
              "      <script>\n",
              "        const buttonEl =\n",
              "          document.querySelector('#df-f79ef75e-f172-4650-ac83-f15f6028ad4d button.colab-df-convert');\n",
              "        buttonEl.style.display =\n",
              "          google.colab.kernel.accessAllowed ? 'block' : 'none';\n",
              "\n",
              "        async function convertToInteractive(key) {\n",
              "          const element = document.querySelector('#df-f79ef75e-f172-4650-ac83-f15f6028ad4d');\n",
              "          const dataTable =\n",
              "            await google.colab.kernel.invokeFunction('convertToInteractive',\n",
              "                                                     [key], {});\n",
              "          if (!dataTable) return;\n",
              "\n",
              "          const docLinkHtml = 'Like what you see? Visit the ' +\n",
              "            '<a target=\"_blank\" href=https://colab.research.google.com/notebooks/data_table.ipynb>data table notebook</a>'\n",
              "            + ' to learn more about interactive tables.';\n",
              "          element.innerHTML = '';\n",
              "          dataTable['output_type'] = 'display_data';\n",
              "          await google.colab.output.renderOutput(dataTable, element);\n",
              "          const docLink = document.createElement('div');\n",
              "          docLink.innerHTML = docLinkHtml;\n",
              "          element.appendChild(docLink);\n",
              "        }\n",
              "      </script>\n",
              "    </div>\n",
              "  </div>\n",
              "  "
            ]
          },
          "metadata": {},
          "execution_count": 179
        }
      ]
    },
    {
      "cell_type": "code",
      "source": [
        "df = df[df.size_m2 != 1100]"
      ],
      "metadata": {
        "id": "oVX4SX9gzdok"
      },
      "execution_count": 180,
      "outputs": []
    },
    {
      "cell_type": "code",
      "source": [
        "df.describe()"
      ],
      "metadata": {
        "colab": {
          "base_uri": "https://localhost:8080/",
          "height": 300
        },
        "id": "WoU2URpczfKj",
        "outputId": "48bed388-c495-4ffa-c4a5-3b55554e667e"
      },
      "execution_count": 181,
      "outputs": [
        {
          "output_type": "execute_result",
          "data": {
            "text/plain": [
              "               rent      size_m2     bedrooms        suite      parking\n",
              "count  3.716000e+03  3716.000000  3711.000000  2509.000000  1334.000000\n",
              "mean   4.843179e+03    65.058665     1.841552     1.137505     1.347076\n",
              "std    7.488591e+04    47.297891     1.083674     0.477384     0.699536\n",
              "min    3.500000e+02    11.000000     1.000000     1.000000     1.000000\n",
              "25%    1.000000e+03    34.000000     1.000000     1.000000     1.000000\n",
              "50%    1.600000e+03    51.000000     2.000000     1.000000     1.000000\n",
              "75%    3.000000e+03    77.000000     2.000000     1.000000     2.000000\n",
              "max    3.850000e+06   900.000000    38.000000     4.000000    10.000000"
            ],
            "text/html": [
              "\n",
              "  <div id=\"df-12f7e326-7584-4993-8098-3ecbe7cac485\">\n",
              "    <div class=\"colab-df-container\">\n",
              "      <div>\n",
              "<style scoped>\n",
              "    .dataframe tbody tr th:only-of-type {\n",
              "        vertical-align: middle;\n",
              "    }\n",
              "\n",
              "    .dataframe tbody tr th {\n",
              "        vertical-align: top;\n",
              "    }\n",
              "\n",
              "    .dataframe thead th {\n",
              "        text-align: right;\n",
              "    }\n",
              "</style>\n",
              "<table border=\"1\" class=\"dataframe\">\n",
              "  <thead>\n",
              "    <tr style=\"text-align: right;\">\n",
              "      <th></th>\n",
              "      <th>rent</th>\n",
              "      <th>size_m2</th>\n",
              "      <th>bedrooms</th>\n",
              "      <th>suite</th>\n",
              "      <th>parking</th>\n",
              "    </tr>\n",
              "  </thead>\n",
              "  <tbody>\n",
              "    <tr>\n",
              "      <th>count</th>\n",
              "      <td>3.716000e+03</td>\n",
              "      <td>3716.000000</td>\n",
              "      <td>3711.000000</td>\n",
              "      <td>2509.000000</td>\n",
              "      <td>1334.000000</td>\n",
              "    </tr>\n",
              "    <tr>\n",
              "      <th>mean</th>\n",
              "      <td>4.843179e+03</td>\n",
              "      <td>65.058665</td>\n",
              "      <td>1.841552</td>\n",
              "      <td>1.137505</td>\n",
              "      <td>1.347076</td>\n",
              "    </tr>\n",
              "    <tr>\n",
              "      <th>std</th>\n",
              "      <td>7.488591e+04</td>\n",
              "      <td>47.297891</td>\n",
              "      <td>1.083674</td>\n",
              "      <td>0.477384</td>\n",
              "      <td>0.699536</td>\n",
              "    </tr>\n",
              "    <tr>\n",
              "      <th>min</th>\n",
              "      <td>3.500000e+02</td>\n",
              "      <td>11.000000</td>\n",
              "      <td>1.000000</td>\n",
              "      <td>1.000000</td>\n",
              "      <td>1.000000</td>\n",
              "    </tr>\n",
              "    <tr>\n",
              "      <th>25%</th>\n",
              "      <td>1.000000e+03</td>\n",
              "      <td>34.000000</td>\n",
              "      <td>1.000000</td>\n",
              "      <td>1.000000</td>\n",
              "      <td>1.000000</td>\n",
              "    </tr>\n",
              "    <tr>\n",
              "      <th>50%</th>\n",
              "      <td>1.600000e+03</td>\n",
              "      <td>51.000000</td>\n",
              "      <td>2.000000</td>\n",
              "      <td>1.000000</td>\n",
              "      <td>1.000000</td>\n",
              "    </tr>\n",
              "    <tr>\n",
              "      <th>75%</th>\n",
              "      <td>3.000000e+03</td>\n",
              "      <td>77.000000</td>\n",
              "      <td>2.000000</td>\n",
              "      <td>1.000000</td>\n",
              "      <td>2.000000</td>\n",
              "    </tr>\n",
              "    <tr>\n",
              "      <th>max</th>\n",
              "      <td>3.850000e+06</td>\n",
              "      <td>900.000000</td>\n",
              "      <td>38.000000</td>\n",
              "      <td>4.000000</td>\n",
              "      <td>10.000000</td>\n",
              "    </tr>\n",
              "  </tbody>\n",
              "</table>\n",
              "</div>\n",
              "      <button class=\"colab-df-convert\" onclick=\"convertToInteractive('df-12f7e326-7584-4993-8098-3ecbe7cac485')\"\n",
              "              title=\"Convert this dataframe to an interactive table.\"\n",
              "              style=\"display:none;\">\n",
              "        \n",
              "  <svg xmlns=\"http://www.w3.org/2000/svg\" height=\"24px\"viewBox=\"0 0 24 24\"\n",
              "       width=\"24px\">\n",
              "    <path d=\"M0 0h24v24H0V0z\" fill=\"none\"/>\n",
              "    <path d=\"M18.56 5.44l.94 2.06.94-2.06 2.06-.94-2.06-.94-.94-2.06-.94 2.06-2.06.94zm-11 1L8.5 8.5l.94-2.06 2.06-.94-2.06-.94L8.5 2.5l-.94 2.06-2.06.94zm10 10l.94 2.06.94-2.06 2.06-.94-2.06-.94-.94-2.06-.94 2.06-2.06.94z\"/><path d=\"M17.41 7.96l-1.37-1.37c-.4-.4-.92-.59-1.43-.59-.52 0-1.04.2-1.43.59L10.3 9.45l-7.72 7.72c-.78.78-.78 2.05 0 2.83L4 21.41c.39.39.9.59 1.41.59.51 0 1.02-.2 1.41-.59l7.78-7.78 2.81-2.81c.8-.78.8-2.07 0-2.86zM5.41 20L4 18.59l7.72-7.72 1.47 1.35L5.41 20z\"/>\n",
              "  </svg>\n",
              "      </button>\n",
              "      \n",
              "  <style>\n",
              "    .colab-df-container {\n",
              "      display:flex;\n",
              "      flex-wrap:wrap;\n",
              "      gap: 12px;\n",
              "    }\n",
              "\n",
              "    .colab-df-convert {\n",
              "      background-color: #E8F0FE;\n",
              "      border: none;\n",
              "      border-radius: 50%;\n",
              "      cursor: pointer;\n",
              "      display: none;\n",
              "      fill: #1967D2;\n",
              "      height: 32px;\n",
              "      padding: 0 0 0 0;\n",
              "      width: 32px;\n",
              "    }\n",
              "\n",
              "    .colab-df-convert:hover {\n",
              "      background-color: #E2EBFA;\n",
              "      box-shadow: 0px 1px 2px rgba(60, 64, 67, 0.3), 0px 1px 3px 1px rgba(60, 64, 67, 0.15);\n",
              "      fill: #174EA6;\n",
              "    }\n",
              "\n",
              "    [theme=dark] .colab-df-convert {\n",
              "      background-color: #3B4455;\n",
              "      fill: #D2E3FC;\n",
              "    }\n",
              "\n",
              "    [theme=dark] .colab-df-convert:hover {\n",
              "      background-color: #434B5C;\n",
              "      box-shadow: 0px 1px 3px 1px rgba(0, 0, 0, 0.15);\n",
              "      filter: drop-shadow(0px 1px 2px rgba(0, 0, 0, 0.3));\n",
              "      fill: #FFFFFF;\n",
              "    }\n",
              "  </style>\n",
              "\n",
              "      <script>\n",
              "        const buttonEl =\n",
              "          document.querySelector('#df-12f7e326-7584-4993-8098-3ecbe7cac485 button.colab-df-convert');\n",
              "        buttonEl.style.display =\n",
              "          google.colab.kernel.accessAllowed ? 'block' : 'none';\n",
              "\n",
              "        async function convertToInteractive(key) {\n",
              "          const element = document.querySelector('#df-12f7e326-7584-4993-8098-3ecbe7cac485');\n",
              "          const dataTable =\n",
              "            await google.colab.kernel.invokeFunction('convertToInteractive',\n",
              "                                                     [key], {});\n",
              "          if (!dataTable) return;\n",
              "\n",
              "          const docLinkHtml = 'Like what you see? Visit the ' +\n",
              "            '<a target=\"_blank\" href=https://colab.research.google.com/notebooks/data_table.ipynb>data table notebook</a>'\n",
              "            + ' to learn more about interactive tables.';\n",
              "          element.innerHTML = '';\n",
              "          dataTable['output_type'] = 'display_data';\n",
              "          await google.colab.output.renderOutput(dataTable, element);\n",
              "          const docLink = document.createElement('div');\n",
              "          docLink.innerHTML = docLinkHtml;\n",
              "          element.appendChild(docLink);\n",
              "        }\n",
              "      </script>\n",
              "    </div>\n",
              "  </div>\n",
              "  "
            ]
          },
          "metadata": {},
          "execution_count": 181
        }
      ]
    },
    {
      "cell_type": "markdown",
      "source": [
        "Dropping rent per size strange values."
      ],
      "metadata": {
        "id": "jCcfp1ne1GmR"
      }
    },
    {
      "cell_type": "code",
      "source": [
        "df['rent_per_size'] = df['rent'] / df['size_m2']"
      ],
      "metadata": {
        "id": "naItXgz3zjY9"
      },
      "execution_count": 182,
      "outputs": []
    },
    {
      "cell_type": "code",
      "source": [
        "df.loc[df['rent_per_size'] > 150]"
      ],
      "metadata": {
        "colab": {
          "base_uri": "https://localhost:8080/",
          "height": 489
        },
        "id": "tqG-IQjY0cuy",
        "outputId": "7beaf1bc-8d92-465c-cf35-a5359438894a"
      },
      "execution_count": 183,
      "outputs": [
        {
          "output_type": "execute_result",
          "data": {
            "text/plain": [
              "         rent  size_m2 property_type  bedrooms  suite  parking  \\\n",
              "53       2400       11  Apartamento        2.0    1.0      1.0   \n",
              "74      70900      121  Apartamento        4.0    2.0      NaN   \n",
              "319    191900       45  Apartamento        2.0    1.0      NaN   \n",
              "781    650000       47  Apartamento        2.0    1.0      NaN   \n",
              "1214   198000       50  Apartamento        2.0    1.0      NaN   \n",
              "1294   285000       55  Apartamento        2.0    NaN      NaN   \n",
              "1546   249000      200       Kitnet        6.0    NaN      NaN   \n",
              "1973   350000       35       Kitnet        8.0    NaN      NaN   \n",
              "2221   220000       54  Apartamento        2.0    NaN      NaN   \n",
              "2928   290000       44  Apartamento        1.0    NaN      NaN   \n",
              "3416  2250000      154  Apartamento        4.0    4.0      3.0   \n",
              "3565   240000       30       Kitnet        1.0    1.0      1.0   \n",
              "3622   180000       30       Kitnet        1.0    1.0      NaN   \n",
              "3678  3850000      150  Apartamento        3.0    1.0      NaN   \n",
              "\n",
              "             neighborhood  rent_per_size  \n",
              "53           AGUAS CLARAS     218.181818  \n",
              "74       SETOR INDUSTRIAL     585.950413  \n",
              "319      RECANTO DAS EMAS    4264.444444  \n",
              "781              PARK SUL   13829.787234  \n",
              "1214            SAMAMBAIA    3960.000000  \n",
              "1294           SOBRADINHO    5181.818182  \n",
              "1546            CEILANDIA    1245.000000  \n",
              "1973            CEILANDIA   10000.000000  \n",
              "2221   NUCLEO BANDEIRANTE    4074.074074  \n",
              "2928            ASA NORTE    6590.909091  \n",
              "3416             PARK SUL   14610.389610  \n",
              "3565            ASA NORTE    8000.000000  \n",
              "3622           LAGO NORTE    6000.000000  \n",
              "3678              ASA SUL   25666.666667  "
            ],
            "text/html": [
              "\n",
              "  <div id=\"df-8b7a2cc4-f194-414d-b6ff-f38995da7a77\">\n",
              "    <div class=\"colab-df-container\">\n",
              "      <div>\n",
              "<style scoped>\n",
              "    .dataframe tbody tr th:only-of-type {\n",
              "        vertical-align: middle;\n",
              "    }\n",
              "\n",
              "    .dataframe tbody tr th {\n",
              "        vertical-align: top;\n",
              "    }\n",
              "\n",
              "    .dataframe thead th {\n",
              "        text-align: right;\n",
              "    }\n",
              "</style>\n",
              "<table border=\"1\" class=\"dataframe\">\n",
              "  <thead>\n",
              "    <tr style=\"text-align: right;\">\n",
              "      <th></th>\n",
              "      <th>rent</th>\n",
              "      <th>size_m2</th>\n",
              "      <th>property_type</th>\n",
              "      <th>bedrooms</th>\n",
              "      <th>suite</th>\n",
              "      <th>parking</th>\n",
              "      <th>neighborhood</th>\n",
              "      <th>rent_per_size</th>\n",
              "    </tr>\n",
              "  </thead>\n",
              "  <tbody>\n",
              "    <tr>\n",
              "      <th>53</th>\n",
              "      <td>2400</td>\n",
              "      <td>11</td>\n",
              "      <td>Apartamento</td>\n",
              "      <td>2.0</td>\n",
              "      <td>1.0</td>\n",
              "      <td>1.0</td>\n",
              "      <td>AGUAS CLARAS</td>\n",
              "      <td>218.181818</td>\n",
              "    </tr>\n",
              "    <tr>\n",
              "      <th>74</th>\n",
              "      <td>70900</td>\n",
              "      <td>121</td>\n",
              "      <td>Apartamento</td>\n",
              "      <td>4.0</td>\n",
              "      <td>2.0</td>\n",
              "      <td>NaN</td>\n",
              "      <td>SETOR INDUSTRIAL</td>\n",
              "      <td>585.950413</td>\n",
              "    </tr>\n",
              "    <tr>\n",
              "      <th>319</th>\n",
              "      <td>191900</td>\n",
              "      <td>45</td>\n",
              "      <td>Apartamento</td>\n",
              "      <td>2.0</td>\n",
              "      <td>1.0</td>\n",
              "      <td>NaN</td>\n",
              "      <td>RECANTO DAS EMAS</td>\n",
              "      <td>4264.444444</td>\n",
              "    </tr>\n",
              "    <tr>\n",
              "      <th>781</th>\n",
              "      <td>650000</td>\n",
              "      <td>47</td>\n",
              "      <td>Apartamento</td>\n",
              "      <td>2.0</td>\n",
              "      <td>1.0</td>\n",
              "      <td>NaN</td>\n",
              "      <td>PARK SUL</td>\n",
              "      <td>13829.787234</td>\n",
              "    </tr>\n",
              "    <tr>\n",
              "      <th>1214</th>\n",
              "      <td>198000</td>\n",
              "      <td>50</td>\n",
              "      <td>Apartamento</td>\n",
              "      <td>2.0</td>\n",
              "      <td>1.0</td>\n",
              "      <td>NaN</td>\n",
              "      <td>SAMAMBAIA</td>\n",
              "      <td>3960.000000</td>\n",
              "    </tr>\n",
              "    <tr>\n",
              "      <th>1294</th>\n",
              "      <td>285000</td>\n",
              "      <td>55</td>\n",
              "      <td>Apartamento</td>\n",
              "      <td>2.0</td>\n",
              "      <td>NaN</td>\n",
              "      <td>NaN</td>\n",
              "      <td>SOBRADINHO</td>\n",
              "      <td>5181.818182</td>\n",
              "    </tr>\n",
              "    <tr>\n",
              "      <th>1546</th>\n",
              "      <td>249000</td>\n",
              "      <td>200</td>\n",
              "      <td>Kitnet</td>\n",
              "      <td>6.0</td>\n",
              "      <td>NaN</td>\n",
              "      <td>NaN</td>\n",
              "      <td>CEILANDIA</td>\n",
              "      <td>1245.000000</td>\n",
              "    </tr>\n",
              "    <tr>\n",
              "      <th>1973</th>\n",
              "      <td>350000</td>\n",
              "      <td>35</td>\n",
              "      <td>Kitnet</td>\n",
              "      <td>8.0</td>\n",
              "      <td>NaN</td>\n",
              "      <td>NaN</td>\n",
              "      <td>CEILANDIA</td>\n",
              "      <td>10000.000000</td>\n",
              "    </tr>\n",
              "    <tr>\n",
              "      <th>2221</th>\n",
              "      <td>220000</td>\n",
              "      <td>54</td>\n",
              "      <td>Apartamento</td>\n",
              "      <td>2.0</td>\n",
              "      <td>NaN</td>\n",
              "      <td>NaN</td>\n",
              "      <td>NUCLEO BANDEIRANTE</td>\n",
              "      <td>4074.074074</td>\n",
              "    </tr>\n",
              "    <tr>\n",
              "      <th>2928</th>\n",
              "      <td>290000</td>\n",
              "      <td>44</td>\n",
              "      <td>Apartamento</td>\n",
              "      <td>1.0</td>\n",
              "      <td>NaN</td>\n",
              "      <td>NaN</td>\n",
              "      <td>ASA NORTE</td>\n",
              "      <td>6590.909091</td>\n",
              "    </tr>\n",
              "    <tr>\n",
              "      <th>3416</th>\n",
              "      <td>2250000</td>\n",
              "      <td>154</td>\n",
              "      <td>Apartamento</td>\n",
              "      <td>4.0</td>\n",
              "      <td>4.0</td>\n",
              "      <td>3.0</td>\n",
              "      <td>PARK SUL</td>\n",
              "      <td>14610.389610</td>\n",
              "    </tr>\n",
              "    <tr>\n",
              "      <th>3565</th>\n",
              "      <td>240000</td>\n",
              "      <td>30</td>\n",
              "      <td>Kitnet</td>\n",
              "      <td>1.0</td>\n",
              "      <td>1.0</td>\n",
              "      <td>1.0</td>\n",
              "      <td>ASA NORTE</td>\n",
              "      <td>8000.000000</td>\n",
              "    </tr>\n",
              "    <tr>\n",
              "      <th>3622</th>\n",
              "      <td>180000</td>\n",
              "      <td>30</td>\n",
              "      <td>Kitnet</td>\n",
              "      <td>1.0</td>\n",
              "      <td>1.0</td>\n",
              "      <td>NaN</td>\n",
              "      <td>LAGO NORTE</td>\n",
              "      <td>6000.000000</td>\n",
              "    </tr>\n",
              "    <tr>\n",
              "      <th>3678</th>\n",
              "      <td>3850000</td>\n",
              "      <td>150</td>\n",
              "      <td>Apartamento</td>\n",
              "      <td>3.0</td>\n",
              "      <td>1.0</td>\n",
              "      <td>NaN</td>\n",
              "      <td>ASA SUL</td>\n",
              "      <td>25666.666667</td>\n",
              "    </tr>\n",
              "  </tbody>\n",
              "</table>\n",
              "</div>\n",
              "      <button class=\"colab-df-convert\" onclick=\"convertToInteractive('df-8b7a2cc4-f194-414d-b6ff-f38995da7a77')\"\n",
              "              title=\"Convert this dataframe to an interactive table.\"\n",
              "              style=\"display:none;\">\n",
              "        \n",
              "  <svg xmlns=\"http://www.w3.org/2000/svg\" height=\"24px\"viewBox=\"0 0 24 24\"\n",
              "       width=\"24px\">\n",
              "    <path d=\"M0 0h24v24H0V0z\" fill=\"none\"/>\n",
              "    <path d=\"M18.56 5.44l.94 2.06.94-2.06 2.06-.94-2.06-.94-.94-2.06-.94 2.06-2.06.94zm-11 1L8.5 8.5l.94-2.06 2.06-.94-2.06-.94L8.5 2.5l-.94 2.06-2.06.94zm10 10l.94 2.06.94-2.06 2.06-.94-2.06-.94-.94-2.06-.94 2.06-2.06.94z\"/><path d=\"M17.41 7.96l-1.37-1.37c-.4-.4-.92-.59-1.43-.59-.52 0-1.04.2-1.43.59L10.3 9.45l-7.72 7.72c-.78.78-.78 2.05 0 2.83L4 21.41c.39.39.9.59 1.41.59.51 0 1.02-.2 1.41-.59l7.78-7.78 2.81-2.81c.8-.78.8-2.07 0-2.86zM5.41 20L4 18.59l7.72-7.72 1.47 1.35L5.41 20z\"/>\n",
              "  </svg>\n",
              "      </button>\n",
              "      \n",
              "  <style>\n",
              "    .colab-df-container {\n",
              "      display:flex;\n",
              "      flex-wrap:wrap;\n",
              "      gap: 12px;\n",
              "    }\n",
              "\n",
              "    .colab-df-convert {\n",
              "      background-color: #E8F0FE;\n",
              "      border: none;\n",
              "      border-radius: 50%;\n",
              "      cursor: pointer;\n",
              "      display: none;\n",
              "      fill: #1967D2;\n",
              "      height: 32px;\n",
              "      padding: 0 0 0 0;\n",
              "      width: 32px;\n",
              "    }\n",
              "\n",
              "    .colab-df-convert:hover {\n",
              "      background-color: #E2EBFA;\n",
              "      box-shadow: 0px 1px 2px rgba(60, 64, 67, 0.3), 0px 1px 3px 1px rgba(60, 64, 67, 0.15);\n",
              "      fill: #174EA6;\n",
              "    }\n",
              "\n",
              "    [theme=dark] .colab-df-convert {\n",
              "      background-color: #3B4455;\n",
              "      fill: #D2E3FC;\n",
              "    }\n",
              "\n",
              "    [theme=dark] .colab-df-convert:hover {\n",
              "      background-color: #434B5C;\n",
              "      box-shadow: 0px 1px 3px 1px rgba(0, 0, 0, 0.15);\n",
              "      filter: drop-shadow(0px 1px 2px rgba(0, 0, 0, 0.3));\n",
              "      fill: #FFFFFF;\n",
              "    }\n",
              "  </style>\n",
              "\n",
              "      <script>\n",
              "        const buttonEl =\n",
              "          document.querySelector('#df-8b7a2cc4-f194-414d-b6ff-f38995da7a77 button.colab-df-convert');\n",
              "        buttonEl.style.display =\n",
              "          google.colab.kernel.accessAllowed ? 'block' : 'none';\n",
              "\n",
              "        async function convertToInteractive(key) {\n",
              "          const element = document.querySelector('#df-8b7a2cc4-f194-414d-b6ff-f38995da7a77');\n",
              "          const dataTable =\n",
              "            await google.colab.kernel.invokeFunction('convertToInteractive',\n",
              "                                                     [key], {});\n",
              "          if (!dataTable) return;\n",
              "\n",
              "          const docLinkHtml = 'Like what you see? Visit the ' +\n",
              "            '<a target=\"_blank\" href=https://colab.research.google.com/notebooks/data_table.ipynb>data table notebook</a>'\n",
              "            + ' to learn more about interactive tables.';\n",
              "          element.innerHTML = '';\n",
              "          dataTable['output_type'] = 'display_data';\n",
              "          await google.colab.output.renderOutput(dataTable, element);\n",
              "          const docLink = document.createElement('div');\n",
              "          docLink.innerHTML = docLinkHtml;\n",
              "          element.appendChild(docLink);\n",
              "        }\n",
              "      </script>\n",
              "    </div>\n",
              "  </div>\n",
              "  "
            ]
          },
          "metadata": {},
          "execution_count": 183
        }
      ]
    },
    {
      "cell_type": "code",
      "source": [
        "df = df[df.rent_per_size < 1100]"
      ],
      "metadata": {
        "id": "nbwaNYdA1g1J"
      },
      "execution_count": 184,
      "outputs": []
    },
    {
      "cell_type": "code",
      "source": [
        "df.loc[df['rent_per_size'] < 10]"
      ],
      "metadata": {
        "colab": {
          "base_uri": "https://localhost:8080/",
          "height": 489
        },
        "id": "dQgvlrVS1y_j",
        "outputId": "25cd44dd-af39-4c26-9bf0-538e49f70849"
      },
      "execution_count": 185,
      "outputs": [
        {
          "output_type": "execute_result",
          "data": {
            "text/plain": [
              "      rent  size_m2 property_type  bedrooms  suite  parking  \\\n",
              "736    800      630       Kitnet        1.0    1.0      NaN   \n",
              "803   1000      110  Apartamento        3.0    1.0      1.0   \n",
              "1210  1000      200  Apartamento        2.0    NaN      NaN   \n",
              "1639   420       45  Apartamento        1.0    NaN      NaN   \n",
              "1653   500       60  Apartamento        1.0    NaN      NaN   \n",
              "2126  1000      200  Apartamento        2.0    NaN      NaN   \n",
              "2336   950      157  Apartamento        1.0    NaN      NaN   \n",
              "2760   550       56  Apartamento        2.0    NaN      NaN   \n",
              "2986   420       50  Apartamento        1.0    NaN      NaN   \n",
              "3063   420       50  Apartamento        1.0    NaN      NaN   \n",
              "3072   380       50  Apartamento        1.0    NaN      NaN   \n",
              "3324   850      100  Apartamento        3.0    1.0      NaN   \n",
              "3433   550       60  Apartamento        2.0    NaN      NaN   \n",
              "3586   380       40  Apartamento        1.0    NaN      NaN   \n",
              "\n",
              "              neighborhood  rent_per_size  \n",
              "736              ASA NORTE       1.269841  \n",
              "803             PLANALTINA       9.090909  \n",
              "1210         SAO SEBASTIAO       5.000000  \n",
              "1639             CEILANDIA       9.333333  \n",
              "1653    NUCLEO BANDEIRANTE       8.333333  \n",
              "2126         SAO SEBASTIAO       5.000000  \n",
              "2336            TAGUATINGA       6.050955  \n",
              "2760   VALPARAISO DE GOIAS       9.821429  \n",
              "2986             SAMAMBAIA       8.400000  \n",
              "3063             SAMAMBAIA       8.400000  \n",
              "3072             SAMAMBAIA       7.600000  \n",
              "3324             CEILANDIA       8.500000  \n",
              "3433                  GAMA       9.166667  \n",
              "3586             SAMAMBAIA       9.500000  "
            ],
            "text/html": [
              "\n",
              "  <div id=\"df-17671eab-22a6-4b11-a0ad-a82dd5185215\">\n",
              "    <div class=\"colab-df-container\">\n",
              "      <div>\n",
              "<style scoped>\n",
              "    .dataframe tbody tr th:only-of-type {\n",
              "        vertical-align: middle;\n",
              "    }\n",
              "\n",
              "    .dataframe tbody tr th {\n",
              "        vertical-align: top;\n",
              "    }\n",
              "\n",
              "    .dataframe thead th {\n",
              "        text-align: right;\n",
              "    }\n",
              "</style>\n",
              "<table border=\"1\" class=\"dataframe\">\n",
              "  <thead>\n",
              "    <tr style=\"text-align: right;\">\n",
              "      <th></th>\n",
              "      <th>rent</th>\n",
              "      <th>size_m2</th>\n",
              "      <th>property_type</th>\n",
              "      <th>bedrooms</th>\n",
              "      <th>suite</th>\n",
              "      <th>parking</th>\n",
              "      <th>neighborhood</th>\n",
              "      <th>rent_per_size</th>\n",
              "    </tr>\n",
              "  </thead>\n",
              "  <tbody>\n",
              "    <tr>\n",
              "      <th>736</th>\n",
              "      <td>800</td>\n",
              "      <td>630</td>\n",
              "      <td>Kitnet</td>\n",
              "      <td>1.0</td>\n",
              "      <td>1.0</td>\n",
              "      <td>NaN</td>\n",
              "      <td>ASA NORTE</td>\n",
              "      <td>1.269841</td>\n",
              "    </tr>\n",
              "    <tr>\n",
              "      <th>803</th>\n",
              "      <td>1000</td>\n",
              "      <td>110</td>\n",
              "      <td>Apartamento</td>\n",
              "      <td>3.0</td>\n",
              "      <td>1.0</td>\n",
              "      <td>1.0</td>\n",
              "      <td>PLANALTINA</td>\n",
              "      <td>9.090909</td>\n",
              "    </tr>\n",
              "    <tr>\n",
              "      <th>1210</th>\n",
              "      <td>1000</td>\n",
              "      <td>200</td>\n",
              "      <td>Apartamento</td>\n",
              "      <td>2.0</td>\n",
              "      <td>NaN</td>\n",
              "      <td>NaN</td>\n",
              "      <td>SAO SEBASTIAO</td>\n",
              "      <td>5.000000</td>\n",
              "    </tr>\n",
              "    <tr>\n",
              "      <th>1639</th>\n",
              "      <td>420</td>\n",
              "      <td>45</td>\n",
              "      <td>Apartamento</td>\n",
              "      <td>1.0</td>\n",
              "      <td>NaN</td>\n",
              "      <td>NaN</td>\n",
              "      <td>CEILANDIA</td>\n",
              "      <td>9.333333</td>\n",
              "    </tr>\n",
              "    <tr>\n",
              "      <th>1653</th>\n",
              "      <td>500</td>\n",
              "      <td>60</td>\n",
              "      <td>Apartamento</td>\n",
              "      <td>1.0</td>\n",
              "      <td>NaN</td>\n",
              "      <td>NaN</td>\n",
              "      <td>NUCLEO BANDEIRANTE</td>\n",
              "      <td>8.333333</td>\n",
              "    </tr>\n",
              "    <tr>\n",
              "      <th>2126</th>\n",
              "      <td>1000</td>\n",
              "      <td>200</td>\n",
              "      <td>Apartamento</td>\n",
              "      <td>2.0</td>\n",
              "      <td>NaN</td>\n",
              "      <td>NaN</td>\n",
              "      <td>SAO SEBASTIAO</td>\n",
              "      <td>5.000000</td>\n",
              "    </tr>\n",
              "    <tr>\n",
              "      <th>2336</th>\n",
              "      <td>950</td>\n",
              "      <td>157</td>\n",
              "      <td>Apartamento</td>\n",
              "      <td>1.0</td>\n",
              "      <td>NaN</td>\n",
              "      <td>NaN</td>\n",
              "      <td>TAGUATINGA</td>\n",
              "      <td>6.050955</td>\n",
              "    </tr>\n",
              "    <tr>\n",
              "      <th>2760</th>\n",
              "      <td>550</td>\n",
              "      <td>56</td>\n",
              "      <td>Apartamento</td>\n",
              "      <td>2.0</td>\n",
              "      <td>NaN</td>\n",
              "      <td>NaN</td>\n",
              "      <td>VALPARAISO DE GOIAS</td>\n",
              "      <td>9.821429</td>\n",
              "    </tr>\n",
              "    <tr>\n",
              "      <th>2986</th>\n",
              "      <td>420</td>\n",
              "      <td>50</td>\n",
              "      <td>Apartamento</td>\n",
              "      <td>1.0</td>\n",
              "      <td>NaN</td>\n",
              "      <td>NaN</td>\n",
              "      <td>SAMAMBAIA</td>\n",
              "      <td>8.400000</td>\n",
              "    </tr>\n",
              "    <tr>\n",
              "      <th>3063</th>\n",
              "      <td>420</td>\n",
              "      <td>50</td>\n",
              "      <td>Apartamento</td>\n",
              "      <td>1.0</td>\n",
              "      <td>NaN</td>\n",
              "      <td>NaN</td>\n",
              "      <td>SAMAMBAIA</td>\n",
              "      <td>8.400000</td>\n",
              "    </tr>\n",
              "    <tr>\n",
              "      <th>3072</th>\n",
              "      <td>380</td>\n",
              "      <td>50</td>\n",
              "      <td>Apartamento</td>\n",
              "      <td>1.0</td>\n",
              "      <td>NaN</td>\n",
              "      <td>NaN</td>\n",
              "      <td>SAMAMBAIA</td>\n",
              "      <td>7.600000</td>\n",
              "    </tr>\n",
              "    <tr>\n",
              "      <th>3324</th>\n",
              "      <td>850</td>\n",
              "      <td>100</td>\n",
              "      <td>Apartamento</td>\n",
              "      <td>3.0</td>\n",
              "      <td>1.0</td>\n",
              "      <td>NaN</td>\n",
              "      <td>CEILANDIA</td>\n",
              "      <td>8.500000</td>\n",
              "    </tr>\n",
              "    <tr>\n",
              "      <th>3433</th>\n",
              "      <td>550</td>\n",
              "      <td>60</td>\n",
              "      <td>Apartamento</td>\n",
              "      <td>2.0</td>\n",
              "      <td>NaN</td>\n",
              "      <td>NaN</td>\n",
              "      <td>GAMA</td>\n",
              "      <td>9.166667</td>\n",
              "    </tr>\n",
              "    <tr>\n",
              "      <th>3586</th>\n",
              "      <td>380</td>\n",
              "      <td>40</td>\n",
              "      <td>Apartamento</td>\n",
              "      <td>1.0</td>\n",
              "      <td>NaN</td>\n",
              "      <td>NaN</td>\n",
              "      <td>SAMAMBAIA</td>\n",
              "      <td>9.500000</td>\n",
              "    </tr>\n",
              "  </tbody>\n",
              "</table>\n",
              "</div>\n",
              "      <button class=\"colab-df-convert\" onclick=\"convertToInteractive('df-17671eab-22a6-4b11-a0ad-a82dd5185215')\"\n",
              "              title=\"Convert this dataframe to an interactive table.\"\n",
              "              style=\"display:none;\">\n",
              "        \n",
              "  <svg xmlns=\"http://www.w3.org/2000/svg\" height=\"24px\"viewBox=\"0 0 24 24\"\n",
              "       width=\"24px\">\n",
              "    <path d=\"M0 0h24v24H0V0z\" fill=\"none\"/>\n",
              "    <path d=\"M18.56 5.44l.94 2.06.94-2.06 2.06-.94-2.06-.94-.94-2.06-.94 2.06-2.06.94zm-11 1L8.5 8.5l.94-2.06 2.06-.94-2.06-.94L8.5 2.5l-.94 2.06-2.06.94zm10 10l.94 2.06.94-2.06 2.06-.94-2.06-.94-.94-2.06-.94 2.06-2.06.94z\"/><path d=\"M17.41 7.96l-1.37-1.37c-.4-.4-.92-.59-1.43-.59-.52 0-1.04.2-1.43.59L10.3 9.45l-7.72 7.72c-.78.78-.78 2.05 0 2.83L4 21.41c.39.39.9.59 1.41.59.51 0 1.02-.2 1.41-.59l7.78-7.78 2.81-2.81c.8-.78.8-2.07 0-2.86zM5.41 20L4 18.59l7.72-7.72 1.47 1.35L5.41 20z\"/>\n",
              "  </svg>\n",
              "      </button>\n",
              "      \n",
              "  <style>\n",
              "    .colab-df-container {\n",
              "      display:flex;\n",
              "      flex-wrap:wrap;\n",
              "      gap: 12px;\n",
              "    }\n",
              "\n",
              "    .colab-df-convert {\n",
              "      background-color: #E8F0FE;\n",
              "      border: none;\n",
              "      border-radius: 50%;\n",
              "      cursor: pointer;\n",
              "      display: none;\n",
              "      fill: #1967D2;\n",
              "      height: 32px;\n",
              "      padding: 0 0 0 0;\n",
              "      width: 32px;\n",
              "    }\n",
              "\n",
              "    .colab-df-convert:hover {\n",
              "      background-color: #E2EBFA;\n",
              "      box-shadow: 0px 1px 2px rgba(60, 64, 67, 0.3), 0px 1px 3px 1px rgba(60, 64, 67, 0.15);\n",
              "      fill: #174EA6;\n",
              "    }\n",
              "\n",
              "    [theme=dark] .colab-df-convert {\n",
              "      background-color: #3B4455;\n",
              "      fill: #D2E3FC;\n",
              "    }\n",
              "\n",
              "    [theme=dark] .colab-df-convert:hover {\n",
              "      background-color: #434B5C;\n",
              "      box-shadow: 0px 1px 3px 1px rgba(0, 0, 0, 0.15);\n",
              "      filter: drop-shadow(0px 1px 2px rgba(0, 0, 0, 0.3));\n",
              "      fill: #FFFFFF;\n",
              "    }\n",
              "  </style>\n",
              "\n",
              "      <script>\n",
              "        const buttonEl =\n",
              "          document.querySelector('#df-17671eab-22a6-4b11-a0ad-a82dd5185215 button.colab-df-convert');\n",
              "        buttonEl.style.display =\n",
              "          google.colab.kernel.accessAllowed ? 'block' : 'none';\n",
              "\n",
              "        async function convertToInteractive(key) {\n",
              "          const element = document.querySelector('#df-17671eab-22a6-4b11-a0ad-a82dd5185215');\n",
              "          const dataTable =\n",
              "            await google.colab.kernel.invokeFunction('convertToInteractive',\n",
              "                                                     [key], {});\n",
              "          if (!dataTable) return;\n",
              "\n",
              "          const docLinkHtml = 'Like what you see? Visit the ' +\n",
              "            '<a target=\"_blank\" href=https://colab.research.google.com/notebooks/data_table.ipynb>data table notebook</a>'\n",
              "            + ' to learn more about interactive tables.';\n",
              "          element.innerHTML = '';\n",
              "          dataTable['output_type'] = 'display_data';\n",
              "          await google.colab.output.renderOutput(dataTable, element);\n",
              "          const docLink = document.createElement('div');\n",
              "          docLink.innerHTML = docLinkHtml;\n",
              "          element.appendChild(docLink);\n",
              "        }\n",
              "      </script>\n",
              "    </div>\n",
              "  </div>\n",
              "  "
            ]
          },
          "metadata": {},
          "execution_count": 185
        }
      ]
    },
    {
      "cell_type": "code",
      "source": [
        "df = df[df.rent_per_size > 6]"
      ],
      "metadata": {
        "id": "cZeOsL7u2GhC"
      },
      "execution_count": 186,
      "outputs": []
    },
    {
      "cell_type": "code",
      "source": [
        "df.describe()"
      ],
      "metadata": {
        "colab": {
          "base_uri": "https://localhost:8080/",
          "height": 300
        },
        "id": "7cs_xAKv1n_i",
        "outputId": "1243c157-87af-4747-f72d-c1fe33865681"
      },
      "execution_count": 187,
      "outputs": [
        {
          "output_type": "execute_result",
          "data": {
            "text/plain": [
              "               rent      size_m2     bedrooms        suite      parking  \\\n",
              "count   3701.000000  3701.000000  3696.000000  2501.000000  1332.000000   \n",
              "mean    2442.732775    64.802486     1.838474     1.136745     1.346096   \n",
              "std     2684.682067    46.256198     1.077833     0.474651     0.698528   \n",
              "min      350.000000    11.000000     1.000000     1.000000     1.000000   \n",
              "25%     1000.000000    34.000000     1.000000     1.000000     1.000000   \n",
              "50%     1600.000000    51.000000     2.000000     1.000000     1.000000   \n",
              "75%     3000.000000    76.000000     2.000000     1.000000     2.000000   \n",
              "max    70900.000000   900.000000    38.000000     4.000000    10.000000   \n",
              "\n",
              "       rent_per_size  \n",
              "count    3701.000000  \n",
              "mean       36.835569  \n",
              "std        20.059123  \n",
              "min         6.050955  \n",
              "25%        25.000000  \n",
              "50%        34.090909  \n",
              "75%        43.970588  \n",
              "max       585.950413  "
            ],
            "text/html": [
              "\n",
              "  <div id=\"df-2efde062-048c-4bbc-a3d5-81a7d9d195ef\">\n",
              "    <div class=\"colab-df-container\">\n",
              "      <div>\n",
              "<style scoped>\n",
              "    .dataframe tbody tr th:only-of-type {\n",
              "        vertical-align: middle;\n",
              "    }\n",
              "\n",
              "    .dataframe tbody tr th {\n",
              "        vertical-align: top;\n",
              "    }\n",
              "\n",
              "    .dataframe thead th {\n",
              "        text-align: right;\n",
              "    }\n",
              "</style>\n",
              "<table border=\"1\" class=\"dataframe\">\n",
              "  <thead>\n",
              "    <tr style=\"text-align: right;\">\n",
              "      <th></th>\n",
              "      <th>rent</th>\n",
              "      <th>size_m2</th>\n",
              "      <th>bedrooms</th>\n",
              "      <th>suite</th>\n",
              "      <th>parking</th>\n",
              "      <th>rent_per_size</th>\n",
              "    </tr>\n",
              "  </thead>\n",
              "  <tbody>\n",
              "    <tr>\n",
              "      <th>count</th>\n",
              "      <td>3701.000000</td>\n",
              "      <td>3701.000000</td>\n",
              "      <td>3696.000000</td>\n",
              "      <td>2501.000000</td>\n",
              "      <td>1332.000000</td>\n",
              "      <td>3701.000000</td>\n",
              "    </tr>\n",
              "    <tr>\n",
              "      <th>mean</th>\n",
              "      <td>2442.732775</td>\n",
              "      <td>64.802486</td>\n",
              "      <td>1.838474</td>\n",
              "      <td>1.136745</td>\n",
              "      <td>1.346096</td>\n",
              "      <td>36.835569</td>\n",
              "    </tr>\n",
              "    <tr>\n",
              "      <th>std</th>\n",
              "      <td>2684.682067</td>\n",
              "      <td>46.256198</td>\n",
              "      <td>1.077833</td>\n",
              "      <td>0.474651</td>\n",
              "      <td>0.698528</td>\n",
              "      <td>20.059123</td>\n",
              "    </tr>\n",
              "    <tr>\n",
              "      <th>min</th>\n",
              "      <td>350.000000</td>\n",
              "      <td>11.000000</td>\n",
              "      <td>1.000000</td>\n",
              "      <td>1.000000</td>\n",
              "      <td>1.000000</td>\n",
              "      <td>6.050955</td>\n",
              "    </tr>\n",
              "    <tr>\n",
              "      <th>25%</th>\n",
              "      <td>1000.000000</td>\n",
              "      <td>34.000000</td>\n",
              "      <td>1.000000</td>\n",
              "      <td>1.000000</td>\n",
              "      <td>1.000000</td>\n",
              "      <td>25.000000</td>\n",
              "    </tr>\n",
              "    <tr>\n",
              "      <th>50%</th>\n",
              "      <td>1600.000000</td>\n",
              "      <td>51.000000</td>\n",
              "      <td>2.000000</td>\n",
              "      <td>1.000000</td>\n",
              "      <td>1.000000</td>\n",
              "      <td>34.090909</td>\n",
              "    </tr>\n",
              "    <tr>\n",
              "      <th>75%</th>\n",
              "      <td>3000.000000</td>\n",
              "      <td>76.000000</td>\n",
              "      <td>2.000000</td>\n",
              "      <td>1.000000</td>\n",
              "      <td>2.000000</td>\n",
              "      <td>43.970588</td>\n",
              "    </tr>\n",
              "    <tr>\n",
              "      <th>max</th>\n",
              "      <td>70900.000000</td>\n",
              "      <td>900.000000</td>\n",
              "      <td>38.000000</td>\n",
              "      <td>4.000000</td>\n",
              "      <td>10.000000</td>\n",
              "      <td>585.950413</td>\n",
              "    </tr>\n",
              "  </tbody>\n",
              "</table>\n",
              "</div>\n",
              "      <button class=\"colab-df-convert\" onclick=\"convertToInteractive('df-2efde062-048c-4bbc-a3d5-81a7d9d195ef')\"\n",
              "              title=\"Convert this dataframe to an interactive table.\"\n",
              "              style=\"display:none;\">\n",
              "        \n",
              "  <svg xmlns=\"http://www.w3.org/2000/svg\" height=\"24px\"viewBox=\"0 0 24 24\"\n",
              "       width=\"24px\">\n",
              "    <path d=\"M0 0h24v24H0V0z\" fill=\"none\"/>\n",
              "    <path d=\"M18.56 5.44l.94 2.06.94-2.06 2.06-.94-2.06-.94-.94-2.06-.94 2.06-2.06.94zm-11 1L8.5 8.5l.94-2.06 2.06-.94-2.06-.94L8.5 2.5l-.94 2.06-2.06.94zm10 10l.94 2.06.94-2.06 2.06-.94-2.06-.94-.94-2.06-.94 2.06-2.06.94z\"/><path d=\"M17.41 7.96l-1.37-1.37c-.4-.4-.92-.59-1.43-.59-.52 0-1.04.2-1.43.59L10.3 9.45l-7.72 7.72c-.78.78-.78 2.05 0 2.83L4 21.41c.39.39.9.59 1.41.59.51 0 1.02-.2 1.41-.59l7.78-7.78 2.81-2.81c.8-.78.8-2.07 0-2.86zM5.41 20L4 18.59l7.72-7.72 1.47 1.35L5.41 20z\"/>\n",
              "  </svg>\n",
              "      </button>\n",
              "      \n",
              "  <style>\n",
              "    .colab-df-container {\n",
              "      display:flex;\n",
              "      flex-wrap:wrap;\n",
              "      gap: 12px;\n",
              "    }\n",
              "\n",
              "    .colab-df-convert {\n",
              "      background-color: #E8F0FE;\n",
              "      border: none;\n",
              "      border-radius: 50%;\n",
              "      cursor: pointer;\n",
              "      display: none;\n",
              "      fill: #1967D2;\n",
              "      height: 32px;\n",
              "      padding: 0 0 0 0;\n",
              "      width: 32px;\n",
              "    }\n",
              "\n",
              "    .colab-df-convert:hover {\n",
              "      background-color: #E2EBFA;\n",
              "      box-shadow: 0px 1px 2px rgba(60, 64, 67, 0.3), 0px 1px 3px 1px rgba(60, 64, 67, 0.15);\n",
              "      fill: #174EA6;\n",
              "    }\n",
              "\n",
              "    [theme=dark] .colab-df-convert {\n",
              "      background-color: #3B4455;\n",
              "      fill: #D2E3FC;\n",
              "    }\n",
              "\n",
              "    [theme=dark] .colab-df-convert:hover {\n",
              "      background-color: #434B5C;\n",
              "      box-shadow: 0px 1px 3px 1px rgba(0, 0, 0, 0.15);\n",
              "      filter: drop-shadow(0px 1px 2px rgba(0, 0, 0, 0.3));\n",
              "      fill: #FFFFFF;\n",
              "    }\n",
              "  </style>\n",
              "\n",
              "      <script>\n",
              "        const buttonEl =\n",
              "          document.querySelector('#df-2efde062-048c-4bbc-a3d5-81a7d9d195ef button.colab-df-convert');\n",
              "        buttonEl.style.display =\n",
              "          google.colab.kernel.accessAllowed ? 'block' : 'none';\n",
              "\n",
              "        async function convertToInteractive(key) {\n",
              "          const element = document.querySelector('#df-2efde062-048c-4bbc-a3d5-81a7d9d195ef');\n",
              "          const dataTable =\n",
              "            await google.colab.kernel.invokeFunction('convertToInteractive',\n",
              "                                                     [key], {});\n",
              "          if (!dataTable) return;\n",
              "\n",
              "          const docLinkHtml = 'Like what you see? Visit the ' +\n",
              "            '<a target=\"_blank\" href=https://colab.research.google.com/notebooks/data_table.ipynb>data table notebook</a>'\n",
              "            + ' to learn more about interactive tables.';\n",
              "          element.innerHTML = '';\n",
              "          dataTable['output_type'] = 'display_data';\n",
              "          await google.colab.output.renderOutput(dataTable, element);\n",
              "          const docLink = document.createElement('div');\n",
              "          docLink.innerHTML = docLinkHtml;\n",
              "          element.appendChild(docLink);\n",
              "        }\n",
              "      </script>\n",
              "    </div>\n",
              "  </div>\n",
              "  "
            ]
          },
          "metadata": {},
          "execution_count": 187
        }
      ]
    },
    {
      "cell_type": "markdown",
      "source": [
        "Checking strange bedrooms value. Nulls will be filled with 0 (bedrooms, suites and parking)."
      ],
      "metadata": {
        "id": "H7bdXsyD23NJ"
      }
    },
    {
      "cell_type": "code",
      "source": [
        "df.info()"
      ],
      "metadata": {
        "colab": {
          "base_uri": "https://localhost:8080/"
        },
        "id": "rTOIYtkj_niY",
        "outputId": "bac11e74-bae8-413e-be18-dc9406723781"
      },
      "execution_count": 188,
      "outputs": [
        {
          "output_type": "stream",
          "name": "stdout",
          "text": [
            "<class 'pandas.core.frame.DataFrame'>\n",
            "Int64Index: 3701 entries, 0 to 3724\n",
            "Data columns (total 8 columns):\n",
            " #   Column         Non-Null Count  Dtype  \n",
            "---  ------         --------------  -----  \n",
            " 0   rent           3701 non-null   int32  \n",
            " 1   size_m2        3701 non-null   int64  \n",
            " 2   property_type  3701 non-null   object \n",
            " 3   bedrooms       3696 non-null   float64\n",
            " 4   suite          2501 non-null   float64\n",
            " 5   parking        1332 non-null   float64\n",
            " 6   neighborhood   3701 non-null   object \n",
            " 7   rent_per_size  3701 non-null   float64\n",
            "dtypes: float64(4), int32(1), int64(1), object(2)\n",
            "memory usage: 245.8+ KB\n"
          ]
        }
      ]
    },
    {
      "cell_type": "code",
      "source": [
        "df = df.fillna(0)"
      ],
      "metadata": {
        "id": "oOcOmeB5_0vB"
      },
      "execution_count": 191,
      "outputs": []
    },
    {
      "cell_type": "code",
      "source": [
        "df.info()"
      ],
      "metadata": {
        "colab": {
          "base_uri": "https://localhost:8080/"
        },
        "id": "ndSEqykB_0IO",
        "outputId": "8ac3b503-de7c-42bd-c5c8-800178b4d7f5"
      },
      "execution_count": 192,
      "outputs": [
        {
          "output_type": "stream",
          "name": "stdout",
          "text": [
            "<class 'pandas.core.frame.DataFrame'>\n",
            "Int64Index: 3701 entries, 0 to 3724\n",
            "Data columns (total 8 columns):\n",
            " #   Column         Non-Null Count  Dtype  \n",
            "---  ------         --------------  -----  \n",
            " 0   rent           3701 non-null   int32  \n",
            " 1   size_m2        3701 non-null   int64  \n",
            " 2   property_type  3701 non-null   object \n",
            " 3   bedrooms       3701 non-null   float64\n",
            " 4   suite          3701 non-null   float64\n",
            " 5   parking        3701 non-null   float64\n",
            " 6   neighborhood   3701 non-null   object \n",
            " 7   rent_per_size  3701 non-null   float64\n",
            "dtypes: float64(4), int32(1), int64(1), object(2)\n",
            "memory usage: 245.8+ KB\n"
          ]
        }
      ]
    },
    {
      "cell_type": "code",
      "source": [
        "df.loc[df['bedrooms'] > 5]"
      ],
      "metadata": {
        "colab": {
          "base_uri": "https://localhost:8080/",
          "height": 81
        },
        "id": "45QAorxU2jo0",
        "outputId": "faaa5165-395d-4de7-a596-9bafa0a15d25"
      },
      "execution_count": 193,
      "outputs": [
        {
          "output_type": "execute_result",
          "data": {
            "text/plain": [
              "      rent  size_m2 property_type  bedrooms  suite  parking   neighborhood  \\\n",
              "3494  1500       38  Apartamento       38.0    1.0      0.0   AGUAS CLARAS   \n",
              "\n",
              "      rent_per_size  \n",
              "3494      39.473684  "
            ],
            "text/html": [
              "\n",
              "  <div id=\"df-f7df18b5-b277-47d4-a114-af97a1cbb628\">\n",
              "    <div class=\"colab-df-container\">\n",
              "      <div>\n",
              "<style scoped>\n",
              "    .dataframe tbody tr th:only-of-type {\n",
              "        vertical-align: middle;\n",
              "    }\n",
              "\n",
              "    .dataframe tbody tr th {\n",
              "        vertical-align: top;\n",
              "    }\n",
              "\n",
              "    .dataframe thead th {\n",
              "        text-align: right;\n",
              "    }\n",
              "</style>\n",
              "<table border=\"1\" class=\"dataframe\">\n",
              "  <thead>\n",
              "    <tr style=\"text-align: right;\">\n",
              "      <th></th>\n",
              "      <th>rent</th>\n",
              "      <th>size_m2</th>\n",
              "      <th>property_type</th>\n",
              "      <th>bedrooms</th>\n",
              "      <th>suite</th>\n",
              "      <th>parking</th>\n",
              "      <th>neighborhood</th>\n",
              "      <th>rent_per_size</th>\n",
              "    </tr>\n",
              "  </thead>\n",
              "  <tbody>\n",
              "    <tr>\n",
              "      <th>3494</th>\n",
              "      <td>1500</td>\n",
              "      <td>38</td>\n",
              "      <td>Apartamento</td>\n",
              "      <td>38.0</td>\n",
              "      <td>1.0</td>\n",
              "      <td>0.0</td>\n",
              "      <td>AGUAS CLARAS</td>\n",
              "      <td>39.473684</td>\n",
              "    </tr>\n",
              "  </tbody>\n",
              "</table>\n",
              "</div>\n",
              "      <button class=\"colab-df-convert\" onclick=\"convertToInteractive('df-f7df18b5-b277-47d4-a114-af97a1cbb628')\"\n",
              "              title=\"Convert this dataframe to an interactive table.\"\n",
              "              style=\"display:none;\">\n",
              "        \n",
              "  <svg xmlns=\"http://www.w3.org/2000/svg\" height=\"24px\"viewBox=\"0 0 24 24\"\n",
              "       width=\"24px\">\n",
              "    <path d=\"M0 0h24v24H0V0z\" fill=\"none\"/>\n",
              "    <path d=\"M18.56 5.44l.94 2.06.94-2.06 2.06-.94-2.06-.94-.94-2.06-.94 2.06-2.06.94zm-11 1L8.5 8.5l.94-2.06 2.06-.94-2.06-.94L8.5 2.5l-.94 2.06-2.06.94zm10 10l.94 2.06.94-2.06 2.06-.94-2.06-.94-.94-2.06-.94 2.06-2.06.94z\"/><path d=\"M17.41 7.96l-1.37-1.37c-.4-.4-.92-.59-1.43-.59-.52 0-1.04.2-1.43.59L10.3 9.45l-7.72 7.72c-.78.78-.78 2.05 0 2.83L4 21.41c.39.39.9.59 1.41.59.51 0 1.02-.2 1.41-.59l7.78-7.78 2.81-2.81c.8-.78.8-2.07 0-2.86zM5.41 20L4 18.59l7.72-7.72 1.47 1.35L5.41 20z\"/>\n",
              "  </svg>\n",
              "      </button>\n",
              "      \n",
              "  <style>\n",
              "    .colab-df-container {\n",
              "      display:flex;\n",
              "      flex-wrap:wrap;\n",
              "      gap: 12px;\n",
              "    }\n",
              "\n",
              "    .colab-df-convert {\n",
              "      background-color: #E8F0FE;\n",
              "      border: none;\n",
              "      border-radius: 50%;\n",
              "      cursor: pointer;\n",
              "      display: none;\n",
              "      fill: #1967D2;\n",
              "      height: 32px;\n",
              "      padding: 0 0 0 0;\n",
              "      width: 32px;\n",
              "    }\n",
              "\n",
              "    .colab-df-convert:hover {\n",
              "      background-color: #E2EBFA;\n",
              "      box-shadow: 0px 1px 2px rgba(60, 64, 67, 0.3), 0px 1px 3px 1px rgba(60, 64, 67, 0.15);\n",
              "      fill: #174EA6;\n",
              "    }\n",
              "\n",
              "    [theme=dark] .colab-df-convert {\n",
              "      background-color: #3B4455;\n",
              "      fill: #D2E3FC;\n",
              "    }\n",
              "\n",
              "    [theme=dark] .colab-df-convert:hover {\n",
              "      background-color: #434B5C;\n",
              "      box-shadow: 0px 1px 3px 1px rgba(0, 0, 0, 0.15);\n",
              "      filter: drop-shadow(0px 1px 2px rgba(0, 0, 0, 0.3));\n",
              "      fill: #FFFFFF;\n",
              "    }\n",
              "  </style>\n",
              "\n",
              "      <script>\n",
              "        const buttonEl =\n",
              "          document.querySelector('#df-f7df18b5-b277-47d4-a114-af97a1cbb628 button.colab-df-convert');\n",
              "        buttonEl.style.display =\n",
              "          google.colab.kernel.accessAllowed ? 'block' : 'none';\n",
              "\n",
              "        async function convertToInteractive(key) {\n",
              "          const element = document.querySelector('#df-f7df18b5-b277-47d4-a114-af97a1cbb628');\n",
              "          const dataTable =\n",
              "            await google.colab.kernel.invokeFunction('convertToInteractive',\n",
              "                                                     [key], {});\n",
              "          if (!dataTable) return;\n",
              "\n",
              "          const docLinkHtml = 'Like what you see? Visit the ' +\n",
              "            '<a target=\"_blank\" href=https://colab.research.google.com/notebooks/data_table.ipynb>data table notebook</a>'\n",
              "            + ' to learn more about interactive tables.';\n",
              "          element.innerHTML = '';\n",
              "          dataTable['output_type'] = 'display_data';\n",
              "          await google.colab.output.renderOutput(dataTable, element);\n",
              "          const docLink = document.createElement('div');\n",
              "          docLink.innerHTML = docLinkHtml;\n",
              "          element.appendChild(docLink);\n",
              "        }\n",
              "      </script>\n",
              "    </div>\n",
              "  </div>\n",
              "  "
            ]
          },
          "metadata": {},
          "execution_count": 193
        }
      ]
    },
    {
      "cell_type": "code",
      "source": [
        "df = df[df.bedrooms < 6]"
      ],
      "metadata": {
        "id": "y3GrPyBk2sEY"
      },
      "execution_count": 194,
      "outputs": []
    },
    {
      "cell_type": "code",
      "source": [
        "df.describe()"
      ],
      "metadata": {
        "colab": {
          "base_uri": "https://localhost:8080/",
          "height": 300
        },
        "id": "snXwC7tZ2zL8",
        "outputId": "8172f3e3-ae8d-4f3c-d712-1cd3539af866"
      },
      "execution_count": 195,
      "outputs": [
        {
          "output_type": "execute_result",
          "data": {
            "text/plain": [
              "               rent     size_m2     bedrooms        suite      parking  \\\n",
              "count   3700.000000  3700.00000  3700.000000  3700.000000  3700.000000   \n",
              "mean    2442.987568    64.80973     1.826216     0.768108     0.484595   \n",
              "std     2685.000182    46.26035     0.900761     0.659949     0.770173   \n",
              "min      350.000000    11.00000     0.000000     0.000000     0.000000   \n",
              "25%     1000.000000    34.00000     1.000000     0.000000     0.000000   \n",
              "50%     1600.000000    51.00000     2.000000     1.000000     0.000000   \n",
              "75%     3000.000000    76.00000     2.000000     1.000000     1.000000   \n",
              "max    70900.000000   900.00000     5.000000     4.000000    10.000000   \n",
              "\n",
              "       rent_per_size  \n",
              "count    3700.000000  \n",
              "mean       36.834856  \n",
              "std        20.061788  \n",
              "min         6.050955  \n",
              "25%        25.000000  \n",
              "50%        34.090909  \n",
              "75%        43.970588  \n",
              "max       585.950413  "
            ],
            "text/html": [
              "\n",
              "  <div id=\"df-ab745dcc-48e1-40e5-81f1-5ae8f33f0e44\">\n",
              "    <div class=\"colab-df-container\">\n",
              "      <div>\n",
              "<style scoped>\n",
              "    .dataframe tbody tr th:only-of-type {\n",
              "        vertical-align: middle;\n",
              "    }\n",
              "\n",
              "    .dataframe tbody tr th {\n",
              "        vertical-align: top;\n",
              "    }\n",
              "\n",
              "    .dataframe thead th {\n",
              "        text-align: right;\n",
              "    }\n",
              "</style>\n",
              "<table border=\"1\" class=\"dataframe\">\n",
              "  <thead>\n",
              "    <tr style=\"text-align: right;\">\n",
              "      <th></th>\n",
              "      <th>rent</th>\n",
              "      <th>size_m2</th>\n",
              "      <th>bedrooms</th>\n",
              "      <th>suite</th>\n",
              "      <th>parking</th>\n",
              "      <th>rent_per_size</th>\n",
              "    </tr>\n",
              "  </thead>\n",
              "  <tbody>\n",
              "    <tr>\n",
              "      <th>count</th>\n",
              "      <td>3700.000000</td>\n",
              "      <td>3700.00000</td>\n",
              "      <td>3700.000000</td>\n",
              "      <td>3700.000000</td>\n",
              "      <td>3700.000000</td>\n",
              "      <td>3700.000000</td>\n",
              "    </tr>\n",
              "    <tr>\n",
              "      <th>mean</th>\n",
              "      <td>2442.987568</td>\n",
              "      <td>64.80973</td>\n",
              "      <td>1.826216</td>\n",
              "      <td>0.768108</td>\n",
              "      <td>0.484595</td>\n",
              "      <td>36.834856</td>\n",
              "    </tr>\n",
              "    <tr>\n",
              "      <th>std</th>\n",
              "      <td>2685.000182</td>\n",
              "      <td>46.26035</td>\n",
              "      <td>0.900761</td>\n",
              "      <td>0.659949</td>\n",
              "      <td>0.770173</td>\n",
              "      <td>20.061788</td>\n",
              "    </tr>\n",
              "    <tr>\n",
              "      <th>min</th>\n",
              "      <td>350.000000</td>\n",
              "      <td>11.00000</td>\n",
              "      <td>0.000000</td>\n",
              "      <td>0.000000</td>\n",
              "      <td>0.000000</td>\n",
              "      <td>6.050955</td>\n",
              "    </tr>\n",
              "    <tr>\n",
              "      <th>25%</th>\n",
              "      <td>1000.000000</td>\n",
              "      <td>34.00000</td>\n",
              "      <td>1.000000</td>\n",
              "      <td>0.000000</td>\n",
              "      <td>0.000000</td>\n",
              "      <td>25.000000</td>\n",
              "    </tr>\n",
              "    <tr>\n",
              "      <th>50%</th>\n",
              "      <td>1600.000000</td>\n",
              "      <td>51.00000</td>\n",
              "      <td>2.000000</td>\n",
              "      <td>1.000000</td>\n",
              "      <td>0.000000</td>\n",
              "      <td>34.090909</td>\n",
              "    </tr>\n",
              "    <tr>\n",
              "      <th>75%</th>\n",
              "      <td>3000.000000</td>\n",
              "      <td>76.00000</td>\n",
              "      <td>2.000000</td>\n",
              "      <td>1.000000</td>\n",
              "      <td>1.000000</td>\n",
              "      <td>43.970588</td>\n",
              "    </tr>\n",
              "    <tr>\n",
              "      <th>max</th>\n",
              "      <td>70900.000000</td>\n",
              "      <td>900.00000</td>\n",
              "      <td>5.000000</td>\n",
              "      <td>4.000000</td>\n",
              "      <td>10.000000</td>\n",
              "      <td>585.950413</td>\n",
              "    </tr>\n",
              "  </tbody>\n",
              "</table>\n",
              "</div>\n",
              "      <button class=\"colab-df-convert\" onclick=\"convertToInteractive('df-ab745dcc-48e1-40e5-81f1-5ae8f33f0e44')\"\n",
              "              title=\"Convert this dataframe to an interactive table.\"\n",
              "              style=\"display:none;\">\n",
              "        \n",
              "  <svg xmlns=\"http://www.w3.org/2000/svg\" height=\"24px\"viewBox=\"0 0 24 24\"\n",
              "       width=\"24px\">\n",
              "    <path d=\"M0 0h24v24H0V0z\" fill=\"none\"/>\n",
              "    <path d=\"M18.56 5.44l.94 2.06.94-2.06 2.06-.94-2.06-.94-.94-2.06-.94 2.06-2.06.94zm-11 1L8.5 8.5l.94-2.06 2.06-.94-2.06-.94L8.5 2.5l-.94 2.06-2.06.94zm10 10l.94 2.06.94-2.06 2.06-.94-2.06-.94-.94-2.06-.94 2.06-2.06.94z\"/><path d=\"M17.41 7.96l-1.37-1.37c-.4-.4-.92-.59-1.43-.59-.52 0-1.04.2-1.43.59L10.3 9.45l-7.72 7.72c-.78.78-.78 2.05 0 2.83L4 21.41c.39.39.9.59 1.41.59.51 0 1.02-.2 1.41-.59l7.78-7.78 2.81-2.81c.8-.78.8-2.07 0-2.86zM5.41 20L4 18.59l7.72-7.72 1.47 1.35L5.41 20z\"/>\n",
              "  </svg>\n",
              "      </button>\n",
              "      \n",
              "  <style>\n",
              "    .colab-df-container {\n",
              "      display:flex;\n",
              "      flex-wrap:wrap;\n",
              "      gap: 12px;\n",
              "    }\n",
              "\n",
              "    .colab-df-convert {\n",
              "      background-color: #E8F0FE;\n",
              "      border: none;\n",
              "      border-radius: 50%;\n",
              "      cursor: pointer;\n",
              "      display: none;\n",
              "      fill: #1967D2;\n",
              "      height: 32px;\n",
              "      padding: 0 0 0 0;\n",
              "      width: 32px;\n",
              "    }\n",
              "\n",
              "    .colab-df-convert:hover {\n",
              "      background-color: #E2EBFA;\n",
              "      box-shadow: 0px 1px 2px rgba(60, 64, 67, 0.3), 0px 1px 3px 1px rgba(60, 64, 67, 0.15);\n",
              "      fill: #174EA6;\n",
              "    }\n",
              "\n",
              "    [theme=dark] .colab-df-convert {\n",
              "      background-color: #3B4455;\n",
              "      fill: #D2E3FC;\n",
              "    }\n",
              "\n",
              "    [theme=dark] .colab-df-convert:hover {\n",
              "      background-color: #434B5C;\n",
              "      box-shadow: 0px 1px 3px 1px rgba(0, 0, 0, 0.15);\n",
              "      filter: drop-shadow(0px 1px 2px rgba(0, 0, 0, 0.3));\n",
              "      fill: #FFFFFF;\n",
              "    }\n",
              "  </style>\n",
              "\n",
              "      <script>\n",
              "        const buttonEl =\n",
              "          document.querySelector('#df-ab745dcc-48e1-40e5-81f1-5ae8f33f0e44 button.colab-df-convert');\n",
              "        buttonEl.style.display =\n",
              "          google.colab.kernel.accessAllowed ? 'block' : 'none';\n",
              "\n",
              "        async function convertToInteractive(key) {\n",
              "          const element = document.querySelector('#df-ab745dcc-48e1-40e5-81f1-5ae8f33f0e44');\n",
              "          const dataTable =\n",
              "            await google.colab.kernel.invokeFunction('convertToInteractive',\n",
              "                                                     [key], {});\n",
              "          if (!dataTable) return;\n",
              "\n",
              "          const docLinkHtml = 'Like what you see? Visit the ' +\n",
              "            '<a target=\"_blank\" href=https://colab.research.google.com/notebooks/data_table.ipynb>data table notebook</a>'\n",
              "            + ' to learn more about interactive tables.';\n",
              "          element.innerHTML = '';\n",
              "          dataTable['output_type'] = 'display_data';\n",
              "          await google.colab.output.renderOutput(dataTable, element);\n",
              "          const docLink = document.createElement('div');\n",
              "          docLink.innerHTML = docLinkHtml;\n",
              "          element.appendChild(docLink);\n",
              "        }\n",
              "      </script>\n",
              "    </div>\n",
              "  </div>\n",
              "  "
            ]
          },
          "metadata": {},
          "execution_count": 195
        }
      ]
    },
    {
      "cell_type": "markdown",
      "source": [
        "Checking strange parking value."
      ],
      "metadata": {
        "id": "F6NxvmDP3FLb"
      }
    },
    {
      "cell_type": "code",
      "source": [
        "df.loc[df['parking'] > 4]"
      ],
      "metadata": {
        "colab": {
          "base_uri": "https://localhost:8080/",
          "height": 112
        },
        "id": "7-WiowVz282H",
        "outputId": "beeef028-9d70-40dd-f063-b98df5c9d026"
      },
      "execution_count": 196,
      "outputs": [
        {
          "output_type": "execute_result",
          "data": {
            "text/plain": [
              "       rent  size_m2 property_type  bedrooms  suite  parking neighborhood  \\\n",
              "1296   1000       27       Kitnet        1.0    1.0     10.0    ASA NORTE   \n",
              "1713  29900      324  Apartamento        3.0    3.0      5.0     NOROESTE   \n",
              "\n",
              "      rent_per_size  \n",
              "1296      37.037037  \n",
              "1713      92.283951  "
            ],
            "text/html": [
              "\n",
              "  <div id=\"df-05e57684-0f11-4cd3-b6e7-9512fbb6c607\">\n",
              "    <div class=\"colab-df-container\">\n",
              "      <div>\n",
              "<style scoped>\n",
              "    .dataframe tbody tr th:only-of-type {\n",
              "        vertical-align: middle;\n",
              "    }\n",
              "\n",
              "    .dataframe tbody tr th {\n",
              "        vertical-align: top;\n",
              "    }\n",
              "\n",
              "    .dataframe thead th {\n",
              "        text-align: right;\n",
              "    }\n",
              "</style>\n",
              "<table border=\"1\" class=\"dataframe\">\n",
              "  <thead>\n",
              "    <tr style=\"text-align: right;\">\n",
              "      <th></th>\n",
              "      <th>rent</th>\n",
              "      <th>size_m2</th>\n",
              "      <th>property_type</th>\n",
              "      <th>bedrooms</th>\n",
              "      <th>suite</th>\n",
              "      <th>parking</th>\n",
              "      <th>neighborhood</th>\n",
              "      <th>rent_per_size</th>\n",
              "    </tr>\n",
              "  </thead>\n",
              "  <tbody>\n",
              "    <tr>\n",
              "      <th>1296</th>\n",
              "      <td>1000</td>\n",
              "      <td>27</td>\n",
              "      <td>Kitnet</td>\n",
              "      <td>1.0</td>\n",
              "      <td>1.0</td>\n",
              "      <td>10.0</td>\n",
              "      <td>ASA NORTE</td>\n",
              "      <td>37.037037</td>\n",
              "    </tr>\n",
              "    <tr>\n",
              "      <th>1713</th>\n",
              "      <td>29900</td>\n",
              "      <td>324</td>\n",
              "      <td>Apartamento</td>\n",
              "      <td>3.0</td>\n",
              "      <td>3.0</td>\n",
              "      <td>5.0</td>\n",
              "      <td>NOROESTE</td>\n",
              "      <td>92.283951</td>\n",
              "    </tr>\n",
              "  </tbody>\n",
              "</table>\n",
              "</div>\n",
              "      <button class=\"colab-df-convert\" onclick=\"convertToInteractive('df-05e57684-0f11-4cd3-b6e7-9512fbb6c607')\"\n",
              "              title=\"Convert this dataframe to an interactive table.\"\n",
              "              style=\"display:none;\">\n",
              "        \n",
              "  <svg xmlns=\"http://www.w3.org/2000/svg\" height=\"24px\"viewBox=\"0 0 24 24\"\n",
              "       width=\"24px\">\n",
              "    <path d=\"M0 0h24v24H0V0z\" fill=\"none\"/>\n",
              "    <path d=\"M18.56 5.44l.94 2.06.94-2.06 2.06-.94-2.06-.94-.94-2.06-.94 2.06-2.06.94zm-11 1L8.5 8.5l.94-2.06 2.06-.94-2.06-.94L8.5 2.5l-.94 2.06-2.06.94zm10 10l.94 2.06.94-2.06 2.06-.94-2.06-.94-.94-2.06-.94 2.06-2.06.94z\"/><path d=\"M17.41 7.96l-1.37-1.37c-.4-.4-.92-.59-1.43-.59-.52 0-1.04.2-1.43.59L10.3 9.45l-7.72 7.72c-.78.78-.78 2.05 0 2.83L4 21.41c.39.39.9.59 1.41.59.51 0 1.02-.2 1.41-.59l7.78-7.78 2.81-2.81c.8-.78.8-2.07 0-2.86zM5.41 20L4 18.59l7.72-7.72 1.47 1.35L5.41 20z\"/>\n",
              "  </svg>\n",
              "      </button>\n",
              "      \n",
              "  <style>\n",
              "    .colab-df-container {\n",
              "      display:flex;\n",
              "      flex-wrap:wrap;\n",
              "      gap: 12px;\n",
              "    }\n",
              "\n",
              "    .colab-df-convert {\n",
              "      background-color: #E8F0FE;\n",
              "      border: none;\n",
              "      border-radius: 50%;\n",
              "      cursor: pointer;\n",
              "      display: none;\n",
              "      fill: #1967D2;\n",
              "      height: 32px;\n",
              "      padding: 0 0 0 0;\n",
              "      width: 32px;\n",
              "    }\n",
              "\n",
              "    .colab-df-convert:hover {\n",
              "      background-color: #E2EBFA;\n",
              "      box-shadow: 0px 1px 2px rgba(60, 64, 67, 0.3), 0px 1px 3px 1px rgba(60, 64, 67, 0.15);\n",
              "      fill: #174EA6;\n",
              "    }\n",
              "\n",
              "    [theme=dark] .colab-df-convert {\n",
              "      background-color: #3B4455;\n",
              "      fill: #D2E3FC;\n",
              "    }\n",
              "\n",
              "    [theme=dark] .colab-df-convert:hover {\n",
              "      background-color: #434B5C;\n",
              "      box-shadow: 0px 1px 3px 1px rgba(0, 0, 0, 0.15);\n",
              "      filter: drop-shadow(0px 1px 2px rgba(0, 0, 0, 0.3));\n",
              "      fill: #FFFFFF;\n",
              "    }\n",
              "  </style>\n",
              "\n",
              "      <script>\n",
              "        const buttonEl =\n",
              "          document.querySelector('#df-05e57684-0f11-4cd3-b6e7-9512fbb6c607 button.colab-df-convert');\n",
              "        buttonEl.style.display =\n",
              "          google.colab.kernel.accessAllowed ? 'block' : 'none';\n",
              "\n",
              "        async function convertToInteractive(key) {\n",
              "          const element = document.querySelector('#df-05e57684-0f11-4cd3-b6e7-9512fbb6c607');\n",
              "          const dataTable =\n",
              "            await google.colab.kernel.invokeFunction('convertToInteractive',\n",
              "                                                     [key], {});\n",
              "          if (!dataTable) return;\n",
              "\n",
              "          const docLinkHtml = 'Like what you see? Visit the ' +\n",
              "            '<a target=\"_blank\" href=https://colab.research.google.com/notebooks/data_table.ipynb>data table notebook</a>'\n",
              "            + ' to learn more about interactive tables.';\n",
              "          element.innerHTML = '';\n",
              "          dataTable['output_type'] = 'display_data';\n",
              "          await google.colab.output.renderOutput(dataTable, element);\n",
              "          const docLink = document.createElement('div');\n",
              "          docLink.innerHTML = docLinkHtml;\n",
              "          element.appendChild(docLink);\n",
              "        }\n",
              "      </script>\n",
              "    </div>\n",
              "  </div>\n",
              "  "
            ]
          },
          "metadata": {},
          "execution_count": 196
        }
      ]
    },
    {
      "cell_type": "code",
      "source": [
        "df = df[df.parking < 6]"
      ],
      "metadata": {
        "id": "2vUxkjx53H_B"
      },
      "execution_count": 197,
      "outputs": []
    },
    {
      "cell_type": "code",
      "source": [
        "df.describe()"
      ],
      "metadata": {
        "colab": {
          "base_uri": "https://localhost:8080/",
          "height": 300
        },
        "id": "V0Ekow9j3MdE",
        "outputId": "ba91bf81-5f58-4e5d-92de-d1df04c9fd93"
      },
      "execution_count": 198,
      "outputs": [
        {
          "output_type": "execute_result",
          "data": {
            "text/plain": [
              "               rent      size_m2    bedrooms        suite      parking  \\\n",
              "count   3699.000000  3699.000000  3699.00000  3699.000000  3699.000000   \n",
              "mean    2443.377670    64.819951     1.82644     0.768045     0.482022   \n",
              "std     2685.258321    46.262426     0.90078     0.660027     0.754212   \n",
              "min      350.000000    11.000000     0.00000     0.000000     0.000000   \n",
              "25%     1000.000000    34.000000     1.00000     0.000000     0.000000   \n",
              "50%     1600.000000    51.000000     2.00000     1.000000     0.000000   \n",
              "75%     3000.000000    76.000000     2.00000     1.000000     1.000000   \n",
              "max    70900.000000   900.000000     5.00000     4.000000     5.000000   \n",
              "\n",
              "       rent_per_size  \n",
              "count    3699.000000  \n",
              "mean       36.834801  \n",
              "std        20.064500  \n",
              "min         6.050955  \n",
              "25%        25.000000  \n",
              "50%        34.090909  \n",
              "75%        43.970588  \n",
              "max       585.950413  "
            ],
            "text/html": [
              "\n",
              "  <div id=\"df-f9d551b3-d18f-4b45-b006-c7ef71d3bc7b\">\n",
              "    <div class=\"colab-df-container\">\n",
              "      <div>\n",
              "<style scoped>\n",
              "    .dataframe tbody tr th:only-of-type {\n",
              "        vertical-align: middle;\n",
              "    }\n",
              "\n",
              "    .dataframe tbody tr th {\n",
              "        vertical-align: top;\n",
              "    }\n",
              "\n",
              "    .dataframe thead th {\n",
              "        text-align: right;\n",
              "    }\n",
              "</style>\n",
              "<table border=\"1\" class=\"dataframe\">\n",
              "  <thead>\n",
              "    <tr style=\"text-align: right;\">\n",
              "      <th></th>\n",
              "      <th>rent</th>\n",
              "      <th>size_m2</th>\n",
              "      <th>bedrooms</th>\n",
              "      <th>suite</th>\n",
              "      <th>parking</th>\n",
              "      <th>rent_per_size</th>\n",
              "    </tr>\n",
              "  </thead>\n",
              "  <tbody>\n",
              "    <tr>\n",
              "      <th>count</th>\n",
              "      <td>3699.000000</td>\n",
              "      <td>3699.000000</td>\n",
              "      <td>3699.00000</td>\n",
              "      <td>3699.000000</td>\n",
              "      <td>3699.000000</td>\n",
              "      <td>3699.000000</td>\n",
              "    </tr>\n",
              "    <tr>\n",
              "      <th>mean</th>\n",
              "      <td>2443.377670</td>\n",
              "      <td>64.819951</td>\n",
              "      <td>1.82644</td>\n",
              "      <td>0.768045</td>\n",
              "      <td>0.482022</td>\n",
              "      <td>36.834801</td>\n",
              "    </tr>\n",
              "    <tr>\n",
              "      <th>std</th>\n",
              "      <td>2685.258321</td>\n",
              "      <td>46.262426</td>\n",
              "      <td>0.90078</td>\n",
              "      <td>0.660027</td>\n",
              "      <td>0.754212</td>\n",
              "      <td>20.064500</td>\n",
              "    </tr>\n",
              "    <tr>\n",
              "      <th>min</th>\n",
              "      <td>350.000000</td>\n",
              "      <td>11.000000</td>\n",
              "      <td>0.00000</td>\n",
              "      <td>0.000000</td>\n",
              "      <td>0.000000</td>\n",
              "      <td>6.050955</td>\n",
              "    </tr>\n",
              "    <tr>\n",
              "      <th>25%</th>\n",
              "      <td>1000.000000</td>\n",
              "      <td>34.000000</td>\n",
              "      <td>1.00000</td>\n",
              "      <td>0.000000</td>\n",
              "      <td>0.000000</td>\n",
              "      <td>25.000000</td>\n",
              "    </tr>\n",
              "    <tr>\n",
              "      <th>50%</th>\n",
              "      <td>1600.000000</td>\n",
              "      <td>51.000000</td>\n",
              "      <td>2.00000</td>\n",
              "      <td>1.000000</td>\n",
              "      <td>0.000000</td>\n",
              "      <td>34.090909</td>\n",
              "    </tr>\n",
              "    <tr>\n",
              "      <th>75%</th>\n",
              "      <td>3000.000000</td>\n",
              "      <td>76.000000</td>\n",
              "      <td>2.00000</td>\n",
              "      <td>1.000000</td>\n",
              "      <td>1.000000</td>\n",
              "      <td>43.970588</td>\n",
              "    </tr>\n",
              "    <tr>\n",
              "      <th>max</th>\n",
              "      <td>70900.000000</td>\n",
              "      <td>900.000000</td>\n",
              "      <td>5.00000</td>\n",
              "      <td>4.000000</td>\n",
              "      <td>5.000000</td>\n",
              "      <td>585.950413</td>\n",
              "    </tr>\n",
              "  </tbody>\n",
              "</table>\n",
              "</div>\n",
              "      <button class=\"colab-df-convert\" onclick=\"convertToInteractive('df-f9d551b3-d18f-4b45-b006-c7ef71d3bc7b')\"\n",
              "              title=\"Convert this dataframe to an interactive table.\"\n",
              "              style=\"display:none;\">\n",
              "        \n",
              "  <svg xmlns=\"http://www.w3.org/2000/svg\" height=\"24px\"viewBox=\"0 0 24 24\"\n",
              "       width=\"24px\">\n",
              "    <path d=\"M0 0h24v24H0V0z\" fill=\"none\"/>\n",
              "    <path d=\"M18.56 5.44l.94 2.06.94-2.06 2.06-.94-2.06-.94-.94-2.06-.94 2.06-2.06.94zm-11 1L8.5 8.5l.94-2.06 2.06-.94-2.06-.94L8.5 2.5l-.94 2.06-2.06.94zm10 10l.94 2.06.94-2.06 2.06-.94-2.06-.94-.94-2.06-.94 2.06-2.06.94z\"/><path d=\"M17.41 7.96l-1.37-1.37c-.4-.4-.92-.59-1.43-.59-.52 0-1.04.2-1.43.59L10.3 9.45l-7.72 7.72c-.78.78-.78 2.05 0 2.83L4 21.41c.39.39.9.59 1.41.59.51 0 1.02-.2 1.41-.59l7.78-7.78 2.81-2.81c.8-.78.8-2.07 0-2.86zM5.41 20L4 18.59l7.72-7.72 1.47 1.35L5.41 20z\"/>\n",
              "  </svg>\n",
              "      </button>\n",
              "      \n",
              "  <style>\n",
              "    .colab-df-container {\n",
              "      display:flex;\n",
              "      flex-wrap:wrap;\n",
              "      gap: 12px;\n",
              "    }\n",
              "\n",
              "    .colab-df-convert {\n",
              "      background-color: #E8F0FE;\n",
              "      border: none;\n",
              "      border-radius: 50%;\n",
              "      cursor: pointer;\n",
              "      display: none;\n",
              "      fill: #1967D2;\n",
              "      height: 32px;\n",
              "      padding: 0 0 0 0;\n",
              "      width: 32px;\n",
              "    }\n",
              "\n",
              "    .colab-df-convert:hover {\n",
              "      background-color: #E2EBFA;\n",
              "      box-shadow: 0px 1px 2px rgba(60, 64, 67, 0.3), 0px 1px 3px 1px rgba(60, 64, 67, 0.15);\n",
              "      fill: #174EA6;\n",
              "    }\n",
              "\n",
              "    [theme=dark] .colab-df-convert {\n",
              "      background-color: #3B4455;\n",
              "      fill: #D2E3FC;\n",
              "    }\n",
              "\n",
              "    [theme=dark] .colab-df-convert:hover {\n",
              "      background-color: #434B5C;\n",
              "      box-shadow: 0px 1px 3px 1px rgba(0, 0, 0, 0.15);\n",
              "      filter: drop-shadow(0px 1px 2px rgba(0, 0, 0, 0.3));\n",
              "      fill: #FFFFFF;\n",
              "    }\n",
              "  </style>\n",
              "\n",
              "      <script>\n",
              "        const buttonEl =\n",
              "          document.querySelector('#df-f9d551b3-d18f-4b45-b006-c7ef71d3bc7b button.colab-df-convert');\n",
              "        buttonEl.style.display =\n",
              "          google.colab.kernel.accessAllowed ? 'block' : 'none';\n",
              "\n",
              "        async function convertToInteractive(key) {\n",
              "          const element = document.querySelector('#df-f9d551b3-d18f-4b45-b006-c7ef71d3bc7b');\n",
              "          const dataTable =\n",
              "            await google.colab.kernel.invokeFunction('convertToInteractive',\n",
              "                                                     [key], {});\n",
              "          if (!dataTable) return;\n",
              "\n",
              "          const docLinkHtml = 'Like what you see? Visit the ' +\n",
              "            '<a target=\"_blank\" href=https://colab.research.google.com/notebooks/data_table.ipynb>data table notebook</a>'\n",
              "            + ' to learn more about interactive tables.';\n",
              "          element.innerHTML = '';\n",
              "          dataTable['output_type'] = 'display_data';\n",
              "          await google.colab.output.renderOutput(dataTable, element);\n",
              "          const docLink = document.createElement('div');\n",
              "          docLink.innerHTML = docLinkHtml;\n",
              "          element.appendChild(docLink);\n",
              "        }\n",
              "      </script>\n",
              "    </div>\n",
              "  </div>\n",
              "  "
            ]
          },
          "metadata": {},
          "execution_count": 198
        }
      ]
    },
    {
      "cell_type": "markdown",
      "source": [
        "Checking strange size value."
      ],
      "metadata": {
        "id": "NZ9XveiW3T07"
      }
    },
    {
      "cell_type": "code",
      "source": [
        "df.loc[df['size_m2'] > 400]"
      ],
      "metadata": {
        "colab": {
          "base_uri": "https://localhost:8080/",
          "height": 112
        },
        "id": "GNaioKfB3UL1",
        "outputId": "952958ed-303c-4c09-d372-f09536e912d5"
      },
      "execution_count": 199,
      "outputs": [
        {
          "output_type": "execute_result",
          "data": {
            "text/plain": [
              "       rent  size_m2 property_type  bedrooms  suite  parking neighborhood  \\\n",
              "111   27500      461  Apartamento        3.0    3.0      4.0    ASA NORTE   \n",
              "3209  45000      900  Apartamento        4.0    4.0      3.0      ASA SUL   \n",
              "\n",
              "      rent_per_size  \n",
              "111       59.652928  \n",
              "3209      50.000000  "
            ],
            "text/html": [
              "\n",
              "  <div id=\"df-834b833e-b62f-40b3-89da-3a6b9aa4137f\">\n",
              "    <div class=\"colab-df-container\">\n",
              "      <div>\n",
              "<style scoped>\n",
              "    .dataframe tbody tr th:only-of-type {\n",
              "        vertical-align: middle;\n",
              "    }\n",
              "\n",
              "    .dataframe tbody tr th {\n",
              "        vertical-align: top;\n",
              "    }\n",
              "\n",
              "    .dataframe thead th {\n",
              "        text-align: right;\n",
              "    }\n",
              "</style>\n",
              "<table border=\"1\" class=\"dataframe\">\n",
              "  <thead>\n",
              "    <tr style=\"text-align: right;\">\n",
              "      <th></th>\n",
              "      <th>rent</th>\n",
              "      <th>size_m2</th>\n",
              "      <th>property_type</th>\n",
              "      <th>bedrooms</th>\n",
              "      <th>suite</th>\n",
              "      <th>parking</th>\n",
              "      <th>neighborhood</th>\n",
              "      <th>rent_per_size</th>\n",
              "    </tr>\n",
              "  </thead>\n",
              "  <tbody>\n",
              "    <tr>\n",
              "      <th>111</th>\n",
              "      <td>27500</td>\n",
              "      <td>461</td>\n",
              "      <td>Apartamento</td>\n",
              "      <td>3.0</td>\n",
              "      <td>3.0</td>\n",
              "      <td>4.0</td>\n",
              "      <td>ASA NORTE</td>\n",
              "      <td>59.652928</td>\n",
              "    </tr>\n",
              "    <tr>\n",
              "      <th>3209</th>\n",
              "      <td>45000</td>\n",
              "      <td>900</td>\n",
              "      <td>Apartamento</td>\n",
              "      <td>4.0</td>\n",
              "      <td>4.0</td>\n",
              "      <td>3.0</td>\n",
              "      <td>ASA SUL</td>\n",
              "      <td>50.000000</td>\n",
              "    </tr>\n",
              "  </tbody>\n",
              "</table>\n",
              "</div>\n",
              "      <button class=\"colab-df-convert\" onclick=\"convertToInteractive('df-834b833e-b62f-40b3-89da-3a6b9aa4137f')\"\n",
              "              title=\"Convert this dataframe to an interactive table.\"\n",
              "              style=\"display:none;\">\n",
              "        \n",
              "  <svg xmlns=\"http://www.w3.org/2000/svg\" height=\"24px\"viewBox=\"0 0 24 24\"\n",
              "       width=\"24px\">\n",
              "    <path d=\"M0 0h24v24H0V0z\" fill=\"none\"/>\n",
              "    <path d=\"M18.56 5.44l.94 2.06.94-2.06 2.06-.94-2.06-.94-.94-2.06-.94 2.06-2.06.94zm-11 1L8.5 8.5l.94-2.06 2.06-.94-2.06-.94L8.5 2.5l-.94 2.06-2.06.94zm10 10l.94 2.06.94-2.06 2.06-.94-2.06-.94-.94-2.06-.94 2.06-2.06.94z\"/><path d=\"M17.41 7.96l-1.37-1.37c-.4-.4-.92-.59-1.43-.59-.52 0-1.04.2-1.43.59L10.3 9.45l-7.72 7.72c-.78.78-.78 2.05 0 2.83L4 21.41c.39.39.9.59 1.41.59.51 0 1.02-.2 1.41-.59l7.78-7.78 2.81-2.81c.8-.78.8-2.07 0-2.86zM5.41 20L4 18.59l7.72-7.72 1.47 1.35L5.41 20z\"/>\n",
              "  </svg>\n",
              "      </button>\n",
              "      \n",
              "  <style>\n",
              "    .colab-df-container {\n",
              "      display:flex;\n",
              "      flex-wrap:wrap;\n",
              "      gap: 12px;\n",
              "    }\n",
              "\n",
              "    .colab-df-convert {\n",
              "      background-color: #E8F0FE;\n",
              "      border: none;\n",
              "      border-radius: 50%;\n",
              "      cursor: pointer;\n",
              "      display: none;\n",
              "      fill: #1967D2;\n",
              "      height: 32px;\n",
              "      padding: 0 0 0 0;\n",
              "      width: 32px;\n",
              "    }\n",
              "\n",
              "    .colab-df-convert:hover {\n",
              "      background-color: #E2EBFA;\n",
              "      box-shadow: 0px 1px 2px rgba(60, 64, 67, 0.3), 0px 1px 3px 1px rgba(60, 64, 67, 0.15);\n",
              "      fill: #174EA6;\n",
              "    }\n",
              "\n",
              "    [theme=dark] .colab-df-convert {\n",
              "      background-color: #3B4455;\n",
              "      fill: #D2E3FC;\n",
              "    }\n",
              "\n",
              "    [theme=dark] .colab-df-convert:hover {\n",
              "      background-color: #434B5C;\n",
              "      box-shadow: 0px 1px 3px 1px rgba(0, 0, 0, 0.15);\n",
              "      filter: drop-shadow(0px 1px 2px rgba(0, 0, 0, 0.3));\n",
              "      fill: #FFFFFF;\n",
              "    }\n",
              "  </style>\n",
              "\n",
              "      <script>\n",
              "        const buttonEl =\n",
              "          document.querySelector('#df-834b833e-b62f-40b3-89da-3a6b9aa4137f button.colab-df-convert');\n",
              "        buttonEl.style.display =\n",
              "          google.colab.kernel.accessAllowed ? 'block' : 'none';\n",
              "\n",
              "        async function convertToInteractive(key) {\n",
              "          const element = document.querySelector('#df-834b833e-b62f-40b3-89da-3a6b9aa4137f');\n",
              "          const dataTable =\n",
              "            await google.colab.kernel.invokeFunction('convertToInteractive',\n",
              "                                                     [key], {});\n",
              "          if (!dataTable) return;\n",
              "\n",
              "          const docLinkHtml = 'Like what you see? Visit the ' +\n",
              "            '<a target=\"_blank\" href=https://colab.research.google.com/notebooks/data_table.ipynb>data table notebook</a>'\n",
              "            + ' to learn more about interactive tables.';\n",
              "          element.innerHTML = '';\n",
              "          dataTable['output_type'] = 'display_data';\n",
              "          await google.colab.output.renderOutput(dataTable, element);\n",
              "          const docLink = document.createElement('div');\n",
              "          docLink.innerHTML = docLinkHtml;\n",
              "          element.appendChild(docLink);\n",
              "        }\n",
              "      </script>\n",
              "    </div>\n",
              "  </div>\n",
              "  "
            ]
          },
          "metadata": {},
          "execution_count": 199
        }
      ]
    },
    {
      "cell_type": "markdown",
      "source": [
        "Checking the histograms of the numerical columns."
      ],
      "metadata": {
        "id": "ngayGQ-D3OMl"
      }
    },
    {
      "cell_type": "code",
      "source": [
        "df.hist(bins=100,\n",
        "        figsize=(20,15) )"
      ],
      "metadata": {
        "colab": {
          "base_uri": "https://localhost:8080/",
          "height": 1000
        },
        "id": "HxDOy0nJz4iH",
        "outputId": "6b7d5669-f696-4ce5-90e1-08e9e8e6048b"
      },
      "execution_count": 200,
      "outputs": [
        {
          "output_type": "execute_result",
          "data": {
            "text/plain": [
              "array([[<matplotlib.axes._subplots.AxesSubplot object at 0x7f5031333f90>,\n",
              "        <matplotlib.axes._subplots.AxesSubplot object at 0x7f5031354790>],\n",
              "       [<matplotlib.axes._subplots.AxesSubplot object at 0x7f50312ec990>,\n",
              "        <matplotlib.axes._subplots.AxesSubplot object at 0x7f50312a0f90>],\n",
              "       [<matplotlib.axes._subplots.AxesSubplot object at 0x7f503125f510>,\n",
              "        <matplotlib.axes._subplots.AxesSubplot object at 0x7f5031212a50>]],\n",
              "      dtype=object)"
            ]
          },
          "metadata": {},
          "execution_count": 200
        },
        {
          "output_type": "display_data",
          "data": {
            "text/plain": [
              "<Figure size 1440x1080 with 6 Axes>"
            ],
            "image/png": "[encoded data removed]"
          },
          "metadata": {
            "needs_background": "light"
          }
        }
      ]
    },
    {
      "cell_type": "markdown",
      "source": [
        "Checking the neighborhood value counts. Some values have a pretty low amount, so they will be grouped together as an \"Others\" category."
      ],
      "metadata": {
        "id": "_Kk0lk064iaa"
      }
    },
    {
      "cell_type": "code",
      "source": [
        "df['neighborhood'].value_counts()"
      ],
      "metadata": {
        "colab": {
          "base_uri": "https://localhost:8080/"
        },
        "id": "XE8FpgoT4reL",
        "outputId": "fbe169d7-056f-42a3-ab4e-8b2ed88e8004"
      },
      "execution_count": 201,
      "outputs": [
        {
          "output_type": "execute_result",
          "data": {
            "text/plain": [
              " ASA NORTE               679\n",
              " AGUAS CLARAS            661\n",
              " ASA SUL                 394\n",
              " SUDOESTE                341\n",
              " GUARA                   291\n",
              " TAGUATINGA              240\n",
              " NOROESTE                172\n",
              " LAGO NORTE              151\n",
              " SAMAMBAIA               106\n",
              " NUCLEO BANDEIRANTE       87\n",
              " PARK SUL                 79\n",
              " CEILANDIA                64\n",
              " RIACHO FUNDO             60\n",
              " SOBRADINHO               52\n",
              " CRUZEIRO                 49\n",
              " VICENTE PIRES            41\n",
              " JARDINS MANGUEIRAL       39\n",
              " OCTOGONAL                31\n",
              " GAMA                     30\n",
              " VALPARAISO DE GOIAS      30\n",
              " PLANALTINA               18\n",
              " SANTA MARIA              17\n",
              " RECANTO DAS EMAS         13\n",
              " SAO SEBASTIAO            12\n",
              " JARDIM BOTANICO           8\n",
              " SETOR INDUSTRIAL          6\n",
              " LAGO SUL                  4\n",
              " PARK WAY                  4\n",
              " PARANOA                   4\n",
              " VILA PLANALTO             3\n",
              " VARJAO                    3\n",
              " SIG                       2\n",
              " CANDANGOLANDIA            2\n",
              " VILA ESTRUTURAL           2\n",
              " BRAZLANDIA                1\n",
              " VILA DA TELEBRASILIA      1\n",
              " LUZIANIA                  1\n",
              " FORMOSA                   1\n",
              "Name: neighborhood, dtype: int64"
            ]
          },
          "metadata": {},
          "execution_count": 201
        }
      ]
    },
    {
      "cell_type": "code",
      "source": [
        "df.groupby('neighborhood')['rent_per_size'].median().sort_values(ascending=False)"
      ],
      "metadata": {
        "colab": {
          "base_uri": "https://localhost:8080/"
        },
        "id": "55rZBxvB55QE",
        "outputId": "a9f928b7-2a99-494d-a001-b35aae531217"
      },
      "execution_count": 202,
      "outputs": [
        {
          "output_type": "execute_result",
          "data": {
            "text/plain": [
              "neighborhood\n",
              " NOROESTE                57.338825\n",
              " PARK SUL                57.142857\n",
              " SETOR INDUSTRIAL        52.098214\n",
              " PARK WAY                43.496503\n",
              " SUDOESTE                41.666667\n",
              " LAGO SUL                40.454545\n",
              " ASA SUL                 38.888889\n",
              " OCTOGONAL               38.461538\n",
              " LAGO NORTE              38.333333\n",
              " ASA NORTE               37.837838\n",
              " AGUAS CLARAS            35.135135\n",
              " JARDINS MANGUEIRAL      34.000000\n",
              " CRUZEIRO                31.666667\n",
              " JARDIM BOTANICO         29.160998\n",
              " VILA PLANALTO           26.000000\n",
              " GUARA                   25.312500\n",
              " VARJAO                  23.300000\n",
              " SIG                     23.214286\n",
              " VILA DA TELEBRASILIA    22.857143\n",
              " SOBRADINHO              22.792208\n",
              " VICENTE PIRES           21.818182\n",
              " VILA ESTRUTURAL         21.666667\n",
              " SAMAMBAIA               21.490148\n",
              " TAGUATINGA              21.483516\n",
              " CANDANGOLANDIA          21.388889\n",
              " RECANTO DAS EMAS        20.000000\n",
              " RIACHO FUNDO            20.000000\n",
              " SAO SEBASTIAO           19.844075\n",
              " CEILANDIA               18.000000\n",
              " FORMOSA                 18.000000\n",
              " BRAZLANDIA              17.500000\n",
              " NUCLEO BANDEIRANTE      17.142857\n",
              " GAMA                    16.478261\n",
              " PLANALTINA              15.357143\n",
              " SANTA MARIA             15.000000\n",
              " LUZIANIA                14.772727\n",
              " PARANOA                 14.437500\n",
              " VALPARAISO DE GOIAS     14.245130\n",
              "Name: rent_per_size, dtype: float64"
            ]
          },
          "metadata": {},
          "execution_count": 202
        }
      ]
    },
    {
      "cell_type": "markdown",
      "source": [
        "These columns have few rows, and also similar rent per size values, to they will be grouped in a single category. \"VALPARAISO DE GOIAS\" will also be joined because of very similar rent per size value."
      ],
      "metadata": {
        "id": "bdIJdsfF91PW"
      }
    },
    {
      "cell_type": "code",
      "source": [
        " #PLANALTINA               18\n",
        " #SANTA MARIA              17\n",
        " #PARANOA                   4\n",
        " #BRAZLANDIA                1\n",
        " #LUZIANIA                  1\n",
        " #FORMOSA                   1\n",
        "df['neighborhood'] = df['neighborhood'].str.replace('PLANALTINA', 'TIER_1', regex=False)\n",
        "df['neighborhood'] = df['neighborhood'].str.replace('SANTA MARIA', 'TIER_1', regex=False)\n",
        "df['neighborhood'] = df['neighborhood'].str.replace('PARANOA', 'TIER_1', regex=False)\n",
        "df['neighborhood'] = df['neighborhood'].str.replace('BRAZLANDIA', 'TIER_1', regex=False)\n",
        "df['neighborhood'] = df['neighborhood'].str.replace('LUZIANIA', 'TIER_1', regex=False)\n",
        "df['neighborhood'] = df['neighborhood'].str.replace('FORMOSA', 'TIER_1', regex=False)\n",
        "df['neighborhood'] = df['neighborhood'].str.replace('VALPARAISO DE GOIAS', 'TIER_1', regex=False)"
      ],
      "metadata": {
        "id": "xVgcpCwD5KdX"
      },
      "execution_count": 217,
      "outputs": []
    },
    {
      "cell_type": "code",
      "source": [
        "df['neighborhood'].value_counts()"
      ],
      "metadata": {
        "colab": {
          "base_uri": "https://localhost:8080/"
        },
        "id": "vLL8qKUv9XQg",
        "outputId": "17aa3fb0-f341-4f49-86a5-11dd95b24157"
      },
      "execution_count": 218,
      "outputs": [
        {
          "output_type": "execute_result",
          "data": {
            "text/plain": [
              " ASA NORTE             679\n",
              " AGUAS CLARAS          661\n",
              " ASA SUL               394\n",
              " SUDOESTE              341\n",
              " GUARA                 291\n",
              " TAGUATINGA            240\n",
              " NOROESTE              172\n",
              " LAGO NORTE            151\n",
              " SAMAMBAIA             106\n",
              " NUCLEO BANDEIRANTE     87\n",
              " PARK SUL               79\n",
              " TIER_1                 72\n",
              " CEILANDIA              64\n",
              " RIACHO FUNDO           60\n",
              " SOBRADINHO             52\n",
              " CRUZEIRO               49\n",
              " VICENTE PIRES          41\n",
              " JARDINS MANGUEIRAL     39\n",
              " TIER_2                 35\n",
              " OCTOGONAL              31\n",
              " GAMA                   30\n",
              " JARDIM BOTANICO         8\n",
              " SETOR INDUSTRIAL        6\n",
              " LAGO SUL                4\n",
              " PARK WAY                4\n",
              " VILA PLANALTO           3\n",
              "Name: neighborhood, dtype: int64"
            ]
          },
          "metadata": {},
          "execution_count": 218
        }
      ]
    },
    {
      "cell_type": "code",
      "source": [
        "df.groupby('neighborhood')['rent_per_size'].median().sort_values(ascending=False)"
      ],
      "metadata": {
        "colab": {
          "base_uri": "https://localhost:8080/"
        },
        "id": "cbUn20Mz9Yge",
        "outputId": "022209df-cdef-4ce0-88c8-7f1128794797"
      },
      "execution_count": 219,
      "outputs": [
        {
          "output_type": "execute_result",
          "data": {
            "text/plain": [
              "neighborhood\n",
              " NOROESTE              57.338825\n",
              " PARK SUL              57.142857\n",
              " SETOR INDUSTRIAL      52.098214\n",
              " PARK WAY              43.496503\n",
              " SUDOESTE              41.666667\n",
              " LAGO SUL              40.454545\n",
              " ASA SUL               38.888889\n",
              " OCTOGONAL             38.461538\n",
              " LAGO NORTE            38.333333\n",
              " ASA NORTE             37.837838\n",
              " AGUAS CLARAS          35.135135\n",
              " JARDINS MANGUEIRAL    34.000000\n",
              " CRUZEIRO              31.666667\n",
              " JARDIM BOTANICO       29.160998\n",
              " VILA PLANALTO         26.000000\n",
              " GUARA                 25.312500\n",
              " SOBRADINHO            22.792208\n",
              " VICENTE PIRES         21.818182\n",
              " SAMAMBAIA             21.490148\n",
              " TAGUATINGA            21.483516\n",
              " TIER_2                21.000000\n",
              " RIACHO FUNDO          20.000000\n",
              " CEILANDIA             18.000000\n",
              " NUCLEO BANDEIRANTE    17.142857\n",
              " GAMA                  16.478261\n",
              " TIER_1                14.715909\n",
              "Name: rent_per_size, dtype: float64"
            ]
          },
          "metadata": {},
          "execution_count": 219
        }
      ]
    },
    {
      "cell_type": "markdown",
      "source": [
        "Again, grouping similar neighborhoods that have few rows. \"RIACHO FUNDO\" Also added here."
      ],
      "metadata": {
        "id": "j5WM-A-jE9D8"
      }
    },
    {
      "cell_type": "code",
      "source": [
        " #RECANTO DAS EMAS         13\n",
        " #SAO SEBASTIAO            12\n",
        " #VARJAO                    3\n",
        " #SIG                       2\n",
        " #CANDANGOLANDIA            2\n",
        " #VILA ESTRUTURAL           2\n",
        " #VILA DA TELEBRASILIA      1\n",
        " df['neighborhood'] = df['neighborhood'].str.replace('RECANTO DAS EMAS', 'TIER_2', regex=False)\n",
        " df['neighborhood'] = df['neighborhood'].str.replace('SAO SEBASTIAO', 'TIER_2', regex=False)\n",
        " df['neighborhood'] = df['neighborhood'].str.replace('VARJAO', 'TIER_2', regex=False)\n",
        " df['neighborhood'] = df['neighborhood'].str.replace('SIG', 'TIER_2', regex=False)\n",
        " df['neighborhood'] = df['neighborhood'].str.replace('CANDANGOLANDIA', 'TIER_2', regex=False)\n",
        " df['neighborhood'] = df['neighborhood'].str.replace('VILA ESTRUTURAL', 'TIER_2', regex=False)\n",
        " df['neighborhood'] = df['neighborhood'].str.replace('VILA DA TELEBRASILIA', 'TIER_2', regex=False)\n",
        " df['neighborhood'] = df['neighborhood'].str.replace('RIACHO FUNDO', 'TIER_2', regex=False)"
      ],
      "metadata": {
        "id": "WOFnC2ZJA0Xg"
      },
      "execution_count": 224,
      "outputs": []
    },
    {
      "cell_type": "code",
      "source": [
        "df['neighborhood'].value_counts()"
      ],
      "metadata": {
        "colab": {
          "base_uri": "https://localhost:8080/"
        },
        "id": "L1HXufVDFYXj",
        "outputId": "39d43f44-f913-4aac-fa1e-23ca758f7ff4"
      },
      "execution_count": 225,
      "outputs": [
        {
          "output_type": "execute_result",
          "data": {
            "text/plain": [
              " ASA NORTE             679\n",
              " AGUAS CLARAS          661\n",
              " ASA SUL               394\n",
              " SUDOESTE              341\n",
              " GUARA                 291\n",
              " TAGUATINGA            240\n",
              " NOROESTE              172\n",
              " LAGO NORTE            151\n",
              " SAMAMBAIA             106\n",
              " TIER_2                 95\n",
              " NUCLEO BANDEIRANTE     87\n",
              " PARK SUL               79\n",
              " TIER_1                 72\n",
              " CEILANDIA              64\n",
              " SOBRADINHO             52\n",
              " CRUZEIRO               49\n",
              " VICENTE PIRES          41\n",
              " JARDINS MANGUEIRAL     39\n",
              " OCTOGONAL              31\n",
              " GAMA                   30\n",
              " JARDIM BOTANICO         8\n",
              " SETOR INDUSTRIAL        6\n",
              " LAGO SUL                4\n",
              " PARK WAY                4\n",
              " VILA PLANALTO           3\n",
              "Name: neighborhood, dtype: int64"
            ]
          },
          "metadata": {},
          "execution_count": 225
        }
      ]
    },
    {
      "cell_type": "code",
      "source": [
        "df.groupby('neighborhood')['rent_per_size'].median().sort_values(ascending=False)"
      ],
      "metadata": {
        "colab": {
          "base_uri": "https://localhost:8080/"
        },
        "id": "5G-L3nbCFZ_4",
        "outputId": "106ff9f6-9c09-467f-ae7f-1a0b11fcff6b"
      },
      "execution_count": 226,
      "outputs": [
        {
          "output_type": "execute_result",
          "data": {
            "text/plain": [
              "neighborhood\n",
              " NOROESTE              57.338825\n",
              " PARK SUL              57.142857\n",
              " SETOR INDUSTRIAL      52.098214\n",
              " PARK WAY              43.496503\n",
              " SUDOESTE              41.666667\n",
              " LAGO SUL              40.454545\n",
              " ASA SUL               38.888889\n",
              " OCTOGONAL             38.461538\n",
              " LAGO NORTE            38.333333\n",
              " ASA NORTE             37.837838\n",
              " AGUAS CLARAS          35.135135\n",
              " JARDINS MANGUEIRAL    34.000000\n",
              " CRUZEIRO              31.666667\n",
              " JARDIM BOTANICO       29.160998\n",
              " VILA PLANALTO         26.000000\n",
              " GUARA                 25.312500\n",
              " SOBRADINHO            22.792208\n",
              " VICENTE PIRES         21.818182\n",
              " SAMAMBAIA             21.490148\n",
              " TAGUATINGA            21.483516\n",
              " TIER_2                20.000000\n",
              " CEILANDIA             18.000000\n",
              " NUCLEO BANDEIRANTE    17.142857\n",
              " GAMA                  16.478261\n",
              " TIER_1                14.715909\n",
              "Name: rent_per_size, dtype: float64"
            ]
          },
          "metadata": {},
          "execution_count": 226
        }
      ]
    },
    {
      "cell_type": "code",
      "source": [
        " df['neighborhood'] = df['neighborhood'].str.replace('CEILANDIA', 'TIER_3', regex=False)\n",
        " df['neighborhood'] = df['neighborhood'].str.replace('NUCLEO BANDEIRANTE', 'TIER_3', regex=False)\n",
        " df['neighborhood'] = df['neighborhood'].str.replace('GAMA', 'TIER_3', regex=False)\n",
        " \n",
        " #VILA PLANALTO             3\n",
        " df['neighborhood'] = df['neighborhood'].str.replace('VILA PLANALTO', 'TIER_4', regex=False)\n",
        " df['neighborhood'] = df['neighborhood'].str.replace('GUARA', 'TIER_4', regex=False)\n",
        "\n",
        " #JARDIM BOTANICO           8\n",
        " df['neighborhood'] = df['neighborhood'].str.replace('JARDIM BOTANICO', 'TIER_5', regex=False)\n",
        " df['neighborhood'] = df['neighborhood'].str.replace('CRUZEIRO', 'TIER_5', regex=False)\n",
        "\n",
        " #SETOR INDUSTRIAL          6\n",
        " #LAGO SUL                  4\n",
        " #PARK WAY                  4\n",
        " df['neighborhood'] = df['neighborhood'].str.replace('SETOR INDUSTRIAL', 'TIER_6', regex=False)\n",
        " df['neighborhood'] = df['neighborhood'].str.replace('LAGO SUL', 'TIER_6', regex=False)\n",
        " df['neighborhood'] = df['neighborhood'].str.replace('PARK WAY', 'TIER_6', regex=False)"
      ],
      "metadata": {
        "id": "kDbbBRhjFWmD"
      },
      "execution_count": 229,
      "outputs": []
    },
    {
      "cell_type": "code",
      "source": [
        "df['neighborhood'].value_counts()"
      ],
      "metadata": {
        "colab": {
          "base_uri": "https://localhost:8080/"
        },
        "id": "d8yQSNpAMh80",
        "outputId": "2bfb3ece-dcd2-4113-d5d2-4ef68e780e9d"
      },
      "execution_count": 230,
      "outputs": [
        {
          "output_type": "execute_result",
          "data": {
            "text/plain": [
              " ASA NORTE             679\n",
              " AGUAS CLARAS          661\n",
              " ASA SUL               394\n",
              " SUDOESTE              341\n",
              " TIER_4                294\n",
              " TAGUATINGA            240\n",
              " TIER_3                181\n",
              " NOROESTE              172\n",
              " LAGO NORTE            151\n",
              " SAMAMBAIA             106\n",
              " TIER_2                 95\n",
              " PARK SUL               79\n",
              " TIER_1                 72\n",
              " TIER_5                 57\n",
              " SOBRADINHO             52\n",
              " VICENTE PIRES          41\n",
              " JARDINS MANGUEIRAL     39\n",
              " OCTOGONAL              31\n",
              " TIER_6                 14\n",
              "Name: neighborhood, dtype: int64"
            ]
          },
          "metadata": {},
          "execution_count": 230
        }
      ]
    },
    {
      "cell_type": "code",
      "source": [
        "df.groupby('neighborhood')['rent_per_size'].median().sort_values(ascending=False)"
      ],
      "metadata": {
        "colab": {
          "base_uri": "https://localhost:8080/"
        },
        "id": "QkL3SJH5PEg2",
        "outputId": "de66a23e-6685-4dc0-f9ad-37981835025f"
      },
      "execution_count": 231,
      "outputs": [
        {
          "output_type": "execute_result",
          "data": {
            "text/plain": [
              "neighborhood\n",
              " NOROESTE              57.338825\n",
              " PARK SUL              57.142857\n",
              " SUDOESTE              41.666667\n",
              " TIER_6                41.223776\n",
              " ASA SUL               38.888889\n",
              " OCTOGONAL             38.461538\n",
              " LAGO NORTE            38.333333\n",
              " ASA NORTE             37.837838\n",
              " AGUAS CLARAS          35.135135\n",
              " JARDINS MANGUEIRAL    34.000000\n",
              " TIER_5                31.147541\n",
              " TIER_4                25.404172\n",
              " SOBRADINHO            22.792208\n",
              " VICENTE PIRES         21.818182\n",
              " SAMAMBAIA             21.490148\n",
              " TAGUATINGA            21.483516\n",
              " TIER_2                20.000000\n",
              " TIER_3                17.307692\n",
              " TIER_1                14.715909\n",
              "Name: rent_per_size, dtype: float64"
            ]
          },
          "metadata": {},
          "execution_count": 231
        }
      ]
    },
    {
      "cell_type": "code",
      "source": [
        "df['neighborhood'].hist()"
      ],
      "metadata": {
        "colab": {
          "base_uri": "https://localhost:8080/",
          "height": 284
        },
        "id": "Bs7GTir0PhMH",
        "outputId": "6499ee47-8c96-4f55-a529-f0f204e6ddbe"
      },
      "execution_count": 232,
      "outputs": [
        {
          "output_type": "execute_result",
          "data": {
            "text/plain": [
              "<matplotlib.axes._subplots.AxesSubplot at 0x7f50309b39d0>"
            ]
          },
          "metadata": {},
          "execution_count": 232
        },
        {
          "output_type": "display_data",
          "data": {
            "text/plain": [
              "<Figure size 432x288 with 1 Axes>"
            ],
            "image/png": "[encoded data removed]"
          },
          "metadata": {
            "needs_background": "light"
          }
        }
      ]
    },
    {
      "cell_type": "code",
      "source": [
        "df['neighborhood'].value_counts(normalize=True)"
      ],
      "metadata": {
        "colab": {
          "base_uri": "https://localhost:8080/"
        },
        "id": "rhYKRV94P0bK",
        "outputId": "b46744f5-ff67-4fc5-9593-9c9a09673c15"
      },
      "execution_count": 233,
      "outputs": [
        {
          "output_type": "execute_result",
          "data": {
            "text/plain": [
              " ASA NORTE             0.183563\n",
              " AGUAS CLARAS          0.178697\n",
              " ASA SUL               0.106515\n",
              " SUDOESTE              0.092187\n",
              " TIER_4                0.079481\n",
              " TAGUATINGA            0.064882\n",
              " TIER_3                0.048932\n",
              " NOROESTE              0.046499\n",
              " LAGO NORTE            0.040822\n",
              " SAMAMBAIA             0.028656\n",
              " TIER_2                0.025683\n",
              " PARK SUL              0.021357\n",
              " TIER_1                0.019465\n",
              " TIER_5                0.015410\n",
              " SOBRADINHO            0.014058\n",
              " VICENTE PIRES         0.011084\n",
              " JARDINS MANGUEIRAL    0.010543\n",
              " OCTOGONAL             0.008381\n",
              " TIER_6                0.003785\n",
              "Name: neighborhood, dtype: float64"
            ]
          },
          "metadata": {},
          "execution_count": 233
        }
      ]
    },
    {
      "cell_type": "markdown",
      "source": [
        "Creating stratified train/test split, using the neighboorhood column. This guarantees that we maitain the original data set neighborhood distribution, especially because we have some neighborhoods with few values."
      ],
      "metadata": {
        "id": "AoOG1nvOQGoA"
      }
    },
    {
      "cell_type": "code",
      "source": [
        "df_strat_train, df_strat_test = train_test_split(df,\n",
        "                                                 random_state=27,\n",
        "                                                 test_size=0.2,\n",
        "                                                 stratify=df['neighborhood'])"
      ],
      "metadata": {
        "id": "Y_mnTeyv4isQ"
      },
      "execution_count": 234,
      "outputs": []
    },
    {
      "cell_type": "code",
      "source": [
        "df_strat_train['neighborhood'].value_counts(normalize=True)"
      ],
      "metadata": {
        "colab": {
          "base_uri": "https://localhost:8080/"
        },
        "id": "bptOxxS-P6It",
        "outputId": "ab4dc5d4-df4e-46c9-a899-20939d899d66"
      },
      "execution_count": 235,
      "outputs": [
        {
          "output_type": "execute_result",
          "data": {
            "text/plain": [
              " ASA NORTE             0.183508\n",
              " AGUAS CLARAS          0.178777\n",
              " ASA SUL               0.106455\n",
              " SUDOESTE              0.092261\n",
              " TIER_4                0.079419\n",
              " TAGUATINGA            0.064887\n",
              " TIER_3                0.049003\n",
              " NOROESTE              0.046299\n",
              " LAGO NORTE            0.040892\n",
              " SAMAMBAIA             0.028726\n",
              " TIER_2                0.025684\n",
              " PARK SUL              0.021291\n",
              " TIER_1                0.019263\n",
              " TIER_5                0.015546\n",
              " SOBRADINHO            0.014194\n",
              " VICENTE PIRES         0.011152\n",
              " JARDINS MANGUEIRAL    0.010477\n",
              " OCTOGONAL             0.008449\n",
              " TIER_6                0.003717\n",
              "Name: neighborhood, dtype: float64"
            ]
          },
          "metadata": {},
          "execution_count": 235
        }
      ]
    },
    {
      "cell_type": "code",
      "source": [
        "df_strat_test['neighborhood'].value_counts(normalize=True)"
      ],
      "metadata": {
        "colab": {
          "base_uri": "https://localhost:8080/"
        },
        "id": "osDT7NUZP8Zn",
        "outputId": "0eea8dd2-d478-4818-c23f-e80d07d5bf5e"
      },
      "execution_count": 236,
      "outputs": [
        {
          "output_type": "execute_result",
          "data": {
            "text/plain": [
              " ASA NORTE             0.183784\n",
              " AGUAS CLARAS          0.178378\n",
              " ASA SUL               0.106757\n",
              " SUDOESTE              0.091892\n",
              " TIER_4                0.079730\n",
              " TAGUATINGA            0.064865\n",
              " TIER_3                0.048649\n",
              " NOROESTE              0.047297\n",
              " LAGO NORTE            0.040541\n",
              " SAMAMBAIA             0.028378\n",
              " TIER_2                0.025676\n",
              " PARK SUL              0.021622\n",
              " TIER_1                0.020270\n",
              " TIER_5                0.014865\n",
              " SOBRADINHO            0.013514\n",
              " JARDINS MANGUEIRAL    0.010811\n",
              " VICENTE PIRES         0.010811\n",
              " OCTOGONAL             0.008108\n",
              " TIER_6                0.004054\n",
              "Name: neighborhood, dtype: float64"
            ]
          },
          "metadata": {},
          "execution_count": 236
        }
      ]
    },
    {
      "cell_type": "code",
      "source": [
        "df_strat_train.shape"
      ],
      "metadata": {
        "colab": {
          "base_uri": "https://localhost:8080/"
        },
        "id": "UTICQzWnP_6g",
        "outputId": "8dec3865-f0fa-48c0-ff36-332eb05e0d58"
      },
      "execution_count": 237,
      "outputs": [
        {
          "output_type": "execute_result",
          "data": {
            "text/plain": [
              "(2959, 8)"
            ]
          },
          "metadata": {},
          "execution_count": 237
        }
      ]
    },
    {
      "cell_type": "code",
      "source": [
        "df_strat_test.shape"
      ],
      "metadata": {
        "colab": {
          "base_uri": "https://localhost:8080/"
        },
        "id": "W1KR_ECWQBAo",
        "outputId": "aa3fc004-6f20-403a-c3f6-b73fc8fd30ae"
      },
      "execution_count": 238,
      "outputs": [
        {
          "output_type": "execute_result",
          "data": {
            "text/plain": [
              "(740, 8)"
            ]
          },
          "metadata": {},
          "execution_count": 238
        }
      ]
    },
    {
      "cell_type": "markdown",
      "source": [
        "Correlation heatmap."
      ],
      "metadata": {
        "id": "RF-Ca4D7Qhaj"
      }
    },
    {
      "cell_type": "code",
      "source": [
        "sns.heatmap(df_strat_train.corr(), annot=True)"
      ],
      "metadata": {
        "colab": {
          "base_uri": "https://localhost:8080/",
          "height": 343
        },
        "id": "RwIE-u4aQi6O",
        "outputId": "0fc965fa-1632-45df-912f-02091748e66d"
      },
      "execution_count": 239,
      "outputs": [
        {
          "output_type": "execute_result",
          "data": {
            "text/plain": [
              "<matplotlib.axes._subplots.AxesSubplot at 0x7f5030abfdd0>"
            ]
          },
          "metadata": {},
          "execution_count": 239
        },
        {
          "output_type": "display_data",
          "data": {
            "text/plain": [
              "<Figure size 432x288 with 2 Axes>"
            ],
            "image/png": "[encoded data removed]"
          },
          "metadata": {
            "needs_background": "light"
          }
        }
      ]
    },
    {
      "cell_type": "markdown",
      "source": [
        "# Preparing The Data"
      ],
      "metadata": {
        "id": "9DiZuPCZUUOU"
      }
    },
    {
      "cell_type": "markdown",
      "source": [
        "Creating new combined columns, and checking correlation with it."
      ],
      "metadata": {
        "id": "Ou8Poc92RaVC"
      }
    },
    {
      "cell_type": "code",
      "source": [
        "df_strat_train['bedrooms_per_size'] = df_strat_train['bedrooms'] / df_strat_train['size_m2']\n",
        "df_strat_train['suite_per_size'] = df_strat_train['suite'] / df_strat_train['size_m2']\n",
        "df_strat_train['parking_per_size'] = df_strat_train['parking'] / df_strat_train['size_m2']\n",
        "\n",
        "df_strat_test['bedrooms_per_size'] = df_strat_test['bedrooms'] / df_strat_test['size_m2']\n",
        "df_strat_test['suite_per_size'] = df_strat_test['suite'] / df_strat_test['size_m2']\n",
        "df_strat_test['parking_per_size'] = df_strat_test['parking'] / df_strat_test['size_m2']"
      ],
      "metadata": {
        "id": "tSiEY7QfQzay"
      },
      "execution_count": 240,
      "outputs": []
    },
    {
      "cell_type": "code",
      "source": [
        "sns.heatmap(df_strat_train.corr(), annot=True)"
      ],
      "metadata": {
        "colab": {
          "base_uri": "https://localhost:8080/",
          "height": 373
        },
        "id": "HFOkp2jbRDqc",
        "outputId": "be47b043-ca97-4b5e-e7d0-f025b419176f"
      },
      "execution_count": 241,
      "outputs": [
        {
          "output_type": "execute_result",
          "data": {
            "text/plain": [
              "<matplotlib.axes._subplots.AxesSubplot at 0x7f5030959bd0>"
            ]
          },
          "metadata": {},
          "execution_count": 241
        },
        {
          "output_type": "display_data",
          "data": {
            "text/plain": [
              "<Figure size 432x288 with 2 Axes>"
            ],
            "image/png": "[encoded data removed]"
          },
          "metadata": {
            "needs_background": "light"
          }
        }
      ]
    },
    {
      "cell_type": "code",
      "source": [
        "df_strat_train.corr()['rent'].sort_values(ascending=False)"
      ],
      "metadata": {
        "colab": {
          "base_uri": "https://localhost:8080/"
        },
        "id": "NMmWwbaLT1ys",
        "outputId": "cd79ecb0-76e4-4ef9-aad4-3d1bd3a77112"
      },
      "execution_count": 242,
      "outputs": [
        {
          "output_type": "execute_result",
          "data": {
            "text/plain": [
              "rent                 1.000000\n",
              "size_m2              0.775137\n",
              "parking              0.587558\n",
              "rent_per_size        0.583269\n",
              "bedrooms             0.567055\n",
              "suite                0.545104\n",
              "parking_per_size     0.197988\n",
              "suite_per_size      -0.022313\n",
              "bedrooms_per_size   -0.376771\n",
              "Name: rent, dtype: float64"
            ]
          },
          "metadata": {},
          "execution_count": 242
        }
      ]
    },
    {
      "cell_type": "markdown",
      "source": [
        "Spliting the train and test sets into a X and Y sets. Y refers to the value we are going to predict, rent value, and X refers to the others columns besides it."
      ],
      "metadata": {
        "id": "zclI6ICwUFt5"
      }
    },
    {
      "cell_type": "code",
      "source": [
        "x_train = df_strat_train.drop('rent', axis=1)\n",
        "y_train = df_strat_train['rent']\n",
        "\n",
        "x_test = df_strat_test.drop('rent', axis=1)\n",
        "y_test = df_strat_test['rent']"
      ],
      "metadata": {
        "id": "9gFc1sXhUFQK"
      },
      "execution_count": 243,
      "outputs": []
    },
    {
      "cell_type": "code",
      "source": [
        "x_train.shape"
      ],
      "metadata": {
        "colab": {
          "base_uri": "https://localhost:8080/"
        },
        "id": "686XHwv4UZq_",
        "outputId": "2053efa8-0ee3-4e85-ed6c-4e9e49f14812"
      },
      "execution_count": 244,
      "outputs": [
        {
          "output_type": "execute_result",
          "data": {
            "text/plain": [
              "(2959, 10)"
            ]
          },
          "metadata": {},
          "execution_count": 244
        }
      ]
    },
    {
      "cell_type": "code",
      "source": [
        "x_test.shape"
      ],
      "metadata": {
        "colab": {
          "base_uri": "https://localhost:8080/"
        },
        "id": "MyePQY2UUcVc",
        "outputId": "225e0172-f023-4ba3-ff51-2b0fe6fc825e"
      },
      "execution_count": 245,
      "outputs": [
        {
          "output_type": "execute_result",
          "data": {
            "text/plain": [
              "(740, 10)"
            ]
          },
          "metadata": {},
          "execution_count": 245
        }
      ]
    },
    {
      "cell_type": "code",
      "source": [
        "x_train.info()"
      ],
      "metadata": {
        "colab": {
          "base_uri": "https://localhost:8080/"
        },
        "id": "Z33tlZ27Ulzi",
        "outputId": "0ec1384c-b597-41d9-8a31-83f88928503f"
      },
      "execution_count": 246,
      "outputs": [
        {
          "output_type": "stream",
          "name": "stdout",
          "text": [
            "<class 'pandas.core.frame.DataFrame'>\n",
            "Int64Index: 2959 entries, 39 to 2401\n",
            "Data columns (total 10 columns):\n",
            " #   Column             Non-Null Count  Dtype  \n",
            "---  ------             --------------  -----  \n",
            " 0   size_m2            2959 non-null   int64  \n",
            " 1   property_type      2959 non-null   object \n",
            " 2   bedrooms           2959 non-null   float64\n",
            " 3   suite              2959 non-null   float64\n",
            " 4   parking            2959 non-null   float64\n",
            " 5   neighborhood       2959 non-null   object \n",
            " 6   rent_per_size      2959 non-null   float64\n",
            " 7   bedrooms_per_size  2959 non-null   float64\n",
            " 8   suite_per_size     2959 non-null   float64\n",
            " 9   parking_per_size   2959 non-null   float64\n",
            "dtypes: float64(7), int64(1), object(2)\n",
            "memory usage: 254.3+ KB\n"
          ]
        }
      ]
    },
    {
      "cell_type": "code",
      "source": [
        "x_test.info()"
      ],
      "metadata": {
        "colab": {
          "base_uri": "https://localhost:8080/"
        },
        "id": "WsW0YWBkUnex",
        "outputId": "25dbc65a-1e94-437b-8ea9-a1a949142dee"
      },
      "execution_count": 247,
      "outputs": [
        {
          "output_type": "stream",
          "name": "stdout",
          "text": [
            "<class 'pandas.core.frame.DataFrame'>\n",
            "Int64Index: 740 entries, 2339 to 2656\n",
            "Data columns (total 10 columns):\n",
            " #   Column             Non-Null Count  Dtype  \n",
            "---  ------             --------------  -----  \n",
            " 0   size_m2            740 non-null    int64  \n",
            " 1   property_type      740 non-null    object \n",
            " 2   bedrooms           740 non-null    float64\n",
            " 3   suite              740 non-null    float64\n",
            " 4   parking            740 non-null    float64\n",
            " 5   neighborhood       740 non-null    object \n",
            " 6   rent_per_size      740 non-null    float64\n",
            " 7   bedrooms_per_size  740 non-null    float64\n",
            " 8   suite_per_size     740 non-null    float64\n",
            " 9   parking_per_size   740 non-null    float64\n",
            "dtypes: float64(7), int64(1), object(2)\n",
            "memory usage: 63.6+ KB\n"
          ]
        }
      ]
    },
    {
      "cell_type": "markdown",
      "source": [
        "Transforming categorical columns. In this case, the neighborhood and property_type columns."
      ],
      "metadata": {
        "id": "OcKU_YLXU2qf"
      }
    },
    {
      "cell_type": "code",
      "source": [
        "x_train.neighborhood.value_counts()"
      ],
      "metadata": {
        "colab": {
          "base_uri": "https://localhost:8080/"
        },
        "id": "uKcSt2pQUrpR",
        "outputId": "08d7e24e-b832-4fa7-a099-59d032438833"
      },
      "execution_count": 248,
      "outputs": [
        {
          "output_type": "execute_result",
          "data": {
            "text/plain": [
              " ASA NORTE             543\n",
              " AGUAS CLARAS          529\n",
              " ASA SUL               315\n",
              " SUDOESTE              273\n",
              " TIER_4                235\n",
              " TAGUATINGA            192\n",
              " TIER_3                145\n",
              " NOROESTE              137\n",
              " LAGO NORTE            121\n",
              " SAMAMBAIA              85\n",
              " TIER_2                 76\n",
              " PARK SUL               63\n",
              " TIER_1                 57\n",
              " TIER_5                 46\n",
              " SOBRADINHO             42\n",
              " VICENTE PIRES          33\n",
              " JARDINS MANGUEIRAL     31\n",
              " OCTOGONAL              25\n",
              " TIER_6                 11\n",
              "Name: neighborhood, dtype: int64"
            ]
          },
          "metadata": {},
          "execution_count": 248
        }
      ]
    },
    {
      "cell_type": "code",
      "source": [
        "x_train = pd.get_dummies(x_train)\n",
        "\n",
        "x_test = pd.get_dummies(x_test)"
      ],
      "metadata": {
        "id": "H5bdjN69Uvwt"
      },
      "execution_count": 249,
      "outputs": []
    },
    {
      "cell_type": "markdown",
      "source": [
        "Scalling the data. Robust scaler will be used here, as we have outliers. Standard scaler would not deal well with these outliers."
      ],
      "metadata": {
        "id": "LEbJzjsbVI5S"
      }
    },
    {
      "cell_type": "code",
      "source": [
        "x_train.describe()"
      ],
      "metadata": {
        "colab": {
          "base_uri": "https://localhost:8080/",
          "height": 411
        },
        "id": "NW6nqnJHVEuO",
        "outputId": "2f8a6918-f41b-4960-bfd5-d50815d0aaa1"
      },
      "execution_count": 250,
      "outputs": [
        {
          "output_type": "execute_result",
          "data": {
            "text/plain": [
              "           size_m2     bedrooms        suite      parking  rent_per_size  \\\n",
              "count  2959.000000  2959.000000  2959.000000  2959.000000    2959.000000   \n",
              "mean     65.272051     1.838121     0.770531     0.487327      36.971802   \n",
              "std      46.898636     0.907757     0.669834     0.766364      20.502542   \n",
              "min      11.000000     0.000000     0.000000     0.000000       6.050955   \n",
              "25%      34.000000     1.000000     0.000000     0.000000      25.000000   \n",
              "50%      52.000000     2.000000     1.000000     0.000000      34.210526   \n",
              "75%      78.000000     2.000000     1.000000     1.000000      44.000000   \n",
              "max     900.000000     5.000000     4.000000     5.000000     585.950413   \n",
              "\n",
              "       bedrooms_per_size  suite_per_size  parking_per_size  \\\n",
              "count        2959.000000     2959.000000       2959.000000   \n",
              "mean            0.031081        0.013542          0.006506   \n",
              "std             0.008536        0.012744          0.010355   \n",
              "min             0.000000        0.000000          0.000000   \n",
              "25%             0.025000        0.000000          0.000000   \n",
              "50%             0.031250        0.012500          0.000000   \n",
              "75%             0.036364        0.021277          0.012195   \n",
              "max             0.090909        0.090909          0.068966   \n",
              "\n",
              "       property_type_Apartamento   property_type_Kitnet   ...  \\\n",
              "count                 2959.000000            2959.000000  ...   \n",
              "mean                     0.818520               0.181480  ...   \n",
              "std                      0.385481               0.385481  ...   \n",
              "min                      0.000000               0.000000  ...   \n",
              "25%                      1.000000               0.000000  ...   \n",
              "50%                      1.000000               0.000000  ...   \n",
              "75%                      1.000000               0.000000  ...   \n",
              "max                      1.000000               1.000000  ...   \n",
              "\n",
              "       neighborhood_ SOBRADINHO  neighborhood_ SUDOESTE  \\\n",
              "count               2959.000000             2959.000000   \n",
              "mean                   0.014194                0.092261   \n",
              "std                    0.118310                0.289443   \n",
              "min                    0.000000                0.000000   \n",
              "25%                    0.000000                0.000000   \n",
              "50%                    0.000000                0.000000   \n",
              "75%                    0.000000                0.000000   \n",
              "max                    1.000000                1.000000   \n",
              "\n",
              "       neighborhood_ TAGUATINGA  neighborhood_ TIER_1  neighborhood_ TIER_2  \\\n",
              "count               2959.000000           2959.000000           2959.000000   \n",
              "mean                   0.064887              0.019263              0.025684   \n",
              "std                    0.246368              0.137472              0.158219   \n",
              "min                    0.000000              0.000000              0.000000   \n",
              "25%                    0.000000              0.000000              0.000000   \n",
              "50%                    0.000000              0.000000              0.000000   \n",
              "75%                    0.000000              0.000000              0.000000   \n",
              "max                    1.000000              1.000000              1.000000   \n",
              "\n",
              "       neighborhood_ TIER_3  neighborhood_ TIER_4  neighborhood_ TIER_5  \\\n",
              "count           2959.000000           2959.000000           2959.000000   \n",
              "mean               0.049003              0.079419              0.015546   \n",
              "std                0.215911              0.270437              0.123731   \n",
              "min                0.000000              0.000000              0.000000   \n",
              "25%                0.000000              0.000000              0.000000   \n",
              "50%                0.000000              0.000000              0.000000   \n",
              "75%                0.000000              0.000000              0.000000   \n",
              "max                1.000000              1.000000              1.000000   \n",
              "\n",
              "       neighborhood_ TIER_6  neighborhood_ VICENTE PIRES  \n",
              "count           2959.000000                  2959.000000  \n",
              "mean               0.003717                     0.011152  \n",
              "std                0.060868                     0.105032  \n",
              "min                0.000000                     0.000000  \n",
              "25%                0.000000                     0.000000  \n",
              "50%                0.000000                     0.000000  \n",
              "75%                0.000000                     0.000000  \n",
              "max                1.000000                     1.000000  \n",
              "\n",
              "[8 rows x 29 columns]"
            ],
            "text/html": [
              "\n",
              "  <div id=\"df-9738ac3e-6eb4-464b-919e-dc99278fa301\">\n",
              "    <div class=\"colab-df-container\">\n",
              "      <div>\n",
              "<style scoped>\n",
              "    .dataframe tbody tr th:only-of-type {\n",
              "        vertical-align: middle;\n",
              "    }\n",
              "\n",
              "    .dataframe tbody tr th {\n",
              "        vertical-align: top;\n",
              "    }\n",
              "\n",
              "    .dataframe thead th {\n",
              "        text-align: right;\n",
              "    }\n",
              "</style>\n",
              "<table border=\"1\" class=\"dataframe\">\n",
              "  <thead>\n",
              "    <tr style=\"text-align: right;\">\n",
              "      <th></th>\n",
              "      <th>size_m2</th>\n",
              "      <th>bedrooms</th>\n",
              "      <th>suite</th>\n",
              "      <th>parking</th>\n",
              "      <th>rent_per_size</th>\n",
              "      <th>bedrooms_per_size</th>\n",
              "      <th>suite_per_size</th>\n",
              "      <th>parking_per_size</th>\n",
              "      <th>property_type_Apartamento</th>\n",
              "      <th>property_type_Kitnet</th>\n",
              "      <th>...</th>\n",
              "      <th>neighborhood_ SOBRADINHO</th>\n",
              "      <th>neighborhood_ SUDOESTE</th>\n",
              "      <th>neighborhood_ TAGUATINGA</th>\n",
              "      <th>neighborhood_ TIER_1</th>\n",
              "      <th>neighborhood_ TIER_2</th>\n",
              "      <th>neighborhood_ TIER_3</th>\n",
              "      <th>neighborhood_ TIER_4</th>\n",
              "      <th>neighborhood_ TIER_5</th>\n",
              "      <th>neighborhood_ TIER_6</th>\n",
              "      <th>neighborhood_ VICENTE PIRES</th>\n",
              "    </tr>\n",
              "  </thead>\n",
              "  <tbody>\n",
              "    <tr>\n",
              "      <th>count</th>\n",
              "      <td>2959.000000</td>\n",
              "      <td>2959.000000</td>\n",
              "      <td>2959.000000</td>\n",
              "      <td>2959.000000</td>\n",
              "      <td>2959.000000</td>\n",
              "      <td>2959.000000</td>\n",
              "      <td>2959.000000</td>\n",
              "      <td>2959.000000</td>\n",
              "      <td>2959.000000</td>\n",
              "      <td>2959.000000</td>\n",
              "      <td>...</td>\n",
              "      <td>2959.000000</td>\n",
              "      <td>2959.000000</td>\n",
              "      <td>2959.000000</td>\n",
              "      <td>2959.000000</td>\n",
              "      <td>2959.000000</td>\n",
              "      <td>2959.000000</td>\n",
              "      <td>2959.000000</td>\n",
              "      <td>2959.000000</td>\n",
              "      <td>2959.000000</td>\n",
              "      <td>2959.000000</td>\n",
              "    </tr>\n",
              "    <tr>\n",
              "      <th>mean</th>\n",
              "      <td>65.272051</td>\n",
              "      <td>1.838121</td>\n",
              "      <td>0.770531</td>\n",
              "      <td>0.487327</td>\n",
              "      <td>36.971802</td>\n",
              "      <td>0.031081</td>\n",
              "      <td>0.013542</td>\n",
              "      <td>0.006506</td>\n",
              "      <td>0.818520</td>\n",
              "      <td>0.181480</td>\n",
              "      <td>...</td>\n",
              "      <td>0.014194</td>\n",
              "      <td>0.092261</td>\n",
              "      <td>0.064887</td>\n",
              "      <td>0.019263</td>\n",
              "      <td>0.025684</td>\n",
              "      <td>0.049003</td>\n",
              "      <td>0.079419</td>\n",
              "      <td>0.015546</td>\n",
              "      <td>0.003717</td>\n",
              "      <td>0.011152</td>\n",
              "    </tr>\n",
              "    <tr>\n",
              "      <th>std</th>\n",
              "      <td>46.898636</td>\n",
              "      <td>0.907757</td>\n",
              "      <td>0.669834</td>\n",
              "      <td>0.766364</td>\n",
              "      <td>20.502542</td>\n",
              "      <td>0.008536</td>\n",
              "      <td>0.012744</td>\n",
              "      <td>0.010355</td>\n",
              "      <td>0.385481</td>\n",
              "      <td>0.385481</td>\n",
              "      <td>...</td>\n",
              "      <td>0.118310</td>\n",
              "      <td>0.289443</td>\n",
              "      <td>0.246368</td>\n",
              "      <td>0.137472</td>\n",
              "      <td>0.158219</td>\n",
              "      <td>0.215911</td>\n",
              "      <td>0.270437</td>\n",
              "      <td>0.123731</td>\n",
              "      <td>0.060868</td>\n",
              "      <td>0.105032</td>\n",
              "    </tr>\n",
              "    <tr>\n",
              "      <th>min</th>\n",
              "      <td>11.000000</td>\n",
              "      <td>0.000000</td>\n",
              "      <td>0.000000</td>\n",
              "      <td>0.000000</td>\n",
              "      <td>6.050955</td>\n",
              "      <td>0.000000</td>\n",
              "      <td>0.000000</td>\n",
              "      <td>0.000000</td>\n",
              "      <td>0.000000</td>\n",
              "      <td>0.000000</td>\n",
              "      <td>...</td>\n",
              "      <td>0.000000</td>\n",
              "      <td>0.000000</td>\n",
              "      <td>0.000000</td>\n",
              "      <td>0.000000</td>\n",
              "      <td>0.000000</td>\n",
              "      <td>0.000000</td>\n",
              "      <td>0.000000</td>\n",
              "      <td>0.000000</td>\n",
              "      <td>0.000000</td>\n",
              "      <td>0.000000</td>\n",
              "    </tr>\n",
              "    <tr>\n",
              "      <th>25%</th>\n",
              "      <td>34.000000</td>\n",
              "      <td>1.000000</td>\n",
              "      <td>0.000000</td>\n",
              "      <td>0.000000</td>\n",
              "      <td>25.000000</td>\n",
              "      <td>0.025000</td>\n",
              "      <td>0.000000</td>\n",
              "      <td>0.000000</td>\n",
              "      <td>1.000000</td>\n",
              "      <td>0.000000</td>\n",
              "      <td>...</td>\n",
              "      <td>0.000000</td>\n",
              "      <td>0.000000</td>\n",
              "      <td>0.000000</td>\n",
              "      <td>0.000000</td>\n",
              "      <td>0.000000</td>\n",
              "      <td>0.000000</td>\n",
              "      <td>0.000000</td>\n",
              "      <td>0.000000</td>\n",
              "      <td>0.000000</td>\n",
              "      <td>0.000000</td>\n",
              "    </tr>\n",
              "    <tr>\n",
              "      <th>50%</th>\n",
              "      <td>52.000000</td>\n",
              "      <td>2.000000</td>\n",
              "      <td>1.000000</td>\n",
              "      <td>0.000000</td>\n",
              "      <td>34.210526</td>\n",
              "      <td>0.031250</td>\n",
              "      <td>0.012500</td>\n",
              "      <td>0.000000</td>\n",
              "      <td>1.000000</td>\n",
              "      <td>0.000000</td>\n",
              "      <td>...</td>\n",
              "      <td>0.000000</td>\n",
              "      <td>0.000000</td>\n",
              "      <td>0.000000</td>\n",
              "      <td>0.000000</td>\n",
              "      <td>0.000000</td>\n",
              "      <td>0.000000</td>\n",
              "      <td>0.000000</td>\n",
              "      <td>0.000000</td>\n",
              "      <td>0.000000</td>\n",
              "      <td>0.000000</td>\n",
              "    </tr>\n",
              "    <tr>\n",
              "      <th>75%</th>\n",
              "      <td>78.000000</td>\n",
              "      <td>2.000000</td>\n",
              "      <td>1.000000</td>\n",
              "      <td>1.000000</td>\n",
              "      <td>44.000000</td>\n",
              "      <td>0.036364</td>\n",
              "      <td>0.021277</td>\n",
              "      <td>0.012195</td>\n",
              "      <td>1.000000</td>\n",
              "      <td>0.000000</td>\n",
              "      <td>...</td>\n",
              "      <td>0.000000</td>\n",
              "      <td>0.000000</td>\n",
              "      <td>0.000000</td>\n",
              "      <td>0.000000</td>\n",
              "      <td>0.000000</td>\n",
              "      <td>0.000000</td>\n",
              "      <td>0.000000</td>\n",
              "      <td>0.000000</td>\n",
              "      <td>0.000000</td>\n",
              "      <td>0.000000</td>\n",
              "    </tr>\n",
              "    <tr>\n",
              "      <th>max</th>\n",
              "      <td>900.000000</td>\n",
              "      <td>5.000000</td>\n",
              "      <td>4.000000</td>\n",
              "      <td>5.000000</td>\n",
              "      <td>585.950413</td>\n",
              "      <td>0.090909</td>\n",
              "      <td>0.090909</td>\n",
              "      <td>0.068966</td>\n",
              "      <td>1.000000</td>\n",
              "      <td>1.000000</td>\n",
              "      <td>...</td>\n",
              "      <td>1.000000</td>\n",
              "      <td>1.000000</td>\n",
              "      <td>1.000000</td>\n",
              "      <td>1.000000</td>\n",
              "      <td>1.000000</td>\n",
              "      <td>1.000000</td>\n",
              "      <td>1.000000</td>\n",
              "      <td>1.000000</td>\n",
              "      <td>1.000000</td>\n",
              "      <td>1.000000</td>\n",
              "    </tr>\n",
              "  </tbody>\n",
              "</table>\n",
              "<p>8 rows × 29 columns</p>\n",
              "</div>\n",
              "      <button class=\"colab-df-convert\" onclick=\"convertToInteractive('df-9738ac3e-6eb4-464b-919e-dc99278fa301')\"\n",
              "              title=\"Convert this dataframe to an interactive table.\"\n",
              "              style=\"display:none;\">\n",
              "        \n",
              "  <svg xmlns=\"http://www.w3.org/2000/svg\" height=\"24px\"viewBox=\"0 0 24 24\"\n",
              "       width=\"24px\">\n",
              "    <path d=\"M0 0h24v24H0V0z\" fill=\"none\"/>\n",
              "    <path d=\"M18.56 5.44l.94 2.06.94-2.06 2.06-.94-2.06-.94-.94-2.06-.94 2.06-2.06.94zm-11 1L8.5 8.5l.94-2.06 2.06-.94-2.06-.94L8.5 2.5l-.94 2.06-2.06.94zm10 10l.94 2.06.94-2.06 2.06-.94-2.06-.94-.94-2.06-.94 2.06-2.06.94z\"/><path d=\"M17.41 7.96l-1.37-1.37c-.4-.4-.92-.59-1.43-.59-.52 0-1.04.2-1.43.59L10.3 9.45l-7.72 7.72c-.78.78-.78 2.05 0 2.83L4 21.41c.39.39.9.59 1.41.59.51 0 1.02-.2 1.41-.59l7.78-7.78 2.81-2.81c.8-.78.8-2.07 0-2.86zM5.41 20L4 18.59l7.72-7.72 1.47 1.35L5.41 20z\"/>\n",
              "  </svg>\n",
              "      </button>\n",
              "      \n",
              "  <style>\n",
              "    .colab-df-container {\n",
              "      display:flex;\n",
              "      flex-wrap:wrap;\n",
              "      gap: 12px;\n",
              "    }\n",
              "\n",
              "    .colab-df-convert {\n",
              "      background-color: #E8F0FE;\n",
              "      border: none;\n",
              "      border-radius: 50%;\n",
              "      cursor: pointer;\n",
              "      display: none;\n",
              "      fill: #1967D2;\n",
              "      height: 32px;\n",
              "      padding: 0 0 0 0;\n",
              "      width: 32px;\n",
              "    }\n",
              "\n",
              "    .colab-df-convert:hover {\n",
              "      background-color: #E2EBFA;\n",
              "      box-shadow: 0px 1px 2px rgba(60, 64, 67, 0.3), 0px 1px 3px 1px rgba(60, 64, 67, 0.15);\n",
              "      fill: #174EA6;\n",
              "    }\n",
              "\n",
              "    [theme=dark] .colab-df-convert {\n",
              "      background-color: #3B4455;\n",
              "      fill: #D2E3FC;\n",
              "    }\n",
              "\n",
              "    [theme=dark] .colab-df-convert:hover {\n",
              "      background-color: #434B5C;\n",
              "      box-shadow: 0px 1px 3px 1px rgba(0, 0, 0, 0.15);\n",
              "      filter: drop-shadow(0px 1px 2px rgba(0, 0, 0, 0.3));\n",
              "      fill: #FFFFFF;\n",
              "    }\n",
              "  </style>\n",
              "\n",
              "      <script>\n",
              "        const buttonEl =\n",
              "          document.querySelector('#df-9738ac3e-6eb4-464b-919e-dc99278fa301 button.colab-df-convert');\n",
              "        buttonEl.style.display =\n",
              "          google.colab.kernel.accessAllowed ? 'block' : 'none';\n",
              "\n",
              "        async function convertToInteractive(key) {\n",
              "          const element = document.querySelector('#df-9738ac3e-6eb4-464b-919e-dc99278fa301');\n",
              "          const dataTable =\n",
              "            await google.colab.kernel.invokeFunction('convertToInteractive',\n",
              "                                                     [key], {});\n",
              "          if (!dataTable) return;\n",
              "\n",
              "          const docLinkHtml = 'Like what you see? Visit the ' +\n",
              "            '<a target=\"_blank\" href=https://colab.research.google.com/notebooks/data_table.ipynb>data table notebook</a>'\n",
              "            + ' to learn more about interactive tables.';\n",
              "          element.innerHTML = '';\n",
              "          dataTable['output_type'] = 'display_data';\n",
              "          await google.colab.output.renderOutput(dataTable, element);\n",
              "          const docLink = document.createElement('div');\n",
              "          docLink.innerHTML = docLinkHtml;\n",
              "          element.appendChild(docLink);\n",
              "        }\n",
              "      </script>\n",
              "    </div>\n",
              "  </div>\n",
              "  "
            ]
          },
          "metadata": {},
          "execution_count": 250
        }
      ]
    },
    {
      "cell_type": "code",
      "source": [
        "x_train.columns"
      ],
      "metadata": {
        "colab": {
          "base_uri": "https://localhost:8080/"
        },
        "id": "HA2ob8PeVxZS",
        "outputId": "2da3371a-f749-46f5-d806-c789c8e055ce"
      },
      "execution_count": 251,
      "outputs": [
        {
          "output_type": "execute_result",
          "data": {
            "text/plain": [
              "Index(['size_m2', 'bedrooms', 'suite', 'parking', 'rent_per_size',\n",
              "       'bedrooms_per_size', 'suite_per_size', 'parking_per_size',\n",
              "       'property_type_Apartamento ', 'property_type_Kitnet ',\n",
              "       'neighborhood_ AGUAS CLARAS', 'neighborhood_ ASA NORTE',\n",
              "       'neighborhood_ ASA SUL', 'neighborhood_ JARDINS MANGUEIRAL',\n",
              "       'neighborhood_ LAGO NORTE', 'neighborhood_ NOROESTE',\n",
              "       'neighborhood_ OCTOGONAL', 'neighborhood_ PARK SUL',\n",
              "       'neighborhood_ SAMAMBAIA', 'neighborhood_ SOBRADINHO',\n",
              "       'neighborhood_ SUDOESTE', 'neighborhood_ TAGUATINGA',\n",
              "       'neighborhood_ TIER_1', 'neighborhood_ TIER_2', 'neighborhood_ TIER_3',\n",
              "       'neighborhood_ TIER_4', 'neighborhood_ TIER_5', 'neighborhood_ TIER_6',\n",
              "       'neighborhood_ VICENTE PIRES'],\n",
              "      dtype='object')"
            ]
          },
          "metadata": {},
          "execution_count": 251
        }
      ]
    },
    {
      "cell_type": "code",
      "source": [
        "x_train.columns[:8]"
      ],
      "metadata": {
        "colab": {
          "base_uri": "https://localhost:8080/"
        },
        "id": "SbZno4hKV0Qo",
        "outputId": "9864dd2e-5e23-4658-a035-5bd8fb73c454"
      },
      "execution_count": 256,
      "outputs": [
        {
          "output_type": "execute_result",
          "data": {
            "text/plain": [
              "Index(['size_m2', 'bedrooms', 'suite', 'parking', 'rent_per_size',\n",
              "       'bedrooms_per_size', 'suite_per_size', 'parking_per_size'],\n",
              "      dtype='object')"
            ]
          },
          "metadata": {},
          "execution_count": 256
        }
      ]
    },
    {
      "cell_type": "code",
      "source": [
        "num_attributes = x_train.columns[:8]\n",
        "\n",
        "x_train[num_attributes].head()"
      ],
      "metadata": {
        "colab": {
          "base_uri": "https://localhost:8080/",
          "height": 206
        },
        "id": "bLDK53qsWdHv",
        "outputId": "d79e296d-e927-4e58-ffcb-53b7035154f3"
      },
      "execution_count": 257,
      "outputs": [
        {
          "output_type": "execute_result",
          "data": {
            "text/plain": [
              "      size_m2  bedrooms  suite  parking  rent_per_size  bedrooms_per_size  \\\n",
              "39         90       2.0    0.0      0.0      33.333333           0.022222   \n",
              "2246       70       2.0    0.0      0.0      12.142857           0.028571   \n",
              "1591      104       3.0    1.0      0.0      34.615385           0.028846   \n",
              "3633       70       3.0    0.0      0.0      11.428571           0.042857   \n",
              "2286       25       1.0    1.0      0.0      44.000000           0.040000   \n",
              "\n",
              "      suite_per_size  parking_per_size  \n",
              "39          0.000000               0.0  \n",
              "2246        0.000000               0.0  \n",
              "1591        0.009615               0.0  \n",
              "3633        0.000000               0.0  \n",
              "2286        0.040000               0.0  "
            ],
            "text/html": [
              "\n",
              "  <div id=\"df-9dfe3c4b-801a-4cdb-80bf-7e6bccd12d76\">\n",
              "    <div class=\"colab-df-container\">\n",
              "      <div>\n",
              "<style scoped>\n",
              "    .dataframe tbody tr th:only-of-type {\n",
              "        vertical-align: middle;\n",
              "    }\n",
              "\n",
              "    .dataframe tbody tr th {\n",
              "        vertical-align: top;\n",
              "    }\n",
              "\n",
              "    .dataframe thead th {\n",
              "        text-align: right;\n",
              "    }\n",
              "</style>\n",
              "<table border=\"1\" class=\"dataframe\">\n",
              "  <thead>\n",
              "    <tr style=\"text-align: right;\">\n",
              "      <th></th>\n",
              "      <th>size_m2</th>\n",
              "      <th>bedrooms</th>\n",
              "      <th>suite</th>\n",
              "      <th>parking</th>\n",
              "      <th>rent_per_size</th>\n",
              "      <th>bedrooms_per_size</th>\n",
              "      <th>suite_per_size</th>\n",
              "      <th>parking_per_size</th>\n",
              "    </tr>\n",
              "  </thead>\n",
              "  <tbody>\n",
              "    <tr>\n",
              "      <th>39</th>\n",
              "      <td>90</td>\n",
              "      <td>2.0</td>\n",
              "      <td>0.0</td>\n",
              "      <td>0.0</td>\n",
              "      <td>33.333333</td>\n",
              "      <td>0.022222</td>\n",
              "      <td>0.000000</td>\n",
              "      <td>0.0</td>\n",
              "    </tr>\n",
              "    <tr>\n",
              "      <th>2246</th>\n",
              "      <td>70</td>\n",
              "      <td>2.0</td>\n",
              "      <td>0.0</td>\n",
              "      <td>0.0</td>\n",
              "      <td>12.142857</td>\n",
              "      <td>0.028571</td>\n",
              "      <td>0.000000</td>\n",
              "      <td>0.0</td>\n",
              "    </tr>\n",
              "    <tr>\n",
              "      <th>1591</th>\n",
              "      <td>104</td>\n",
              "      <td>3.0</td>\n",
              "      <td>1.0</td>\n",
              "      <td>0.0</td>\n",
              "      <td>34.615385</td>\n",
              "      <td>0.028846</td>\n",
              "      <td>0.009615</td>\n",
              "      <td>0.0</td>\n",
              "    </tr>\n",
              "    <tr>\n",
              "      <th>3633</th>\n",
              "      <td>70</td>\n",
              "      <td>3.0</td>\n",
              "      <td>0.0</td>\n",
              "      <td>0.0</td>\n",
              "      <td>11.428571</td>\n",
              "      <td>0.042857</td>\n",
              "      <td>0.000000</td>\n",
              "      <td>0.0</td>\n",
              "    </tr>\n",
              "    <tr>\n",
              "      <th>2286</th>\n",
              "      <td>25</td>\n",
              "      <td>1.0</td>\n",
              "      <td>1.0</td>\n",
              "      <td>0.0</td>\n",
              "      <td>44.000000</td>\n",
              "      <td>0.040000</td>\n",
              "      <td>0.040000</td>\n",
              "      <td>0.0</td>\n",
              "    </tr>\n",
              "  </tbody>\n",
              "</table>\n",
              "</div>\n",
              "      <button class=\"colab-df-convert\" onclick=\"convertToInteractive('df-9dfe3c4b-801a-4cdb-80bf-7e6bccd12d76')\"\n",
              "              title=\"Convert this dataframe to an interactive table.\"\n",
              "              style=\"display:none;\">\n",
              "        \n",
              "  <svg xmlns=\"http://www.w3.org/2000/svg\" height=\"24px\"viewBox=\"0 0 24 24\"\n",
              "       width=\"24px\">\n",
              "    <path d=\"M0 0h24v24H0V0z\" fill=\"none\"/>\n",
              "    <path d=\"M18.56 5.44l.94 2.06.94-2.06 2.06-.94-2.06-.94-.94-2.06-.94 2.06-2.06.94zm-11 1L8.5 8.5l.94-2.06 2.06-.94-2.06-.94L8.5 2.5l-.94 2.06-2.06.94zm10 10l.94 2.06.94-2.06 2.06-.94-2.06-.94-.94-2.06-.94 2.06-2.06.94z\"/><path d=\"M17.41 7.96l-1.37-1.37c-.4-.4-.92-.59-1.43-.59-.52 0-1.04.2-1.43.59L10.3 9.45l-7.72 7.72c-.78.78-.78 2.05 0 2.83L4 21.41c.39.39.9.59 1.41.59.51 0 1.02-.2 1.41-.59l7.78-7.78 2.81-2.81c.8-.78.8-2.07 0-2.86zM5.41 20L4 18.59l7.72-7.72 1.47 1.35L5.41 20z\"/>\n",
              "  </svg>\n",
              "      </button>\n",
              "      \n",
              "  <style>\n",
              "    .colab-df-container {\n",
              "      display:flex;\n",
              "      flex-wrap:wrap;\n",
              "      gap: 12px;\n",
              "    }\n",
              "\n",
              "    .colab-df-convert {\n",
              "      background-color: #E8F0FE;\n",
              "      border: none;\n",
              "      border-radius: 50%;\n",
              "      cursor: pointer;\n",
              "      display: none;\n",
              "      fill: #1967D2;\n",
              "      height: 32px;\n",
              "      padding: 0 0 0 0;\n",
              "      width: 32px;\n",
              "    }\n",
              "\n",
              "    .colab-df-convert:hover {\n",
              "      background-color: #E2EBFA;\n",
              "      box-shadow: 0px 1px 2px rgba(60, 64, 67, 0.3), 0px 1px 3px 1px rgba(60, 64, 67, 0.15);\n",
              "      fill: #174EA6;\n",
              "    }\n",
              "\n",
              "    [theme=dark] .colab-df-convert {\n",
              "      background-color: #3B4455;\n",
              "      fill: #D2E3FC;\n",
              "    }\n",
              "\n",
              "    [theme=dark] .colab-df-convert:hover {\n",
              "      background-color: #434B5C;\n",
              "      box-shadow: 0px 1px 3px 1px rgba(0, 0, 0, 0.15);\n",
              "      filter: drop-shadow(0px 1px 2px rgba(0, 0, 0, 0.3));\n",
              "      fill: #FFFFFF;\n",
              "    }\n",
              "  </style>\n",
              "\n",
              "      <script>\n",
              "        const buttonEl =\n",
              "          document.querySelector('#df-9dfe3c4b-801a-4cdb-80bf-7e6bccd12d76 button.colab-df-convert');\n",
              "        buttonEl.style.display =\n",
              "          google.colab.kernel.accessAllowed ? 'block' : 'none';\n",
              "\n",
              "        async function convertToInteractive(key) {\n",
              "          const element = document.querySelector('#df-9dfe3c4b-801a-4cdb-80bf-7e6bccd12d76');\n",
              "          const dataTable =\n",
              "            await google.colab.kernel.invokeFunction('convertToInteractive',\n",
              "                                                     [key], {});\n",
              "          if (!dataTable) return;\n",
              "\n",
              "          const docLinkHtml = 'Like what you see? Visit the ' +\n",
              "            '<a target=\"_blank\" href=https://colab.research.google.com/notebooks/data_table.ipynb>data table notebook</a>'\n",
              "            + ' to learn more about interactive tables.';\n",
              "          element.innerHTML = '';\n",
              "          dataTable['output_type'] = 'display_data';\n",
              "          await google.colab.output.renderOutput(dataTable, element);\n",
              "          const docLink = document.createElement('div');\n",
              "          docLink.innerHTML = docLinkHtml;\n",
              "          element.appendChild(docLink);\n",
              "        }\n",
              "      </script>\n",
              "    </div>\n",
              "  </div>\n",
              "  "
            ]
          },
          "metadata": {},
          "execution_count": 257
        }
      ]
    },
    {
      "cell_type": "markdown",
      "source": [
        "Transformer fitting, using the training data."
      ],
      "metadata": {
        "id": "H_cu6Xn2Whvj"
      }
    },
    {
      "cell_type": "code",
      "source": [
        "transformer = RobustScaler().fit(x_train[num_attributes])"
      ],
      "metadata": {
        "id": "HlmIXEJYWiU_"
      },
      "execution_count": 258,
      "outputs": []
    },
    {
      "cell_type": "code",
      "source": [
        "x_train[num_attributes].boxplot(rot=90)"
      ],
      "metadata": {
        "colab": {
          "base_uri": "https://localhost:8080/",
          "height": 369
        },
        "id": "bSHvWlIAWo5y",
        "outputId": "d23c9007-b64a-462b-b971-3a2f50c7e1fb"
      },
      "execution_count": 259,
      "outputs": [
        {
          "output_type": "execute_result",
          "data": {
            "text/plain": [
              "<matplotlib.axes._subplots.AxesSubplot at 0x7f502dffed10>"
            ]
          },
          "metadata": {},
          "execution_count": 259
        },
        {
          "output_type": "display_data",
          "data": {
            "text/plain": [
              "<Figure size 432x288 with 1 Axes>"
            ],
            "image/png": "[encoded data removed]"
          },
          "metadata": {
            "needs_background": "light"
          }
        }
      ]
    },
    {
      "cell_type": "code",
      "source": [
        "x_train[num_attributes] = transformer.transform(x_train[num_attributes])\n",
        "\n",
        "x_train.head()"
      ],
      "metadata": {
        "colab": {
          "base_uri": "https://localhost:8080/",
          "height": 317
        },
        "id": "zD7F8MxdWvXl",
        "outputId": "efba067b-dbda-41ba-9cfb-b40a572fd08d"
      },
      "execution_count": 260,
      "outputs": [
        {
          "output_type": "execute_result",
          "data": {
            "text/plain": [
              "       size_m2  bedrooms  suite  parking  rent_per_size  bedrooms_per_size  \\\n",
              "39    0.863636       0.0   -1.0      0.0      -0.046168          -0.794444   \n",
              "2246  0.409091       0.0   -1.0      0.0      -1.161456          -0.235714   \n",
              "1591  1.181818       1.0    0.0      0.0       0.021308          -0.211538   \n",
              "3633  0.409091       1.0   -1.0      0.0      -1.199050           1.021429   \n",
              "2286 -0.613636      -1.0    0.0      0.0       0.515235           0.770000   \n",
              "\n",
              "      suite_per_size  parking_per_size  property_type_Apartamento   \\\n",
              "39         -0.587500               0.0                           1   \n",
              "2246       -0.587500               0.0                           1   \n",
              "1591       -0.135577               0.0                           1   \n",
              "3633       -0.587500               0.0                           1   \n",
              "2286        1.292500               0.0                           0   \n",
              "\n",
              "      property_type_Kitnet   ...  neighborhood_ SOBRADINHO  \\\n",
              "39                        0  ...                         0   \n",
              "2246                      0  ...                         0   \n",
              "1591                      0  ...                         0   \n",
              "3633                      0  ...                         0   \n",
              "2286                      1  ...                         0   \n",
              "\n",
              "      neighborhood_ SUDOESTE  neighborhood_ TAGUATINGA  neighborhood_ TIER_1  \\\n",
              "39                         0                         0                     0   \n",
              "2246                       0                         0                     1   \n",
              "1591                       0                         0                     0   \n",
              "3633                       0                         0                     0   \n",
              "2286                       0                         0                     0   \n",
              "\n",
              "      neighborhood_ TIER_2  neighborhood_ TIER_3  neighborhood_ TIER_4  \\\n",
              "39                       0                     0                     0   \n",
              "2246                     0                     0                     0   \n",
              "1591                     0                     0                     0   \n",
              "3633                     0                     1                     0   \n",
              "2286                     0                     0                     0   \n",
              "\n",
              "      neighborhood_ TIER_5  neighborhood_ TIER_6  neighborhood_ VICENTE PIRES  \n",
              "39                       0                     0                            0  \n",
              "2246                     0                     0                            0  \n",
              "1591                     0                     0                            0  \n",
              "3633                     0                     0                            0  \n",
              "2286                     0                     0                            0  \n",
              "\n",
              "[5 rows x 29 columns]"
            ],
            "text/html": [
              "\n",
              "  <div id=\"df-65cfffdc-6c81-458d-b000-11f1fc3f7ac3\">\n",
              "    <div class=\"colab-df-container\">\n",
              "      <div>\n",
              "<style scoped>\n",
              "    .dataframe tbody tr th:only-of-type {\n",
              "        vertical-align: middle;\n",
              "    }\n",
              "\n",
              "    .dataframe tbody tr th {\n",
              "        vertical-align: top;\n",
              "    }\n",
              "\n",
              "    .dataframe thead th {\n",
              "        text-align: right;\n",
              "    }\n",
              "</style>\n",
              "<table border=\"1\" class=\"dataframe\">\n",
              "  <thead>\n",
              "    <tr style=\"text-align: right;\">\n",
              "      <th></th>\n",
              "      <th>size_m2</th>\n",
              "      <th>bedrooms</th>\n",
              "      <th>suite</th>\n",
              "      <th>parking</th>\n",
              "      <th>rent_per_size</th>\n",
              "      <th>bedrooms_per_size</th>\n",
              "      <th>suite_per_size</th>\n",
              "      <th>parking_per_size</th>\n",
              "      <th>property_type_Apartamento</th>\n",
              "      <th>property_type_Kitnet</th>\n",
              "      <th>...</th>\n",
              "      <th>neighborhood_ SOBRADINHO</th>\n",
              "      <th>neighborhood_ SUDOESTE</th>\n",
              "      <th>neighborhood_ TAGUATINGA</th>\n",
              "      <th>neighborhood_ TIER_1</th>\n",
              "      <th>neighborhood_ TIER_2</th>\n",
              "      <th>neighborhood_ TIER_3</th>\n",
              "      <th>neighborhood_ TIER_4</th>\n",
              "      <th>neighborhood_ TIER_5</th>\n",
              "      <th>neighborhood_ TIER_6</th>\n",
              "      <th>neighborhood_ VICENTE PIRES</th>\n",
              "    </tr>\n",
              "  </thead>\n",
              "  <tbody>\n",
              "    <tr>\n",
              "      <th>39</th>\n",
              "      <td>0.863636</td>\n",
              "      <td>0.0</td>\n",
              "      <td>-1.0</td>\n",
              "      <td>0.0</td>\n",
              "      <td>-0.046168</td>\n",
              "      <td>-0.794444</td>\n",
              "      <td>-0.587500</td>\n",
              "      <td>0.0</td>\n",
              "      <td>1</td>\n",
              "      <td>0</td>\n",
              "      <td>...</td>\n",
              "      <td>0</td>\n",
              "      <td>0</td>\n",
              "      <td>0</td>\n",
              "      <td>0</td>\n",
              "      <td>0</td>\n",
              "      <td>0</td>\n",
              "      <td>0</td>\n",
              "      <td>0</td>\n",
              "      <td>0</td>\n",
              "      <td>0</td>\n",
              "    </tr>\n",
              "    <tr>\n",
              "      <th>2246</th>\n",
              "      <td>0.409091</td>\n",
              "      <td>0.0</td>\n",
              "      <td>-1.0</td>\n",
              "      <td>0.0</td>\n",
              "      <td>-1.161456</td>\n",
              "      <td>-0.235714</td>\n",
              "      <td>-0.587500</td>\n",
              "      <td>0.0</td>\n",
              "      <td>1</td>\n",
              "      <td>0</td>\n",
              "      <td>...</td>\n",
              "      <td>0</td>\n",
              "      <td>0</td>\n",
              "      <td>0</td>\n",
              "      <td>1</td>\n",
              "      <td>0</td>\n",
              "      <td>0</td>\n",
              "      <td>0</td>\n",
              "      <td>0</td>\n",
              "      <td>0</td>\n",
              "      <td>0</td>\n",
              "    </tr>\n",
              "    <tr>\n",
              "      <th>1591</th>\n",
              "      <td>1.181818</td>\n",
              "      <td>1.0</td>\n",
              "      <td>0.0</td>\n",
              "      <td>0.0</td>\n",
              "      <td>0.021308</td>\n",
              "      <td>-0.211538</td>\n",
              "      <td>-0.135577</td>\n",
              "      <td>0.0</td>\n",
              "      <td>1</td>\n",
              "      <td>0</td>\n",
              "      <td>...</td>\n",
              "      <td>0</td>\n",
              "      <td>0</td>\n",
              "      <td>0</td>\n",
              "      <td>0</td>\n",
              "      <td>0</td>\n",
              "      <td>0</td>\n",
              "      <td>0</td>\n",
              "      <td>0</td>\n",
              "      <td>0</td>\n",
              "      <td>0</td>\n",
              "    </tr>\n",
              "    <tr>\n",
              "      <th>3633</th>\n",
              "      <td>0.409091</td>\n",
              "      <td>1.0</td>\n",
              "      <td>-1.0</td>\n",
              "      <td>0.0</td>\n",
              "      <td>-1.199050</td>\n",
              "      <td>1.021429</td>\n",
              "      <td>-0.587500</td>\n",
              "      <td>0.0</td>\n",
              "      <td>1</td>\n",
              "      <td>0</td>\n",
              "      <td>...</td>\n",
              "      <td>0</td>\n",
              "      <td>0</td>\n",
              "      <td>0</td>\n",
              "      <td>0</td>\n",
              "      <td>0</td>\n",
              "      <td>1</td>\n",
              "      <td>0</td>\n",
              "      <td>0</td>\n",
              "      <td>0</td>\n",
              "      <td>0</td>\n",
              "    </tr>\n",
              "    <tr>\n",
              "      <th>2286</th>\n",
              "      <td>-0.613636</td>\n",
              "      <td>-1.0</td>\n",
              "      <td>0.0</td>\n",
              "      <td>0.0</td>\n",
              "      <td>0.515235</td>\n",
              "      <td>0.770000</td>\n",
              "      <td>1.292500</td>\n",
              "      <td>0.0</td>\n",
              "      <td>0</td>\n",
              "      <td>1</td>\n",
              "      <td>...</td>\n",
              "      <td>0</td>\n",
              "      <td>0</td>\n",
              "      <td>0</td>\n",
              "      <td>0</td>\n",
              "      <td>0</td>\n",
              "      <td>0</td>\n",
              "      <td>0</td>\n",
              "      <td>0</td>\n",
              "      <td>0</td>\n",
              "      <td>0</td>\n",
              "    </tr>\n",
              "  </tbody>\n",
              "</table>\n",
              "<p>5 rows × 29 columns</p>\n",
              "</div>\n",
              "      <button class=\"colab-df-convert\" onclick=\"convertToInteractive('df-65cfffdc-6c81-458d-b000-11f1fc3f7ac3')\"\n",
              "              title=\"Convert this dataframe to an interactive table.\"\n",
              "              style=\"display:none;\">\n",
              "        \n",
              "  <svg xmlns=\"http://www.w3.org/2000/svg\" height=\"24px\"viewBox=\"0 0 24 24\"\n",
              "       width=\"24px\">\n",
              "    <path d=\"M0 0h24v24H0V0z\" fill=\"none\"/>\n",
              "    <path d=\"M18.56 5.44l.94 2.06.94-2.06 2.06-.94-2.06-.94-.94-2.06-.94 2.06-2.06.94zm-11 1L8.5 8.5l.94-2.06 2.06-.94-2.06-.94L8.5 2.5l-.94 2.06-2.06.94zm10 10l.94 2.06.94-2.06 2.06-.94-2.06-.94-.94-2.06-.94 2.06-2.06.94z\"/><path d=\"M17.41 7.96l-1.37-1.37c-.4-.4-.92-.59-1.43-.59-.52 0-1.04.2-1.43.59L10.3 9.45l-7.72 7.72c-.78.78-.78 2.05 0 2.83L4 21.41c.39.39.9.59 1.41.59.51 0 1.02-.2 1.41-.59l7.78-7.78 2.81-2.81c.8-.78.8-2.07 0-2.86zM5.41 20L4 18.59l7.72-7.72 1.47 1.35L5.41 20z\"/>\n",
              "  </svg>\n",
              "      </button>\n",
              "      \n",
              "  <style>\n",
              "    .colab-df-container {\n",
              "      display:flex;\n",
              "      flex-wrap:wrap;\n",
              "      gap: 12px;\n",
              "    }\n",
              "\n",
              "    .colab-df-convert {\n",
              "      background-color: #E8F0FE;\n",
              "      border: none;\n",
              "      border-radius: 50%;\n",
              "      cursor: pointer;\n",
              "      display: none;\n",
              "      fill: #1967D2;\n",
              "      height: 32px;\n",
              "      padding: 0 0 0 0;\n",
              "      width: 32px;\n",
              "    }\n",
              "\n",
              "    .colab-df-convert:hover {\n",
              "      background-color: #E2EBFA;\n",
              "      box-shadow: 0px 1px 2px rgba(60, 64, 67, 0.3), 0px 1px 3px 1px rgba(60, 64, 67, 0.15);\n",
              "      fill: #174EA6;\n",
              "    }\n",
              "\n",
              "    [theme=dark] .colab-df-convert {\n",
              "      background-color: #3B4455;\n",
              "      fill: #D2E3FC;\n",
              "    }\n",
              "\n",
              "    [theme=dark] .colab-df-convert:hover {\n",
              "      background-color: #434B5C;\n",
              "      box-shadow: 0px 1px 3px 1px rgba(0, 0, 0, 0.15);\n",
              "      filter: drop-shadow(0px 1px 2px rgba(0, 0, 0, 0.3));\n",
              "      fill: #FFFFFF;\n",
              "    }\n",
              "  </style>\n",
              "\n",
              "      <script>\n",
              "        const buttonEl =\n",
              "          document.querySelector('#df-65cfffdc-6c81-458d-b000-11f1fc3f7ac3 button.colab-df-convert');\n",
              "        buttonEl.style.display =\n",
              "          google.colab.kernel.accessAllowed ? 'block' : 'none';\n",
              "\n",
              "        async function convertToInteractive(key) {\n",
              "          const element = document.querySelector('#df-65cfffdc-6c81-458d-b000-11f1fc3f7ac3');\n",
              "          const dataTable =\n",
              "            await google.colab.kernel.invokeFunction('convertToInteractive',\n",
              "                                                     [key], {});\n",
              "          if (!dataTable) return;\n",
              "\n",
              "          const docLinkHtml = 'Like what you see? Visit the ' +\n",
              "            '<a target=\"_blank\" href=https://colab.research.google.com/notebooks/data_table.ipynb>data table notebook</a>'\n",
              "            + ' to learn more about interactive tables.';\n",
              "          element.innerHTML = '';\n",
              "          dataTable['output_type'] = 'display_data';\n",
              "          await google.colab.output.renderOutput(dataTable, element);\n",
              "          const docLink = document.createElement('div');\n",
              "          docLink.innerHTML = docLinkHtml;\n",
              "          element.appendChild(docLink);\n",
              "        }\n",
              "      </script>\n",
              "    </div>\n",
              "  </div>\n",
              "  "
            ]
          },
          "metadata": {},
          "execution_count": 260
        }
      ]
    },
    {
      "cell_type": "code",
      "source": [
        "x_train[num_attributes].boxplot(rot=90)"
      ],
      "metadata": {
        "colab": {
          "base_uri": "https://localhost:8080/",
          "height": 369
        },
        "id": "iuPSOcrMWy-r",
        "outputId": "17e8cbce-187b-472f-b4e6-a2dd2b67820a"
      },
      "execution_count": 261,
      "outputs": [
        {
          "output_type": "execute_result",
          "data": {
            "text/plain": [
              "<matplotlib.axes._subplots.AxesSubplot at 0x7f502dd18a10>"
            ]
          },
          "metadata": {},
          "execution_count": 261
        },
        {
          "output_type": "display_data",
          "data": {
            "text/plain": [
              "<Figure size 432x288 with 1 Axes>"
            ],
            "image/png": "[encoded data removed]"
          },
          "metadata": {
            "needs_background": "light"
          }
        }
      ]
    },
    {
      "cell_type": "code",
      "source": [
        "filter_outliers = x_train[num_attributes]<6\n",
        "x_train[num_attributes][filter_outliers].boxplot(rot=90)"
      ],
      "metadata": {
        "colab": {
          "base_uri": "https://localhost:8080/",
          "height": 425
        },
        "id": "2UECPJltXBBf",
        "outputId": "69983134-8b37-48fd-c5dd-e3710a34e91f"
      },
      "execution_count": 264,
      "outputs": [
        {
          "output_type": "stream",
          "name": "stderr",
          "text": [
            "/usr/local/lib/python3.7/dist-packages/matplotlib/cbook/__init__.py:1376: VisibleDeprecationWarning: Creating an ndarray from ragged nested sequences (which is a list-or-tuple of lists-or-tuples-or ndarrays with different lengths or shapes) is deprecated. If you meant to do this, you must specify 'dtype=object' when creating the ndarray.\n",
            "  X = np.atleast_1d(X.T if isinstance(X, np.ndarray) else np.asarray(X))\n"
          ]
        },
        {
          "output_type": "execute_result",
          "data": {
            "text/plain": [
              "<matplotlib.axes._subplots.AxesSubplot at 0x7f502d930310>"
            ]
          },
          "metadata": {},
          "execution_count": 264
        },
        {
          "output_type": "display_data",
          "data": {
            "text/plain": [
              "<Figure size 432x288 with 1 Axes>"
            ],
            "image/png": "[encoded data removed]"
          },
          "metadata": {
            "needs_background": "light"
          }
        }
      ]
    },
    {
      "cell_type": "markdown",
      "source": [
        "Scalling the test data, also with the transformer fitted using the training data."
      ],
      "metadata": {
        "id": "Z0tyb_FjXMAB"
      }
    },
    {
      "cell_type": "code",
      "source": [
        "x_test[num_attributes] = transformer.transform(x_test[num_attributes])\n",
        "\n",
        "x_test.head()"
      ],
      "metadata": {
        "colab": {
          "base_uri": "https://localhost:8080/",
          "height": 317
        },
        "id": "_0cFDRoeXLhp",
        "outputId": "8df4536a-2584-4a2d-8efa-6697a1927f4b"
      },
      "execution_count": 265,
      "outputs": [
        {
          "output_type": "execute_result",
          "data": {
            "text/plain": [
              "       size_m2  bedrooms  suite  parking  rent_per_size  bedrooms_per_size  \\\n",
              "2339 -0.045455       0.0   -1.0      0.0      -0.695291           0.770000   \n",
              "3217 -0.659091      -1.0   -1.0      0.0       0.030110           1.076087   \n",
              "1026  2.363636       1.0    0.0      1.0       0.021308          -1.057692   \n",
              "399   0.409091       0.0    0.0      0.0       0.094183          -0.235714   \n",
              "1065 -0.431818      -1.0   -1.0      0.0      -0.524637          -0.083333   \n",
              "\n",
              "      suite_per_size  parking_per_size  property_type_Apartamento   \\\n",
              "2339       -0.587500          0.000000                           1   \n",
              "3217       -0.587500          0.000000                           0   \n",
              "1026       -0.286218          0.525641                           1   \n",
              "399         0.083929          0.000000                           1   \n",
              "1065       -0.587500          0.000000                           1   \n",
              "\n",
              "      property_type_Kitnet   ...  neighborhood_ SOBRADINHO  \\\n",
              "2339                      0  ...                         0   \n",
              "3217                      1  ...                         0   \n",
              "1026                      0  ...                         0   \n",
              "399                       0  ...                         0   \n",
              "1065                      0  ...                         0   \n",
              "\n",
              "      neighborhood_ SUDOESTE  neighborhood_ TAGUATINGA  neighborhood_ TIER_1  \\\n",
              "2339                       0                         0                     0   \n",
              "3217                       0                         0                     0   \n",
              "1026                       0                         0                     0   \n",
              "399                        0                         0                     0   \n",
              "1065                       0                         0                     0   \n",
              "\n",
              "      neighborhood_ TIER_2  neighborhood_ TIER_3  neighborhood_ TIER_4  \\\n",
              "2339                     1                     0                     0   \n",
              "3217                     0                     0                     0   \n",
              "1026                     0                     0                     0   \n",
              "399                      0                     0                     1   \n",
              "1065                     0                     0                     0   \n",
              "\n",
              "      neighborhood_ TIER_5  neighborhood_ TIER_6  neighborhood_ VICENTE PIRES  \n",
              "2339                     0                     0                            0  \n",
              "3217                     0                     0                            0  \n",
              "1026                     0                     0                            0  \n",
              "399                      0                     0                            0  \n",
              "1065                     0                     0                            0  \n",
              "\n",
              "[5 rows x 29 columns]"
            ],
            "text/html": [
              "\n",
              "  <div id=\"df-4e4405e5-59f0-4d07-b7b1-8b9402e0f826\">\n",
              "    <div class=\"colab-df-container\">\n",
              "      <div>\n",
              "<style scoped>\n",
              "    .dataframe tbody tr th:only-of-type {\n",
              "        vertical-align: middle;\n",
              "    }\n",
              "\n",
              "    .dataframe tbody tr th {\n",
              "        vertical-align: top;\n",
              "    }\n",
              "\n",
              "    .dataframe thead th {\n",
              "        text-align: right;\n",
              "    }\n",
              "</style>\n",
              "<table border=\"1\" class=\"dataframe\">\n",
              "  <thead>\n",
              "    <tr style=\"text-align: right;\">\n",
              "      <th></th>\n",
              "      <th>size_m2</th>\n",
              "      <th>bedrooms</th>\n",
              "      <th>suite</th>\n",
              "      <th>parking</th>\n",
              "      <th>rent_per_size</th>\n",
              "      <th>bedrooms_per_size</th>\n",
              "      <th>suite_per_size</th>\n",
              "      <th>parking_per_size</th>\n",
              "      <th>property_type_Apartamento</th>\n",
              "      <th>property_type_Kitnet</th>\n",
              "      <th>...</th>\n",
              "      <th>neighborhood_ SOBRADINHO</th>\n",
              "      <th>neighborhood_ SUDOESTE</th>\n",
              "      <th>neighborhood_ TAGUATINGA</th>\n",
              "      <th>neighborhood_ TIER_1</th>\n",
              "      <th>neighborhood_ TIER_2</th>\n",
              "      <th>neighborhood_ TIER_3</th>\n",
              "      <th>neighborhood_ TIER_4</th>\n",
              "      <th>neighborhood_ TIER_5</th>\n",
              "      <th>neighborhood_ TIER_6</th>\n",
              "      <th>neighborhood_ VICENTE PIRES</th>\n",
              "    </tr>\n",
              "  </thead>\n",
              "  <tbody>\n",
              "    <tr>\n",
              "      <th>2339</th>\n",
              "      <td>-0.045455</td>\n",
              "      <td>0.0</td>\n",
              "      <td>-1.0</td>\n",
              "      <td>0.0</td>\n",
              "      <td>-0.695291</td>\n",
              "      <td>0.770000</td>\n",
              "      <td>-0.587500</td>\n",
              "      <td>0.000000</td>\n",
              "      <td>1</td>\n",
              "      <td>0</td>\n",
              "      <td>...</td>\n",
              "      <td>0</td>\n",
              "      <td>0</td>\n",
              "      <td>0</td>\n",
              "      <td>0</td>\n",
              "      <td>1</td>\n",
              "      <td>0</td>\n",
              "      <td>0</td>\n",
              "      <td>0</td>\n",
              "      <td>0</td>\n",
              "      <td>0</td>\n",
              "    </tr>\n",
              "    <tr>\n",
              "      <th>3217</th>\n",
              "      <td>-0.659091</td>\n",
              "      <td>-1.0</td>\n",
              "      <td>-1.0</td>\n",
              "      <td>0.0</td>\n",
              "      <td>0.030110</td>\n",
              "      <td>1.076087</td>\n",
              "      <td>-0.587500</td>\n",
              "      <td>0.000000</td>\n",
              "      <td>0</td>\n",
              "      <td>1</td>\n",
              "      <td>...</td>\n",
              "      <td>0</td>\n",
              "      <td>0</td>\n",
              "      <td>0</td>\n",
              "      <td>0</td>\n",
              "      <td>0</td>\n",
              "      <td>0</td>\n",
              "      <td>0</td>\n",
              "      <td>0</td>\n",
              "      <td>0</td>\n",
              "      <td>0</td>\n",
              "    </tr>\n",
              "    <tr>\n",
              "      <th>1026</th>\n",
              "      <td>2.363636</td>\n",
              "      <td>1.0</td>\n",
              "      <td>0.0</td>\n",
              "      <td>1.0</td>\n",
              "      <td>0.021308</td>\n",
              "      <td>-1.057692</td>\n",
              "      <td>-0.286218</td>\n",
              "      <td>0.525641</td>\n",
              "      <td>1</td>\n",
              "      <td>0</td>\n",
              "      <td>...</td>\n",
              "      <td>0</td>\n",
              "      <td>0</td>\n",
              "      <td>0</td>\n",
              "      <td>0</td>\n",
              "      <td>0</td>\n",
              "      <td>0</td>\n",
              "      <td>0</td>\n",
              "      <td>0</td>\n",
              "      <td>0</td>\n",
              "      <td>0</td>\n",
              "    </tr>\n",
              "    <tr>\n",
              "      <th>399</th>\n",
              "      <td>0.409091</td>\n",
              "      <td>0.0</td>\n",
              "      <td>0.0</td>\n",
              "      <td>0.0</td>\n",
              "      <td>0.094183</td>\n",
              "      <td>-0.235714</td>\n",
              "      <td>0.083929</td>\n",
              "      <td>0.000000</td>\n",
              "      <td>1</td>\n",
              "      <td>0</td>\n",
              "      <td>...</td>\n",
              "      <td>0</td>\n",
              "      <td>0</td>\n",
              "      <td>0</td>\n",
              "      <td>0</td>\n",
              "      <td>0</td>\n",
              "      <td>0</td>\n",
              "      <td>1</td>\n",
              "      <td>0</td>\n",
              "      <td>0</td>\n",
              "      <td>0</td>\n",
              "    </tr>\n",
              "    <tr>\n",
              "      <th>1065</th>\n",
              "      <td>-0.431818</td>\n",
              "      <td>-1.0</td>\n",
              "      <td>-1.0</td>\n",
              "      <td>0.0</td>\n",
              "      <td>-0.524637</td>\n",
              "      <td>-0.083333</td>\n",
              "      <td>-0.587500</td>\n",
              "      <td>0.000000</td>\n",
              "      <td>1</td>\n",
              "      <td>0</td>\n",
              "      <td>...</td>\n",
              "      <td>0</td>\n",
              "      <td>0</td>\n",
              "      <td>0</td>\n",
              "      <td>0</td>\n",
              "      <td>0</td>\n",
              "      <td>0</td>\n",
              "      <td>0</td>\n",
              "      <td>0</td>\n",
              "      <td>0</td>\n",
              "      <td>0</td>\n",
              "    </tr>\n",
              "  </tbody>\n",
              "</table>\n",
              "<p>5 rows × 29 columns</p>\n",
              "</div>\n",
              "      <button class=\"colab-df-convert\" onclick=\"convertToInteractive('df-4e4405e5-59f0-4d07-b7b1-8b9402e0f826')\"\n",
              "              title=\"Convert this dataframe to an interactive table.\"\n",
              "              style=\"display:none;\">\n",
              "        \n",
              "  <svg xmlns=\"http://www.w3.org/2000/svg\" height=\"24px\"viewBox=\"0 0 24 24\"\n",
              "       width=\"24px\">\n",
              "    <path d=\"M0 0h24v24H0V0z\" fill=\"none\"/>\n",
              "    <path d=\"M18.56 5.44l.94 2.06.94-2.06 2.06-.94-2.06-.94-.94-2.06-.94 2.06-2.06.94zm-11 1L8.5 8.5l.94-2.06 2.06-.94-2.06-.94L8.5 2.5l-.94 2.06-2.06.94zm10 10l.94 2.06.94-2.06 2.06-.94-2.06-.94-.94-2.06-.94 2.06-2.06.94z\"/><path d=\"M17.41 7.96l-1.37-1.37c-.4-.4-.92-.59-1.43-.59-.52 0-1.04.2-1.43.59L10.3 9.45l-7.72 7.72c-.78.78-.78 2.05 0 2.83L4 21.41c.39.39.9.59 1.41.59.51 0 1.02-.2 1.41-.59l7.78-7.78 2.81-2.81c.8-.78.8-2.07 0-2.86zM5.41 20L4 18.59l7.72-7.72 1.47 1.35L5.41 20z\"/>\n",
              "  </svg>\n",
              "      </button>\n",
              "      \n",
              "  <style>\n",
              "    .colab-df-container {\n",
              "      display:flex;\n",
              "      flex-wrap:wrap;\n",
              "      gap: 12px;\n",
              "    }\n",
              "\n",
              "    .colab-df-convert {\n",
              "      background-color: #E8F0FE;\n",
              "      border: none;\n",
              "      border-radius: 50%;\n",
              "      cursor: pointer;\n",
              "      display: none;\n",
              "      fill: #1967D2;\n",
              "      height: 32px;\n",
              "      padding: 0 0 0 0;\n",
              "      width: 32px;\n",
              "    }\n",
              "\n",
              "    .colab-df-convert:hover {\n",
              "      background-color: #E2EBFA;\n",
              "      box-shadow: 0px 1px 2px rgba(60, 64, 67, 0.3), 0px 1px 3px 1px rgba(60, 64, 67, 0.15);\n",
              "      fill: #174EA6;\n",
              "    }\n",
              "\n",
              "    [theme=dark] .colab-df-convert {\n",
              "      background-color: #3B4455;\n",
              "      fill: #D2E3FC;\n",
              "    }\n",
              "\n",
              "    [theme=dark] .colab-df-convert:hover {\n",
              "      background-color: #434B5C;\n",
              "      box-shadow: 0px 1px 3px 1px rgba(0, 0, 0, 0.15);\n",
              "      filter: drop-shadow(0px 1px 2px rgba(0, 0, 0, 0.3));\n",
              "      fill: #FFFFFF;\n",
              "    }\n",
              "  </style>\n",
              "\n",
              "      <script>\n",
              "        const buttonEl =\n",
              "          document.querySelector('#df-4e4405e5-59f0-4d07-b7b1-8b9402e0f826 button.colab-df-convert');\n",
              "        buttonEl.style.display =\n",
              "          google.colab.kernel.accessAllowed ? 'block' : 'none';\n",
              "\n",
              "        async function convertToInteractive(key) {\n",
              "          const element = document.querySelector('#df-4e4405e5-59f0-4d07-b7b1-8b9402e0f826');\n",
              "          const dataTable =\n",
              "            await google.colab.kernel.invokeFunction('convertToInteractive',\n",
              "                                                     [key], {});\n",
              "          if (!dataTable) return;\n",
              "\n",
              "          const docLinkHtml = 'Like what you see? Visit the ' +\n",
              "            '<a target=\"_blank\" href=https://colab.research.google.com/notebooks/data_table.ipynb>data table notebook</a>'\n",
              "            + ' to learn more about interactive tables.';\n",
              "          element.innerHTML = '';\n",
              "          dataTable['output_type'] = 'display_data';\n",
              "          await google.colab.output.renderOutput(dataTable, element);\n",
              "          const docLink = document.createElement('div');\n",
              "          docLink.innerHTML = docLinkHtml;\n",
              "          element.appendChild(docLink);\n",
              "        }\n",
              "      </script>\n",
              "    </div>\n",
              "  </div>\n",
              "  "
            ]
          },
          "metadata": {},
          "execution_count": 265
        }
      ]
    },
    {
      "cell_type": "code",
      "source": [
        "x_test[num_attributes].describe()"
      ],
      "metadata": {
        "colab": {
          "base_uri": "https://localhost:8080/",
          "height": 300
        },
        "id": "B9loJ5ljXXV-",
        "outputId": "32bac937-751e-4122-9cb3-997f5b32b07a"
      },
      "execution_count": 266,
      "outputs": [
        {
          "output_type": "execute_result",
          "data": {
            "text/plain": [
              "          size_m2    bedrooms       suite     parking  rent_per_size  \\\n",
              "count  740.000000  740.000000  740.000000  740.000000     740.000000   \n",
              "mean     0.250276   -0.220270   -0.241892    0.460811       0.109287   \n",
              "std      0.991122    0.871357    0.619596    0.703619       0.958451   \n",
              "min     -0.931818   -2.000000   -1.000000    0.000000      -1.400554   \n",
              "25%     -0.414773   -1.000000   -1.000000    0.000000      -0.484765   \n",
              "50%     -0.045455    0.000000    0.000000    0.000000      -0.036695   \n",
              "75%      0.477273    0.000000    0.000000    1.000000       0.497988   \n",
              "max      7.409091    3.000000    3.000000    4.000000       9.682700   \n",
              "\n",
              "       bedrooms_per_size  suite_per_size  parking_per_size  \n",
              "count         740.000000      740.000000        740.000000  \n",
              "mean           -0.004686        0.074496          0.549772  \n",
              "std             0.900884        0.603978          0.900561  \n",
              "min            -2.750000       -0.587500          0.000000  \n",
              "25%            -0.550000       -0.587500          0.000000  \n",
              "50%             0.000000        0.030921          0.000000  \n",
              "75%             0.450000        0.480682          1.025000  \n",
              "max            13.250000        3.685227          7.454545  "
            ],
            "text/html": [
              "\n",
              "  <div id=\"df-eb3c5a02-cbf1-46e4-af10-b37e4ae715f5\">\n",
              "    <div class=\"colab-df-container\">\n",
              "      <div>\n",
              "<style scoped>\n",
              "    .dataframe tbody tr th:only-of-type {\n",
              "        vertical-align: middle;\n",
              "    }\n",
              "\n",
              "    .dataframe tbody tr th {\n",
              "        vertical-align: top;\n",
              "    }\n",
              "\n",
              "    .dataframe thead th {\n",
              "        text-align: right;\n",
              "    }\n",
              "</style>\n",
              "<table border=\"1\" class=\"dataframe\">\n",
              "  <thead>\n",
              "    <tr style=\"text-align: right;\">\n",
              "      <th></th>\n",
              "      <th>size_m2</th>\n",
              "      <th>bedrooms</th>\n",
              "      <th>suite</th>\n",
              "      <th>parking</th>\n",
              "      <th>rent_per_size</th>\n",
              "      <th>bedrooms_per_size</th>\n",
              "      <th>suite_per_size</th>\n",
              "      <th>parking_per_size</th>\n",
              "    </tr>\n",
              "  </thead>\n",
              "  <tbody>\n",
              "    <tr>\n",
              "      <th>count</th>\n",
              "      <td>740.000000</td>\n",
              "      <td>740.000000</td>\n",
              "      <td>740.000000</td>\n",
              "      <td>740.000000</td>\n",
              "      <td>740.000000</td>\n",
              "      <td>740.000000</td>\n",
              "      <td>740.000000</td>\n",
              "      <td>740.000000</td>\n",
              "    </tr>\n",
              "    <tr>\n",
              "      <th>mean</th>\n",
              "      <td>0.250276</td>\n",
              "      <td>-0.220270</td>\n",
              "      <td>-0.241892</td>\n",
              "      <td>0.460811</td>\n",
              "      <td>0.109287</td>\n",
              "      <td>-0.004686</td>\n",
              "      <td>0.074496</td>\n",
              "      <td>0.549772</td>\n",
              "    </tr>\n",
              "    <tr>\n",
              "      <th>std</th>\n",
              "      <td>0.991122</td>\n",
              "      <td>0.871357</td>\n",
              "      <td>0.619596</td>\n",
              "      <td>0.703619</td>\n",
              "      <td>0.958451</td>\n",
              "      <td>0.900884</td>\n",
              "      <td>0.603978</td>\n",
              "      <td>0.900561</td>\n",
              "    </tr>\n",
              "    <tr>\n",
              "      <th>min</th>\n",
              "      <td>-0.931818</td>\n",
              "      <td>-2.000000</td>\n",
              "      <td>-1.000000</td>\n",
              "      <td>0.000000</td>\n",
              "      <td>-1.400554</td>\n",
              "      <td>-2.750000</td>\n",
              "      <td>-0.587500</td>\n",
              "      <td>0.000000</td>\n",
              "    </tr>\n",
              "    <tr>\n",
              "      <th>25%</th>\n",
              "      <td>-0.414773</td>\n",
              "      <td>-1.000000</td>\n",
              "      <td>-1.000000</td>\n",
              "      <td>0.000000</td>\n",
              "      <td>-0.484765</td>\n",
              "      <td>-0.550000</td>\n",
              "      <td>-0.587500</td>\n",
              "      <td>0.000000</td>\n",
              "    </tr>\n",
              "    <tr>\n",
              "      <th>50%</th>\n",
              "      <td>-0.045455</td>\n",
              "      <td>0.000000</td>\n",
              "      <td>0.000000</td>\n",
              "      <td>0.000000</td>\n",
              "      <td>-0.036695</td>\n",
              "      <td>0.000000</td>\n",
              "      <td>0.030921</td>\n",
              "      <td>0.000000</td>\n",
              "    </tr>\n",
              "    <tr>\n",
              "      <th>75%</th>\n",
              "      <td>0.477273</td>\n",
              "      <td>0.000000</td>\n",
              "      <td>0.000000</td>\n",
              "      <td>1.000000</td>\n",
              "      <td>0.497988</td>\n",
              "      <td>0.450000</td>\n",
              "      <td>0.480682</td>\n",
              "      <td>1.025000</td>\n",
              "    </tr>\n",
              "    <tr>\n",
              "      <th>max</th>\n",
              "      <td>7.409091</td>\n",
              "      <td>3.000000</td>\n",
              "      <td>3.000000</td>\n",
              "      <td>4.000000</td>\n",
              "      <td>9.682700</td>\n",
              "      <td>13.250000</td>\n",
              "      <td>3.685227</td>\n",
              "      <td>7.454545</td>\n",
              "    </tr>\n",
              "  </tbody>\n",
              "</table>\n",
              "</div>\n",
              "      <button class=\"colab-df-convert\" onclick=\"convertToInteractive('df-eb3c5a02-cbf1-46e4-af10-b37e4ae715f5')\"\n",
              "              title=\"Convert this dataframe to an interactive table.\"\n",
              "              style=\"display:none;\">\n",
              "        \n",
              "  <svg xmlns=\"http://www.w3.org/2000/svg\" height=\"24px\"viewBox=\"0 0 24 24\"\n",
              "       width=\"24px\">\n",
              "    <path d=\"M0 0h24v24H0V0z\" fill=\"none\"/>\n",
              "    <path d=\"M18.56 5.44l.94 2.06.94-2.06 2.06-.94-2.06-.94-.94-2.06-.94 2.06-2.06.94zm-11 1L8.5 8.5l.94-2.06 2.06-.94-2.06-.94L8.5 2.5l-.94 2.06-2.06.94zm10 10l.94 2.06.94-2.06 2.06-.94-2.06-.94-.94-2.06-.94 2.06-2.06.94z\"/><path d=\"M17.41 7.96l-1.37-1.37c-.4-.4-.92-.59-1.43-.59-.52 0-1.04.2-1.43.59L10.3 9.45l-7.72 7.72c-.78.78-.78 2.05 0 2.83L4 21.41c.39.39.9.59 1.41.59.51 0 1.02-.2 1.41-.59l7.78-7.78 2.81-2.81c.8-.78.8-2.07 0-2.86zM5.41 20L4 18.59l7.72-7.72 1.47 1.35L5.41 20z\"/>\n",
              "  </svg>\n",
              "      </button>\n",
              "      \n",
              "  <style>\n",
              "    .colab-df-container {\n",
              "      display:flex;\n",
              "      flex-wrap:wrap;\n",
              "      gap: 12px;\n",
              "    }\n",
              "\n",
              "    .colab-df-convert {\n",
              "      background-color: #E8F0FE;\n",
              "      border: none;\n",
              "      border-radius: 50%;\n",
              "      cursor: pointer;\n",
              "      display: none;\n",
              "      fill: #1967D2;\n",
              "      height: 32px;\n",
              "      padding: 0 0 0 0;\n",
              "      width: 32px;\n",
              "    }\n",
              "\n",
              "    .colab-df-convert:hover {\n",
              "      background-color: #E2EBFA;\n",
              "      box-shadow: 0px 1px 2px rgba(60, 64, 67, 0.3), 0px 1px 3px 1px rgba(60, 64, 67, 0.15);\n",
              "      fill: #174EA6;\n",
              "    }\n",
              "\n",
              "    [theme=dark] .colab-df-convert {\n",
              "      background-color: #3B4455;\n",
              "      fill: #D2E3FC;\n",
              "    }\n",
              "\n",
              "    [theme=dark] .colab-df-convert:hover {\n",
              "      background-color: #434B5C;\n",
              "      box-shadow: 0px 1px 3px 1px rgba(0, 0, 0, 0.15);\n",
              "      filter: drop-shadow(0px 1px 2px rgba(0, 0, 0, 0.3));\n",
              "      fill: #FFFFFF;\n",
              "    }\n",
              "  </style>\n",
              "\n",
              "      <script>\n",
              "        const buttonEl =\n",
              "          document.querySelector('#df-eb3c5a02-cbf1-46e4-af10-b37e4ae715f5 button.colab-df-convert');\n",
              "        buttonEl.style.display =\n",
              "          google.colab.kernel.accessAllowed ? 'block' : 'none';\n",
              "\n",
              "        async function convertToInteractive(key) {\n",
              "          const element = document.querySelector('#df-eb3c5a02-cbf1-46e4-af10-b37e4ae715f5');\n",
              "          const dataTable =\n",
              "            await google.colab.kernel.invokeFunction('convertToInteractive',\n",
              "                                                     [key], {});\n",
              "          if (!dataTable) return;\n",
              "\n",
              "          const docLinkHtml = 'Like what you see? Visit the ' +\n",
              "            '<a target=\"_blank\" href=https://colab.research.google.com/notebooks/data_table.ipynb>data table notebook</a>'\n",
              "            + ' to learn more about interactive tables.';\n",
              "          element.innerHTML = '';\n",
              "          dataTable['output_type'] = 'display_data';\n",
              "          await google.colab.output.renderOutput(dataTable, element);\n",
              "          const docLink = document.createElement('div');\n",
              "          docLink.innerHTML = docLinkHtml;\n",
              "          element.appendChild(docLink);\n",
              "        }\n",
              "      </script>\n",
              "    </div>\n",
              "  </div>\n",
              "  "
            ]
          },
          "metadata": {},
          "execution_count": 266
        }
      ]
    },
    {
      "cell_type": "markdown",
      "source": [
        "# Selecting And Training Models"
      ],
      "metadata": {
        "id": "UwucMGYbXc2L"
      }
    },
    {
      "cell_type": "markdown",
      "source": [
        "Linear regression model."
      ],
      "metadata": {
        "id": "m7rcGTIQXeWT"
      }
    },
    {
      "cell_type": "code",
      "source": [
        "lin_reg = LinearRegression()"
      ],
      "metadata": {
        "id": "I0p7pwq8YQyA"
      },
      "execution_count": 267,
      "outputs": []
    },
    {
      "cell_type": "code",
      "source": [
        "lin_reg.fit(x_train, y_train)"
      ],
      "metadata": {
        "colab": {
          "base_uri": "https://localhost:8080/"
        },
        "id": "jc7boVlZYRsZ",
        "outputId": "175f2596-de1d-4089-b613-96e089240060"
      },
      "execution_count": 269,
      "outputs": [
        {
          "output_type": "execute_result",
          "data": {
            "text/plain": [
              "LinearRegression()"
            ]
          },
          "metadata": {},
          "execution_count": 269
        }
      ]
    },
    {
      "cell_type": "markdown",
      "source": [
        "Linear regression evaluation."
      ],
      "metadata": {
        "id": "iE_cD-36YncE"
      }
    },
    {
      "cell_type": "code",
      "source": [
        "np.sqrt(mean_squared_error(y_train.values,\n",
        "                           lin_reg.predict(x_train)))"
      ],
      "metadata": {
        "colab": {
          "base_uri": "https://localhost:8080/"
        },
        "id": "mTNPSkg9YnI6",
        "outputId": "9cb9c7c0-8731-4fe9-bcaa-936616126834"
      },
      "execution_count": 270,
      "outputs": [
        {
          "output_type": "execute_result",
          "data": {
            "text/plain": [
              "858.2527662172402"
            ]
          },
          "metadata": {},
          "execution_count": 270
        }
      ]
    },
    {
      "cell_type": "code",
      "source": [
        "np.sqrt(mean_squared_error(y_test.values,\n",
        "                           lin_reg.predict(x_test)))"
      ],
      "metadata": {
        "colab": {
          "base_uri": "https://localhost:8080/"
        },
        "id": "cp3kg25uYq_k",
        "outputId": "c51c7a27-4bb2-44a7-d165-3707118700c3"
      },
      "execution_count": 271,
      "outputs": [
        {
          "output_type": "execute_result",
          "data": {
            "text/plain": [
              "781.1271461755618"
            ]
          },
          "metadata": {},
          "execution_count": 271
        }
      ]
    },
    {
      "cell_type": "markdown",
      "source": [
        "Decision tree regression model."
      ],
      "metadata": {
        "id": "WUWMx-j5Yvxc"
      }
    },
    {
      "cell_type": "code",
      "source": [
        "tree_reg = DecisionTreeRegressor()"
      ],
      "metadata": {
        "id": "W2ff92PqYynO"
      },
      "execution_count": 272,
      "outputs": []
    },
    {
      "cell_type": "code",
      "source": [
        "tree_reg.fit(x_train, y_train)"
      ],
      "metadata": {
        "colab": {
          "base_uri": "https://localhost:8080/"
        },
        "id": "zSKM1kD2YzaE",
        "outputId": "a9171ff2-c029-43b3-8795-47b911eb8123"
      },
      "execution_count": 273,
      "outputs": [
        {
          "output_type": "execute_result",
          "data": {
            "text/plain": [
              "DecisionTreeRegressor()"
            ]
          },
          "metadata": {},
          "execution_count": 273
        }
      ]
    },
    {
      "cell_type": "markdown",
      "source": [
        "Decision tree evaluation. The error being equal to zero here indicates that we have a overfitted model, that won't generalize well."
      ],
      "metadata": {
        "id": "f945OBIZYxWO"
      }
    },
    {
      "cell_type": "code",
      "source": [
        "np.sqrt(mean_squared_error(y_train.values,\n",
        "                           tree_reg.predict(x_train)))"
      ],
      "metadata": {
        "colab": {
          "base_uri": "https://localhost:8080/"
        },
        "id": "e1CFpSw8Y2H0",
        "outputId": "dafa3490-d03e-4a2c-d5df-799f13a52377"
      },
      "execution_count": 274,
      "outputs": [
        {
          "output_type": "execute_result",
          "data": {
            "text/plain": [
              "0.0"
            ]
          },
          "metadata": {},
          "execution_count": 274
        }
      ]
    },
    {
      "cell_type": "code",
      "source": [
        "np.sqrt(mean_squared_error(y_test.values,\n",
        "                           tree_reg.predict(x_test)))"
      ],
      "metadata": {
        "colab": {
          "base_uri": "https://localhost:8080/"
        },
        "id": "whFwDIHOY4FR",
        "outputId": "c3f95f94-b551-428f-e101-1dcae32737f9"
      },
      "execution_count": 279,
      "outputs": [
        {
          "output_type": "execute_result",
          "data": {
            "text/plain": [
              "263.4925379732177"
            ]
          },
          "metadata": {},
          "execution_count": 279
        }
      ]
    },
    {
      "cell_type": "markdown",
      "source": [
        "Random Forest regression model."
      ],
      "metadata": {
        "id": "GglNgLW_Y817"
      }
    },
    {
      "cell_type": "code",
      "source": [
        "rf_reg = RandomForestRegressor()"
      ],
      "metadata": {
        "id": "f57Q3DUUY9JW"
      },
      "execution_count": 334,
      "outputs": []
    },
    {
      "cell_type": "code",
      "source": [
        "rf_reg.fit(x_train, y_train)"
      ],
      "metadata": {
        "colab": {
          "base_uri": "https://localhost:8080/"
        },
        "id": "XPnNcNu_Y-n4",
        "outputId": "511745c8-81e5-43eb-ebfb-e6ee7b8c93c1"
      },
      "execution_count": 335,
      "outputs": [
        {
          "output_type": "execute_result",
          "data": {
            "text/plain": [
              "RandomForestRegressor()"
            ]
          },
          "metadata": {},
          "execution_count": 335
        }
      ]
    },
    {
      "cell_type": "markdown",
      "source": [
        "Random forest evaluation."
      ],
      "metadata": {
        "id": "I_Xi4D6FZBfl"
      }
    },
    {
      "cell_type": "code",
      "source": [
        "np.sqrt(mean_squared_error(y_train.values,\n",
        "                           rf_reg.predict(x_train)))"
      ],
      "metadata": {
        "colab": {
          "base_uri": "https://localhost:8080/"
        },
        "id": "jgY076FZZCs1",
        "outputId": "418fa4c4-8b7c-409f-8cc0-c93aadf2aab6"
      },
      "execution_count": 336,
      "outputs": [
        {
          "output_type": "execute_result",
          "data": {
            "text/plain": [
              "418.8557652501696"
            ]
          },
          "metadata": {},
          "execution_count": 336
        }
      ]
    },
    {
      "cell_type": "code",
      "source": [
        "np.sqrt(mean_squared_error(y_test.values,\n",
        "                           rf_reg.predict(x_test)))"
      ],
      "metadata": {
        "colab": {
          "base_uri": "https://localhost:8080/"
        },
        "id": "r48On44VZDgr",
        "outputId": "16e77e87-d78c-41e5-fc8b-0eebb211ff2c"
      },
      "execution_count": 337,
      "outputs": [
        {
          "output_type": "execute_result",
          "data": {
            "text/plain": [
              "116.82907713430787"
            ]
          },
          "metadata": {},
          "execution_count": 337
        }
      ]
    },
    {
      "cell_type": "markdown",
      "source": [
        "Using cross validation to check the overfitting without needing to use the test data."
      ],
      "metadata": {
        "id": "YBmpuPwIZdCS"
      }
    },
    {
      "cell_type": "code",
      "source": [
        "scores = cross_val_score(lin_reg,\n",
        "                         x_train,\n",
        "                         y_train,\n",
        "                         scoring='neg_mean_squared_error',\n",
        "                         cv=5)"
      ],
      "metadata": {
        "id": "zQ4pfsgbZeMM"
      },
      "execution_count": 338,
      "outputs": []
    },
    {
      "cell_type": "code",
      "source": [
        "lin_rmse_scores = np.sqrt(-scores)"
      ],
      "metadata": {
        "id": "PMkMpE5yZfNc"
      },
      "execution_count": 339,
      "outputs": []
    },
    {
      "cell_type": "code",
      "source": [
        "np.mean(lin_rmse_scores)"
      ],
      "metadata": {
        "colab": {
          "base_uri": "https://localhost:8080/"
        },
        "id": "9y3rJABrZgF8",
        "outputId": "21d853cc-b054-42b2-cdf7-3e6645140171"
      },
      "execution_count": 340,
      "outputs": [
        {
          "output_type": "execute_result",
          "data": {
            "text/plain": [
              "975.8223794943909"
            ]
          },
          "metadata": {},
          "execution_count": 340
        }
      ]
    },
    {
      "cell_type": "code",
      "source": [
        "np.std(lin_rmse_scores)"
      ],
      "metadata": {
        "colab": {
          "base_uri": "https://localhost:8080/"
        },
        "id": "cl-fl5hxZr2u",
        "outputId": "3c081828-6537-4ad3-9f3d-ce87d5097d70"
      },
      "execution_count": 341,
      "outputs": [
        {
          "output_type": "execute_result",
          "data": {
            "text/plain": [
              "354.3615376241616"
            ]
          },
          "metadata": {},
          "execution_count": 341
        }
      ]
    },
    {
      "cell_type": "code",
      "source": [
        "scores = cross_val_score(tree_reg,\n",
        "                         x_train,\n",
        "                         y_train,\n",
        "                         scoring='neg_mean_squared_error',\n",
        "                         cv=5)"
      ],
      "metadata": {
        "id": "kkR75sjlZnGV"
      },
      "execution_count": 342,
      "outputs": []
    },
    {
      "cell_type": "code",
      "source": [
        "tree_rmse_scores = np.sqrt(-scores)"
      ],
      "metadata": {
        "id": "iE9TemWdZo-a"
      },
      "execution_count": 343,
      "outputs": []
    },
    {
      "cell_type": "code",
      "source": [
        "np.mean(tree_rmse_scores)"
      ],
      "metadata": {
        "colab": {
          "base_uri": "https://localhost:8080/"
        },
        "id": "8DAs09CNZqgS",
        "outputId": "0b0f8188-4772-43dc-af3e-1c3dda64603a"
      },
      "execution_count": 344,
      "outputs": [
        {
          "output_type": "execute_result",
          "data": {
            "text/plain": [
              "1102.5304561478756"
            ]
          },
          "metadata": {},
          "execution_count": 344
        }
      ]
    },
    {
      "cell_type": "code",
      "source": [
        "np.std(tree_rmse_scores)"
      ],
      "metadata": {
        "colab": {
          "base_uri": "https://localhost:8080/"
        },
        "id": "4SHVIZmOZtt8",
        "outputId": "c4aa2ce8-9732-4d70-8b3b-61bec730bf90"
      },
      "execution_count": 345,
      "outputs": [
        {
          "output_type": "execute_result",
          "data": {
            "text/plain": [
              "1059.448743680639"
            ]
          },
          "metadata": {},
          "execution_count": 345
        }
      ]
    },
    {
      "cell_type": "code",
      "source": [
        "scores = cross_val_score(rf_reg,\n",
        "                         x_train,\n",
        "                         y_train,\n",
        "                         scoring='neg_mean_squared_error',\n",
        "                         cv=5)"
      ],
      "metadata": {
        "id": "LGbA1HpoZwbA"
      },
      "execution_count": 354,
      "outputs": []
    },
    {
      "cell_type": "code",
      "source": [
        "rf_rmse_scores = np.sqrt(-scores)"
      ],
      "metadata": {
        "id": "wF4dZrqJZylR"
      },
      "execution_count": 355,
      "outputs": []
    },
    {
      "cell_type": "code",
      "source": [
        "np.mean(rf_rmse_scores)"
      ],
      "metadata": {
        "colab": {
          "base_uri": "https://localhost:8080/"
        },
        "id": "DM6njU_3ZzwY",
        "outputId": "81d002f5-d178-4b86-cb11-38203c837afd"
      },
      "execution_count": 356,
      "outputs": [
        {
          "output_type": "execute_result",
          "data": {
            "text/plain": [
              "777.1715829947258"
            ]
          },
          "metadata": {},
          "execution_count": 356
        }
      ]
    },
    {
      "cell_type": "code",
      "source": [
        "np.std(rf_rmse_scores)"
      ],
      "metadata": {
        "colab": {
          "base_uri": "https://localhost:8080/"
        },
        "id": "tm88nnGuZ10m",
        "outputId": "8bb9121f-32cd-4583-d383-57b1f7e9a403"
      },
      "execution_count": 357,
      "outputs": [
        {
          "output_type": "execute_result",
          "data": {
            "text/plain": [
              "1010.053338168447"
            ]
          },
          "metadata": {},
          "execution_count": 357
        }
      ]
    },
    {
      "cell_type": "markdown",
      "source": [
        "# Fine Tuning The Model"
      ],
      "metadata": {
        "id": "TPM4Lag5aOhX"
      }
    },
    {
      "cell_type": "markdown",
      "source": [
        "Selecting parameters lists to test each combination of them, in order to get the best model parameter calibration."
      ],
      "metadata": {
        "id": "qGsF6RtBaQCr"
      }
    },
    {
      "cell_type": "code",
      "source": [
        "parameters = {'n_estimators':[10, 20, 30], 'max_features':[8, None], 'max_depth':[6, 8, 10]}\n",
        "#{'bootstrap':[False], 'n_estimators':[3, 10], 'max_features':[2, 3, 4]}"
      ],
      "metadata": {
        "id": "J1K1mAtTaQ3P"
      },
      "execution_count": 390,
      "outputs": []
    },
    {
      "cell_type": "code",
      "source": [
        "rf = RandomForestRegressor()"
      ],
      "metadata": {
        "id": "S5h3XB7baaLk"
      },
      "execution_count": 391,
      "outputs": []
    },
    {
      "cell_type": "code",
      "source": [
        "grid_search = GridSearchCV(rf,\n",
        "                           parameters,\n",
        "                           cv=10,\n",
        "                           scoring='neg_mean_squared_error',\n",
        "                           return_train_score=True)"
      ],
      "metadata": {
        "id": "TGl0HIftagYr"
      },
      "execution_count": 392,
      "outputs": []
    },
    {
      "cell_type": "code",
      "source": [
        "grid_search.fit(x_train, y_train)"
      ],
      "metadata": {
        "colab": {
          "base_uri": "https://localhost:8080/"
        },
        "id": "s4V8yeARai7L",
        "outputId": "13b4c640-68eb-45f6-9fc0-b43da4f7fc52"
      },
      "execution_count": 393,
      "outputs": [
        {
          "output_type": "execute_result",
          "data": {
            "text/plain": [
              "GridSearchCV(cv=10, estimator=RandomForestRegressor(),\n",
              "             param_grid={'max_depth': [6, 8, 10], 'max_features': [8, None],\n",
              "                         'n_estimators': [10, 20, 30]},\n",
              "             return_train_score=True, scoring='neg_mean_squared_error')"
            ]
          },
          "metadata": {},
          "execution_count": 393
        }
      ]
    },
    {
      "cell_type": "markdown",
      "source": [
        "Checking the best found parameters."
      ],
      "metadata": {
        "id": "B-O6R-JTauA9"
      }
    },
    {
      "cell_type": "code",
      "source": [
        "grid_search.best_params_"
      ],
      "metadata": {
        "colab": {
          "base_uri": "https://localhost:8080/"
        },
        "id": "3Fm0v4AYa5KN",
        "outputId": "af99aeac-c1d5-456e-e4cf-a29a3706a945"
      },
      "execution_count": 394,
      "outputs": [
        {
          "output_type": "execute_result",
          "data": {
            "text/plain": [
              "{'max_depth': 10, 'max_features': None, 'n_estimators': 10}"
            ]
          },
          "metadata": {},
          "execution_count": 394
        }
      ]
    },
    {
      "cell_type": "code",
      "source": [
        "np.sqrt(-grid_search.best_score_)"
      ],
      "metadata": {
        "colab": {
          "base_uri": "https://localhost:8080/"
        },
        "id": "1ZhBr-mTa6Im",
        "outputId": "d4ecf163-8831-4a2a-d973-c318fb787ad1"
      },
      "execution_count": 395,
      "outputs": [
        {
          "output_type": "execute_result",
          "data": {
            "text/plain": [
              "1266.2385484951299"
            ]
          },
          "metadata": {},
          "execution_count": 395
        }
      ]
    },
    {
      "cell_type": "markdown",
      "source": [
        "Checking the performance of each parameter combination."
      ],
      "metadata": {
        "id": "cG-1glRzavUn"
      }
    },
    {
      "cell_type": "code",
      "source": [
        "cv_res = grid_search.cv_results_\n",
        "\n",
        "for mean_score, params in zip(cv_res['mean_test_score'],cv_res['params']):\n",
        "  print(np.sqrt(-mean_score), params)"
      ],
      "metadata": {
        "colab": {
          "base_uri": "https://localhost:8080/"
        },
        "id": "Ww4VcoCja8ah",
        "outputId": "dde769ba-c178-4a4d-c12d-74fab19129d4"
      },
      "execution_count": 396,
      "outputs": [
        {
          "output_type": "stream",
          "name": "stdout",
          "text": [
            "1507.0329554508733 {'max_depth': 6, 'max_features': 8, 'n_estimators': 10}\n",
            "1509.6654412400314 {'max_depth': 6, 'max_features': 8, 'n_estimators': 20}\n",
            "1484.0115968263738 {'max_depth': 6, 'max_features': 8, 'n_estimators': 30}\n",
            "1310.7002682995485 {'max_depth': 6, 'max_features': None, 'n_estimators': 10}\n",
            "1306.8812405459146 {'max_depth': 6, 'max_features': None, 'n_estimators': 20}\n",
            "1287.0171154926602 {'max_depth': 6, 'max_features': None, 'n_estimators': 30}\n",
            "1403.8515419559035 {'max_depth': 8, 'max_features': 8, 'n_estimators': 10}\n",
            "1409.345504103374 {'max_depth': 8, 'max_features': 8, 'n_estimators': 20}\n",
            "1404.2468221711829 {'max_depth': 8, 'max_features': 8, 'n_estimators': 30}\n",
            "1272.2615758391205 {'max_depth': 8, 'max_features': None, 'n_estimators': 10}\n",
            "1302.9531639443962 {'max_depth': 8, 'max_features': None, 'n_estimators': 20}\n",
            "1296.5106069335727 {'max_depth': 8, 'max_features': None, 'n_estimators': 30}\n",
            "1386.2766446700211 {'max_depth': 10, 'max_features': 8, 'n_estimators': 10}\n",
            "1376.340493373759 {'max_depth': 10, 'max_features': 8, 'n_estimators': 20}\n",
            "1408.4271541378666 {'max_depth': 10, 'max_features': 8, 'n_estimators': 30}\n",
            "1266.2385484951299 {'max_depth': 10, 'max_features': None, 'n_estimators': 10}\n",
            "1288.7443270838617 {'max_depth': 10, 'max_features': None, 'n_estimators': 20}\n",
            "1287.39884404273 {'max_depth': 10, 'max_features': None, 'n_estimators': 30}\n"
          ]
        }
      ]
    },
    {
      "cell_type": "markdown",
      "source": [
        "Extracting the best estimator found."
      ],
      "metadata": {
        "id": "tZOdEGqLbD3p"
      }
    },
    {
      "cell_type": "code",
      "source": [
        "rf_reg_v2 = grid_search.best_estimator_"
      ],
      "metadata": {
        "id": "Cy44IyD4bFTr"
      },
      "execution_count": 397,
      "outputs": []
    },
    {
      "cell_type": "code",
      "source": [
        "np.sqrt(mean_squared_error(y_train.values,\n",
        "                           rf_reg_v2.predict(x_train)))"
      ],
      "metadata": {
        "colab": {
          "base_uri": "https://localhost:8080/"
        },
        "id": "ExJBOFSfbGen",
        "outputId": "aa57487a-9679-43da-92a4-c644f99b5fe3"
      },
      "execution_count": 398,
      "outputs": [
        {
          "output_type": "execute_result",
          "data": {
            "text/plain": [
              "528.1414162862183"
            ]
          },
          "metadata": {},
          "execution_count": 398
        }
      ]
    },
    {
      "cell_type": "code",
      "source": [
        "np.sqrt(mean_squared_error(y_test.values,\n",
        "                           rf_reg_v2.predict(x_test)))"
      ],
      "metadata": {
        "colab": {
          "base_uri": "https://localhost:8080/"
        },
        "id": "qxIrw5lYbHH4",
        "outputId": "5cd99709-0c58-49ec-ee3f-1f3f2d4920e4"
      },
      "execution_count": 399,
      "outputs": [
        {
          "output_type": "execute_result",
          "data": {
            "text/plain": [
              "182.27891400489438"
            ]
          },
          "metadata": {},
          "execution_count": 399
        }
      ]
    },
    {
      "cell_type": "markdown",
      "source": [
        "Creating Final Model."
      ],
      "metadata": {
        "id": "P7AFurpvk-Lh"
      }
    },
    {
      "cell_type": "code",
      "source": [
        "rf_reg_v3 = RandomForestRegressor(max_depth=8, max_features=None, n_estimators=40)"
      ],
      "metadata": {
        "id": "bCMpZ7o4hC3M"
      },
      "execution_count": 497,
      "outputs": []
    },
    {
      "cell_type": "code",
      "source": [
        "rf_reg_v3.fit(x_train, y_train)"
      ],
      "metadata": {
        "colab": {
          "base_uri": "https://localhost:8080/"
        },
        "id": "gMGcaFufhIr_",
        "outputId": "389b0cb5-47fe-46a1-bc65-9ec22ba00190"
      },
      "execution_count": 498,
      "outputs": [
        {
          "output_type": "execute_result",
          "data": {
            "text/plain": [
              "RandomForestRegressor(max_depth=8, max_features=None, n_estimators=40)"
            ]
          },
          "metadata": {},
          "execution_count": 498
        }
      ]
    },
    {
      "cell_type": "code",
      "source": [
        "np.sqrt(mean_squared_error(y_train.values,\n",
        "                           rf_reg_v3.predict(x_train)))"
      ],
      "metadata": {
        "colab": {
          "base_uri": "https://localhost:8080/"
        },
        "id": "oHytSMHWhOP2",
        "outputId": "240318ee-8aae-4e5e-9fb2-5d68b1ff01b8"
      },
      "execution_count": 501,
      "outputs": [
        {
          "output_type": "execute_result",
          "data": {
            "text/plain": [
              "584.7863553374945"
            ]
          },
          "metadata": {},
          "execution_count": 501
        }
      ]
    },
    {
      "cell_type": "code",
      "source": [
        "np.sqrt(mean_squared_error(y_test.values,\n",
        "                           rf_reg_v3.predict(x_test)))"
      ],
      "metadata": {
        "colab": {
          "base_uri": "https://localhost:8080/"
        },
        "id": "16vxRcD6hPKu",
        "outputId": "b4aedf63-33cf-4a8e-97f9-1948f41aa7e2"
      },
      "execution_count": 502,
      "outputs": [
        {
          "output_type": "execute_result",
          "data": {
            "text/plain": [
              "168.67996829779537"
            ]
          },
          "metadata": {},
          "execution_count": 502
        }
      ]
    },
    {
      "cell_type": "code",
      "source": [
        "rf_reg_v3.predict(x_test.head(20))"
      ],
      "metadata": {
        "colab": {
          "base_uri": "https://localhost:8080/"
        },
        "id": "dm7EBMwwmc6i",
        "outputId": "23921030-1a8d-4a51-d6f5-511a1b6249c1"
      },
      "execution_count": 505,
      "outputs": [
        {
          "output_type": "execute_result",
          "data": {
            "text/plain": [
              "array([ 993.74310617,  929.90350768, 5301.64608478, 2507.5378764 ,\n",
              "        845.02714432, 1387.07676812, 2793.728489  , 1234.41769718,\n",
              "       1188.48357426, 2875.43081   ,  878.45078053, 2502.39840154,\n",
              "       3496.8951516 , 1620.53198049, 1540.83805997, 1261.25469734,\n",
              "       1365.94891564, 3633.84453459, 2906.65945197, 1486.17392429])"
            ]
          },
          "metadata": {},
          "execution_count": 505
        }
      ]
    },
    {
      "cell_type": "code",
      "source": [
        "y_test.head(20).values"
      ],
      "metadata": {
        "colab": {
          "base_uri": "https://localhost:8080/"
        },
        "id": "e07MelhdmiV0",
        "outputId": "7744a75c-af89-4ba1-e97f-8e3b555f130a"
      },
      "execution_count": 506,
      "outputs": [
        {
          "output_type": "execute_result",
          "data": {
            "text/plain": [
              "array([1050,  800, 5400, 2520,  800, 1299, 2890, 1300, 1200, 2800,  850,\n",
              "       2500, 3400, 1650, 1596, 1300, 1400, 3650, 2900, 1500], dtype=int32)"
            ]
          },
          "metadata": {},
          "execution_count": 506
        }
      ]
    },
    {
      "cell_type": "markdown",
      "source": [
        "# Exporting the model"
      ],
      "metadata": {
        "id": "Zm53h0JZm_6F"
      }
    },
    {
      "cell_type": "code",
      "source": [
        "from joblib import dump, load\n",
        "\n",
        "dump(rf_reg_v3, 'property-rent-calc.joblib')\n",
        "\n",
        "rf_test = load('property-rent-calc.joblib')\n",
        "\n",
        "np.sqrt(mean_squared_error(y_test,\n",
        "                           rf_test.predict(x_test)))"
      ],
      "metadata": {
        "colab": {
          "base_uri": "https://localhost:8080/"
        },
        "id": "Nl6T4f6Jnbpd",
        "outputId": "873e9ca2-7231-4f67-8e65-dd389d431570"
      },
      "execution_count": 508,
      "outputs": [
        {
          "output_type": "execute_result",
          "data": {
            "text/plain": [
              "168.67996829779537"
            ]
          },
          "metadata": {},
          "execution_count": 508
        }
      ]
    }
  ]
}